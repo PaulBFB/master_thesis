{
 "cells": [
  {
   "cell_type": "markdown",
   "id": "30aace38",
   "metadata": {},
   "source": [
    "# load the dataset\n",
    "\n",
    "using the titanic dataset, downloaded from [data.world](https://data.world/nrippner/titanic-disaster-dataset)\n",
    "\n",
    "description:\n",
    "\n",
    "- survival - Survival (0 = No; 1 = Yes)\n",
    "- class - Passenger Class (1 = 1st; 2 = 2nd; 3 = 3rd)\n",
    "- name - Name\n",
    "- sex - Sex\n",
    "- age - Age\n",
    "- sibsp - Number of Siblings/Spouses Aboard\n",
    "- parch - Number of Parents/Children Aboard\n",
    "- ticket - Ticket Number\n",
    "- fare - Passenger Fare\n",
    "- cabin - Cabin\n",
    "- embarked - Port of Embarkation (C = Cherbourg; Q = Queenstown; S = Southampton)\n",
    "- boat - Lifeboat (if survived)\n",
    "- body - Body number (if did not survive and body was recovered)"
   ]
  },
  {
   "cell_type": "code",
   "execution_count": 1,
   "id": "d363b7e7",
   "metadata": {},
   "outputs": [],
   "source": [
    "import pandas as pd\n",
    "import numpy as np \n",
    "import seaborn as sns\n",
    "from matplotlib import pyplot as plt\n",
    "\n",
    "from sklearn.model_selection import train_test_split, KFold, cross_val_score, GridSearchCV\n",
    "from sklearn.compose import ColumnTransformer\n",
    "from sklearn.pipeline import Pipeline, FeatureUnion\n",
    "from sklearn.experimental import enable_iterative_imputer\n",
    "from sklearn.impute import IterativeImputer\n",
    "from sklearn.preprocessing import OneHotEncoder, StandardScaler, MinMaxScaler, MultiLabelBinarizer\n",
    "\n",
    "from sklearn.linear_model import LogisticRegression\n",
    "\n",
    "from sklearn.ensemble import GradientBoostingClassifier, RandomForestClassifier\n",
    "from sklearn.svm import SVC\n",
    "from sklearn.naive_bayes import GaussianNB\n",
    "from sklearn.tree import DecisionTreeClassifier\n",
    "from sklearn.ensemble import RandomForestClassifier\n",
    "from sklearn.neighbors import KNeighborsClassifier\n",
    "from sklearn.metrics import accuracy_score\n",
    "\n",
    "from tensorflow.keras import models, Model, layers\n",
    "from tensorflow.keras.callbacks import EarlyStopping\n",
    "\n",
    "from pprint import pprint\n",
    "from enhance_data import enhance_data\n",
    "#from impyute.imputation.cs import mice\n",
    "\n",
    "\n",
    "pd.set_option('display.width', 5000, 'display.max_columns', 100)"
   ]
  },
  {
   "cell_type": "code",
   "execution_count": 2,
   "id": "f5ba04e0",
   "metadata": {},
   "outputs": [],
   "source": [
    "with open('./data/titanic.csv', mode='r') as file:\n",
    "    df = pd.read_csv(file)"
   ]
  },
  {
   "cell_type": "markdown",
   "id": "45251dc2",
   "metadata": {},
   "source": [
    "> first look at the data"
   ]
  },
  {
   "cell_type": "code",
   "execution_count": 3,
   "id": "833e7690",
   "metadata": {},
   "outputs": [
    {
     "data": {
      "text/html": [
       "<div>\n",
       "<style scoped>\n",
       "    .dataframe tbody tr th:only-of-type {\n",
       "        vertical-align: middle;\n",
       "    }\n",
       "\n",
       "    .dataframe tbody tr th {\n",
       "        vertical-align: top;\n",
       "    }\n",
       "\n",
       "    .dataframe thead th {\n",
       "        text-align: right;\n",
       "    }\n",
       "</style>\n",
       "<table border=\"1\" class=\"dataframe\">\n",
       "  <thead>\n",
       "    <tr style=\"text-align: right;\">\n",
       "      <th></th>\n",
       "      <th>pclass</th>\n",
       "      <th>survived</th>\n",
       "      <th>name</th>\n",
       "      <th>sex</th>\n",
       "      <th>age</th>\n",
       "      <th>sibsp</th>\n",
       "      <th>parch</th>\n",
       "      <th>ticket</th>\n",
       "      <th>fare</th>\n",
       "      <th>cabin</th>\n",
       "      <th>embarked</th>\n",
       "      <th>boat</th>\n",
       "      <th>body</th>\n",
       "      <th>home.dest</th>\n",
       "    </tr>\n",
       "  </thead>\n",
       "  <tbody>\n",
       "    <tr>\n",
       "      <th>0</th>\n",
       "      <td>1.0</td>\n",
       "      <td>1.0</td>\n",
       "      <td>Allen, Miss. Elisabeth Walton</td>\n",
       "      <td>female</td>\n",
       "      <td>29.0000</td>\n",
       "      <td>0.0</td>\n",
       "      <td>0.0</td>\n",
       "      <td>24160</td>\n",
       "      <td>211.3375</td>\n",
       "      <td>B5</td>\n",
       "      <td>S</td>\n",
       "      <td>2</td>\n",
       "      <td>NaN</td>\n",
       "      <td>St Louis, MO</td>\n",
       "    </tr>\n",
       "    <tr>\n",
       "      <th>1</th>\n",
       "      <td>1.0</td>\n",
       "      <td>1.0</td>\n",
       "      <td>Allison, Master. Hudson Trevor</td>\n",
       "      <td>male</td>\n",
       "      <td>0.9167</td>\n",
       "      <td>1.0</td>\n",
       "      <td>2.0</td>\n",
       "      <td>113781</td>\n",
       "      <td>151.5500</td>\n",
       "      <td>C22 C26</td>\n",
       "      <td>S</td>\n",
       "      <td>11</td>\n",
       "      <td>NaN</td>\n",
       "      <td>Montreal, PQ / Chesterville, ON</td>\n",
       "    </tr>\n",
       "    <tr>\n",
       "      <th>2</th>\n",
       "      <td>1.0</td>\n",
       "      <td>0.0</td>\n",
       "      <td>Allison, Miss. Helen Loraine</td>\n",
       "      <td>female</td>\n",
       "      <td>2.0000</td>\n",
       "      <td>1.0</td>\n",
       "      <td>2.0</td>\n",
       "      <td>113781</td>\n",
       "      <td>151.5500</td>\n",
       "      <td>C22 C26</td>\n",
       "      <td>S</td>\n",
       "      <td>NaN</td>\n",
       "      <td>NaN</td>\n",
       "      <td>Montreal, PQ / Chesterville, ON</td>\n",
       "    </tr>\n",
       "    <tr>\n",
       "      <th>3</th>\n",
       "      <td>1.0</td>\n",
       "      <td>0.0</td>\n",
       "      <td>Allison, Mr. Hudson Joshua Creighton</td>\n",
       "      <td>male</td>\n",
       "      <td>30.0000</td>\n",
       "      <td>1.0</td>\n",
       "      <td>2.0</td>\n",
       "      <td>113781</td>\n",
       "      <td>151.5500</td>\n",
       "      <td>C22 C26</td>\n",
       "      <td>S</td>\n",
       "      <td>NaN</td>\n",
       "      <td>135.0</td>\n",
       "      <td>Montreal, PQ / Chesterville, ON</td>\n",
       "    </tr>\n",
       "    <tr>\n",
       "      <th>4</th>\n",
       "      <td>1.0</td>\n",
       "      <td>0.0</td>\n",
       "      <td>Allison, Mrs. Hudson J C (Bessie Waldo Daniels)</td>\n",
       "      <td>female</td>\n",
       "      <td>25.0000</td>\n",
       "      <td>1.0</td>\n",
       "      <td>2.0</td>\n",
       "      <td>113781</td>\n",
       "      <td>151.5500</td>\n",
       "      <td>C22 C26</td>\n",
       "      <td>S</td>\n",
       "      <td>NaN</td>\n",
       "      <td>NaN</td>\n",
       "      <td>Montreal, PQ / Chesterville, ON</td>\n",
       "    </tr>\n",
       "  </tbody>\n",
       "</table>\n",
       "</div>"
      ],
      "text/plain": [
       "   pclass  survived                                             name     sex      age  sibsp  parch  ticket      fare    cabin embarked boat   body                        home.dest\n",
       "0     1.0       1.0                    Allen, Miss. Elisabeth Walton  female  29.0000    0.0    0.0   24160  211.3375       B5        S    2    NaN                     St Louis, MO\n",
       "1     1.0       1.0                   Allison, Master. Hudson Trevor    male   0.9167    1.0    2.0  113781  151.5500  C22 C26        S   11    NaN  Montreal, PQ / Chesterville, ON\n",
       "2     1.0       0.0                     Allison, Miss. Helen Loraine  female   2.0000    1.0    2.0  113781  151.5500  C22 C26        S  NaN    NaN  Montreal, PQ / Chesterville, ON\n",
       "3     1.0       0.0             Allison, Mr. Hudson Joshua Creighton    male  30.0000    1.0    2.0  113781  151.5500  C22 C26        S  NaN  135.0  Montreal, PQ / Chesterville, ON\n",
       "4     1.0       0.0  Allison, Mrs. Hudson J C (Bessie Waldo Daniels)  female  25.0000    1.0    2.0  113781  151.5500  C22 C26        S  NaN    NaN  Montreal, PQ / Chesterville, ON"
      ]
     },
     "execution_count": 3,
     "metadata": {},
     "output_type": "execute_result"
    }
   ],
   "source": [
    "df.head()"
   ]
  },
  {
   "cell_type": "code",
   "execution_count": 4,
   "id": "3f34b7a1",
   "metadata": {},
   "outputs": [
    {
     "data": {
      "text/html": [
       "<div>\n",
       "<style scoped>\n",
       "    .dataframe tbody tr th:only-of-type {\n",
       "        vertical-align: middle;\n",
       "    }\n",
       "\n",
       "    .dataframe tbody tr th {\n",
       "        vertical-align: top;\n",
       "    }\n",
       "\n",
       "    .dataframe thead th {\n",
       "        text-align: right;\n",
       "    }\n",
       "</style>\n",
       "<table border=\"1\" class=\"dataframe\">\n",
       "  <thead>\n",
       "    <tr style=\"text-align: right;\">\n",
       "      <th></th>\n",
       "      <th>pclass</th>\n",
       "      <th>survived</th>\n",
       "      <th>age</th>\n",
       "      <th>sibsp</th>\n",
       "      <th>parch</th>\n",
       "      <th>fare</th>\n",
       "      <th>body</th>\n",
       "    </tr>\n",
       "  </thead>\n",
       "  <tbody>\n",
       "    <tr>\n",
       "      <th>count</th>\n",
       "      <td>1309.000000</td>\n",
       "      <td>1309.000000</td>\n",
       "      <td>1046.000000</td>\n",
       "      <td>1309.000000</td>\n",
       "      <td>1309.000000</td>\n",
       "      <td>1308.000000</td>\n",
       "      <td>121.000000</td>\n",
       "    </tr>\n",
       "    <tr>\n",
       "      <th>mean</th>\n",
       "      <td>2.294882</td>\n",
       "      <td>0.381971</td>\n",
       "      <td>29.881135</td>\n",
       "      <td>0.498854</td>\n",
       "      <td>0.385027</td>\n",
       "      <td>33.295479</td>\n",
       "      <td>160.809917</td>\n",
       "    </tr>\n",
       "    <tr>\n",
       "      <th>std</th>\n",
       "      <td>0.837836</td>\n",
       "      <td>0.486055</td>\n",
       "      <td>14.413500</td>\n",
       "      <td>1.041658</td>\n",
       "      <td>0.865560</td>\n",
       "      <td>51.758668</td>\n",
       "      <td>97.696922</td>\n",
       "    </tr>\n",
       "    <tr>\n",
       "      <th>min</th>\n",
       "      <td>1.000000</td>\n",
       "      <td>0.000000</td>\n",
       "      <td>0.166700</td>\n",
       "      <td>0.000000</td>\n",
       "      <td>0.000000</td>\n",
       "      <td>0.000000</td>\n",
       "      <td>1.000000</td>\n",
       "    </tr>\n",
       "    <tr>\n",
       "      <th>25%</th>\n",
       "      <td>2.000000</td>\n",
       "      <td>0.000000</td>\n",
       "      <td>21.000000</td>\n",
       "      <td>0.000000</td>\n",
       "      <td>0.000000</td>\n",
       "      <td>7.895800</td>\n",
       "      <td>72.000000</td>\n",
       "    </tr>\n",
       "    <tr>\n",
       "      <th>50%</th>\n",
       "      <td>3.000000</td>\n",
       "      <td>0.000000</td>\n",
       "      <td>28.000000</td>\n",
       "      <td>0.000000</td>\n",
       "      <td>0.000000</td>\n",
       "      <td>14.454200</td>\n",
       "      <td>155.000000</td>\n",
       "    </tr>\n",
       "    <tr>\n",
       "      <th>75%</th>\n",
       "      <td>3.000000</td>\n",
       "      <td>1.000000</td>\n",
       "      <td>39.000000</td>\n",
       "      <td>1.000000</td>\n",
       "      <td>0.000000</td>\n",
       "      <td>31.275000</td>\n",
       "      <td>256.000000</td>\n",
       "    </tr>\n",
       "    <tr>\n",
       "      <th>max</th>\n",
       "      <td>3.000000</td>\n",
       "      <td>1.000000</td>\n",
       "      <td>80.000000</td>\n",
       "      <td>8.000000</td>\n",
       "      <td>9.000000</td>\n",
       "      <td>512.329200</td>\n",
       "      <td>328.000000</td>\n",
       "    </tr>\n",
       "  </tbody>\n",
       "</table>\n",
       "</div>"
      ],
      "text/plain": [
       "            pclass     survived          age        sibsp        parch         fare        body\n",
       "count  1309.000000  1309.000000  1046.000000  1309.000000  1309.000000  1308.000000  121.000000\n",
       "mean      2.294882     0.381971    29.881135     0.498854     0.385027    33.295479  160.809917\n",
       "std       0.837836     0.486055    14.413500     1.041658     0.865560    51.758668   97.696922\n",
       "min       1.000000     0.000000     0.166700     0.000000     0.000000     0.000000    1.000000\n",
       "25%       2.000000     0.000000    21.000000     0.000000     0.000000     7.895800   72.000000\n",
       "50%       3.000000     0.000000    28.000000     0.000000     0.000000    14.454200  155.000000\n",
       "75%       3.000000     1.000000    39.000000     1.000000     0.000000    31.275000  256.000000\n",
       "max       3.000000     1.000000    80.000000     8.000000     9.000000   512.329200  328.000000"
      ]
     },
     "execution_count": 4,
     "metadata": {},
     "output_type": "execute_result"
    }
   ],
   "source": [
    "df.describe()"
   ]
  },
  {
   "cell_type": "code",
   "execution_count": 5,
   "id": "0d56aace",
   "metadata": {},
   "outputs": [
    {
     "data": {
      "text/plain": [
       "(1310, 14)"
      ]
     },
     "execution_count": 5,
     "metadata": {},
     "output_type": "execute_result"
    }
   ],
   "source": [
    "df.shape"
   ]
  },
  {
   "cell_type": "markdown",
   "id": "fd8e516d",
   "metadata": {},
   "source": [
    "1310 observations, 14 attributes"
   ]
  },
  {
   "cell_type": "markdown",
   "id": "965283aa",
   "metadata": {},
   "source": [
    "## data conversion"
   ]
  },
  {
   "cell_type": "code",
   "execution_count": 6,
   "id": "d133b9d2",
   "metadata": {},
   "outputs": [
    {
     "data": {
      "text/plain": [
       "pclass       float64\n",
       "survived     float64\n",
       "name          object\n",
       "sex           object\n",
       "age          float64\n",
       "sibsp        float64\n",
       "parch        float64\n",
       "ticket        object\n",
       "fare         float64\n",
       "cabin         object\n",
       "embarked      object\n",
       "boat          object\n",
       "body         float64\n",
       "home.dest     object\n",
       "dtype: object"
      ]
     },
     "execution_count": 6,
     "metadata": {},
     "output_type": "execute_result"
    }
   ],
   "source": [
    "df.dtypes"
   ]
  },
  {
   "cell_type": "code",
   "execution_count": 7,
   "id": "e9cb68d0",
   "metadata": {},
   "outputs": [],
   "source": [
    "#for i in ['pclass', 'sex', 'embarked', 'boat']:\n",
    "#    df[i] = df[i].astype('category')"
   ]
  },
  {
   "cell_type": "code",
   "execution_count": 8,
   "id": "475b900b",
   "metadata": {},
   "outputs": [
    {
     "data": {
      "text/plain": [
       "<AxesSubplot:>"
      ]
     },
     "execution_count": 8,
     "metadata": {},
     "output_type": "execute_result"
    },
    {
     "data": {
      "image/png": "[encoded data removed]",
      "text/plain": [
       "<Figure size 1440x720 with 2 Axes>"
      ]
     },
     "metadata": {
      "needs_background": "light"
     },
     "output_type": "display_data"
    }
   ],
   "source": [
    "plt.figure(figsize=(20,10))\n",
    "sns.heatmap(\n",
    "    pd.DataFrame(df.isnull().mean().sort_values(ascending=False)),\n",
    "    annot=True, \n",
    "    cmap='Spectral', \n",
    "    center=0)"
   ]
  },
  {
   "cell_type": "markdown",
   "id": "f2443c3b",
   "metadata": {},
   "source": [
    "> droppint the name, cabin and home port since they offer no value to the prediction (and may lead the model to overfit on the person level)\n"
   ]
  },
  {
   "cell_type": "code",
   "execution_count": 9,
   "id": "530e373e",
   "metadata": {},
   "outputs": [
    {
     "data": {
      "text/plain": [
       "(0, 14)"
      ]
     },
     "execution_count": 9,
     "metadata": {},
     "output_type": "execute_result"
    }
   ],
   "source": [
    "df.loc[(~df['body'].isna()) & (df['survived'])].shape"
   ]
  },
  {
   "cell_type": "code",
   "execution_count": 10,
   "id": "b5501432",
   "metadata": {},
   "outputs": [
    {
     "data": {
      "text/plain": [
       "(23, 14)"
      ]
     },
     "execution_count": 10,
     "metadata": {},
     "output_type": "execute_result"
    }
   ],
   "source": [
    "df.loc[(df['boat'].isna()) & (df['survived'])].shape"
   ]
  },
  {
   "cell_type": "markdown",
   "id": "55f70e90",
   "metadata": {},
   "source": [
    "\n",
    "> also dropping the boat, because it can only be known if a passenger survived so would be considered 'unfair' (even though apprently 24 passengers survived without one...)\n",
    "\n",
    "> body number is also only given to people who didn't survive"
   ]
  },
  {
   "cell_type": "code",
   "execution_count": 11,
   "id": "983daea8",
   "metadata": {},
   "outputs": [],
   "source": [
    "df.drop(columns=['cabin', 'home.dest', 'boat', 'body', 'ticket'], inplace=True)"
   ]
  },
  {
   "cell_type": "markdown",
   "id": "7cf79fdb",
   "metadata": {},
   "source": [
    "show value counts for factor columns"
   ]
  },
  {
   "cell_type": "code",
   "execution_count": 12,
   "id": "c70feae0",
   "metadata": {},
   "outputs": [],
   "source": [
    "#df['survived'] = df['survived'].astype(bool)"
   ]
  },
  {
   "cell_type": "markdown",
   "id": "f55a3dd4",
   "metadata": {},
   "source": [
    "## title column & derivations"
   ]
  },
  {
   "cell_type": "code",
   "execution_count": 13,
   "id": "edded02e",
   "metadata": {},
   "outputs": [],
   "source": [
    "df['title'] = df['name'].str.extract('([A-Za-z]+)\\.', expand=True)"
   ]
  },
  {
   "cell_type": "code",
   "execution_count": 14,
   "id": "9c9f4229",
   "metadata": {},
   "outputs": [
    {
     "data": {
      "text/plain": [
       "Mr          757\n",
       "Miss        260\n",
       "Mrs         197\n",
       "Master       61\n",
       "Rev           8\n",
       "Dr            8\n",
       "Col           4\n",
       "Mlle          2\n",
       "Major         2\n",
       "Ms            2\n",
       "Sir           1\n",
       "Don           1\n",
       "Jonkheer      1\n",
       "Mme           1\n",
       "Lady          1\n",
       "Dona          1\n",
       "Countess      1\n",
       "Capt          1\n",
       "Name: title, dtype: int64"
      ]
     },
     "execution_count": 14,
     "metadata": {},
     "output_type": "execute_result"
    }
   ],
   "source": [
    "df['title'].value_counts()"
   ]
  },
  {
   "cell_type": "markdown",
   "id": "5e10faca",
   "metadata": {},
   "source": [
    "> some titles are synonyms, some contain information about **marital status** or **social status**"
   ]
  },
  {
   "cell_type": "markdown",
   "id": "481f7571",
   "metadata": {},
   "source": [
    "### todo - extract military status, nationality, social status from titles\n",
    "\n",
    "\n",
    "- nobility: titles that denote social status (noble, professions like doctor, military); dr rev col major lady countess dona don capt sir jonkheer\n",
    "- marriagle status: titles that show if someone is married (mrs, lady, countess, dona, don, ) or unmarried (miss, mlle, mme)"
   ]
  },
  {
   "cell_type": "code",
   "execution_count": 15,
   "id": "a8dab245",
   "metadata": {},
   "outputs": [],
   "source": [
    "df['high_status'] = np.where(df['title'].isin([\n",
    "    'Dr', \n",
    "    'Rev', \n",
    "    'Col', \n",
    "    'Major', \n",
    "    'Lady', \n",
    "    'Countess', \n",
    "    'Dona', \n",
    "    'Don', \n",
    "    'Capt', \n",
    "    'Sir' \n",
    "    'Jonkheer']),\n",
    "                             1 , 0)"
   ]
  },
  {
   "cell_type": "code",
   "execution_count": 16,
   "id": "c621ca74",
   "metadata": {},
   "outputs": [],
   "source": [
    "df['married'] = np.where(df['title'].isin([\n",
    "    'Mrs', \n",
    "    'Lady', \n",
    "    'Countess', \n",
    "    'Dona', \n",
    "    'Don',\n",
    "]), 1, 0)"
   ]
  },
  {
   "cell_type": "code",
   "execution_count": 17,
   "id": "39785554",
   "metadata": {},
   "outputs": [
    {
     "data": {
      "text/plain": [
       "0    1283\n",
       "1      27\n",
       "Name: high_status, dtype: int64"
      ]
     },
     "execution_count": 17,
     "metadata": {},
     "output_type": "execute_result"
    }
   ],
   "source": [
    "df['high_status'].value_counts()"
   ]
  },
  {
   "cell_type": "code",
   "execution_count": 18,
   "id": "cfde0556",
   "metadata": {},
   "outputs": [
    {
     "data": {
      "text/plain": [
       "0    1109\n",
       "1     201\n",
       "Name: married, dtype: int64"
      ]
     },
     "execution_count": 18,
     "metadata": {},
     "output_type": "execute_result"
    }
   ],
   "source": [
    "df['married'].value_counts()"
   ]
  },
  {
   "cell_type": "code",
   "execution_count": 19,
   "id": "b36eaf50",
   "metadata": {},
   "outputs": [],
   "source": [
    "title_synonyms = {\n",
    "    'Mlle': 'Miss', \n",
    "    'Major': 'Mr', \n",
    "    'Col': 'Mr', \n",
    "    'Sir': 'Mr',\n",
    "    'Don': 'Mr', \n",
    "    'Mme': 'Mrs', \n",
    "    'Jonkheer': 'Mr', \n",
    "    'Lady': 'Mrs',\n",
    "    'Capt': 'Mr', \n",
    "    'Countess': 'Mrs', \n",
    "    'Ms': 'Miss', \n",
    "    'Dona': 'Mrs'}\n",
    "# df.replace({'title': title_synonyms}, inplace=True)\n",
    "df.drop(columns=['title', 'name'], inplace=True)"
   ]
  },
  {
   "cell_type": "code",
   "execution_count": 20,
   "id": "c48eaa31",
   "metadata": {},
   "outputs": [
    {
     "data": {
      "text/html": [
       "<div>\n",
       "<style scoped>\n",
       "    .dataframe tbody tr th:only-of-type {\n",
       "        vertical-align: middle;\n",
       "    }\n",
       "\n",
       "    .dataframe tbody tr th {\n",
       "        vertical-align: top;\n",
       "    }\n",
       "\n",
       "    .dataframe thead th {\n",
       "        text-align: right;\n",
       "    }\n",
       "</style>\n",
       "<table border=\"1\" class=\"dataframe\">\n",
       "  <thead>\n",
       "    <tr style=\"text-align: right;\">\n",
       "      <th></th>\n",
       "      <th>pclass</th>\n",
       "      <th>survived</th>\n",
       "      <th>sex</th>\n",
       "      <th>age</th>\n",
       "      <th>sibsp</th>\n",
       "      <th>parch</th>\n",
       "      <th>fare</th>\n",
       "      <th>embarked</th>\n",
       "      <th>high_status</th>\n",
       "      <th>married</th>\n",
       "    </tr>\n",
       "  </thead>\n",
       "  <tbody>\n",
       "    <tr>\n",
       "      <th>0</th>\n",
       "      <td>1.0</td>\n",
       "      <td>1.0</td>\n",
       "      <td>female</td>\n",
       "      <td>29.0000</td>\n",
       "      <td>0.0</td>\n",
       "      <td>0.0</td>\n",
       "      <td>211.3375</td>\n",
       "      <td>S</td>\n",
       "      <td>0</td>\n",
       "      <td>0</td>\n",
       "    </tr>\n",
       "    <tr>\n",
       "      <th>1</th>\n",
       "      <td>1.0</td>\n",
       "      <td>1.0</td>\n",
       "      <td>male</td>\n",
       "      <td>0.9167</td>\n",
       "      <td>1.0</td>\n",
       "      <td>2.0</td>\n",
       "      <td>151.5500</td>\n",
       "      <td>S</td>\n",
       "      <td>0</td>\n",
       "      <td>0</td>\n",
       "    </tr>\n",
       "    <tr>\n",
       "      <th>2</th>\n",
       "      <td>1.0</td>\n",
       "      <td>0.0</td>\n",
       "      <td>female</td>\n",
       "      <td>2.0000</td>\n",
       "      <td>1.0</td>\n",
       "      <td>2.0</td>\n",
       "      <td>151.5500</td>\n",
       "      <td>S</td>\n",
       "      <td>0</td>\n",
       "      <td>0</td>\n",
       "    </tr>\n",
       "    <tr>\n",
       "      <th>3</th>\n",
       "      <td>1.0</td>\n",
       "      <td>0.0</td>\n",
       "      <td>male</td>\n",
       "      <td>30.0000</td>\n",
       "      <td>1.0</td>\n",
       "      <td>2.0</td>\n",
       "      <td>151.5500</td>\n",
       "      <td>S</td>\n",
       "      <td>0</td>\n",
       "      <td>0</td>\n",
       "    </tr>\n",
       "    <tr>\n",
       "      <th>4</th>\n",
       "      <td>1.0</td>\n",
       "      <td>0.0</td>\n",
       "      <td>female</td>\n",
       "      <td>25.0000</td>\n",
       "      <td>1.0</td>\n",
       "      <td>2.0</td>\n",
       "      <td>151.5500</td>\n",
       "      <td>S</td>\n",
       "      <td>0</td>\n",
       "      <td>1</td>\n",
       "    </tr>\n",
       "  </tbody>\n",
       "</table>\n",
       "</div>"
      ],
      "text/plain": [
       "   pclass  survived     sex      age  sibsp  parch      fare embarked  high_status  married\n",
       "0     1.0       1.0  female  29.0000    0.0    0.0  211.3375        S            0        0\n",
       "1     1.0       1.0    male   0.9167    1.0    2.0  151.5500        S            0        0\n",
       "2     1.0       0.0  female   2.0000    1.0    2.0  151.5500        S            0        0\n",
       "3     1.0       0.0    male  30.0000    1.0    2.0  151.5500        S            0        0\n",
       "4     1.0       0.0  female  25.0000    1.0    2.0  151.5500        S            0        1"
      ]
     },
     "execution_count": 20,
     "metadata": {},
     "output_type": "execute_result"
    }
   ],
   "source": [
    "df.head()"
   ]
  },
  {
   "cell_type": "code",
   "execution_count": 21,
   "id": "5ecad3ad",
   "metadata": {},
   "outputs": [],
   "source": [
    "for i in filter(lambda x: df[x].dtype.name == 'category', df.columns):\n",
    "    print(i)\n",
    "    print(df[i].value_counts())"
   ]
  },
  {
   "cell_type": "code",
   "execution_count": 22,
   "id": "869fc754",
   "metadata": {},
   "outputs": [
    {
     "data": {
      "text/html": [
       "<div>\n",
       "<style scoped>\n",
       "    .dataframe tbody tr th:only-of-type {\n",
       "        vertical-align: middle;\n",
       "    }\n",
       "\n",
       "    .dataframe tbody tr th {\n",
       "        vertical-align: top;\n",
       "    }\n",
       "\n",
       "    .dataframe thead th {\n",
       "        text-align: right;\n",
       "    }\n",
       "</style>\n",
       "<table border=\"1\" class=\"dataframe\">\n",
       "  <thead>\n",
       "    <tr style=\"text-align: right;\">\n",
       "      <th></th>\n",
       "      <th>pclass</th>\n",
       "      <th>survived</th>\n",
       "      <th>sex</th>\n",
       "      <th>age</th>\n",
       "      <th>sibsp</th>\n",
       "      <th>parch</th>\n",
       "      <th>fare</th>\n",
       "      <th>embarked</th>\n",
       "      <th>high_status</th>\n",
       "      <th>married</th>\n",
       "    </tr>\n",
       "  </thead>\n",
       "  <tbody>\n",
       "    <tr>\n",
       "      <th>0</th>\n",
       "      <td>1.0</td>\n",
       "      <td>1.0</td>\n",
       "      <td>female</td>\n",
       "      <td>29.0000</td>\n",
       "      <td>0.0</td>\n",
       "      <td>0.0</td>\n",
       "      <td>211.3375</td>\n",
       "      <td>S</td>\n",
       "      <td>0</td>\n",
       "      <td>0</td>\n",
       "    </tr>\n",
       "    <tr>\n",
       "      <th>1</th>\n",
       "      <td>1.0</td>\n",
       "      <td>1.0</td>\n",
       "      <td>male</td>\n",
       "      <td>0.9167</td>\n",
       "      <td>1.0</td>\n",
       "      <td>2.0</td>\n",
       "      <td>151.5500</td>\n",
       "      <td>S</td>\n",
       "      <td>0</td>\n",
       "      <td>0</td>\n",
       "    </tr>\n",
       "    <tr>\n",
       "      <th>2</th>\n",
       "      <td>1.0</td>\n",
       "      <td>0.0</td>\n",
       "      <td>female</td>\n",
       "      <td>2.0000</td>\n",
       "      <td>1.0</td>\n",
       "      <td>2.0</td>\n",
       "      <td>151.5500</td>\n",
       "      <td>S</td>\n",
       "      <td>0</td>\n",
       "      <td>0</td>\n",
       "    </tr>\n",
       "    <tr>\n",
       "      <th>3</th>\n",
       "      <td>1.0</td>\n",
       "      <td>0.0</td>\n",
       "      <td>male</td>\n",
       "      <td>30.0000</td>\n",
       "      <td>1.0</td>\n",
       "      <td>2.0</td>\n",
       "      <td>151.5500</td>\n",
       "      <td>S</td>\n",
       "      <td>0</td>\n",
       "      <td>0</td>\n",
       "    </tr>\n",
       "    <tr>\n",
       "      <th>4</th>\n",
       "      <td>1.0</td>\n",
       "      <td>0.0</td>\n",
       "      <td>female</td>\n",
       "      <td>25.0000</td>\n",
       "      <td>1.0</td>\n",
       "      <td>2.0</td>\n",
       "      <td>151.5500</td>\n",
       "      <td>S</td>\n",
       "      <td>0</td>\n",
       "      <td>1</td>\n",
       "    </tr>\n",
       "  </tbody>\n",
       "</table>\n",
       "</div>"
      ],
      "text/plain": [
       "   pclass  survived     sex      age  sibsp  parch      fare embarked  high_status  married\n",
       "0     1.0       1.0  female  29.0000    0.0    0.0  211.3375        S            0        0\n",
       "1     1.0       1.0    male   0.9167    1.0    2.0  151.5500        S            0        0\n",
       "2     1.0       0.0  female   2.0000    1.0    2.0  151.5500        S            0        0\n",
       "3     1.0       0.0    male  30.0000    1.0    2.0  151.5500        S            0        0\n",
       "4     1.0       0.0  female  25.0000    1.0    2.0  151.5500        S            0        1"
      ]
     },
     "execution_count": 22,
     "metadata": {},
     "output_type": "execute_result"
    }
   ],
   "source": [
    "df.head()"
   ]
  },
  {
   "cell_type": "code",
   "execution_count": 23,
   "id": "1f4b36bf",
   "metadata": {},
   "outputs": [
    {
     "data": {
      "text/plain": [
       "age            0.201527\n",
       "embarked       0.002290\n",
       "fare           0.001527\n",
       "pclass         0.000763\n",
       "survived       0.000763\n",
       "sex            0.000763\n",
       "sibsp          0.000763\n",
       "parch          0.000763\n",
       "high_status    0.000000\n",
       "married        0.000000\n",
       "dtype: float64"
      ]
     },
     "execution_count": 23,
     "metadata": {},
     "output_type": "execute_result"
    }
   ],
   "source": [
    "df.isna().mean().sort_values(ascending=False)"
   ]
  },
  {
   "cell_type": "code",
   "execution_count": 24,
   "id": "6300f3fa",
   "metadata": {},
   "outputs": [
    {
     "data": {
      "text/html": [
       "<div>\n",
       "<style scoped>\n",
       "    .dataframe tbody tr th:only-of-type {\n",
       "        vertical-align: middle;\n",
       "    }\n",
       "\n",
       "    .dataframe tbody tr th {\n",
       "        vertical-align: top;\n",
       "    }\n",
       "\n",
       "    .dataframe thead th {\n",
       "        text-align: right;\n",
       "    }\n",
       "</style>\n",
       "<table border=\"1\" class=\"dataframe\">\n",
       "  <thead>\n",
       "    <tr style=\"text-align: right;\">\n",
       "      <th></th>\n",
       "      <th>pclass</th>\n",
       "      <th>survived</th>\n",
       "      <th>sex</th>\n",
       "      <th>age</th>\n",
       "      <th>sibsp</th>\n",
       "      <th>parch</th>\n",
       "      <th>fare</th>\n",
       "      <th>embarked</th>\n",
       "      <th>high_status</th>\n",
       "      <th>married</th>\n",
       "    </tr>\n",
       "  </thead>\n",
       "  <tbody>\n",
       "    <tr>\n",
       "      <th>1309</th>\n",
       "      <td>NaN</td>\n",
       "      <td>NaN</td>\n",
       "      <td>NaN</td>\n",
       "      <td>NaN</td>\n",
       "      <td>NaN</td>\n",
       "      <td>NaN</td>\n",
       "      <td>NaN</td>\n",
       "      <td>NaN</td>\n",
       "      <td>0</td>\n",
       "      <td>0</td>\n",
       "    </tr>\n",
       "  </tbody>\n",
       "</table>\n",
       "</div>"
      ],
      "text/plain": [
       "      pclass  survived  sex  age  sibsp  parch  fare embarked  high_status  married\n",
       "1309     NaN       NaN  NaN  NaN    NaN    NaN   NaN      NaN            0        0"
      ]
     },
     "execution_count": 24,
     "metadata": {},
     "output_type": "execute_result"
    }
   ],
   "source": [
    "df.loc[df['sex'].isna()]"
   ]
  },
  {
   "cell_type": "markdown",
   "id": "2f654eba",
   "metadata": {},
   "source": [
    "> note - one passenger (number 1309) has no data available at all. --> drop"
   ]
  },
  {
   "cell_type": "code",
   "execution_count": 25,
   "id": "4f31116a",
   "metadata": {},
   "outputs": [],
   "source": [
    "df.drop(labels=1309, inplace=True)"
   ]
  },
  {
   "cell_type": "markdown",
   "id": "e7d24517",
   "metadata": {},
   "source": [
    "## dealing with missing values\n",
    "\n",
    "- are values missing at random - check by pairplot\n",
    "- values that are missing at random, impute with median\n",
    "- values not missing at random, impute using [MICE](https://www.researchgate.net/publication/44203418_MICE_Multivariate_Imputation_by_Chained_Equations_in_R#:~:text=Multivariate%20Imputation%20by%20Chained%20Equations%20(MICE)%20is%20the%20name%20of,Conditional%20Speci%20cation%20(FCS).&text=0%2C%20the%20analysis%20of%20imputed,pooling%20works%20is%20substantially%20extended.)"
   ]
  },
  {
   "cell_type": "markdown",
   "id": "703aa111",
   "metadata": {},
   "source": [
    "### age"
   ]
  },
  {
   "cell_type": "code",
   "execution_count": null,
   "id": "8be57e9d",
   "metadata": {},
   "outputs": [],
   "source": [
    "df['age_missing'] = np.where(df['age'].isna(), True, False)\n",
    "sns.pairplot(df, hue='age_missing', kind='kde')"
   ]
  },
  {
   "cell_type": "markdown",
   "id": "e22ad7d5",
   "metadata": {},
   "source": [
    "> missing age does not seem to be correlated with anything **except** sbsp (number of siblings and spouses) and parch (number of parents and children) - those may have been young children"
   ]
  },
  {
   "cell_type": "code",
   "execution_count": null,
   "id": "7cc3f6e2",
   "metadata": {},
   "outputs": [],
   "source": [
    "df.loc[df['age'].isna(), 'sibsp'].value_counts()"
   ]
  },
  {
   "cell_type": "code",
   "execution_count": null,
   "id": "8d014eba",
   "metadata": {},
   "outputs": [],
   "source": [
    "df.drop(columns=['age_missing'], inplace=True)"
   ]
  },
  {
   "cell_type": "markdown",
   "id": "8bc3e4a6",
   "metadata": {},
   "source": [
    "> correction - age is mostly missing with people who had no parents/siblings (and mostly did not survive - **not random -> use MICE imputation**"
   ]
  },
  {
   "cell_type": "code",
   "execution_count": null,
   "id": "568475ce",
   "metadata": {},
   "outputs": [],
   "source": [
    "#df['sex'] = np.where(df['sex'] == 'female', 1, 0)"
   ]
  },
  {
   "cell_type": "markdown",
   "id": "95adef2b",
   "metadata": {},
   "source": [
    "> one-hot encoding the embarkation columns (drop 1?)"
   ]
  },
  {
   "cell_type": "code",
   "execution_count": null,
   "id": "9f76b86a",
   "metadata": {},
   "outputs": [],
   "source": [
    "#df = pd.concat([df, pd.get_dummies(df['embarked'], prefix='embarked')], axis=1)\n",
    "#df.drop(columns=['embarked'], inplace=True)"
   ]
  },
  {
   "cell_type": "code",
   "execution_count": null,
   "id": "8a9fc6a6",
   "metadata": {},
   "outputs": [],
   "source": [
    "#df['survived'] = df['survived'].astype(int)\n",
    "#df['pclass'] = df['pclass'].astype(int)"
   ]
  },
  {
   "cell_type": "code",
   "execution_count": null,
   "id": "2dcdf450",
   "metadata": {},
   "outputs": [],
   "source": [
    "df.dtypes"
   ]
  },
  {
   "cell_type": "markdown",
   "id": "e6ba8b2b",
   "metadata": {},
   "source": [
    "> check distributions, values that are normally distributed will be normally scaled, all others min-max"
   ]
  },
  {
   "cell_type": "code",
   "execution_count": null,
   "id": "70af58bc",
   "metadata": {},
   "outputs": [],
   "source": [
    "to_scale = ['pclass', 'age', 'sibsp', 'parch', 'fare']\n",
    "\n",
    "plt.rc('figure', figsize=(20, 10))\n",
    "fig, axes = plt.subplots(ncols = 3, nrows = 2)\n",
    "\n",
    "for i, ax in zip(to_scale, axes.flat):\n",
    "    sns.kdeplot(df[i], ax=ax)"
   ]
  },
  {
   "cell_type": "markdown",
   "id": "04676fd9",
   "metadata": {},
   "source": [
    "### pretty clear that only age is normally distributed -- scale all others min-max"
   ]
  },
  {
   "cell_type": "code",
   "execution_count": null,
   "id": "75fe4d9e",
   "metadata": {},
   "outputs": [],
   "source": [
    "plt.figure(figsize=(20, 20))\n",
    "sns.heatmap(df.corr(), cmap='Spectral')"
   ]
  },
  {
   "cell_type": "code",
   "execution_count": null,
   "id": "107e8bfb",
   "metadata": {},
   "outputs": [],
   "source": [
    "sns.pairplot(df, hue='survived')"
   ]
  },
  {
   "cell_type": "markdown",
   "id": "1a8c6494",
   "metadata": {},
   "source": [
    "## Data Split here!"
   ]
  },
  {
   "cell_type": "code",
   "execution_count": null,
   "id": "e8b65c5d",
   "metadata": {},
   "outputs": [],
   "source": [
    "# split data off just in case\n",
    "data = df.copy()\n",
    "\n",
    "y = df.pop('survived')\n",
    "x = df\n",
    "\n",
    "x_train, x_test, y_train, y_test = train_test_split(x, y, random_state=42, test_size=.2)"
   ]
  },
  {
   "cell_type": "code",
   "execution_count": null,
   "id": "31f518cb",
   "metadata": {},
   "outputs": [],
   "source": [
    "for i in x_train, x_test, y_train, y_test:\n",
    "    print(i.shape)"
   ]
  },
  {
   "cell_type": "code",
   "execution_count": null,
   "id": "0a4dd5e0",
   "metadata": {},
   "outputs": [],
   "source": [
    "x.head()"
   ]
  },
  {
   "cell_type": "code",
   "execution_count": null,
   "id": "c6d78279",
   "metadata": {},
   "outputs": [],
   "source": [
    "# transformer to scale columns differently\n",
    "\n",
    "# store column names to be processed conveniently, in order to get feature names for feature importance later\n",
    "categorical_columns = ['sex', 'embarked', 'high_status']\n",
    "numerical_columns = {\n",
    "    'normally_distributed': ['age'],\n",
    "    'not_normally_distributed': ['pclass', 'sibsp', 'parch', 'fare']}\n",
    "\n",
    "transformer = ColumnTransformer([\n",
    "    ('onehotencode categories', OneHotEncoder(), categorical_columns),\n",
    "    ('normally distributed', StandardScaler(), numerical_columns['normally_distributed']),\n",
    "    ('nor normally distributed', MinMaxScaler(), numerical_columns['not_normally_distributed'])], \n",
    "    remainder='drop')\n",
    "\n",
    "# chain transformer and imputation\n",
    "pipeline = Pipeline([('transform', transformer), ('impute', IterativeImputer(min_value=0))])\n",
    "x_train_processed = pipeline.fit_transform(x_train)\n",
    "\n",
    "x_train_processed.shape\n",
    "\n",
    "x_test_processed = pipeline.fit_transform(x_test)"
   ]
  },
  {
   "cell_type": "markdown",
   "id": "355d7d9f",
   "metadata": {},
   "source": [
    "## basic classifiers using sklearn"
   ]
  },
  {
   "cell_type": "markdown",
   "id": "3df2cb69",
   "metadata": {},
   "source": [
    "> note: check 'naive' baseline (classes are slightly unbalanced, so a naive classifier would just predict the more common class"
   ]
  },
  {
   "cell_type": "code",
   "execution_count": null,
   "id": "1a0bc830",
   "metadata": {},
   "outputs": [],
   "source": [
    "1 - y_train.mean()"
   ]
  },
  {
   "cell_type": "markdown",
   "id": "3e543f6a",
   "metadata": {},
   "source": [
    "> baseline to beat: .64 accuracy"
   ]
  },
  {
   "cell_type": "code",
   "execution_count": null,
   "id": "d7a03b32",
   "metadata": {},
   "outputs": [],
   "source": [
    "rfc = RandomForestClassifier()\n",
    "rfc.fit(x_train_processed, y_train)\n",
    "rfc.score(x_test_processed, y_test)"
   ]
  },
  {
   "cell_type": "code",
   "execution_count": null,
   "id": "df243459",
   "metadata": {},
   "outputs": [],
   "source": [
    "rfc = RandomForestClassifier(n_jobs=-1, random_state=42)\n",
    "\n",
    "param_grid = { \n",
    "    \"criterion\" : [\"gini\", \"entropy\"], \n",
    "    \"min_samples_leaf\" : [1, 5, 10, 25, 50, 70], \n",
    "    \"min_samples_split\" : [2, 4, 10, 12, 16, 18, 25, 35], \n",
    "    \"n_estimators\": [100, 400, 700, 1000, 1500]}\n",
    "\n",
    "#param_grid = {\n",
    "#    'max_depth': [1, 5, 7],\n",
    "#    'n_estimators': [100, 200]}\n",
    "\n",
    "cross_val_score(rfc, x_train_processed, y_train)\n",
    "\n",
    "\n",
    "#clf = GridSearchCV(RandomForestClassifier(), param_grid)\n",
    "#clf.fit(x_train_processed, y_train)"
   ]
  },
  {
   "cell_type": "code",
   "execution_count": null,
   "id": "1cfd06ea",
   "metadata": {},
   "outputs": [],
   "source": [
    "#clf.best_params_"
   ]
  },
  {
   "cell_type": "markdown",
   "id": "bc5df899",
   "metadata": {},
   "source": [
    "best parameters after crossvalidation gridsearch: (running takes a long time, saving them as hard params)"
   ]
  },
  {
   "cell_type": "code",
   "execution_count": null,
   "id": "67de3685",
   "metadata": {},
   "outputs": [],
   "source": [
    "params = {'criterion': 'gini',\n",
    " 'min_samples_leaf': 1,\n",
    " 'min_samples_split': 18,\n",
    " 'n_estimators': 700}"
   ]
  },
  {
   "cell_type": "code",
   "execution_count": null,
   "id": "84581d45",
   "metadata": {},
   "outputs": [],
   "source": [
    "#best_rf_classifier = RandomForestClassifier(**clf.best_params_)\n",
    "\n",
    "best_rf_classifier = RandomForestClassifier(**params)\n",
    "best_rf_classifier.fit(x_train_processed, y_train)\n",
    "best_rf_classifier.score(x_test_processed, y_test)"
   ]
  },
  {
   "cell_type": "code",
   "execution_count": null,
   "id": "7f03ec2e",
   "metadata": {},
   "outputs": [],
   "source": [
    "svc = SVC()\n",
    "svc.fit(x_train_processed, y_train)\n",
    "svc.score(x_test_processed, y_test)"
   ]
  },
  {
   "cell_type": "code",
   "execution_count": null,
   "id": "c6ea0e7d",
   "metadata": {},
   "outputs": [],
   "source": [
    "#param_grid = {'C': [0.1, 1, 10, 100, 1000], \n",
    "#              'gamma': [1, 0.1, 0.01, 0.001, 0.0001],\n",
    "#              'kernel': ['rbf', 'sigmoid']} \n",
    "\n",
    "#clf = GridSearchCV(SVC(), param_grid, refit=True, verbose=3)\n",
    "#clf.fit(x_train_processed, y_train)"
   ]
  },
  {
   "cell_type": "code",
   "execution_count": null,
   "id": "4c3ef613",
   "metadata": {},
   "outputs": [],
   "source": [
    "#clf.best_params_"
   ]
  },
  {
   "cell_type": "code",
   "execution_count": null,
   "id": "b93705f6",
   "metadata": {},
   "outputs": [],
   "source": [
    "best_params = {'C': 100, 'gamma': 1, 'kernel': 'rbf'}\n",
    "# saved, because the grid search takes a long time"
   ]
  },
  {
   "cell_type": "code",
   "execution_count": null,
   "id": "05c613d2",
   "metadata": {},
   "outputs": [],
   "source": [
    "best_svc = SVC(**best_params)\n",
    "best_svc.fit(x_train_processed, y_train)\n",
    "best_svc.score(x_test_processed, y_test)"
   ]
  },
  {
   "cell_type": "code",
   "execution_count": null,
   "id": "a1677c5f",
   "metadata": {},
   "outputs": [],
   "source": [
    "cat = pipeline.named_steps['transform'].transformers_[0][1].get_feature_names_out(categorical_columns)"
   ]
  },
  {
   "cell_type": "code",
   "execution_count": null,
   "id": "010e1668",
   "metadata": {},
   "outputs": [],
   "source": [
    "norm = pipeline.named_steps['transform'].transformers_[1][1].get_feature_names_out(numerical_columns['normally_distributed'])"
   ]
  },
  {
   "cell_type": "code",
   "execution_count": null,
   "id": "c5860aa8",
   "metadata": {},
   "outputs": [],
   "source": [
    "not_norm = pipeline.named_steps['transform'].transformers_[2][1].get_feature_names_out(numerical_columns['not_normally_distributed'])"
   ]
  },
  {
   "cell_type": "code",
   "execution_count": null,
   "id": "690e82dc",
   "metadata": {},
   "outputs": [],
   "source": [
    "new_columns = np.concatenate([cat, norm, not_norm])"
   ]
  },
  {
   "cell_type": "code",
   "execution_count": null,
   "id": "f8286e95",
   "metadata": {},
   "outputs": [],
   "source": [
    "for k, v in zip(new_columns, best_rf_classifier.feature_importances_):\n",
    "    print(k, v)"
   ]
  },
  {
   "cell_type": "markdown",
   "id": "9aa58130",
   "metadata": {},
   "source": [
    "# enhanced data tests"
   ]
  },
  {
   "cell_type": "code",
   "execution_count": null,
   "id": "a2292d09",
   "metadata": {},
   "outputs": [],
   "source": [
    "enh = enhance_data(x_train=x_train_processed, y_train=y_train, force_generator=True, synthetic_share=.2, wasserstein=True)"
   ]
  },
  {
   "cell_type": "markdown",
   "id": "652675df",
   "metadata": {},
   "source": [
    "## set up the data log"
   ]
  },
  {
   "cell_type": "code",
   "execution_count": null,
   "id": "8bb7192b",
   "metadata": {},
   "outputs": [],
   "source": [
    "log = pd.DataFrame(columns=[\"model\", \"accuracy\", \"enhanced_data\"])\n",
    "log['enhanced_data'] = log['enhanced_data'].astype(bool)"
   ]
  },
  {
   "cell_type": "markdown",
   "id": "a8e5d60f",
   "metadata": {},
   "source": [
    "## logReg"
   ]
  },
  {
   "cell_type": "code",
   "execution_count": null,
   "id": "857d45a0",
   "metadata": {},
   "outputs": [],
   "source": [
    "clf = LogisticRegression(solver='liblinear')\n",
    "\n",
    "clf.fit(x_train_processed, y_train)\n",
    "\n",
    "y_pred = clf.predict(x_test_processed)\n",
    "\n",
    "clf.score(x_train_processed, y_train)\n",
    "\n",
    "score = accuracy_score(y_test, y_pred)\n",
    "\n",
    "log = log.append({\"model\": \"logistic regression\", \"accuracy\": score, \"enhanced_data\": False}, ignore_index=True)"
   ]
  },
  {
   "cell_type": "code",
   "execution_count": null,
   "id": "bbe599f6",
   "metadata": {},
   "outputs": [],
   "source": [
    "clf = LogisticRegression(solver='liblinear')\n",
    "\n",
    "clf.fit(enh['x_train_processed'], enh['y_train'])\n",
    "\n",
    "y_pred = clf.predict(x_test_processed)\n",
    "\n",
    "clf.score(X_train, y_train)\n",
    "\n",
    "score = accuracy_score(y_test, y_pred)\n",
    "\n",
    "\n",
    "log = log.append({\"model\": \"logistic regression\", \"accuracy\": score, \"enhanced_data\": True}, ignore_index=True)"
   ]
  },
  {
   "cell_type": "markdown",
   "id": "cd58fddd",
   "metadata": {},
   "source": [
    "\n",
    "## SVC"
   ]
  },
  {
   "cell_type": "code",
   "execution_count": null,
   "id": "92e76fb7",
   "metadata": {},
   "outputs": [],
   "source": [
    "model = SVC(kernel=\"rbf\",C=1)\n",
    "\n",
    "model.fit(x_train_processed, y_train)\n",
    "\n",
    "y_pred = model.predict(x_test_processed)\n",
    "\n",
    "score = accuracy_score(y_test, y_pred)\n",
    "\n",
    "log = log.append({\"model\": \"SVC\", \"accuracy\": score, \"enhanced_data\": False}, ignore_index=True)"
   ]
  },
  {
   "cell_type": "code",
   "execution_count": null,
   "id": "8098b592",
   "metadata": {},
   "outputs": [],
   "source": [
    "model = SVC(kernel=\"rbf\",C=1)\n",
    "\n",
    "model.fit(enh['x_train_processed'], enh['y_train'])\n",
    "\n",
    "y_pred = model.predict(x_test_processed)\n",
    "\n",
    "score = accuracy_score(y_test, y_pred)\n",
    "\n",
    "log = log.append({\"model\": \"SVC\", \"accuracy\": score, \"enhanced_data\": True}, ignore_index=True)"
   ]
  },
  {
   "cell_type": "markdown",
   "id": "1041b289",
   "metadata": {},
   "source": [
    "## Random Forest"
   ]
  },
  {
   "cell_type": "code",
   "execution_count": null,
   "id": "ded9b06d",
   "metadata": {},
   "outputs": [],
   "source": [
    "clf = RandomForestClassifier(random_state = 1)\n",
    "clf.fit(x_train_processed, y_train)\n",
    "y_pred = clf.predict(x_test_processed)\n",
    "score = accuracy_score(y_test, y_pred)\n",
    "log = log.append({\"model\": \"Random Forest\", \"accuracy\": score, \"enhanced_data\": False}, ignore_index=True)"
   ]
  },
  {
   "cell_type": "code",
   "execution_count": null,
   "id": "bab37a4f",
   "metadata": {},
   "outputs": [],
   "source": [
    "clf = RandomForestClassifier(random_state = 1)\n",
    "clf.fit(enh['x_train_processed'], enh['y_train'])\n",
    "y_pred = clf.predict(x_test_processed)\n",
    "score = accuracy_score(y_test, y_pred)\n",
    "log = log.append({\"model\": \"Random Forest\", \"accuracy\": score, \"enhanced_data\": True}, ignore_index=True)"
   ]
  },
  {
   "cell_type": "markdown",
   "id": "5404a92f",
   "metadata": {},
   "source": [
    "## Decision Tree"
   ]
  },
  {
   "cell_type": "code",
   "execution_count": null,
   "id": "aadce418",
   "metadata": {},
   "outputs": [],
   "source": [
    "clf = DecisionTreeClassifier(criterion='entropy',random_state=7)\n",
    "clf.fit(x_train_processed, y_train)\n",
    "y_pred = clf.predict(x_test_processed)\n",
    "score = accuracy_score(y_test, y_pred)\n",
    "log = log.append({\"model\": \"Decision tree\", \"accuracy\": score, \"enhanced_data\": False}, ignore_index=True)"
   ]
  },
  {
   "cell_type": "code",
   "execution_count": null,
   "id": "2e9e9c2a",
   "metadata": {},
   "outputs": [],
   "source": [
    "clf = DecisionTreeClassifier(criterion='entropy',random_state=7)\n",
    "clf.fit(enh['x_train_processed'], enh['y_train'])\n",
    "y_pred = clf.predict(x_test_processed)\n",
    "score = accuracy_score(y_test, y_pred)\n",
    "log = log.append({\"model\": \"Decision tree\", \"accuracy\": score, \"enhanced_data\": True}, ignore_index=True)"
   ]
  },
  {
   "cell_type": "markdown",
   "id": "9670c90e",
   "metadata": {},
   "source": [
    "## KNN"
   ]
  },
  {
   "cell_type": "code",
   "execution_count": null,
   "id": "527e1cdf",
   "metadata": {},
   "outputs": [],
   "source": [
    "clf = KNeighborsClassifier(n_neighbors=3)\n",
    "clf.fit(x_train_processed, y_train)\n",
    "clf.predict(x_test_processed)\n",
    "y_pred = clf.predict(x_test_processed)\n",
    "score = accuracy_score(y_test, y_pred)\n",
    "log = log.append({\"model\": \"K nearest neighbours\", \"accuracy\": score, \"enhanced_data\": False}, ignore_index=True)"
   ]
  },
  {
   "cell_type": "code",
   "execution_count": null,
   "id": "d746f3cc",
   "metadata": {},
   "outputs": [],
   "source": [
    "clf = KNeighborsClassifier(n_neighbors=3)\n",
    "clf.fit(enh['x_train_processed'], enh['y_train'])\n",
    "clf.predict(x_test_processed)\n",
    "y_pred = clf.predict(x_test_processed)\n",
    "score = accuracy_score(y_test, y_pred)\n",
    "log = log.append({\"model\": \"K nearest neighbours\", \"accuracy\": score, \"enhanced_data\": True}, ignore_index=True)"
   ]
  },
  {
   "cell_type": "markdown",
   "id": "78fdd756",
   "metadata": {},
   "source": [
    "## Naive Bayes"
   ]
  },
  {
   "cell_type": "code",
   "execution_count": null,
   "id": "2a2b1bef",
   "metadata": {},
   "outputs": [],
   "source": [
    "clf = GaussianNB()\n",
    "clf.fit(x_train_processed, y_train)\n",
    "clf.predict(x_test_processed)\n",
    "y_pred = clf.predict(x_test_processed)\n",
    "score = accuracy_score(y_test, y_pred)\n",
    "log = log.append({\"model\": \"GaussianNB\", \"accuracy\": score, \"enhanced_data\": False}, ignore_index=True)"
   ]
  },
  {
   "cell_type": "code",
   "execution_count": null,
   "id": "69218a85",
   "metadata": {},
   "outputs": [],
   "source": [
    "clf = GaussianNB()\n",
    "clf.fit(enh['x_train_processed'], enh['y_train'])\n",
    "clf.predict(x_test_processed)\n",
    "y_pred = clf.predict(x_test_processed)\n",
    "score = accuracy_score(y_test, y_pred)\n",
    "log = log.append({\"model\": \"GaussianNB\", \"accuracy\": score, \"enhanced_data\": True}, ignore_index=True)"
   ]
  },
  {
   "cell_type": "markdown",
   "id": "c045c344",
   "metadata": {},
   "source": [
    "## NeuralNet"
   ]
  },
  {
   "cell_type": "code",
   "execution_count": null,
   "id": "ac1f58d0",
   "metadata": {},
   "outputs": [],
   "source": [
    "model = models.Sequential()\n",
    "model.add(layers.InputLayer(input_shape=X_train.shape[1:]))\n",
    "\n",
    "for i in range(5):\n",
    "        model.add(layers.Dense(\n",
    "            64, \n",
    "            kernel_initializer='he_normal',\n",
    "            name=f'hidden_layer_{i}'))\n",
    "        model.add(layers.BatchNormalization())\n",
    "        model.add(layers.Activation('selu'))\n",
    "        model.add(layers.Dropout(0.3, name=f'dropout_{i}_30'))\n",
    "    \n",
    "model.add(layers.Dense(1, activation='sigmoid'))\n",
    "\n",
    "#model.compile(optimizer='rmsprop', loss='binary_crossentropy', metrics=['accuracy'])\n",
    "model.compile(loss='binary_crossentropy', optimizer='adam', metrics=['accuracy'])\n",
    "\n",
    "model.summary()"
   ]
  },
  {
   "cell_type": "code",
   "execution_count": null,
   "id": "faf5c79d",
   "metadata": {},
   "outputs": [],
   "source": [
    "history = model.fit(\n",
    "    x_train_processed, y_train, validation_split=.2, epochs=300,\n",
    "    callbacks=[\n",
    "        EarlyStopping(patience=20, monitor='val_accuracy', mode='max', restore_best_weights=True)])"
   ]
  },
  {
   "cell_type": "code",
   "execution_count": null,
   "id": "d767c7f9",
   "metadata": {},
   "outputs": [],
   "source": [
    "result = model.evaluate(X_test, y_test)\n",
    "result[1]\n",
    "log = log.append({\"model\": \"DenseNeuralNet\", \"accuracy\": result[1], \"enhanced_data\": False}, ignore_index=True)"
   ]
  },
  {
   "cell_type": "code",
   "execution_count": null,
   "id": "cc813374",
   "metadata": {},
   "outputs": [],
   "source": [
    "model = models.Sequential()\n",
    "model.add(layers.InputLayer(input_shape=X_train.shape[1:]))\n",
    "\n",
    "for i in range(5):\n",
    "        model.add(layers.Dense(\n",
    "            64, \n",
    "            kernel_initializer='he_normal',\n",
    "            name=f'hidden_layer_{i}'))\n",
    "        model.add(layers.BatchNormalization())\n",
    "        model.add(layers.Activation('selu'))\n",
    "        model.add(layers.Dropout(0.3, name=f'dropout_{i}_30'))\n",
    "    \n",
    "model.add(layers.Dense(1, activation='sigmoid'))\n",
    "\n",
    "#model.compile(optimizer='rmsprop', loss='binary_crossentropy', metrics=['accuracy'])\n",
    "model.compile(loss='binary_crossentropy', optimizer='adam', metrics=['accuracy'])\n",
    "\n",
    "history = model.fit(\n",
    "    enh['x_train_processed'], enh['y_train'], validation_split=.2, epochs=300,\n",
    "    callbacks=[\n",
    "        EarlyStopping(patience=20, monitor='val_accuracy', mode='max', restore_best_weights=True)])"
   ]
  },
  {
   "cell_type": "code",
   "execution_count": null,
   "id": "ff4b2a80",
   "metadata": {},
   "outputs": [],
   "source": [
    "result = model.evaluate(X_test, y_test)\n",
    "result[1]\n",
    "log = log.append({\"model\": \"DenseNeuralNet\", \"accuracy\": result[1], \"enhanced_data\": True}, ignore_index=True)"
   ]
  },
  {
   "cell_type": "code",
   "execution_count": null,
   "id": "b157e6b0",
   "metadata": {},
   "outputs": [],
   "source": [
    "import seaborn as sns\n",
    "from matplotlib import pyplot as plt\n",
    "\n",
    "\n",
    "c = sns.catplot(\n",
    "    data=log,\n",
    "    x='model',\n",
    "    y='accuracy',\n",
    "    hue='enhanced_data',\n",
    "    kind='bar',\n",
    "    height=20\n",
    ")\n",
    "\n",
    "plt.savefig('./titanic_all_models_boosting_experiments.jpg')"
   ]
  }
 ],
 "metadata": {
  "kernelspec": {
   "display_name": "Python 3",
   "language": "python",
   "name": "python3"
  },
  "language_info": {
   "codemirror_mode": {
    "name": "ipython",
    "version": 3
   },
   "file_extension": ".py",
   "mimetype": "text/x-python",
   "name": "python",
   "nbconvert_exporter": "python",
   "pygments_lexer": "ipython3",
   "version": "3.9.7"
  }
 },
 "nbformat": 4,
 "nbformat_minor": 5
}
