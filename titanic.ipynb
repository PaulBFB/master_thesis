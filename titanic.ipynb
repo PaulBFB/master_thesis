{
 "cells": [
  {
   "cell_type": "markdown",
   "id": "8a73cc63",
   "metadata": {},
   "source": [
    "# load the dataset\n",
    "\n",
    "using the titanic dataset, downloaded from [data.world](https://data.world/nrippner/titanic-disaster-dataset)\n",
    "\n",
    "description:\n",
    "\n",
    "- survival - Survival (0 = No; 1 = Yes)\n",
    "- class - Passenger Class (1 = 1st; 2 = 2nd; 3 = 3rd)\n",
    "- name - Name\n",
    "- sex - Sex\n",
    "- age - Age\n",
    "- sibsp - Number of Siblings/Spouses Aboard\n",
    "- parch - Number of Parents/Children Aboard\n",
    "- ticket - Ticket Number\n",
    "- fare - Passenger Fare\n",
    "- cabin - Cabin\n",
    "- embarked - Port of Embarkation (C = Cherbourg; Q = Queenstown; S = Southampton)\n",
    "- boat - Lifeboat (if survived)\n",
    "- body - Body number (if did not survive and body was recovered)"
   ]
  },
  {
   "cell_type": "code",
   "execution_count": 1,
   "id": "e149bd59",
   "metadata": {},
   "outputs": [],
   "source": [
    "import pandas as pd\n",
    "import numpy as np \n",
    "import seaborn as sns\n",
    "from sklearn.model_selection import train_test_split\n",
    "from sklearn.experimental import enable_iterative_imputer\n",
    "from sklearn.impute import IterativeImputer\n",
    "from sklearn.preprocessing import OneHotEncoder\n",
    "from matplotlib import pyplot as plt\n",
    "from impyute.imputation.cs import mice\n",
    "\n",
    "\n",
    "pd.set_option('display.width', 5000, 'display.max_columns', 100)"
   ]
  },
  {
   "cell_type": "code",
   "execution_count": 2,
   "id": "22ca67e3",
   "metadata": {},
   "outputs": [],
   "source": [
    "with open('./data/titanic.csv', mode='r') as file:\n",
    "    df = pd.read_csv(file)"
   ]
  },
  {
   "cell_type": "markdown",
   "id": "326dc611",
   "metadata": {},
   "source": [
    "> first look at the data"
   ]
  },
  {
   "cell_type": "code",
   "execution_count": 3,
   "id": "a9fa45d9",
   "metadata": {},
   "outputs": [
    {
     "data": {
      "text/html": [
       "<div>\n",
       "<style scoped>\n",
       "    .dataframe tbody tr th:only-of-type {\n",
       "        vertical-align: middle;\n",
       "    }\n",
       "\n",
       "    .dataframe tbody tr th {\n",
       "        vertical-align: top;\n",
       "    }\n",
       "\n",
       "    .dataframe thead th {\n",
       "        text-align: right;\n",
       "    }\n",
       "</style>\n",
       "<table border=\"1\" class=\"dataframe\">\n",
       "  <thead>\n",
       "    <tr style=\"text-align: right;\">\n",
       "      <th></th>\n",
       "      <th>pclass</th>\n",
       "      <th>survived</th>\n",
       "      <th>name</th>\n",
       "      <th>sex</th>\n",
       "      <th>age</th>\n",
       "      <th>sibsp</th>\n",
       "      <th>parch</th>\n",
       "      <th>ticket</th>\n",
       "      <th>fare</th>\n",
       "      <th>cabin</th>\n",
       "      <th>embarked</th>\n",
       "      <th>boat</th>\n",
       "      <th>body</th>\n",
       "      <th>home.dest</th>\n",
       "    </tr>\n",
       "  </thead>\n",
       "  <tbody>\n",
       "    <tr>\n",
       "      <th>0</th>\n",
       "      <td>1.0</td>\n",
       "      <td>1.0</td>\n",
       "      <td>Allen, Miss. Elisabeth Walton</td>\n",
       "      <td>female</td>\n",
       "      <td>29.0000</td>\n",
       "      <td>0.0</td>\n",
       "      <td>0.0</td>\n",
       "      <td>24160</td>\n",
       "      <td>211.3375</td>\n",
       "      <td>B5</td>\n",
       "      <td>S</td>\n",
       "      <td>2</td>\n",
       "      <td>NaN</td>\n",
       "      <td>St Louis, MO</td>\n",
       "    </tr>\n",
       "    <tr>\n",
       "      <th>1</th>\n",
       "      <td>1.0</td>\n",
       "      <td>1.0</td>\n",
       "      <td>Allison, Master. Hudson Trevor</td>\n",
       "      <td>male</td>\n",
       "      <td>0.9167</td>\n",
       "      <td>1.0</td>\n",
       "      <td>2.0</td>\n",
       "      <td>113781</td>\n",
       "      <td>151.5500</td>\n",
       "      <td>C22 C26</td>\n",
       "      <td>S</td>\n",
       "      <td>11</td>\n",
       "      <td>NaN</td>\n",
       "      <td>Montreal, PQ / Chesterville, ON</td>\n",
       "    </tr>\n",
       "    <tr>\n",
       "      <th>2</th>\n",
       "      <td>1.0</td>\n",
       "      <td>0.0</td>\n",
       "      <td>Allison, Miss. Helen Loraine</td>\n",
       "      <td>female</td>\n",
       "      <td>2.0000</td>\n",
       "      <td>1.0</td>\n",
       "      <td>2.0</td>\n",
       "      <td>113781</td>\n",
       "      <td>151.5500</td>\n",
       "      <td>C22 C26</td>\n",
       "      <td>S</td>\n",
       "      <td>NaN</td>\n",
       "      <td>NaN</td>\n",
       "      <td>Montreal, PQ / Chesterville, ON</td>\n",
       "    </tr>\n",
       "    <tr>\n",
       "      <th>3</th>\n",
       "      <td>1.0</td>\n",
       "      <td>0.0</td>\n",
       "      <td>Allison, Mr. Hudson Joshua Creighton</td>\n",
       "      <td>male</td>\n",
       "      <td>30.0000</td>\n",
       "      <td>1.0</td>\n",
       "      <td>2.0</td>\n",
       "      <td>113781</td>\n",
       "      <td>151.5500</td>\n",
       "      <td>C22 C26</td>\n",
       "      <td>S</td>\n",
       "      <td>NaN</td>\n",
       "      <td>135.0</td>\n",
       "      <td>Montreal, PQ / Chesterville, ON</td>\n",
       "    </tr>\n",
       "    <tr>\n",
       "      <th>4</th>\n",
       "      <td>1.0</td>\n",
       "      <td>0.0</td>\n",
       "      <td>Allison, Mrs. Hudson J C (Bessie Waldo Daniels)</td>\n",
       "      <td>female</td>\n",
       "      <td>25.0000</td>\n",
       "      <td>1.0</td>\n",
       "      <td>2.0</td>\n",
       "      <td>113781</td>\n",
       "      <td>151.5500</td>\n",
       "      <td>C22 C26</td>\n",
       "      <td>S</td>\n",
       "      <td>NaN</td>\n",
       "      <td>NaN</td>\n",
       "      <td>Montreal, PQ / Chesterville, ON</td>\n",
       "    </tr>\n",
       "  </tbody>\n",
       "</table>\n",
       "</div>"
      ],
      "text/plain": [
       "   pclass  survived                                             name     sex      age  sibsp  parch  ticket      fare    cabin embarked boat   body                        home.dest\n",
       "0     1.0       1.0                    Allen, Miss. Elisabeth Walton  female  29.0000    0.0    0.0   24160  211.3375       B5        S    2    NaN                     St Louis, MO\n",
       "1     1.0       1.0                   Allison, Master. Hudson Trevor    male   0.9167    1.0    2.0  113781  151.5500  C22 C26        S   11    NaN  Montreal, PQ / Chesterville, ON\n",
       "2     1.0       0.0                     Allison, Miss. Helen Loraine  female   2.0000    1.0    2.0  113781  151.5500  C22 C26        S  NaN    NaN  Montreal, PQ / Chesterville, ON\n",
       "3     1.0       0.0             Allison, Mr. Hudson Joshua Creighton    male  30.0000    1.0    2.0  113781  151.5500  C22 C26        S  NaN  135.0  Montreal, PQ / Chesterville, ON\n",
       "4     1.0       0.0  Allison, Mrs. Hudson J C (Bessie Waldo Daniels)  female  25.0000    1.0    2.0  113781  151.5500  C22 C26        S  NaN    NaN  Montreal, PQ / Chesterville, ON"
      ]
     },
     "execution_count": 3,
     "metadata": {},
     "output_type": "execute_result"
    }
   ],
   "source": [
    "df.head()"
   ]
  },
  {
   "cell_type": "code",
   "execution_count": 4,
   "id": "2887fd8b",
   "metadata": {},
   "outputs": [
    {
     "data": {
      "text/html": [
       "<div>\n",
       "<style scoped>\n",
       "    .dataframe tbody tr th:only-of-type {\n",
       "        vertical-align: middle;\n",
       "    }\n",
       "\n",
       "    .dataframe tbody tr th {\n",
       "        vertical-align: top;\n",
       "    }\n",
       "\n",
       "    .dataframe thead th {\n",
       "        text-align: right;\n",
       "    }\n",
       "</style>\n",
       "<table border=\"1\" class=\"dataframe\">\n",
       "  <thead>\n",
       "    <tr style=\"text-align: right;\">\n",
       "      <th></th>\n",
       "      <th>pclass</th>\n",
       "      <th>survived</th>\n",
       "      <th>age</th>\n",
       "      <th>sibsp</th>\n",
       "      <th>parch</th>\n",
       "      <th>fare</th>\n",
       "      <th>body</th>\n",
       "    </tr>\n",
       "  </thead>\n",
       "  <tbody>\n",
       "    <tr>\n",
       "      <th>count</th>\n",
       "      <td>1309.000000</td>\n",
       "      <td>1309.000000</td>\n",
       "      <td>1046.000000</td>\n",
       "      <td>1309.000000</td>\n",
       "      <td>1309.000000</td>\n",
       "      <td>1308.000000</td>\n",
       "      <td>121.000000</td>\n",
       "    </tr>\n",
       "    <tr>\n",
       "      <th>mean</th>\n",
       "      <td>2.294882</td>\n",
       "      <td>0.381971</td>\n",
       "      <td>29.881135</td>\n",
       "      <td>0.498854</td>\n",
       "      <td>0.385027</td>\n",
       "      <td>33.295479</td>\n",
       "      <td>160.809917</td>\n",
       "    </tr>\n",
       "    <tr>\n",
       "      <th>std</th>\n",
       "      <td>0.837836</td>\n",
       "      <td>0.486055</td>\n",
       "      <td>14.413500</td>\n",
       "      <td>1.041658</td>\n",
       "      <td>0.865560</td>\n",
       "      <td>51.758668</td>\n",
       "      <td>97.696922</td>\n",
       "    </tr>\n",
       "    <tr>\n",
       "      <th>min</th>\n",
       "      <td>1.000000</td>\n",
       "      <td>0.000000</td>\n",
       "      <td>0.166700</td>\n",
       "      <td>0.000000</td>\n",
       "      <td>0.000000</td>\n",
       "      <td>0.000000</td>\n",
       "      <td>1.000000</td>\n",
       "    </tr>\n",
       "    <tr>\n",
       "      <th>25%</th>\n",
       "      <td>2.000000</td>\n",
       "      <td>0.000000</td>\n",
       "      <td>21.000000</td>\n",
       "      <td>0.000000</td>\n",
       "      <td>0.000000</td>\n",
       "      <td>7.895800</td>\n",
       "      <td>72.000000</td>\n",
       "    </tr>\n",
       "    <tr>\n",
       "      <th>50%</th>\n",
       "      <td>3.000000</td>\n",
       "      <td>0.000000</td>\n",
       "      <td>28.000000</td>\n",
       "      <td>0.000000</td>\n",
       "      <td>0.000000</td>\n",
       "      <td>14.454200</td>\n",
       "      <td>155.000000</td>\n",
       "    </tr>\n",
       "    <tr>\n",
       "      <th>75%</th>\n",
       "      <td>3.000000</td>\n",
       "      <td>1.000000</td>\n",
       "      <td>39.000000</td>\n",
       "      <td>1.000000</td>\n",
       "      <td>0.000000</td>\n",
       "      <td>31.275000</td>\n",
       "      <td>256.000000</td>\n",
       "    </tr>\n",
       "    <tr>\n",
       "      <th>max</th>\n",
       "      <td>3.000000</td>\n",
       "      <td>1.000000</td>\n",
       "      <td>80.000000</td>\n",
       "      <td>8.000000</td>\n",
       "      <td>9.000000</td>\n",
       "      <td>512.329200</td>\n",
       "      <td>328.000000</td>\n",
       "    </tr>\n",
       "  </tbody>\n",
       "</table>\n",
       "</div>"
      ],
      "text/plain": [
       "            pclass     survived          age        sibsp        parch         fare        body\n",
       "count  1309.000000  1309.000000  1046.000000  1309.000000  1309.000000  1308.000000  121.000000\n",
       "mean      2.294882     0.381971    29.881135     0.498854     0.385027    33.295479  160.809917\n",
       "std       0.837836     0.486055    14.413500     1.041658     0.865560    51.758668   97.696922\n",
       "min       1.000000     0.000000     0.166700     0.000000     0.000000     0.000000    1.000000\n",
       "25%       2.000000     0.000000    21.000000     0.000000     0.000000     7.895800   72.000000\n",
       "50%       3.000000     0.000000    28.000000     0.000000     0.000000    14.454200  155.000000\n",
       "75%       3.000000     1.000000    39.000000     1.000000     0.000000    31.275000  256.000000\n",
       "max       3.000000     1.000000    80.000000     8.000000     9.000000   512.329200  328.000000"
      ]
     },
     "execution_count": 4,
     "metadata": {},
     "output_type": "execute_result"
    }
   ],
   "source": [
    "df.describe()"
   ]
  },
  {
   "cell_type": "code",
   "execution_count": 5,
   "id": "0dcc47c7",
   "metadata": {},
   "outputs": [
    {
     "data": {
      "text/plain": [
       "(1310, 14)"
      ]
     },
     "execution_count": 5,
     "metadata": {},
     "output_type": "execute_result"
    }
   ],
   "source": [
    "df.shape"
   ]
  },
  {
   "cell_type": "markdown",
   "id": "5a5f3765",
   "metadata": {},
   "source": [
    "1310 observations, 14 attributes"
   ]
  },
  {
   "cell_type": "markdown",
   "id": "3485b0c8",
   "metadata": {},
   "source": [
    "## data conversion"
   ]
  },
  {
   "cell_type": "code",
   "execution_count": 6,
   "id": "3d1b4cc2",
   "metadata": {},
   "outputs": [
    {
     "data": {
      "text/plain": [
       "pclass       float64\n",
       "survived     float64\n",
       "name          object\n",
       "sex           object\n",
       "age          float64\n",
       "sibsp        float64\n",
       "parch        float64\n",
       "ticket        object\n",
       "fare         float64\n",
       "cabin         object\n",
       "embarked      object\n",
       "boat          object\n",
       "body         float64\n",
       "home.dest     object\n",
       "dtype: object"
      ]
     },
     "execution_count": 6,
     "metadata": {},
     "output_type": "execute_result"
    }
   ],
   "source": [
    "df.dtypes"
   ]
  },
  {
   "cell_type": "code",
   "execution_count": 7,
   "id": "45d2d05b",
   "metadata": {},
   "outputs": [],
   "source": [
    "for i in ['pclass', 'sex', 'embarked', 'boat']:\n",
    "    df[i] = df[i].astype('category')"
   ]
  },
  {
   "cell_type": "markdown",
   "id": "70814566",
   "metadata": {},
   "source": [
    "> droppint the name, cabin and home port since they offer no value to the prediction (and may lead the model to overfit on the person level)\n"
   ]
  },
  {
   "cell_type": "code",
   "execution_count": 8,
   "id": "42a98348",
   "metadata": {},
   "outputs": [
    {
     "data": {
      "text/plain": [
       "(0, 14)"
      ]
     },
     "execution_count": 8,
     "metadata": {},
     "output_type": "execute_result"
    }
   ],
   "source": [
    "df.loc[(~df['body'].isna()) & (df['survived'])].shape"
   ]
  },
  {
   "cell_type": "code",
   "execution_count": 9,
   "id": "d6b295ab",
   "metadata": {},
   "outputs": [
    {
     "data": {
      "text/plain": [
       "(23, 14)"
      ]
     },
     "execution_count": 9,
     "metadata": {},
     "output_type": "execute_result"
    }
   ],
   "source": [
    "df.loc[(df['boat'].isna()) & (df['survived'])].shape"
   ]
  },
  {
   "cell_type": "markdown",
   "id": "b513f78b",
   "metadata": {},
   "source": [
    "\n",
    "> also dropping the boat, because it can only be known if a passenger survived so would be considered 'unfair' (even though apprently 24 passengers survived without one...)\n",
    "\n",
    "> body number is also only given to people who didn't survive"
   ]
  },
  {
   "cell_type": "code",
   "execution_count": 10,
   "id": "53cd4301",
   "metadata": {},
   "outputs": [],
   "source": [
    "df.drop(columns=['cabin', 'home.dest', 'boat', 'body', 'ticket'], inplace=True)"
   ]
  },
  {
   "cell_type": "markdown",
   "id": "a80b2918",
   "metadata": {},
   "source": [
    "show value counts for factor columns"
   ]
  },
  {
   "cell_type": "code",
   "execution_count": 11,
   "id": "4972d8ce",
   "metadata": {},
   "outputs": [],
   "source": [
    "df['survived'] = df['survived'].astype(bool)"
   ]
  },
  {
   "cell_type": "markdown",
   "id": "13b2829c",
   "metadata": {},
   "source": [
    "## title column & derivations (unfinished)"
   ]
  },
  {
   "cell_type": "code",
   "execution_count": 12,
   "id": "de1fb652",
   "metadata": {},
   "outputs": [],
   "source": [
    "df['title'] = df['name'].str.extract('([A-Za-z]+)\\.', expand=True)"
   ]
  },
  {
   "cell_type": "code",
   "execution_count": 13,
   "id": "1f7d1d70",
   "metadata": {},
   "outputs": [
    {
     "data": {
      "text/plain": [
       "Mr          757\n",
       "Miss        260\n",
       "Mrs         197\n",
       "Master       61\n",
       "Dr            8\n",
       "Rev           8\n",
       "Col           4\n",
       "Ms            2\n",
       "Major         2\n",
       "Mlle          2\n",
       "Lady          1\n",
       "Countess      1\n",
       "Dona          1\n",
       "Don           1\n",
       "Capt          1\n",
       "Mme           1\n",
       "Sir           1\n",
       "Jonkheer      1\n",
       "Name: title, dtype: int64"
      ]
     },
     "execution_count": 13,
     "metadata": {},
     "output_type": "execute_result"
    }
   ],
   "source": [
    "df['title'].value_counts()"
   ]
  },
  {
   "cell_type": "markdown",
   "id": "4b4eb34b",
   "metadata": {},
   "source": [
    "> some titles are synonyms, some contain information about **marital status** or **social status**"
   ]
  },
  {
   "cell_type": "markdown",
   "id": "b2156147",
   "metadata": {},
   "source": [
    "### todo - extract military status, nationality, social status from titles"
   ]
  },
  {
   "cell_type": "code",
   "execution_count": 14,
   "id": "3cd162d9",
   "metadata": {},
   "outputs": [
    {
     "ename": "AssertionError",
     "evalue": "",
     "output_type": "error",
     "traceback": [
      "\u001b[0;31m---------------------------------------------------------------------------\u001b[0m",
      "\u001b[0;31mAssertionError\u001b[0m                            Traceback (most recent call last)",
      "\u001b[0;32m<ipython-input-14-d1143e13d0dc>\u001b[0m in \u001b[0;36m<module>\u001b[0;34m\u001b[0m\n\u001b[0;32m----> 1\u001b[0;31m \u001b[0;32mraise\u001b[0m \u001b[0mAssertionError\u001b[0m\u001b[0;34m\u001b[0m\u001b[0;34m\u001b[0m\u001b[0m\n\u001b[0m",
      "\u001b[0;31mAssertionError\u001b[0m: "
     ]
    }
   ],
   "source": [
    "raise AssertionError"
   ]
  },
  {
   "cell_type": "code",
   "execution_count": null,
   "id": "0ae66082",
   "metadata": {},
   "outputs": [],
   "source": [
    "title_synonyms = {\n",
    "    'Mlle': 'Miss', \n",
    "    'Major': 'Mr', \n",
    "    'Col': 'Mr', \n",
    "    'Sir': 'Mr',\n",
    "    'Don': 'Mr', \n",
    "    'Mme': 'Mrs', \n",
    "    'Jonkheer': 'Mr', \n",
    "    'Lady': 'Mrs',\n",
    "    'Capt': 'Mr', \n",
    "    'Countess': 'Mrs', \n",
    "    'Ms': 'Miss', \n",
    "    'Dona': 'Mrs'}\n",
    "df.replace({'title': title_synonyms}, inplace=True)"
   ]
  },
  {
   "cell_type": "code",
   "execution_count": null,
   "id": "e01746e5",
   "metadata": {},
   "outputs": [],
   "source": [
    "df.head()"
   ]
  },
  {
   "cell_type": "code",
   "execution_count": null,
   "id": "54842c92",
   "metadata": {},
   "outputs": [],
   "source": [
    "raise AssertionError"
   ]
  },
  {
   "cell_type": "code",
   "execution_count": null,
   "id": "53e8c341",
   "metadata": {},
   "outputs": [],
   "source": [
    "for i in filter(lambda x: df[x].dtype.name == 'category', df.columns):\n",
    "    print(i)\n",
    "    print(df[i].value_counts())"
   ]
  },
  {
   "cell_type": "code",
   "execution_count": null,
   "id": "243e76be",
   "metadata": {},
   "outputs": [],
   "source": [
    "df.head()"
   ]
  },
  {
   "cell_type": "code",
   "execution_count": null,
   "id": "bf431677",
   "metadata": {},
   "outputs": [],
   "source": [
    "df.isna().mean().sort_values(ascending=False)"
   ]
  },
  {
   "cell_type": "code",
   "execution_count": null,
   "id": "16ff0fcd",
   "metadata": {},
   "outputs": [],
   "source": [
    "df.loc[df['sex'].isna()]"
   ]
  },
  {
   "cell_type": "markdown",
   "id": "aad57e46",
   "metadata": {},
   "source": [
    "> note - one passenger (number 1309) has no data available at all. --> drop"
   ]
  },
  {
   "cell_type": "code",
   "execution_count": null,
   "id": "a92ae4b0",
   "metadata": {},
   "outputs": [],
   "source": [
    "df.drop(labels=1309, inplace=True)"
   ]
  },
  {
   "cell_type": "markdown",
   "id": "b37921ee",
   "metadata": {},
   "source": [
    "## dealing with missing values\n",
    "\n",
    "- are values missing at random - check by pairplot\n",
    "- values that are missing at random, impute with median\n",
    "- values not missing at random, impute using [MICE](https://www.researchgate.net/publication/44203418_MICE_Multivariate_Imputation_by_Chained_Equations_in_R#:~:text=Multivariate%20Imputation%20by%20Chained%20Equations%20(MICE)%20is%20the%20name%20of,Conditional%20Speci%20cation%20(FCS).&text=0%2C%20the%20analysis%20of%20imputed,pooling%20works%20is%20substantially%20extended.)"
   ]
  },
  {
   "cell_type": "markdown",
   "id": "a9712fac",
   "metadata": {},
   "source": [
    "### age"
   ]
  },
  {
   "cell_type": "code",
   "execution_count": null,
   "id": "3743e878",
   "metadata": {},
   "outputs": [],
   "source": [
    "df['age_missing'] = np.where(df['age'].isna(), True, False)\n",
    "sns.pairplot(df, hue='age_missing', kind='kde')"
   ]
  },
  {
   "cell_type": "markdown",
   "id": "111e982d",
   "metadata": {},
   "source": [
    "> missing age does not seem to be correlated with anything **except** sbsp (number of siblings and spouses) and parch (number of parents and children) - those may have been young children"
   ]
  },
  {
   "cell_type": "code",
   "execution_count": null,
   "id": "1ee58e7a",
   "metadata": {},
   "outputs": [],
   "source": [
    "df.loc[df['age'].isna(), 'sibsp'].value_counts()"
   ]
  },
  {
   "cell_type": "code",
   "execution_count": null,
   "id": "e586a57e",
   "metadata": {},
   "outputs": [],
   "source": [
    "df.drop(columns=['age_missing'], inplace=True)"
   ]
  },
  {
   "cell_type": "markdown",
   "id": "33af3a81",
   "metadata": {},
   "source": [
    "> correction - age is mostly missing with people who had no parents/siblings (and mostly did not survive - **not random -> use MICE imputation**"
   ]
  },
  {
   "cell_type": "code",
   "execution_count": null,
   "id": "11dafb31",
   "metadata": {},
   "outputs": [],
   "source": [
    "df.head()"
   ]
  },
  {
   "cell_type": "code",
   "execution_count": null,
   "id": "4d534ba9",
   "metadata": {},
   "outputs": [],
   "source": [
    "df['sex'] = np.where(df['sex'] == 'female', 1, 0)"
   ]
  },
  {
   "cell_type": "markdown",
   "id": "5c16ef89",
   "metadata": {},
   "source": [
    "> one-hot encoding the embarkation columns (drop 1?)"
   ]
  },
  {
   "cell_type": "code",
   "execution_count": null,
   "id": "a9a920f0",
   "metadata": {},
   "outputs": [],
   "source": [
    "df = pd.concat([df, pd.get_dummies(df['embarked'], prefix='embarked')], axis=1)\n",
    "df.drop(columns=['embarked', 'embarked_S'], inplace=True)"
   ]
  },
  {
   "cell_type": "code",
   "execution_count": null,
   "id": "0549a16e",
   "metadata": {},
   "outputs": [],
   "source": [
    "df.drop(columns=['survived']).head()"
   ]
  },
  {
   "cell_type": "code",
   "execution_count": null,
   "id": "40b2102d",
   "metadata": {},
   "outputs": [],
   "source": [
    "df.head()"
   ]
  },
  {
   "cell_type": "code",
   "execution_count": null,
   "id": "3437a78e",
   "metadata": {},
   "outputs": [],
   "source": [
    "df['survived'] = df['survived'].astype(int)"
   ]
  },
  {
   "cell_type": "code",
   "execution_count": null,
   "id": "b2c238a5",
   "metadata": {},
   "outputs": [],
   "source": [
    "imputed_df = pd.DataFrame(data=mice(df.values), columns=df.columns)"
   ]
  },
  {
   "cell_type": "code",
   "execution_count": null,
   "id": "eb7b67ff",
   "metadata": {},
   "outputs": [],
   "source": [
    "imputed_df"
   ]
  },
  {
   "cell_type": "code",
   "execution_count": null,
   "id": "01090492",
   "metadata": {},
   "outputs": [],
   "source": [
    "#imputer = IterativeImputer(random_state=42)\n",
    "#imputer.fit_transform(df)"
   ]
  },
  {
   "cell_type": "code",
   "execution_count": null,
   "id": "f3c4f32f",
   "metadata": {},
   "outputs": [],
   "source": [
    "plt.figure(figsize=(20, 20))\n",
    "sns.heatmap(df.corr(), cmap='Spectral')"
   ]
  },
  {
   "cell_type": "code",
   "execution_count": null,
   "id": "c9cf92dd",
   "metadata": {},
   "outputs": [],
   "source": [
    "sns.pairplot(df, hue='survived')"
   ]
  },
  {
   "cell_type": "markdown",
   "id": "a589e9bb",
   "metadata": {},
   "source": [
    "## basic classifiers using sklearn"
   ]
  },
  {
   "cell_type": "code",
   "execution_count": null,
   "id": "2217992f",
   "metadata": {},
   "outputs": [],
   "source": []
  }
 ],
 "metadata": {
  "kernelspec": {
   "display_name": "Python 3",
   "language": "python",
   "name": "python3"
  },
  "language_info": {
   "codemirror_mode": {
    "name": "ipython",
    "version": 3
   },
   "file_extension": ".py",
   "mimetype": "text/x-python",
   "name": "python",
   "nbconvert_exporter": "python",
   "pygments_lexer": "ipython3",
   "version": "3.9.7"
  }
 },
 "nbformat": 4,
 "nbformat_minor": 5
}
