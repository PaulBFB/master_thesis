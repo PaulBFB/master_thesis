{
 "cells": [
  {
   "cell_type": "code",
   "execution_count": 1,
   "id": "ce45bf88",
   "metadata": {
    "papermill": {
     "duration": 1.095886,
     "end_time": "2021-10-11T06:49:31.151127",
     "exception": false,
     "start_time": "2021-10-11T06:49:30.055241",
     "status": "completed"
    },
    "tags": []
   },
   "outputs": [],
   "source": [
    "import numpy as np\n",
    "import pandas as pd\n",
    "import seaborn as sns\n",
    "from matplotlib import pyplot as plt\n",
    "from sklearn.metrics import accuracy_score\n",
    "from sklearn.preprocessing import MinMaxScaler, LabelEncoder, StandardScaler, RobustScaler\n",
    "\n",
    "from sklearn.linear_model import LogisticRegression\n",
    "from sklearn.metrics import accuracy_score\n",
    "from sklearn.model_selection import train_test_split, cross_validate\n",
    "\n",
    "pd.set_option('display.max_columns', None)\n",
    "pd.set_option('display.float_format', lambda x: '%.3f' % x)\n",
    "pd.set_option('display.width', 500)"
   ]
  },
  {
   "cell_type": "code",
   "execution_count": 2,
   "id": "18725b47",
   "metadata": {
    "papermill": {
     "duration": 0.072786,
     "end_time": "2021-10-11T06:49:31.418062",
     "exception": false,
     "start_time": "2021-10-11T06:49:31.345276",
     "status": "completed"
    },
    "tags": []
   },
   "outputs": [],
   "source": [
    "data = pd.read_csv(\"./data/diabetes.csv\")\n",
    "df = data.copy()"
   ]
  },
  {
   "cell_type": "code",
   "execution_count": 4,
   "id": "967f7a81",
   "metadata": {
    "papermill": {
     "duration": 0.074372,
     "end_time": "2021-10-11T06:49:32.066319",
     "exception": false,
     "start_time": "2021-10-11T06:49:31.991947",
     "status": "completed"
    },
    "tags": []
   },
   "outputs": [
    {
     "name": "stdout",
     "output_type": "stream",
     "text": [
      "Observations: 768\n",
      "Variables: 9\n",
      "cat_cols: 1\n",
      "num_cols: 8\n",
      "cat_but_car: 0\n",
      "num_but_cat: 1\n"
     ]
    }
   ],
   "source": [
    "def grab_col_names(dataframe, cat_th=10, car_th=20):\n",
    "    # cat_cols, cat_but_car\n",
    "    cat_cols = [col for col in dataframe.columns if dataframe[col].dtypes == \"O\"]\n",
    "    num_but_cat = [col for col in dataframe.columns if dataframe[col].nunique() < cat_th and\n",
    "                   dataframe[col].dtypes != \"O\"]\n",
    "    cat_but_car = [col for col in dataframe.columns if dataframe[col].nunique() > car_th and\n",
    "                   dataframe[col].dtypes == \"O\"]\n",
    "    cat_cols = cat_cols + num_but_cat\n",
    "    cat_cols = [col for col in cat_cols if col not in cat_but_car]\n",
    "\n",
    "    # num_cols\n",
    "    num_cols = [col for col in dataframe.columns if dataframe[col].dtypes != \"O\"]\n",
    "    num_cols = [col for col in num_cols if col not in num_but_cat]\n",
    "\n",
    "    print(f\"Observations: {dataframe.shape[0]}\")\n",
    "    print(f\"Variables: {dataframe.shape[1]}\")\n",
    "    print(f'cat_cols: {len(cat_cols)}')\n",
    "    print(f'num_cols: {len(num_cols)}')\n",
    "    print(f'cat_but_car: {len(cat_but_car)}')\n",
    "    print(f'num_but_cat: {len(num_but_cat)}')\n",
    "\n",
    "    return cat_cols, num_cols, cat_but_car\n",
    "cat_cols, num_cols, cat_but_car = grab_col_names(df)"
   ]
  },
  {
   "cell_type": "markdown",
   "id": "a802815d",
   "metadata": {
    "papermill": {
     "duration": 0.067341,
     "end_time": "2021-10-11T06:49:37.052364",
     "exception": false,
     "start_time": "2021-10-11T06:49:36.985023",
     "status": "completed"
    },
    "tags": []
   },
   "source": [
    "<a id = \"6\"></a><h1 id=\"Data Preprocessing\"><span class=\"label label-default\" style=\"background-color:#f5c0c0; font-size:30px; color: Black; \">Data Preprocessing</span></h1>"
   ]
  },
  {
   "cell_type": "markdown",
   "id": "ecc08e25",
   "metadata": {
    "papermill": {
     "duration": 0.067299,
     "end_time": "2021-10-11T06:49:37.481863",
     "exception": false,
     "start_time": "2021-10-11T06:49:37.414564",
     "status": "completed"
    },
    "tags": []
   },
   "source": [
    "## Outliers"
   ]
  },
  {
   "cell_type": "code",
   "execution_count": 8,
   "id": "72b86524",
   "metadata": {
    "papermill": {
     "duration": 0.091785,
     "end_time": "2021-10-11T06:49:37.641222",
     "exception": false,
     "start_time": "2021-10-11T06:49:37.549437",
     "status": "completed"
    },
    "tags": []
   },
   "outputs": [],
   "source": [
    "def outlier_thresholds(dataframe, col_name, q1=0.05, q3=0.95):\n",
    "    quartile1 = dataframe[col_name].quantile(q1)\n",
    "    quartile3 = dataframe[col_name].quantile(q3)\n",
    "    interquantile_range = quartile3 - quartile1\n",
    "    up_limit = quartile3 + 1.5 * interquantile_range\n",
    "    low_limit = quartile1 - 1.5 * interquantile_range\n",
    "    return low_limit, up_limit\n",
    "#\n",
    "#for col in num_cols:\n",
    "#    print(outlier_thresholds(df, col))"
   ]
  },
  {
   "cell_type": "code",
   "execution_count": 9,
   "id": "c2faf00e",
   "metadata": {
    "papermill": {
     "duration": 0.10201,
     "end_time": "2021-10-11T06:49:37.811413",
     "exception": false,
     "start_time": "2021-10-11T06:49:37.709403",
     "status": "completed"
    },
    "tags": []
   },
   "outputs": [],
   "source": [
    "def replace_with_thresholds(dataframe, variable):\n",
    "    low_limit, up_limit = outlier_thresholds(dataframe, variable)\n",
    "    dataframe.loc[(dataframe[variable] < low_limit), variable] = low_limit\n",
    "    dataframe.loc[(dataframe[variable] > up_limit), variable] = up_limit\n",
    "\n",
    "for col in num_cols:\n",
    "    replace_with_thresholds(df,col)"
   ]
  },
  {
   "cell_type": "markdown",
   "id": "28536e2d",
   "metadata": {
    "papermill": {
     "duration": 0.073341,
     "end_time": "2021-10-11T06:49:42.691323",
     "exception": false,
     "start_time": "2021-10-11T06:49:42.617982",
     "status": "completed"
    },
    "tags": []
   },
   "source": [
    "## Label Encoding"
   ]
  },
  {
   "cell_type": "code",
   "execution_count": 10,
   "id": "649b5297",
   "metadata": {
    "papermill": {
     "duration": 0.091222,
     "end_time": "2021-10-11T06:49:42.855956",
     "exception": false,
     "start_time": "2021-10-11T06:49:42.764734",
     "status": "completed"
    },
    "tags": []
   },
   "outputs": [
    {
     "data": {
      "text/plain": [
       "0"
      ]
     },
     "execution_count": 10,
     "metadata": {},
     "output_type": "execute_result"
    }
   ],
   "source": [
    "def label_encoder(dataframe, binary_col):\n",
    "    labelencoder = LabelEncoder()\n",
    "    dataframe[binary_col] = labelencoder.fit_transform(dataframe[binary_col])\n",
    "    return dataframe\n",
    "\n",
    "binary_cols = [col for col in df.columns if df[col].dtype not in [int, float] and df[col].nunique() == 2]\n",
    "len(binary_cols)"
   ]
  },
  {
   "cell_type": "code",
   "execution_count": 11,
   "id": "3bc9e411",
   "metadata": {
    "papermill": {
     "duration": 0.096041,
     "end_time": "2021-10-11T06:49:43.027287",
     "exception": false,
     "start_time": "2021-10-11T06:49:42.931246",
     "status": "completed"
    },
    "tags": []
   },
   "outputs": [
    {
     "data": {
      "text/html": [
       "<div>\n",
       "<style scoped>\n",
       "    .dataframe tbody tr th:only-of-type {\n",
       "        vertical-align: middle;\n",
       "    }\n",
       "\n",
       "    .dataframe tbody tr th {\n",
       "        vertical-align: top;\n",
       "    }\n",
       "\n",
       "    .dataframe thead th {\n",
       "        text-align: right;\n",
       "    }\n",
       "</style>\n",
       "<table border=\"1\" class=\"dataframe\">\n",
       "  <thead>\n",
       "    <tr style=\"text-align: right;\">\n",
       "      <th></th>\n",
       "      <th>Pregnancies</th>\n",
       "      <th>Glucose</th>\n",
       "      <th>BloodPressure</th>\n",
       "      <th>SkinThickness</th>\n",
       "      <th>Insulin</th>\n",
       "      <th>BMI</th>\n",
       "      <th>DiabetesPedigreeFunction</th>\n",
       "      <th>Age</th>\n",
       "      <th>Outcome</th>\n",
       "    </tr>\n",
       "  </thead>\n",
       "  <tbody>\n",
       "    <tr>\n",
       "      <th>0</th>\n",
       "      <td>6.000</td>\n",
       "      <td>148.000</td>\n",
       "      <td>72.000</td>\n",
       "      <td>35.000</td>\n",
       "      <td>0.000</td>\n",
       "      <td>33.600</td>\n",
       "      <td>0.627</td>\n",
       "      <td>50.000</td>\n",
       "      <td>1</td>\n",
       "    </tr>\n",
       "    <tr>\n",
       "      <th>1</th>\n",
       "      <td>1.000</td>\n",
       "      <td>85.000</td>\n",
       "      <td>66.000</td>\n",
       "      <td>29.000</td>\n",
       "      <td>0.000</td>\n",
       "      <td>26.600</td>\n",
       "      <td>0.351</td>\n",
       "      <td>31.000</td>\n",
       "      <td>0</td>\n",
       "    </tr>\n",
       "    <tr>\n",
       "      <th>2</th>\n",
       "      <td>8.000</td>\n",
       "      <td>183.000</td>\n",
       "      <td>64.000</td>\n",
       "      <td>0.000</td>\n",
       "      <td>0.000</td>\n",
       "      <td>23.300</td>\n",
       "      <td>0.672</td>\n",
       "      <td>32.000</td>\n",
       "      <td>1</td>\n",
       "    </tr>\n",
       "    <tr>\n",
       "      <th>3</th>\n",
       "      <td>1.000</td>\n",
       "      <td>89.000</td>\n",
       "      <td>66.000</td>\n",
       "      <td>23.000</td>\n",
       "      <td>94.000</td>\n",
       "      <td>28.100</td>\n",
       "      <td>0.167</td>\n",
       "      <td>21.000</td>\n",
       "      <td>0</td>\n",
       "    </tr>\n",
       "    <tr>\n",
       "      <th>4</th>\n",
       "      <td>0.000</td>\n",
       "      <td>137.000</td>\n",
       "      <td>40.000</td>\n",
       "      <td>35.000</td>\n",
       "      <td>168.000</td>\n",
       "      <td>43.100</td>\n",
       "      <td>2.288</td>\n",
       "      <td>33.000</td>\n",
       "      <td>1</td>\n",
       "    </tr>\n",
       "  </tbody>\n",
       "</table>\n",
       "</div>"
      ],
      "text/plain": [
       "   Pregnancies  Glucose  BloodPressure  SkinThickness  Insulin    BMI  DiabetesPedigreeFunction    Age  Outcome\n",
       "0        6.000  148.000         72.000         35.000    0.000 33.600                     0.627 50.000        1\n",
       "1        1.000   85.000         66.000         29.000    0.000 26.600                     0.351 31.000        0\n",
       "2        8.000  183.000         64.000          0.000    0.000 23.300                     0.672 32.000        1\n",
       "3        1.000   89.000         66.000         23.000   94.000 28.100                     0.167 21.000        0\n",
       "4        0.000  137.000         40.000         35.000  168.000 43.100                     2.288 33.000        1"
      ]
     },
     "execution_count": 11,
     "metadata": {},
     "output_type": "execute_result"
    }
   ],
   "source": [
    "for col in binary_cols:\n",
    "    label_encoder(df, col)\n",
    "\n",
    "df.head()"
   ]
  },
  {
   "cell_type": "markdown",
   "id": "c3f736bf",
   "metadata": {
    "papermill": {
     "duration": 0.075314,
     "end_time": "2021-10-11T06:49:43.177643",
     "exception": false,
     "start_time": "2021-10-11T06:49:43.102329",
     "status": "completed"
    },
    "tags": []
   },
   "source": [
    "## One-Hot Encoding"
   ]
  },
  {
   "cell_type": "code",
   "execution_count": 12,
   "id": "ff650610",
   "metadata": {
    "papermill": {
     "duration": 0.10793,
     "end_time": "2021-10-11T06:49:43.360577",
     "exception": false,
     "start_time": "2021-10-11T06:49:43.252647",
     "status": "completed"
    },
    "tags": []
   },
   "outputs": [
    {
     "data": {
      "text/html": [
       "<div>\n",
       "<style scoped>\n",
       "    .dataframe tbody tr th:only-of-type {\n",
       "        vertical-align: middle;\n",
       "    }\n",
       "\n",
       "    .dataframe tbody tr th {\n",
       "        vertical-align: top;\n",
       "    }\n",
       "\n",
       "    .dataframe thead th {\n",
       "        text-align: right;\n",
       "    }\n",
       "</style>\n",
       "<table border=\"1\" class=\"dataframe\">\n",
       "  <thead>\n",
       "    <tr style=\"text-align: right;\">\n",
       "      <th></th>\n",
       "      <th>Pregnancies</th>\n",
       "      <th>Glucose</th>\n",
       "      <th>BloodPressure</th>\n",
       "      <th>SkinThickness</th>\n",
       "      <th>Insulin</th>\n",
       "      <th>BMI</th>\n",
       "      <th>DiabetesPedigreeFunction</th>\n",
       "      <th>Age</th>\n",
       "      <th>Outcome</th>\n",
       "    </tr>\n",
       "  </thead>\n",
       "  <tbody>\n",
       "    <tr>\n",
       "      <th>0</th>\n",
       "      <td>6.000</td>\n",
       "      <td>148.000</td>\n",
       "      <td>72.000</td>\n",
       "      <td>35.000</td>\n",
       "      <td>0.000</td>\n",
       "      <td>33.600</td>\n",
       "      <td>0.627</td>\n",
       "      <td>50.000</td>\n",
       "      <td>1</td>\n",
       "    </tr>\n",
       "    <tr>\n",
       "      <th>1</th>\n",
       "      <td>1.000</td>\n",
       "      <td>85.000</td>\n",
       "      <td>66.000</td>\n",
       "      <td>29.000</td>\n",
       "      <td>0.000</td>\n",
       "      <td>26.600</td>\n",
       "      <td>0.351</td>\n",
       "      <td>31.000</td>\n",
       "      <td>0</td>\n",
       "    </tr>\n",
       "    <tr>\n",
       "      <th>2</th>\n",
       "      <td>8.000</td>\n",
       "      <td>183.000</td>\n",
       "      <td>64.000</td>\n",
       "      <td>0.000</td>\n",
       "      <td>0.000</td>\n",
       "      <td>23.300</td>\n",
       "      <td>0.672</td>\n",
       "      <td>32.000</td>\n",
       "      <td>1</td>\n",
       "    </tr>\n",
       "    <tr>\n",
       "      <th>3</th>\n",
       "      <td>1.000</td>\n",
       "      <td>89.000</td>\n",
       "      <td>66.000</td>\n",
       "      <td>23.000</td>\n",
       "      <td>94.000</td>\n",
       "      <td>28.100</td>\n",
       "      <td>0.167</td>\n",
       "      <td>21.000</td>\n",
       "      <td>0</td>\n",
       "    </tr>\n",
       "    <tr>\n",
       "      <th>4</th>\n",
       "      <td>0.000</td>\n",
       "      <td>137.000</td>\n",
       "      <td>40.000</td>\n",
       "      <td>35.000</td>\n",
       "      <td>168.000</td>\n",
       "      <td>43.100</td>\n",
       "      <td>2.288</td>\n",
       "      <td>33.000</td>\n",
       "      <td>1</td>\n",
       "    </tr>\n",
       "  </tbody>\n",
       "</table>\n",
       "</div>"
      ],
      "text/plain": [
       "   Pregnancies  Glucose  BloodPressure  SkinThickness  Insulin    BMI  DiabetesPedigreeFunction    Age  Outcome\n",
       "0        6.000  148.000         72.000         35.000    0.000 33.600                     0.627 50.000        1\n",
       "1        1.000   85.000         66.000         29.000    0.000 26.600                     0.351 31.000        0\n",
       "2        8.000  183.000         64.000          0.000    0.000 23.300                     0.672 32.000        1\n",
       "3        1.000   89.000         66.000         23.000   94.000 28.100                     0.167 21.000        0\n",
       "4        0.000  137.000         40.000         35.000  168.000 43.100                     2.288 33.000        1"
      ]
     },
     "execution_count": 12,
     "metadata": {},
     "output_type": "execute_result"
    }
   ],
   "source": [
    "def one_hot_encoder(dataframe, categorical_cols, drop_first=False):\n",
    "    dataframe = pd.get_dummies(dataframe, columns=categorical_cols, drop_first=drop_first)\n",
    "    return dataframe\n",
    "\n",
    "ohe_cols = [col for col in df.columns if 10 >= df[col].nunique() > 2]\n",
    "df = one_hot_encoder(df, ohe_cols, drop_first=True)\n",
    "df.head()"
   ]
  },
  {
   "cell_type": "code",
   "execution_count": 13,
   "id": "9360415b",
   "metadata": {
    "papermill": {
     "duration": 0.097181,
     "end_time": "2021-10-11T06:49:43.534296",
     "exception": false,
     "start_time": "2021-10-11T06:49:43.437115",
     "status": "completed"
    },
    "tags": []
   },
   "outputs": [
    {
     "name": "stdout",
     "output_type": "stream",
     "text": [
      "Observations: 768\n",
      "Variables: 9\n",
      "cat_cols: 1\n",
      "num_cols: 8\n",
      "cat_but_car: 0\n",
      "num_but_cat: 1\n"
     ]
    }
   ],
   "source": [
    "cat_cols, num_cols, cat_but_car = grab_col_names(df)"
   ]
  },
  {
   "cell_type": "markdown",
   "id": "a1417255",
   "metadata": {
    "papermill": {
     "duration": 0.075077,
     "end_time": "2021-10-11T06:49:43.685202",
     "exception": false,
     "start_time": "2021-10-11T06:49:43.610125",
     "status": "completed"
    },
    "tags": []
   },
   "source": [
    "## Standart Scaler"
   ]
  },
  {
   "cell_type": "code",
   "execution_count": 14,
   "id": "a5e86f1d",
   "metadata": {
    "papermill": {
     "duration": 0.17733,
     "end_time": "2021-10-11T06:49:43.937734",
     "exception": false,
     "start_time": "2021-10-11T06:49:43.760404",
     "status": "completed"
    },
    "tags": []
   },
   "outputs": [],
   "source": [
    "scaler = StandardScaler()\n",
    "df[num_cols] = scaler.fit_transform(df[num_cols])\n",
    "\n",
    "#check_df(df)"
   ]
  },
  {
   "cell_type": "code",
   "execution_count": 1,
   "id": "03d14888",
   "metadata": {},
   "outputs": [
    {
     "ename": "ModuleNotFoundError",
     "evalue": "No module named 'enhance_data'",
     "output_type": "error",
     "traceback": [
      "\u001b[0;31m---------------------------------------------------------------------------\u001b[0m",
      "\u001b[0;31mModuleNotFoundError\u001b[0m                       Traceback (most recent call last)",
      "\u001b[0;32m<ipython-input-1-2b2715289d36>\u001b[0m in \u001b[0;36m<module>\u001b[0;34m\u001b[0m\n\u001b[0;32m----> 1\u001b[0;31m \u001b[0;32mfrom\u001b[0m \u001b[0menhance_data\u001b[0m \u001b[0;32mimport\u001b[0m \u001b[0menhance_data\u001b[0m\u001b[0;34m\u001b[0m\u001b[0;34m\u001b[0m\u001b[0m\n\u001b[0m",
      "\u001b[0;31mModuleNotFoundError\u001b[0m: No module named 'enhance_data'"
     ]
    }
   ],
   "source": [
    "from enhance_data import enhance_data"
   ]
  },
  {
   "cell_type": "code",
   "execution_count": 16,
   "id": "d47472ff",
   "metadata": {
    "papermill": {
     "duration": 0.135481,
     "end_time": "2021-10-11T06:49:44.488385",
     "exception": false,
     "start_time": "2021-10-11T06:49:44.352904",
     "status": "completed"
    },
    "tags": []
   },
   "outputs": [],
   "source": [
    "y = df[\"Outcome\"]\n",
    "X = df.drop([\"Outcome\"], axis=1)"
   ]
  },
  {
   "cell_type": "code",
   "execution_count": 17,
   "id": "9b70d71b",
   "metadata": {},
   "outputs": [],
   "source": [
    "X_train, X_test, y_train, y_test = train_test_split(X, y, test_size = 0.2, random_state = 42)"
   ]
  },
  {
   "cell_type": "code",
   "execution_count": 18,
   "id": "136ff316",
   "metadata": {},
   "outputs": [],
   "source": [
    "log_model = LogisticRegression().fit(X_train, y_train)"
   ]
  },
  {
   "cell_type": "code",
   "execution_count": 19,
   "id": "847f58be",
   "metadata": {},
   "outputs": [
    {
     "name": "stdout",
     "output_type": "stream",
     "text": [
      "\n",
      "fitting new wasserstein generator on smaller data\n",
      "Epoch   1 | ET 0.02 min | Avg Losses >> G/D   0.07/355.81 [D-Real:   0.04 D-Fake:  -0.07]\n",
      "Epoch   2 | ET 0.03 min | Avg Losses >> G/D   0.10/206.79 [D-Real:   0.02 D-Fake:  -0.10]\n",
      "Epoch   3 | ET 0.04 min | Avg Losses >> G/D   0.06/117.31 [D-Real:   0.10 D-Fake:  -0.06]\n",
      "Epoch   4 | ET 0.05 min | Avg Losses >> G/D   0.09/ 67.88 [D-Real:   0.12 D-Fake:  -0.09]\n",
      "Epoch   5 | ET 0.06 min | Avg Losses >> G/D   0.10/ 39.19 [D-Real:   0.08 D-Fake:  -0.10]\n",
      "Epoch   6 | ET 0.08 min | Avg Losses >> G/D   0.07/ 25.05 [D-Real:   0.06 D-Fake:  -0.07]\n",
      "Epoch   7 | ET 0.08 min | Avg Losses >> G/D   0.09/ 16.39 [D-Real:   0.07 D-Fake:  -0.09]\n",
      "Epoch   8 | ET 0.09 min | Avg Losses >> G/D   0.09/ 12.49 [D-Real:   0.14 D-Fake:  -0.09]\n",
      "Epoch   9 | ET 0.11 min | Avg Losses >> G/D   0.10/ 10.72 [D-Real:   0.10 D-Fake:  -0.10]\n",
      "Epoch  10 | ET 0.12 min | Avg Losses >> G/D   0.05/  9.52 [D-Real:   0.05 D-Fake:  -0.05]\n",
      "Epoch  11 | ET 0.13 min | Avg Losses >> G/D   0.10/  8.98 [D-Real:   0.13 D-Fake:  -0.10]\n",
      "Epoch  12 | ET 0.14 min | Avg Losses >> G/D   0.07/  8.48 [D-Real:   0.18 D-Fake:  -0.07]\n",
      "Epoch  13 | ET 0.16 min | Avg Losses >> G/D   0.09/  7.95 [D-Real:   0.10 D-Fake:  -0.09]\n",
      "Epoch  14 | ET 0.18 min | Avg Losses >> G/D   0.07/  8.04 [D-Real:   0.08 D-Fake:  -0.07]\n",
      "Epoch  15 | ET 0.19 min | Avg Losses >> G/D   0.07/  8.17 [D-Real:   0.12 D-Fake:  -0.07]\n",
      "Epoch  16 | ET 0.20 min | Avg Losses >> G/D   0.02/  7.64 [D-Real:   0.14 D-Fake:  -0.02]\n",
      "Epoch  17 | ET 0.21 min | Avg Losses >> G/D   0.03/  7.39 [D-Real:   0.15 D-Fake:  -0.03]\n",
      "Epoch  18 | ET 0.22 min | Avg Losses >> G/D   0.06/  7.55 [D-Real:   0.18 D-Fake:  -0.06]\n",
      "Epoch  19 | ET 0.23 min | Avg Losses >> G/D   0.08/  6.70 [D-Real:   0.09 D-Fake:  -0.08]\n",
      "Epoch  20 | ET 0.24 min | Avg Losses >> G/D   0.06/  6.82 [D-Real:   0.10 D-Fake:  -0.06]\n",
      "Epoch  21 | ET 0.25 min | Avg Losses >> G/D   0.05/  6.83 [D-Real:   0.17 D-Fake:  -0.05]\n",
      "Epoch  22 | ET 0.26 min | Avg Losses >> G/D   0.02/  6.76 [D-Real:   0.15 D-Fake:  -0.02]\n",
      "Epoch  23 | ET 0.27 min | Avg Losses >> G/D   0.07/  6.34 [D-Real:   0.07 D-Fake:  -0.07]\n",
      "Epoch  24 | ET 0.28 min | Avg Losses >> G/D   0.01/  6.50 [D-Real:   0.12 D-Fake:  -0.01]\n",
      "Epoch  25 | ET 0.29 min | Avg Losses >> G/D   0.01/  6.26 [D-Real:   0.11 D-Fake:  -0.01]\n",
      "Epoch  26 | ET 0.30 min | Avg Losses >> G/D   0.03/  6.10 [D-Real:   0.15 D-Fake:  -0.03]\n",
      "Epoch  27 | ET 0.32 min | Avg Losses >> G/D   0.02/  5.94 [D-Real:   0.12 D-Fake:  -0.02]\n",
      "Epoch  28 | ET 0.33 min | Avg Losses >> G/D   0.05/  5.77 [D-Real:   0.08 D-Fake:  -0.05]\n",
      "Epoch  29 | ET 0.35 min | Avg Losses >> G/D   0.06/  5.61 [D-Real:   0.12 D-Fake:  -0.06]\n",
      "Epoch  30 | ET 0.35 min | Avg Losses >> G/D  -0.01/  5.47 [D-Real:   0.10 D-Fake:   0.01]\n",
      "Epoch  31 | ET 0.38 min | Avg Losses >> G/D   0.04/  4.91 [D-Real:   0.17 D-Fake:  -0.04]\n",
      "Epoch  32 | ET 0.41 min | Avg Losses >> G/D   0.08/  5.06 [D-Real:   0.10 D-Fake:  -0.08]\n",
      "Epoch  33 | ET 0.42 min | Avg Losses >> G/D   0.08/  4.96 [D-Real:   0.14 D-Fake:  -0.08]\n",
      "Epoch  34 | ET 0.42 min | Avg Losses >> G/D   0.09/  4.81 [D-Real:   0.12 D-Fake:  -0.09]\n",
      "Epoch  35 | ET 0.45 min | Avg Losses >> G/D   0.02/  4.66 [D-Real:   0.14 D-Fake:  -0.02]\n",
      "Epoch  36 | ET 0.45 min | Avg Losses >> G/D   0.04/  4.76 [D-Real:   0.13 D-Fake:  -0.04]\n",
      "Epoch  37 | ET 0.47 min | Avg Losses >> G/D   0.02/  4.39 [D-Real:   0.02 D-Fake:  -0.02]\n",
      "Epoch  38 | ET 0.49 min | Avg Losses >> G/D   0.05/  4.31 [D-Real:   0.15 D-Fake:  -0.05]\n",
      "Epoch  39 | ET 0.51 min | Avg Losses >> G/D  -0.01/  4.15 [D-Real:   0.13 D-Fake:   0.01]\n",
      "Epoch  40 | ET 0.52 min | Avg Losses >> G/D   0.04/  4.10 [D-Real:   0.13 D-Fake:  -0.04]\n",
      "\n",
      "generating training log image\n",
      "image saved to: ./img/e_40_layers_2_units_5.png\n"
     ]
    },
    {
     "data": {
      "image/png": "[encoded data removed]",
      "text/plain": [
       "<Figure size 1440x720 with 4 Axes>"
      ]
     },
     "metadata": {
      "needs_background": "light"
     },
     "output_type": "display_data"
    }
   ],
   "source": [
    "enh = enhance_data(x_train=X_train, y_train=y_train, force_generator=True, synthetic_share=.2, wasserstein=True)"
   ]
  },
  {
   "cell_type": "code",
   "execution_count": 20,
   "id": "2071613b",
   "metadata": {},
   "outputs": [],
   "source": [
    "from sklearn.metrics import accuracy_score, confusion_matrix"
   ]
  },
  {
   "cell_type": "code",
   "execution_count": 21,
   "id": "f58e910b",
   "metadata": {},
   "outputs": [],
   "source": [
    "log = pd.DataFrame(columns=[\"model\", \"accuracy\", \"enhanced_data\"])\n",
    "log['enhanced_data'] = log['enhanced_data'].astype(bool)"
   ]
  },
  {
   "cell_type": "markdown",
   "id": "5ed981e4",
   "metadata": {},
   "source": [
    "## logreg"
   ]
  },
  {
   "cell_type": "code",
   "execution_count": 22,
   "id": "5a6e7a3d",
   "metadata": {},
   "outputs": [
    {
     "data": {
      "text/plain": [
       "array([[79, 20],\n",
       "       [18, 37]])"
      ]
     },
     "execution_count": 22,
     "metadata": {},
     "output_type": "execute_result"
    }
   ],
   "source": [
    "clf = LogisticRegression(solver='liblinear')\n",
    "\n",
    "clf.fit(X_train, y_train)\n",
    "\n",
    "y_pred = clf.predict(X_test)\n",
    "\n",
    "clf.score(X_train, y_train)\n",
    "\n",
    "score = accuracy_score(y_test, y_pred)\n",
    "\n",
    "confusion_matrix(y_test, y_pred)"
   ]
  },
  {
   "cell_type": "code",
   "execution_count": 23,
   "id": "6e4744f3",
   "metadata": {},
   "outputs": [],
   "source": [
    "log = log.append({\"model\": \"logistic regression\", \"accuracy\": score, \"enhanced_data\": False}, ignore_index=True)"
   ]
  },
  {
   "cell_type": "code",
   "execution_count": 24,
   "id": "bfec698e",
   "metadata": {},
   "outputs": [
    {
     "name": "stderr",
     "output_type": "stream",
     "text": [
      "/home/paul/.local/lib/python3.9/site-packages/sklearn/base.py:434: UserWarning: X has feature names, but LogisticRegression was fitted without feature names\n",
      "  warnings.warn(\n",
      "/home/paul/.local/lib/python3.9/site-packages/sklearn/base.py:434: UserWarning: X has feature names, but LogisticRegression was fitted without feature names\n",
      "  warnings.warn(\n"
     ]
    },
    {
     "data": {
      "text/plain": [
       "array([[73, 26],\n",
       "       [18, 37]])"
      ]
     },
     "execution_count": 24,
     "metadata": {},
     "output_type": "execute_result"
    }
   ],
   "source": [
    "clf = LogisticRegression(solver='liblinear')\n",
    "\n",
    "clf.fit(enh['x_train_processed'], enh['y_train'])\n",
    "\n",
    "y_pred = clf.predict(X_test)\n",
    "\n",
    "clf.score(X_train, y_train)\n",
    "\n",
    "score = accuracy_score(y_test, y_pred)\n"
   ]
  },
  {
   "cell_type": "code",
   "execution_count": 25,
   "id": "a6335ae6",
   "metadata": {},
   "outputs": [],
   "source": [
    "\n",
    "log = log.append({\"model\": \"logistic regression\", \"accuracy\": score, \"enhanced_data\": True}, ignore_index=True)"
   ]
  },
  {
   "cell_type": "markdown",
   "id": "73c40a55",
   "metadata": {},
   "source": [
    "## SVC"
   ]
  },
  {
   "cell_type": "code",
   "execution_count": 26,
   "id": "e36bafed",
   "metadata": {},
   "outputs": [],
   "source": [
    "from sklearn.svm import SVC"
   ]
  },
  {
   "cell_type": "code",
   "execution_count": 27,
   "id": "645a7a5b",
   "metadata": {},
   "outputs": [],
   "source": [
    "model = SVC(kernel=\"rbf\",C=1)\n",
    "\n",
    "model.fit(X_train, y_train)\n",
    "\n",
    "y_pred = model.predict(X_test)\n",
    "\n",
    "score = accuracy_score(y_test, y_pred)"
   ]
  },
  {
   "cell_type": "code",
   "execution_count": 28,
   "id": "41291de8",
   "metadata": {},
   "outputs": [],
   "source": [
    "\n",
    "log = log.append({\"model\": \"SVC\", \"accuracy\": score, \"enhanced_data\": False}, ignore_index=True)"
   ]
  },
  {
   "cell_type": "code",
   "execution_count": 29,
   "id": "8a9aabbf",
   "metadata": {},
   "outputs": [
    {
     "name": "stderr",
     "output_type": "stream",
     "text": [
      "/home/paul/.local/lib/python3.9/site-packages/sklearn/base.py:434: UserWarning: X has feature names, but SVC was fitted without feature names\n",
      "  warnings.warn(\n"
     ]
    }
   ],
   "source": [
    "model = SVC(kernel=\"rbf\",C=1)\n",
    "\n",
    "model.fit(enh['x_train_processed'], enh['y_train'])\n",
    "\n",
    "y_pred = model.predict(X_test)\n",
    "\n",
    "score = accuracy_score(y_test, y_pred)"
   ]
  },
  {
   "cell_type": "code",
   "execution_count": 30,
   "id": "016c53b1",
   "metadata": {},
   "outputs": [],
   "source": [
    "log = log.append({\"model\": \"SVC\", \"accuracy\": score, \"enhanced_data\": True}, ignore_index=True)"
   ]
  },
  {
   "cell_type": "markdown",
   "id": "7f460cf1",
   "metadata": {},
   "source": [
    "## Random Forest"
   ]
  },
  {
   "cell_type": "code",
   "execution_count": 31,
   "id": "dd08e0a3",
   "metadata": {},
   "outputs": [],
   "source": [
    "from sklearn.ensemble import RandomForestClassifier"
   ]
  },
  {
   "cell_type": "code",
   "execution_count": 32,
   "id": "b5693fe1",
   "metadata": {},
   "outputs": [],
   "source": [
    "clf = RandomForestClassifier(random_state = 1)\n",
    "clf.fit(X_train, y_train)\n",
    "y_pred = clf.predict(X_test)\n",
    "score = accuracy_score(y_test, y_pred)\n",
    "log = log.append({\"model\": \"Random Forest\", \"accuracy\": score, \"enhanced_data\": False}, ignore_index=True)"
   ]
  },
  {
   "cell_type": "code",
   "execution_count": 33,
   "id": "d469bb10",
   "metadata": {},
   "outputs": [
    {
     "name": "stderr",
     "output_type": "stream",
     "text": [
      "/home/paul/.local/lib/python3.9/site-packages/sklearn/base.py:434: UserWarning: X has feature names, but RandomForestClassifier was fitted without feature names\n",
      "  warnings.warn(\n"
     ]
    }
   ],
   "source": [
    "\n",
    "clf = RandomForestClassifier(random_state = 1)\n",
    "clf.fit(enh['x_train_processed'], enh['y_train'])\n",
    "y_pred = clf.predict(X_test)\n",
    "score = accuracy_score(y_test, y_pred)\n",
    "log = log.append({\"model\": \"Random Forest\", \"accuracy\": score, \"enhanced_data\": True}, ignore_index=True)"
   ]
  },
  {
   "cell_type": "markdown",
   "id": "f4004154",
   "metadata": {},
   "source": [
    "## decision tree\n"
   ]
  },
  {
   "cell_type": "code",
   "execution_count": 34,
   "id": "636ec12d",
   "metadata": {},
   "outputs": [],
   "source": [
    "from sklearn.tree import DecisionTreeClassifier\n",
    "clf = DecisionTreeClassifier(criterion='entropy',random_state=7)\n",
    "clf.fit(X_train,y_train)\n",
    "y_pred = clf.predict(X_test)\n",
    "score = accuracy_score(y_test, y_pred)\n",
    "log = log.append({\"model\": \"Decision tree\", \"accuracy\": score, \"enhanced_data\": False}, ignore_index=True)"
   ]
  },
  {
   "cell_type": "code",
   "execution_count": 35,
   "id": "b2720783",
   "metadata": {},
   "outputs": [
    {
     "name": "stderr",
     "output_type": "stream",
     "text": [
      "/home/paul/.local/lib/python3.9/site-packages/sklearn/base.py:434: UserWarning: X has feature names, but DecisionTreeClassifier was fitted without feature names\n",
      "  warnings.warn(\n"
     ]
    }
   ],
   "source": [
    "from sklearn.tree import DecisionTreeClassifier\n",
    "clf = DecisionTreeClassifier(criterion='entropy',random_state=7)\n",
    "clf.fit(enh['x_train_processed'], enh['y_train'])\n",
    "y_pred = clf.predict(X_test)\n",
    "score = accuracy_score(y_test, y_pred)\n",
    "log = log.append({\"model\": \"Decision tree\", \"accuracy\": score, \"enhanced_data\": True}, ignore_index=True)"
   ]
  },
  {
   "cell_type": "markdown",
   "id": "f2116352",
   "metadata": {},
   "source": [
    "## KNN"
   ]
  },
  {
   "cell_type": "code",
   "execution_count": 36,
   "id": "2b920cbb",
   "metadata": {},
   "outputs": [],
   "source": [
    "from sklearn.neighbors import KNeighborsClassifier"
   ]
  },
  {
   "cell_type": "code",
   "execution_count": 37,
   "id": "6368e0ab",
   "metadata": {},
   "outputs": [
    {
     "name": "stderr",
     "output_type": "stream",
     "text": [
      "/home/paul/.local/lib/python3.9/site-packages/sklearn/base.py:441: UserWarning: X does not have valid feature names, but KNeighborsClassifier was fitted with feature names\n",
      "  warnings.warn(\n",
      "/home/paul/.local/lib/python3.9/site-packages/sklearn/base.py:441: UserWarning: X does not have valid feature names, but KNeighborsClassifier was fitted with feature names\n",
      "  warnings.warn(\n"
     ]
    }
   ],
   "source": [
    "clf = KNeighborsClassifier(n_neighbors=3)\n",
    "clf.fit(X_train, y_train)\n",
    "clf.predict(X_test)\n",
    "y_pred = clf.predict(X_test)\n",
    "score = accuracy_score(y_test, y_pred)\n",
    "log = log.append({\"model\": \"K nearest neighbours\", \"accuracy\": score, \"enhanced_data\": False}, ignore_index=True)"
   ]
  },
  {
   "cell_type": "code",
   "execution_count": 38,
   "id": "c80d81f9",
   "metadata": {},
   "outputs": [
    {
     "name": "stderr",
     "output_type": "stream",
     "text": [
      "/home/paul/.local/lib/python3.9/site-packages/sklearn/base.py:434: UserWarning: X has feature names, but KNeighborsClassifier was fitted without feature names\n",
      "  warnings.warn(\n",
      "/home/paul/.local/lib/python3.9/site-packages/sklearn/base.py:434: UserWarning: X has feature names, but KNeighborsClassifier was fitted without feature names\n",
      "  warnings.warn(\n"
     ]
    }
   ],
   "source": [
    "clf = KNeighborsClassifier(n_neighbors=3)\n",
    "clf.fit(enh['x_train_processed'], enh['y_train'])\n",
    "clf.predict(X_test)\n",
    "y_pred = clf.predict(X_test)\n",
    "score = accuracy_score(y_test, y_pred)\n",
    "log = log.append({\"model\": \"K nearest neighbours\", \"accuracy\": score, \"enhanced_data\": True}, ignore_index=True)"
   ]
  },
  {
   "cell_type": "markdown",
   "id": "ab618515",
   "metadata": {},
   "source": [
    "## naive bayes"
   ]
  },
  {
   "cell_type": "code",
   "execution_count": 39,
   "id": "c30f6470",
   "metadata": {},
   "outputs": [],
   "source": [
    "from sklearn.naive_bayes import GaussianNB\n",
    "clf = GaussianNB()\n",
    "clf.fit(X_train, y_train)\n",
    "clf.predict(X_test)\n",
    "y_pred = clf.predict(X_test)\n",
    "score = accuracy_score(y_test, y_pred)\n",
    "log = log.append({\"model\": \"GaussianNB\", \"accuracy\": score, \"enhanced_data\": False}, ignore_index=True)"
   ]
  },
  {
   "cell_type": "code",
   "execution_count": 40,
   "id": "81ef1174",
   "metadata": {},
   "outputs": [
    {
     "name": "stderr",
     "output_type": "stream",
     "text": [
      "/home/paul/.local/lib/python3.9/site-packages/sklearn/base.py:434: UserWarning: X has feature names, but GaussianNB was fitted without feature names\n",
      "  warnings.warn(\n",
      "/home/paul/.local/lib/python3.9/site-packages/sklearn/base.py:434: UserWarning: X has feature names, but GaussianNB was fitted without feature names\n",
      "  warnings.warn(\n"
     ]
    }
   ],
   "source": [
    "\n",
    "clf = GaussianNB()\n",
    "clf.fit(enh['x_train_processed'], enh['y_train'])\n",
    "clf.predict(X_test)\n",
    "y_pred = clf.predict(X_test)\n",
    "score = accuracy_score(y_test, y_pred)\n",
    "log = log.append({\"model\": \"GaussianNB\", \"accuracy\": score, \"enhanced_data\": True}, ignore_index=True)"
   ]
  },
  {
   "cell_type": "markdown",
   "id": "c3b9dc9e",
   "metadata": {},
   "source": [
    "\n",
    "## NeuralNet"
   ]
  },
  {
   "cell_type": "code",
   "execution_count": 41,
   "id": "e85ad166",
   "metadata": {},
   "outputs": [
    {
     "name": "stdout",
     "output_type": "stream",
     "text": [
      "Model: \"sequential_2\"\n",
      "_________________________________________________________________\n",
      "Layer (type)                 Output Shape              Param #   \n",
      "=================================================================\n",
      "hidden_layer_0 (Dense)       (None, 64)                576       \n",
      "_________________________________________________________________\n",
      "batch_normalization (BatchNo (None, 64)                256       \n",
      "_________________________________________________________________\n",
      "activation_5 (Activation)    (None, 64)                0         \n",
      "_________________________________________________________________\n",
      "dropout_0_30 (Dropout)       (None, 64)                0         \n",
      "_________________________________________________________________\n",
      "hidden_layer_1 (Dense)       (None, 64)                4160      \n",
      "_________________________________________________________________\n",
      "batch_normalization_1 (Batch (None, 64)                256       \n",
      "_________________________________________________________________\n",
      "activation_6 (Activation)    (None, 64)                0         \n",
      "_________________________________________________________________\n",
      "dropout_1_30 (Dropout)       (None, 64)                0         \n",
      "_________________________________________________________________\n",
      "hidden_layer_2 (Dense)       (None, 64)                4160      \n",
      "_________________________________________________________________\n",
      "batch_normalization_2 (Batch (None, 64)                256       \n",
      "_________________________________________________________________\n",
      "activation_7 (Activation)    (None, 64)                0         \n",
      "_________________________________________________________________\n",
      "dropout_2_30 (Dropout)       (None, 64)                0         \n",
      "_________________________________________________________________\n",
      "hidden_layer_3 (Dense)       (None, 64)                4160      \n",
      "_________________________________________________________________\n",
      "batch_normalization_3 (Batch (None, 64)                256       \n",
      "_________________________________________________________________\n",
      "activation_8 (Activation)    (None, 64)                0         \n",
      "_________________________________________________________________\n",
      "dropout_3_30 (Dropout)       (None, 64)                0         \n",
      "_________________________________________________________________\n",
      "hidden_layer_4 (Dense)       (None, 64)                4160      \n",
      "_________________________________________________________________\n",
      "batch_normalization_4 (Batch (None, 64)                256       \n",
      "_________________________________________________________________\n",
      "activation_9 (Activation)    (None, 64)                0         \n",
      "_________________________________________________________________\n",
      "dropout_4_30 (Dropout)       (None, 64)                0         \n",
      "_________________________________________________________________\n",
      "dense_6 (Dense)              (None, 1)                 65        \n",
      "=================================================================\n",
      "Total params: 18,561\n",
      "Trainable params: 17,921\n",
      "Non-trainable params: 640\n",
      "_________________________________________________________________\n"
     ]
    }
   ],
   "source": [
    "from tensorflow.keras import models, Model, layers\n",
    "from tensorflow.keras.callbacks import EarlyStopping\n",
    "\n",
    "\n",
    "model = models.Sequential()\n",
    "model.add(layers.InputLayer(input_shape=X_train.shape[1:]))\n",
    "\n",
    "for i in range(5):\n",
    "        model.add(layers.Dense(\n",
    "            64, \n",
    "            kernel_initializer='he_normal',\n",
    "            name=f'hidden_layer_{i}'))\n",
    "        model.add(layers.BatchNormalization())\n",
    "        model.add(layers.Activation('selu'))\n",
    "        model.add(layers.Dropout(0.3, name=f'dropout_{i}_30'))\n",
    "    \n",
    "model.add(layers.Dense(1, activation='sigmoid'))\n",
    "\n",
    "#model.compile(optimizer='rmsprop', loss='binary_crossentropy', metrics=['accuracy'])\n",
    "model.compile(loss='binary_crossentropy', optimizer='adam', metrics=['accuracy'])\n",
    "\n",
    "model.summary()"
   ]
  },
  {
   "cell_type": "code",
   "execution_count": 42,
   "id": "6d1f3dde",
   "metadata": {},
   "outputs": [
    {
     "name": "stdout",
     "output_type": "stream",
     "text": [
      "Epoch 1/300\n",
      "16/16 [==============================] - 3s 44ms/step - loss: 0.7292 - accuracy: 0.6232 - val_loss: 0.9404 - val_accuracy: 0.7236\n",
      "Epoch 2/300\n",
      "16/16 [==============================] - 0s 17ms/step - loss: 0.7066 - accuracy: 0.6558 - val_loss: 0.6888 - val_accuracy: 0.7317\n",
      "Epoch 3/300\n",
      "16/16 [==============================] - 0s 22ms/step - loss: 0.6571 - accuracy: 0.6578 - val_loss: 0.6201 - val_accuracy: 0.7398\n",
      "Epoch 4/300\n",
      "16/16 [==============================] - 0s 14ms/step - loss: 0.6332 - accuracy: 0.6986 - val_loss: 0.5943 - val_accuracy: 0.7317\n",
      "Epoch 5/300\n",
      "16/16 [==============================] - 0s 19ms/step - loss: 0.6384 - accuracy: 0.6762 - val_loss: 0.5513 - val_accuracy: 0.7480\n",
      "Epoch 6/300\n",
      "16/16 [==============================] - 0s 29ms/step - loss: 0.6139 - accuracy: 0.7047 - val_loss: 0.5259 - val_accuracy: 0.7561\n",
      "Epoch 7/300\n",
      "16/16 [==============================] - 1s 52ms/step - loss: 0.5609 - accuracy: 0.7128 - val_loss: 0.5290 - val_accuracy: 0.7724\n",
      "Epoch 8/300\n",
      "16/16 [==============================] - 0s 17ms/step - loss: 0.5512 - accuracy: 0.7189 - val_loss: 0.5230 - val_accuracy: 0.7480\n",
      "Epoch 9/300\n",
      "16/16 [==============================] - 1s 36ms/step - loss: 0.5628 - accuracy: 0.7332 - val_loss: 0.5113 - val_accuracy: 0.7480\n",
      "Epoch 10/300\n",
      "16/16 [==============================] - 0s 18ms/step - loss: 0.5745 - accuracy: 0.7169 - val_loss: 0.5039 - val_accuracy: 0.7480\n",
      "Epoch 11/300\n",
      "16/16 [==============================] - 1s 53ms/step - loss: 0.5511 - accuracy: 0.7312 - val_loss: 0.5041 - val_accuracy: 0.7398\n",
      "Epoch 12/300\n",
      "16/16 [==============================] - 0s 24ms/step - loss: 0.5197 - accuracy: 0.7312 - val_loss: 0.4999 - val_accuracy: 0.7317\n",
      "Epoch 13/300\n",
      "16/16 [==============================] - 0s 28ms/step - loss: 0.5373 - accuracy: 0.7332 - val_loss: 0.4969 - val_accuracy: 0.7317\n",
      "Epoch 14/300\n",
      "16/16 [==============================] - 0s 26ms/step - loss: 0.5430 - accuracy: 0.7312 - val_loss: 0.5091 - val_accuracy: 0.7236\n",
      "Epoch 15/300\n",
      "16/16 [==============================] - 0s 25ms/step - loss: 0.5525 - accuracy: 0.7128 - val_loss: 0.5011 - val_accuracy: 0.7317\n",
      "Epoch 16/300\n",
      "16/16 [==============================] - 0s 16ms/step - loss: 0.5261 - accuracy: 0.7312 - val_loss: 0.4907 - val_accuracy: 0.7236\n",
      "Epoch 17/300\n",
      "16/16 [==============================] - 0s 21ms/step - loss: 0.5001 - accuracy: 0.7475 - val_loss: 0.4854 - val_accuracy: 0.7317\n",
      "Epoch 18/300\n",
      "16/16 [==============================] - 0s 25ms/step - loss: 0.5373 - accuracy: 0.7128 - val_loss: 0.4854 - val_accuracy: 0.7317\n",
      "Epoch 19/300\n",
      "16/16 [==============================] - 1s 31ms/step - loss: 0.5734 - accuracy: 0.7067 - val_loss: 0.4803 - val_accuracy: 0.7480\n",
      "Epoch 20/300\n",
      "16/16 [==============================] - 1s 29ms/step - loss: 0.5526 - accuracy: 0.7271 - val_loss: 0.4851 - val_accuracy: 0.7398\n",
      "Epoch 21/300\n",
      "16/16 [==============================] - 0s 32ms/step - loss: 0.5181 - accuracy: 0.7658 - val_loss: 0.4851 - val_accuracy: 0.7317\n",
      "Epoch 22/300\n",
      "16/16 [==============================] - 1s 34ms/step - loss: 0.5153 - accuracy: 0.7393 - val_loss: 0.4974 - val_accuracy: 0.7398\n",
      "Epoch 23/300\n",
      "16/16 [==============================] - 0s 26ms/step - loss: 0.5293 - accuracy: 0.7373 - val_loss: 0.4992 - val_accuracy: 0.7480\n",
      "Epoch 24/300\n",
      "16/16 [==============================] - 0s 26ms/step - loss: 0.5396 - accuracy: 0.7434 - val_loss: 0.4870 - val_accuracy: 0.7398\n",
      "Epoch 25/300\n",
      "16/16 [==============================] - 1s 43ms/step - loss: 0.5069 - accuracy: 0.7597 - val_loss: 0.4970 - val_accuracy: 0.7480\n",
      "Epoch 26/300\n",
      "16/16 [==============================] - 1s 42ms/step - loss: 0.5113 - accuracy: 0.7556 - val_loss: 0.4943 - val_accuracy: 0.7398\n",
      "Epoch 27/300\n",
      "16/16 [==============================] - 0s 24ms/step - loss: 0.5184 - accuracy: 0.7495 - val_loss: 0.4920 - val_accuracy: 0.7398\n"
     ]
    }
   ],
   "source": [
    "history = model.fit(\n",
    "    X_train, y_train, validation_split=.2, epochs=300,\n",
    "    callbacks=[\n",
    "        EarlyStopping(patience=20, monitor='val_accuracy', mode='max', restore_best_weights=True)])"
   ]
  },
  {
   "cell_type": "code",
   "execution_count": 43,
   "id": "64460ee9",
   "metadata": {},
   "outputs": [
    {
     "name": "stdout",
     "output_type": "stream",
     "text": [
      "5/5 [==============================] - 0s 19ms/step - loss: 0.5876 - accuracy: 0.7078\n"
     ]
    }
   ],
   "source": [
    "result = model.evaluate(X_test, y_test)\n",
    "result[1]\n",
    "log = log.append({\"model\": \"DenseNeuralNet\", \"accuracy\": result[1], \"enhanced_data\": False}, ignore_index=True)"
   ]
  },
  {
   "cell_type": "code",
   "execution_count": 44,
   "id": "57071aaf",
   "metadata": {},
   "outputs": [],
   "source": [
    "model = models.Sequential()\n",
    "model.add(layers.InputLayer(input_shape=X_train.shape[1:]))\n",
    "\n",
    "for i in range(5):\n",
    "        model.add(layers.Dense(\n",
    "            64, \n",
    "            kernel_initializer='he_normal',\n",
    "            name=f'hidden_layer_{i}'))\n",
    "        model.add(layers.BatchNormalization())\n",
    "        model.add(layers.Activation('selu'))\n",
    "        model.add(layers.Dropout(0.3, name=f'dropout_{i}_30'))\n",
    "    \n",
    "model.add(layers.Dense(1, activation='sigmoid'))\n",
    "\n",
    "#model.compile(optimizer='rmsprop', loss='binary_crossentropy', metrics=['accuracy'])\n",
    "model.compile(loss='binary_crossentropy', optimizer='adam', metrics=['accuracy'])\n"
   ]
  },
  {
   "cell_type": "code",
   "execution_count": 45,
   "id": "d7bbbeb2",
   "metadata": {},
   "outputs": [
    {
     "name": "stdout",
     "output_type": "stream",
     "text": [
      "Epoch 1/300\n",
      "19/19 [==============================] - 3s 39ms/step - loss: 0.8340 - accuracy: 0.5731 - val_loss: 0.6426 - val_accuracy: 0.7568\n",
      "Epoch 2/300\n",
      "19/19 [==============================] - 0s 21ms/step - loss: 0.6919 - accuracy: 0.6361 - val_loss: 0.7116 - val_accuracy: 0.7703\n",
      "Epoch 3/300\n",
      "19/19 [==============================] - 1s 31ms/step - loss: 0.6221 - accuracy: 0.7058 - val_loss: 0.6371 - val_accuracy: 0.7703\n",
      "Epoch 4/300\n",
      "19/19 [==============================] - 1s 29ms/step - loss: 0.5836 - accuracy: 0.7279 - val_loss: 0.5769 - val_accuracy: 0.7770\n",
      "Epoch 5/300\n",
      "19/19 [==============================] - 1s 32ms/step - loss: 0.6328 - accuracy: 0.6820 - val_loss: 0.5213 - val_accuracy: 0.7770\n",
      "Epoch 6/300\n",
      "19/19 [==============================] - 1s 35ms/step - loss: 0.5695 - accuracy: 0.7245 - val_loss: 0.5321 - val_accuracy: 0.7770\n",
      "Epoch 7/300\n",
      "19/19 [==============================] - 1s 34ms/step - loss: 0.6064 - accuracy: 0.7075 - val_loss: 0.5213 - val_accuracy: 0.7905\n",
      "Epoch 8/300\n",
      "19/19 [==============================] - 0s 19ms/step - loss: 0.5795 - accuracy: 0.7245 - val_loss: 0.4940 - val_accuracy: 0.7905\n",
      "Epoch 9/300\n",
      "19/19 [==============================] - 0s 14ms/step - loss: 0.5843 - accuracy: 0.7347 - val_loss: 0.4808 - val_accuracy: 0.7973\n",
      "Epoch 10/300\n",
      "19/19 [==============================] - 1s 50ms/step - loss: 0.5759 - accuracy: 0.7092 - val_loss: 0.4520 - val_accuracy: 0.8041\n",
      "Epoch 11/300\n",
      "19/19 [==============================] - 1s 38ms/step - loss: 0.6164 - accuracy: 0.7024 - val_loss: 0.4627 - val_accuracy: 0.7973\n",
      "Epoch 12/300\n",
      "19/19 [==============================] - 1s 40ms/step - loss: 0.5416 - accuracy: 0.7398 - val_loss: 0.4643 - val_accuracy: 0.7905\n",
      "Epoch 13/300\n",
      "19/19 [==============================] - 1s 40ms/step - loss: 0.5531 - accuracy: 0.7279 - val_loss: 0.4776 - val_accuracy: 0.7905\n",
      "Epoch 14/300\n",
      "19/19 [==============================] - 0s 26ms/step - loss: 0.5717 - accuracy: 0.7262 - val_loss: 0.4577 - val_accuracy: 0.7905\n",
      "Epoch 15/300\n",
      "19/19 [==============================] - 1s 28ms/step - loss: 0.5423 - accuracy: 0.7670 - val_loss: 0.4552 - val_accuracy: 0.7905\n",
      "Epoch 16/300\n",
      "19/19 [==============================] - 1s 47ms/step - loss: 0.5107 - accuracy: 0.7534 - val_loss: 0.4575 - val_accuracy: 0.7838\n",
      "Epoch 17/300\n",
      "19/19 [==============================] - 1s 31ms/step - loss: 0.5466 - accuracy: 0.7381 - val_loss: 0.4402 - val_accuracy: 0.7838\n",
      "Epoch 18/300\n",
      "19/19 [==============================] - 1s 29ms/step - loss: 0.5625 - accuracy: 0.7126 - val_loss: 0.4554 - val_accuracy: 0.7905\n",
      "Epoch 19/300\n",
      "19/19 [==============================] - 0s 15ms/step - loss: 0.5554 - accuracy: 0.7296 - val_loss: 0.4495 - val_accuracy: 0.7905\n",
      "Epoch 20/300\n",
      "19/19 [==============================] - 0s 25ms/step - loss: 0.5054 - accuracy: 0.7432 - val_loss: 0.4494 - val_accuracy: 0.7838\n",
      "Epoch 21/300\n",
      "19/19 [==============================] - 0s 19ms/step - loss: 0.5308 - accuracy: 0.7279 - val_loss: 0.4612 - val_accuracy: 0.7838\n",
      "Epoch 22/300\n",
      "19/19 [==============================] - 1s 31ms/step - loss: 0.5513 - accuracy: 0.7228 - val_loss: 0.4478 - val_accuracy: 0.7973\n",
      "Epoch 23/300\n",
      "19/19 [==============================] - 1s 49ms/step - loss: 0.5582 - accuracy: 0.7347 - val_loss: 0.4481 - val_accuracy: 0.7770\n",
      "Epoch 24/300\n",
      "19/19 [==============================] - 0s 21ms/step - loss: 0.5286 - accuracy: 0.7551 - val_loss: 0.4529 - val_accuracy: 0.7770\n",
      "Epoch 25/300\n",
      "19/19 [==============================] - 1s 40ms/step - loss: 0.5061 - accuracy: 0.7721 - val_loss: 0.4555 - val_accuracy: 0.7973\n",
      "Epoch 26/300\n",
      "19/19 [==============================] - 1s 31ms/step - loss: 0.5178 - accuracy: 0.7534 - val_loss: 0.4527 - val_accuracy: 0.7838\n",
      "Epoch 27/300\n",
      "19/19 [==============================] - 1s 40ms/step - loss: 0.5323 - accuracy: 0.7398 - val_loss: 0.4592 - val_accuracy: 0.7838\n",
      "Epoch 28/300\n",
      "19/19 [==============================] - 1s 28ms/step - loss: 0.5197 - accuracy: 0.7551 - val_loss: 0.4483 - val_accuracy: 0.7973\n",
      "Epoch 29/300\n",
      "19/19 [==============================] - 1s 33ms/step - loss: 0.4945 - accuracy: 0.7517 - val_loss: 0.4484 - val_accuracy: 0.7905\n",
      "Epoch 30/300\n",
      "19/19 [==============================] - 1s 41ms/step - loss: 0.5425 - accuracy: 0.7568 - val_loss: 0.4424 - val_accuracy: 0.7905\n"
     ]
    }
   ],
   "source": [
    "history = model.fit(\n",
    "    enh['x_train_processed'], enh['y_train'], validation_split=.2, epochs=300,\n",
    "    callbacks=[\n",
    "        EarlyStopping(patience=20, monitor='val_accuracy', mode='max', restore_best_weights=True)])"
   ]
  },
  {
   "cell_type": "code",
   "execution_count": 46,
   "id": "4d14e0af",
   "metadata": {},
   "outputs": [
    {
     "name": "stdout",
     "output_type": "stream",
     "text": [
      "5/5 [==============================] - 0s 3ms/step - loss: 0.6387 - accuracy: 0.6883\n"
     ]
    },
    {
     "data": {
      "text/plain": [
       "0.6883116960525513"
      ]
     },
     "execution_count": 46,
     "metadata": {},
     "output_type": "execute_result"
    }
   ],
   "source": [
    "result = model.evaluate(X_test, y_test)\n",
    "result[1]"
   ]
  },
  {
   "cell_type": "code",
   "execution_count": 47,
   "id": "2a167969",
   "metadata": {},
   "outputs": [],
   "source": [
    "log = log.append({\"model\": \"DenseNeuralNet\", \"accuracy\": result[1], \"enhanced_data\": True}, ignore_index=True)"
   ]
  },
  {
   "cell_type": "code",
   "execution_count": 48,
   "id": "c76d9f5a",
   "metadata": {},
   "outputs": [
    {
     "data": {
      "image/png": "[encoded data removed]",
      "text/plain": [
       "<Figure size 1524.88x1440 with 1 Axes>"
      ]
     },
     "metadata": {
      "needs_background": "light"
     },
     "output_type": "display_data"
    }
   ],
   "source": [
    "import seaborn as sns\n",
    "from matplotlib import pyplot as plt\n",
    "\n",
    "\n",
    "c = sns.catplot(\n",
    "    data=log,\n",
    "    x='model',\n",
    "    y='accuracy',\n",
    "    hue='enhanced_data',\n",
    "    kind='bar',\n",
    "    height=20\n",
    ")\n",
    "\n",
    "naive_baseline = 1 - y_train.mean()\n",
    "\n",
    "axes = c.axes.flatten()\n",
    "for i, ax in enumerate(axes):\n",
    "    accuracy = naive_baseline\n",
    "    \n",
    "    ax.axhline(accuracy, ls='--', c='black')\n",
    "    ax.text(0.15, accuracy, \n",
    "            f'accuracy naive: {round(accuracy, 4)}', \n",
    "            fontsize=15, va='center', ha='center', backgroundcolor='w')\n",
    "\n",
    "\n",
    "plt.savefig('./diabetes_boosting_experiments.jpg')"
   ]
  },
  {
   "cell_type": "code",
   "execution_count": null,
   "id": "d5c11d8b",
   "metadata": {},
   "outputs": [],
   "source": []
  }
 ],
 "metadata": {
  "kernelspec": {
   "display_name": "Python 3",
   "language": "python",
   "name": "python3"
  },
  "language_info": {
   "codemirror_mode": {
    "name": "ipython",
    "version": 3
   },
   "file_extension": ".py",
   "mimetype": "text/x-python",
   "name": "python",
   "nbconvert_exporter": "python",
   "pygments_lexer": "ipython3",
   "version": "3.9.7"
  },
  "papermill": {
   "default_parameters": {},
   "duration": 25.558075,
   "end_time": "2021-10-11T06:49:48.326169",
   "environment_variables": {},
   "exception": null,
   "input_path": "__notebook__.ipynb",
   "output_path": "__notebook__.ipynb",
   "parameters": {},
   "start_time": "2021-10-11T06:49:22.768094",
   "version": "2.3.3"
  }
 },
 "nbformat": 4,
 "nbformat_minor": 5
}
