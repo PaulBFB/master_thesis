{
 "cells": [
  {
   "cell_type": "code",
   "execution_count": 1,
   "id": "e9347122",
   "metadata": {
    "_cell_guid": "b1076dfc-b9ad-4769-8c92-a6c4dae69d19",
    "_uuid": "8f2839f25d086af736a60e9eeb907d3b93b6e0e5",
    "papermill": {
     "duration": 0.096556,
     "end_time": "2021-10-04T15:01:29.459994",
     "exception": false,
     "start_time": "2021-10-04T15:01:29.363438",
     "status": "completed"
    },
    "tags": []
   },
   "outputs": [],
   "source": [
    "import numpy as np\n",
    "import pandas as pd\n",
    "\n"
   ]
  },
  {
   "cell_type": "markdown",
   "id": "267cdb42",
   "metadata": {
    "papermill": {
     "duration": 0.050569,
     "end_time": "2021-10-04T15:01:29.569384",
     "exception": false,
     "start_time": "2021-10-04T15:01:29.518815",
     "status": "completed"
    },
    "tags": []
   },
   "source": [
    "## **Read the data**"
   ]
  },
  {
   "cell_type": "code",
   "execution_count": 2,
   "id": "ed5ff3b8",
   "metadata": {
    "papermill": {
     "duration": 0.08528,
     "end_time": "2021-10-04T15:01:29.704149",
     "exception": false,
     "start_time": "2021-10-04T15:01:29.618869",
     "status": "completed"
    },
    "tags": []
   },
   "outputs": [],
   "source": [
    "df = pd.read_csv('./data/winequalityN.csv')"
   ]
  },
  {
   "cell_type": "code",
   "execution_count": 3,
   "id": "c7f4ba43",
   "metadata": {
    "papermill": {
     "duration": 0.065366,
     "end_time": "2021-10-04T15:01:30.298499",
     "exception": false,
     "start_time": "2021-10-04T15:01:30.233133",
     "status": "completed"
    },
    "tags": []
   },
   "outputs": [
    {
     "data": {
      "text/plain": [
       "fixed acidity           10\n",
       "pH                       9\n",
       "volatile acidity         8\n",
       "sulphates                4\n",
       "citric acid              3\n",
       "residual sugar           2\n",
       "chlorides                2\n",
       "type                     0\n",
       "free sulfur dioxide      0\n",
       "total sulfur dioxide     0\n",
       "density                  0\n",
       "alcohol                  0\n",
       "quality                  0\n",
       "dtype: int64"
      ]
     },
     "execution_count": 3,
     "metadata": {},
     "output_type": "execute_result"
    }
   ],
   "source": [
    "df.isnull().sum().sort_values(ascending=False)"
   ]
  },
  {
   "cell_type": "markdown",
   "id": "d598866b",
   "metadata": {
    "papermill": {
     "duration": 0.052059,
     "end_time": "2021-10-04T15:01:30.402153",
     "exception": false,
     "start_time": "2021-10-04T15:01:30.350094",
     "status": "completed"
    },
    "tags": []
   },
   "source": [
    "<font size=\"4\">Few columns have missing values, the columns \"fixed acidity\" has the highest number of missing values</font>"
   ]
  },
  {
   "cell_type": "markdown",
   "id": "e894878b",
   "metadata": {
    "papermill": {
     "duration": 0.051336,
     "end_time": "2021-10-04T15:01:30.505328",
     "exception": false,
     "start_time": "2021-10-04T15:01:30.453992",
     "status": "completed"
    },
    "tags": []
   },
   "source": [
    "## **Replace missing values**"
   ]
  },
  {
   "cell_type": "markdown",
   "id": "5c0008d3",
   "metadata": {
    "papermill": {
     "duration": 0.050827,
     "end_time": "2021-10-04T15:01:30.608146",
     "exception": false,
     "start_time": "2021-10-04T15:01:30.557319",
     "status": "completed"
    },
    "tags": []
   },
   "source": [
    "<font size=\"4\">We will replace the missing the values with the column mean</font>"
   ]
  },
  {
   "cell_type": "code",
   "execution_count": 4,
   "id": "92755422",
   "metadata": {
    "papermill": {
     "duration": 0.057677,
     "end_time": "2021-10-04T15:01:30.717096",
     "exception": false,
     "start_time": "2021-10-04T15:01:30.659419",
     "status": "completed"
    },
    "tags": []
   },
   "outputs": [],
   "source": [
    "missing_val_cols = [\"fixed acidity\", \"pH\", \"volatile acidity\", \"sulphates\", \"citric acid\", \"residual sugar\", \"chlorides\"]"
   ]
  },
  {
   "cell_type": "code",
   "execution_count": 5,
   "id": "f3636aeb",
   "metadata": {
    "papermill": {
     "duration": 0.060761,
     "end_time": "2021-10-04T15:01:30.829319",
     "exception": false,
     "start_time": "2021-10-04T15:01:30.768558",
     "status": "completed"
    },
    "tags": []
   },
   "outputs": [],
   "source": [
    "for col in missing_val_cols:\n",
    "    mean = df[col].mean()\n",
    "    df[col].fillna(mean, inplace=True)\n",
    "    "
   ]
  },
  {
   "cell_type": "code",
   "execution_count": 6,
   "id": "5be70dc0",
   "metadata": {
    "papermill": {
     "duration": 0.062991,
     "end_time": "2021-10-04T15:01:30.943657",
     "exception": false,
     "start_time": "2021-10-04T15:01:30.880666",
     "status": "completed"
    },
    "tags": []
   },
   "outputs": [
    {
     "data": {
      "text/plain": [
       "type                    0\n",
       "fixed acidity           0\n",
       "volatile acidity        0\n",
       "citric acid             0\n",
       "residual sugar          0\n",
       "chlorides               0\n",
       "free sulfur dioxide     0\n",
       "total sulfur dioxide    0\n",
       "density                 0\n",
       "pH                      0\n",
       "sulphates               0\n",
       "alcohol                 0\n",
       "quality                 0\n",
       "dtype: int64"
      ]
     },
     "execution_count": 6,
     "metadata": {},
     "output_type": "execute_result"
    }
   ],
   "source": [
    "df.isnull().sum()"
   ]
  },
  {
   "cell_type": "markdown",
   "id": "a238e95b",
   "metadata": {
    "papermill": {
     "duration": 0.053098,
     "end_time": "2021-10-04T15:01:31.049610",
     "exception": false,
     "start_time": "2021-10-04T15:01:30.996512",
     "status": "completed"
    },
    "tags": []
   },
   "source": [
    "<font size=\"4\">Now, there are no more missing values</font>"
   ]
  },
  {
   "cell_type": "markdown",
   "id": "e46cc456",
   "metadata": {
    "papermill": {
     "duration": 0.052006,
     "end_time": "2021-10-04T15:01:31.154103",
     "exception": false,
     "start_time": "2021-10-04T15:01:31.102097",
     "status": "completed"
    },
    "tags": []
   },
   "source": [
    "## **Data exploration**"
   ]
  },
  {
   "cell_type": "code",
   "execution_count": 7,
   "id": "d790f388",
   "metadata": {
    "papermill": {
     "duration": 0.063391,
     "end_time": "2021-10-04T15:01:31.269562",
     "exception": false,
     "start_time": "2021-10-04T15:01:31.206171",
     "status": "completed"
    },
    "tags": []
   },
   "outputs": [
    {
     "data": {
      "text/plain": [
       "white    4898\n",
       "red      1599\n",
       "Name: type, dtype: int64"
      ]
     },
     "execution_count": 7,
     "metadata": {},
     "output_type": "execute_result"
    }
   ],
   "source": [
    "df['type'].value_counts()"
   ]
  },
  {
   "cell_type": "markdown",
   "id": "ed53c9b2",
   "metadata": {
    "papermill": {
     "duration": 0.051581,
     "end_time": "2021-10-04T15:01:31.372994",
     "exception": false,
     "start_time": "2021-10-04T15:01:31.321413",
     "status": "completed"
    },
    "tags": []
   },
   "source": [
    "<font size=\"4\">We have an unbalanced dataset, more number of white wine than red </font>"
   ]
  },
  {
   "cell_type": "code",
   "execution_count": 8,
   "id": "98de590a",
   "metadata": {
    "papermill": {
     "duration": 0.064664,
     "end_time": "2021-10-04T15:01:31.490434",
     "exception": false,
     "start_time": "2021-10-04T15:01:31.425770",
     "status": "completed"
    },
    "tags": []
   },
   "outputs": [
    {
     "data": {
      "text/plain": [
       "6    2836\n",
       "5    2138\n",
       "7    1079\n",
       "4     216\n",
       "8     193\n",
       "3      30\n",
       "9       5\n",
       "Name: quality, dtype: int64"
      ]
     },
     "execution_count": 8,
     "metadata": {},
     "output_type": "execute_result"
    }
   ],
   "source": [
    "df['quality'].value_counts()"
   ]
  },
  {
   "cell_type": "markdown",
   "id": "87cdf3fb",
   "metadata": {
    "papermill": {
     "duration": 0.053557,
     "end_time": "2021-10-04T15:01:31.596553",
     "exception": false,
     "start_time": "2021-10-04T15:01:31.542996",
     "status": "completed"
    },
    "tags": []
   },
   "source": [
    "<font size=\"4\">The dataset is unbalanced with respect to the wine quality as well.</font>"
   ]
  },
  {
   "cell_type": "code",
   "execution_count": 9,
   "id": "542a89de",
   "metadata": {
    "papermill": {
     "duration": 0.109767,
     "end_time": "2021-10-04T15:02:32.922410",
     "exception": false,
     "start_time": "2021-10-04T15:02:32.812643",
     "status": "completed"
    },
    "tags": []
   },
   "outputs": [],
   "source": [
    "df = pd.get_dummies(df, drop_first=True)"
   ]
  },
  {
   "cell_type": "code",
   "execution_count": 10,
   "id": "ae8cdc1f",
   "metadata": {
    "papermill": {
     "duration": 0.119837,
     "end_time": "2021-10-04T15:02:33.140313",
     "exception": false,
     "start_time": "2021-10-04T15:02:33.020476",
     "status": "completed"
    },
    "tags": []
   },
   "outputs": [
    {
     "data": {
      "text/html": [
       "<div>\n",
       "<style scoped>\n",
       "    .dataframe tbody tr th:only-of-type {\n",
       "        vertical-align: middle;\n",
       "    }\n",
       "\n",
       "    .dataframe tbody tr th {\n",
       "        vertical-align: top;\n",
       "    }\n",
       "\n",
       "    .dataframe thead th {\n",
       "        text-align: right;\n",
       "    }\n",
       "</style>\n",
       "<table border=\"1\" class=\"dataframe\">\n",
       "  <thead>\n",
       "    <tr style=\"text-align: right;\">\n",
       "      <th></th>\n",
       "      <th>fixed acidity</th>\n",
       "      <th>volatile acidity</th>\n",
       "      <th>citric acid</th>\n",
       "      <th>residual sugar</th>\n",
       "      <th>chlorides</th>\n",
       "      <th>free sulfur dioxide</th>\n",
       "      <th>total sulfur dioxide</th>\n",
       "      <th>density</th>\n",
       "      <th>pH</th>\n",
       "      <th>sulphates</th>\n",
       "      <th>alcohol</th>\n",
       "      <th>quality</th>\n",
       "      <th>type_white</th>\n",
       "    </tr>\n",
       "  </thead>\n",
       "  <tbody>\n",
       "    <tr>\n",
       "      <th>0</th>\n",
       "      <td>7.0</td>\n",
       "      <td>0.27</td>\n",
       "      <td>0.36</td>\n",
       "      <td>20.7</td>\n",
       "      <td>0.045</td>\n",
       "      <td>45.0</td>\n",
       "      <td>170.0</td>\n",
       "      <td>1.0010</td>\n",
       "      <td>3.00</td>\n",
       "      <td>0.45</td>\n",
       "      <td>8.8</td>\n",
       "      <td>6</td>\n",
       "      <td>1</td>\n",
       "    </tr>\n",
       "    <tr>\n",
       "      <th>1</th>\n",
       "      <td>6.3</td>\n",
       "      <td>0.30</td>\n",
       "      <td>0.34</td>\n",
       "      <td>1.6</td>\n",
       "      <td>0.049</td>\n",
       "      <td>14.0</td>\n",
       "      <td>132.0</td>\n",
       "      <td>0.9940</td>\n",
       "      <td>3.30</td>\n",
       "      <td>0.49</td>\n",
       "      <td>9.5</td>\n",
       "      <td>6</td>\n",
       "      <td>1</td>\n",
       "    </tr>\n",
       "    <tr>\n",
       "      <th>2</th>\n",
       "      <td>8.1</td>\n",
       "      <td>0.28</td>\n",
       "      <td>0.40</td>\n",
       "      <td>6.9</td>\n",
       "      <td>0.050</td>\n",
       "      <td>30.0</td>\n",
       "      <td>97.0</td>\n",
       "      <td>0.9951</td>\n",
       "      <td>3.26</td>\n",
       "      <td>0.44</td>\n",
       "      <td>10.1</td>\n",
       "      <td>6</td>\n",
       "      <td>1</td>\n",
       "    </tr>\n",
       "    <tr>\n",
       "      <th>3</th>\n",
       "      <td>7.2</td>\n",
       "      <td>0.23</td>\n",
       "      <td>0.32</td>\n",
       "      <td>8.5</td>\n",
       "      <td>0.058</td>\n",
       "      <td>47.0</td>\n",
       "      <td>186.0</td>\n",
       "      <td>0.9956</td>\n",
       "      <td>3.19</td>\n",
       "      <td>0.40</td>\n",
       "      <td>9.9</td>\n",
       "      <td>6</td>\n",
       "      <td>1</td>\n",
       "    </tr>\n",
       "    <tr>\n",
       "      <th>4</th>\n",
       "      <td>7.2</td>\n",
       "      <td>0.23</td>\n",
       "      <td>0.32</td>\n",
       "      <td>8.5</td>\n",
       "      <td>0.058</td>\n",
       "      <td>47.0</td>\n",
       "      <td>186.0</td>\n",
       "      <td>0.9956</td>\n",
       "      <td>3.19</td>\n",
       "      <td>0.40</td>\n",
       "      <td>9.9</td>\n",
       "      <td>6</td>\n",
       "      <td>1</td>\n",
       "    </tr>\n",
       "  </tbody>\n",
       "</table>\n",
       "</div>"
      ],
      "text/plain": [
       "   fixed acidity  volatile acidity  citric acid  residual sugar  chlorides  \\\n",
       "0            7.0              0.27         0.36            20.7      0.045   \n",
       "1            6.3              0.30         0.34             1.6      0.049   \n",
       "2            8.1              0.28         0.40             6.9      0.050   \n",
       "3            7.2              0.23         0.32             8.5      0.058   \n",
       "4            7.2              0.23         0.32             8.5      0.058   \n",
       "\n",
       "   free sulfur dioxide  total sulfur dioxide  density    pH  sulphates  \\\n",
       "0                 45.0                 170.0   1.0010  3.00       0.45   \n",
       "1                 14.0                 132.0   0.9940  3.30       0.49   \n",
       "2                 30.0                  97.0   0.9951  3.26       0.44   \n",
       "3                 47.0                 186.0   0.9956  3.19       0.40   \n",
       "4                 47.0                 186.0   0.9956  3.19       0.40   \n",
       "\n",
       "   alcohol  quality  type_white  \n",
       "0      8.8        6           1  \n",
       "1      9.5        6           1  \n",
       "2     10.1        6           1  \n",
       "3      9.9        6           1  \n",
       "4      9.9        6           1  "
      ]
     },
     "execution_count": 10,
     "metadata": {},
     "output_type": "execute_result"
    }
   ],
   "source": [
    "df.head()"
   ]
  },
  {
   "cell_type": "markdown",
   "id": "32351d4c",
   "metadata": {
    "papermill": {
     "duration": 0.095899,
     "end_time": "2021-10-04T15:02:33.331459",
     "exception": false,
     "start_time": "2021-10-04T15:02:33.235560",
     "status": "completed"
    },
    "tags": []
   },
   "source": [
    "<font size=\"4\">Rename the column ```type_white``` to ```wine_type```</font>"
   ]
  },
  {
   "cell_type": "code",
   "execution_count": 11,
   "id": "feb61c8c",
   "metadata": {
    "papermill": {
     "duration": 0.10443,
     "end_time": "2021-10-04T15:02:33.532368",
     "exception": false,
     "start_time": "2021-10-04T15:02:33.427938",
     "status": "completed"
    },
    "tags": []
   },
   "outputs": [],
   "source": [
    "df = df.rename(columns={\"type_white\": \"wine_type\"})"
   ]
  },
  {
   "cell_type": "markdown",
   "id": "874e81e5",
   "metadata": {
    "papermill": {
     "duration": 0.095107,
     "end_time": "2021-10-04T15:02:33.722750",
     "exception": false,
     "start_time": "2021-10-04T15:02:33.627643",
     "status": "completed"
    },
    "tags": []
   },
   "source": [
    "<font size=\"4\">Since, we had an unbalanced dataset with respect to wine quality, we divide the qualities into two  groups - 1 (for wine quality 7, 8, 9) and 0 (for 6 and below)</font>"
   ]
  },
  {
   "cell_type": "code",
   "execution_count": 12,
   "id": "4b9f5084",
   "metadata": {
    "papermill": {
     "duration": 0.108533,
     "end_time": "2021-10-04T15:02:33.926090",
     "exception": false,
     "start_time": "2021-10-04T15:02:33.817557",
     "status": "completed"
    },
    "tags": []
   },
   "outputs": [],
   "source": [
    "df[\"wine_quality\"] = [1 if x>6 else 0 for x in df.quality]"
   ]
  },
  {
   "cell_type": "code",
   "execution_count": 13,
   "id": "d62fd55a",
   "metadata": {
    "papermill": {
     "duration": 0.120783,
     "end_time": "2021-10-04T15:02:34.142293",
     "exception": false,
     "start_time": "2021-10-04T15:02:34.021510",
     "status": "completed"
    },
    "tags": []
   },
   "outputs": [
    {
     "data": {
      "text/html": [
       "<div>\n",
       "<style scoped>\n",
       "    .dataframe tbody tr th:only-of-type {\n",
       "        vertical-align: middle;\n",
       "    }\n",
       "\n",
       "    .dataframe tbody tr th {\n",
       "        vertical-align: top;\n",
       "    }\n",
       "\n",
       "    .dataframe thead th {\n",
       "        text-align: right;\n",
       "    }\n",
       "</style>\n",
       "<table border=\"1\" class=\"dataframe\">\n",
       "  <thead>\n",
       "    <tr style=\"text-align: right;\">\n",
       "      <th></th>\n",
       "      <th>fixed acidity</th>\n",
       "      <th>volatile acidity</th>\n",
       "      <th>citric acid</th>\n",
       "      <th>residual sugar</th>\n",
       "      <th>chlorides</th>\n",
       "      <th>free sulfur dioxide</th>\n",
       "      <th>total sulfur dioxide</th>\n",
       "      <th>density</th>\n",
       "      <th>pH</th>\n",
       "      <th>sulphates</th>\n",
       "      <th>alcohol</th>\n",
       "      <th>quality</th>\n",
       "      <th>wine_type</th>\n",
       "      <th>wine_quality</th>\n",
       "    </tr>\n",
       "  </thead>\n",
       "  <tbody>\n",
       "    <tr>\n",
       "      <th>0</th>\n",
       "      <td>7.0</td>\n",
       "      <td>0.27</td>\n",
       "      <td>0.36</td>\n",
       "      <td>20.7</td>\n",
       "      <td>0.045</td>\n",
       "      <td>45.0</td>\n",
       "      <td>170.0</td>\n",
       "      <td>1.0010</td>\n",
       "      <td>3.00</td>\n",
       "      <td>0.45</td>\n",
       "      <td>8.8</td>\n",
       "      <td>6</td>\n",
       "      <td>1</td>\n",
       "      <td>0</td>\n",
       "    </tr>\n",
       "    <tr>\n",
       "      <th>1</th>\n",
       "      <td>6.3</td>\n",
       "      <td>0.30</td>\n",
       "      <td>0.34</td>\n",
       "      <td>1.6</td>\n",
       "      <td>0.049</td>\n",
       "      <td>14.0</td>\n",
       "      <td>132.0</td>\n",
       "      <td>0.9940</td>\n",
       "      <td>3.30</td>\n",
       "      <td>0.49</td>\n",
       "      <td>9.5</td>\n",
       "      <td>6</td>\n",
       "      <td>1</td>\n",
       "      <td>0</td>\n",
       "    </tr>\n",
       "    <tr>\n",
       "      <th>2</th>\n",
       "      <td>8.1</td>\n",
       "      <td>0.28</td>\n",
       "      <td>0.40</td>\n",
       "      <td>6.9</td>\n",
       "      <td>0.050</td>\n",
       "      <td>30.0</td>\n",
       "      <td>97.0</td>\n",
       "      <td>0.9951</td>\n",
       "      <td>3.26</td>\n",
       "      <td>0.44</td>\n",
       "      <td>10.1</td>\n",
       "      <td>6</td>\n",
       "      <td>1</td>\n",
       "      <td>0</td>\n",
       "    </tr>\n",
       "    <tr>\n",
       "      <th>3</th>\n",
       "      <td>7.2</td>\n",
       "      <td>0.23</td>\n",
       "      <td>0.32</td>\n",
       "      <td>8.5</td>\n",
       "      <td>0.058</td>\n",
       "      <td>47.0</td>\n",
       "      <td>186.0</td>\n",
       "      <td>0.9956</td>\n",
       "      <td>3.19</td>\n",
       "      <td>0.40</td>\n",
       "      <td>9.9</td>\n",
       "      <td>6</td>\n",
       "      <td>1</td>\n",
       "      <td>0</td>\n",
       "    </tr>\n",
       "    <tr>\n",
       "      <th>4</th>\n",
       "      <td>7.2</td>\n",
       "      <td>0.23</td>\n",
       "      <td>0.32</td>\n",
       "      <td>8.5</td>\n",
       "      <td>0.058</td>\n",
       "      <td>47.0</td>\n",
       "      <td>186.0</td>\n",
       "      <td>0.9956</td>\n",
       "      <td>3.19</td>\n",
       "      <td>0.40</td>\n",
       "      <td>9.9</td>\n",
       "      <td>6</td>\n",
       "      <td>1</td>\n",
       "      <td>0</td>\n",
       "    </tr>\n",
       "  </tbody>\n",
       "</table>\n",
       "</div>"
      ],
      "text/plain": [
       "   fixed acidity  volatile acidity  citric acid  residual sugar  chlorides  \\\n",
       "0            7.0              0.27         0.36            20.7      0.045   \n",
       "1            6.3              0.30         0.34             1.6      0.049   \n",
       "2            8.1              0.28         0.40             6.9      0.050   \n",
       "3            7.2              0.23         0.32             8.5      0.058   \n",
       "4            7.2              0.23         0.32             8.5      0.058   \n",
       "\n",
       "   free sulfur dioxide  total sulfur dioxide  density    pH  sulphates  \\\n",
       "0                 45.0                 170.0   1.0010  3.00       0.45   \n",
       "1                 14.0                 132.0   0.9940  3.30       0.49   \n",
       "2                 30.0                  97.0   0.9951  3.26       0.44   \n",
       "3                 47.0                 186.0   0.9956  3.19       0.40   \n",
       "4                 47.0                 186.0   0.9956  3.19       0.40   \n",
       "\n",
       "   alcohol  quality  wine_type  wine_quality  \n",
       "0      8.8        6          1             0  \n",
       "1      9.5        6          1             0  \n",
       "2     10.1        6          1             0  \n",
       "3      9.9        6          1             0  \n",
       "4      9.9        6          1             0  "
      ]
     },
     "execution_count": 13,
     "metadata": {},
     "output_type": "execute_result"
    }
   ],
   "source": [
    "df.head()"
   ]
  },
  {
   "cell_type": "markdown",
   "id": "cbc21446",
   "metadata": {
    "papermill": {
     "duration": 0.094138,
     "end_time": "2021-10-04T15:02:34.331715",
     "exception": false,
     "start_time": "2021-10-04T15:02:34.237577",
     "status": "completed"
    },
    "tags": []
   },
   "source": [
    "<font size=\"4\">Store the label in ```y```</font>"
   ]
  },
  {
   "cell_type": "code",
   "execution_count": 14,
   "id": "db7a7b6c",
   "metadata": {
    "papermill": {
     "duration": 0.10226,
     "end_time": "2021-10-04T15:02:34.531455",
     "exception": false,
     "start_time": "2021-10-04T15:02:34.429195",
     "status": "completed"
    },
    "tags": []
   },
   "outputs": [],
   "source": [
    "y = df[\"wine_quality\"]"
   ]
  },
  {
   "cell_type": "code",
   "execution_count": 15,
   "id": "11896492",
   "metadata": {
    "papermill": {
     "duration": 0.106157,
     "end_time": "2021-10-04T15:02:34.733865",
     "exception": false,
     "start_time": "2021-10-04T15:02:34.627708",
     "status": "completed"
    },
    "tags": []
   },
   "outputs": [
    {
     "data": {
      "text/plain": [
       "0    5220\n",
       "1    1277\n",
       "Name: wine_quality, dtype: int64"
      ]
     },
     "execution_count": 15,
     "metadata": {},
     "output_type": "execute_result"
    }
   ],
   "source": [
    "y.value_counts()"
   ]
  },
  {
   "cell_type": "code",
   "execution_count": 16,
   "id": "295a67ee",
   "metadata": {
    "papermill": {
     "duration": 0.105823,
     "end_time": "2021-10-04T15:02:34.935269",
     "exception": false,
     "start_time": "2021-10-04T15:02:34.829446",
     "status": "completed"
    },
    "tags": []
   },
   "outputs": [
    {
     "data": {
      "text/plain": [
       "0       0\n",
       "1       0\n",
       "2       0\n",
       "3       0\n",
       "4       0\n",
       "       ..\n",
       "6492    0\n",
       "6493    0\n",
       "6494    0\n",
       "6495    0\n",
       "6496    0\n",
       "Name: wine_quality, Length: 6497, dtype: int64"
      ]
     },
     "execution_count": 16,
     "metadata": {},
     "output_type": "execute_result"
    }
   ],
   "source": [
    "y"
   ]
  },
  {
   "cell_type": "markdown",
   "id": "b0d51fc5",
   "metadata": {
    "papermill": {
     "duration": 0.095997,
     "end_time": "2021-10-04T15:02:35.129058",
     "exception": false,
     "start_time": "2021-10-04T15:02:35.033061",
     "status": "completed"
    },
    "tags": []
   },
   "source": [
    "<font size=\"4\">Store the feature columns in ```x```</font>"
   ]
  },
  {
   "cell_type": "code",
   "execution_count": 17,
   "id": "df67f745",
   "metadata": {
    "papermill": {
     "duration": 0.104535,
     "end_time": "2021-10-04T15:02:35.329138",
     "exception": false,
     "start_time": "2021-10-04T15:02:35.224603",
     "status": "completed"
    },
    "tags": []
   },
   "outputs": [],
   "source": [
    "x = df.drop([\"quality\", \"wine_quality\"], axis=1)"
   ]
  },
  {
   "cell_type": "code",
   "execution_count": 18,
   "id": "16daa923",
   "metadata": {
    "papermill": {
     "duration": 0.145482,
     "end_time": "2021-10-04T15:02:35.581175",
     "exception": false,
     "start_time": "2021-10-04T15:02:35.435693",
     "status": "completed"
    },
    "tags": []
   },
   "outputs": [
    {
     "data": {
      "text/html": [
       "<div>\n",
       "<style scoped>\n",
       "    .dataframe tbody tr th:only-of-type {\n",
       "        vertical-align: middle;\n",
       "    }\n",
       "\n",
       "    .dataframe tbody tr th {\n",
       "        vertical-align: top;\n",
       "    }\n",
       "\n",
       "    .dataframe thead th {\n",
       "        text-align: right;\n",
       "    }\n",
       "</style>\n",
       "<table border=\"1\" class=\"dataframe\">\n",
       "  <thead>\n",
       "    <tr style=\"text-align: right;\">\n",
       "      <th></th>\n",
       "      <th>fixed acidity</th>\n",
       "      <th>volatile acidity</th>\n",
       "      <th>citric acid</th>\n",
       "      <th>residual sugar</th>\n",
       "      <th>chlorides</th>\n",
       "      <th>free sulfur dioxide</th>\n",
       "      <th>total sulfur dioxide</th>\n",
       "      <th>density</th>\n",
       "      <th>pH</th>\n",
       "      <th>sulphates</th>\n",
       "      <th>alcohol</th>\n",
       "      <th>wine_type</th>\n",
       "    </tr>\n",
       "  </thead>\n",
       "  <tbody>\n",
       "    <tr>\n",
       "      <th>0</th>\n",
       "      <td>7.0</td>\n",
       "      <td>0.270</td>\n",
       "      <td>0.36</td>\n",
       "      <td>20.7</td>\n",
       "      <td>0.045</td>\n",
       "      <td>45.0</td>\n",
       "      <td>170.0</td>\n",
       "      <td>1.00100</td>\n",
       "      <td>3.00</td>\n",
       "      <td>0.450000</td>\n",
       "      <td>8.8</td>\n",
       "      <td>1</td>\n",
       "    </tr>\n",
       "    <tr>\n",
       "      <th>1</th>\n",
       "      <td>6.3</td>\n",
       "      <td>0.300</td>\n",
       "      <td>0.34</td>\n",
       "      <td>1.6</td>\n",
       "      <td>0.049</td>\n",
       "      <td>14.0</td>\n",
       "      <td>132.0</td>\n",
       "      <td>0.99400</td>\n",
       "      <td>3.30</td>\n",
       "      <td>0.490000</td>\n",
       "      <td>9.5</td>\n",
       "      <td>1</td>\n",
       "    </tr>\n",
       "    <tr>\n",
       "      <th>2</th>\n",
       "      <td>8.1</td>\n",
       "      <td>0.280</td>\n",
       "      <td>0.40</td>\n",
       "      <td>6.9</td>\n",
       "      <td>0.050</td>\n",
       "      <td>30.0</td>\n",
       "      <td>97.0</td>\n",
       "      <td>0.99510</td>\n",
       "      <td>3.26</td>\n",
       "      <td>0.440000</td>\n",
       "      <td>10.1</td>\n",
       "      <td>1</td>\n",
       "    </tr>\n",
       "    <tr>\n",
       "      <th>3</th>\n",
       "      <td>7.2</td>\n",
       "      <td>0.230</td>\n",
       "      <td>0.32</td>\n",
       "      <td>8.5</td>\n",
       "      <td>0.058</td>\n",
       "      <td>47.0</td>\n",
       "      <td>186.0</td>\n",
       "      <td>0.99560</td>\n",
       "      <td>3.19</td>\n",
       "      <td>0.400000</td>\n",
       "      <td>9.9</td>\n",
       "      <td>1</td>\n",
       "    </tr>\n",
       "    <tr>\n",
       "      <th>4</th>\n",
       "      <td>7.2</td>\n",
       "      <td>0.230</td>\n",
       "      <td>0.32</td>\n",
       "      <td>8.5</td>\n",
       "      <td>0.058</td>\n",
       "      <td>47.0</td>\n",
       "      <td>186.0</td>\n",
       "      <td>0.99560</td>\n",
       "      <td>3.19</td>\n",
       "      <td>0.400000</td>\n",
       "      <td>9.9</td>\n",
       "      <td>1</td>\n",
       "    </tr>\n",
       "    <tr>\n",
       "      <th>...</th>\n",
       "      <td>...</td>\n",
       "      <td>...</td>\n",
       "      <td>...</td>\n",
       "      <td>...</td>\n",
       "      <td>...</td>\n",
       "      <td>...</td>\n",
       "      <td>...</td>\n",
       "      <td>...</td>\n",
       "      <td>...</td>\n",
       "      <td>...</td>\n",
       "      <td>...</td>\n",
       "      <td>...</td>\n",
       "    </tr>\n",
       "    <tr>\n",
       "      <th>6492</th>\n",
       "      <td>6.2</td>\n",
       "      <td>0.600</td>\n",
       "      <td>0.08</td>\n",
       "      <td>2.0</td>\n",
       "      <td>0.090</td>\n",
       "      <td>32.0</td>\n",
       "      <td>44.0</td>\n",
       "      <td>0.99490</td>\n",
       "      <td>3.45</td>\n",
       "      <td>0.580000</td>\n",
       "      <td>10.5</td>\n",
       "      <td>0</td>\n",
       "    </tr>\n",
       "    <tr>\n",
       "      <th>6493</th>\n",
       "      <td>5.9</td>\n",
       "      <td>0.550</td>\n",
       "      <td>0.10</td>\n",
       "      <td>2.2</td>\n",
       "      <td>0.062</td>\n",
       "      <td>39.0</td>\n",
       "      <td>51.0</td>\n",
       "      <td>0.99512</td>\n",
       "      <td>3.52</td>\n",
       "      <td>0.531215</td>\n",
       "      <td>11.2</td>\n",
       "      <td>0</td>\n",
       "    </tr>\n",
       "    <tr>\n",
       "      <th>6494</th>\n",
       "      <td>6.3</td>\n",
       "      <td>0.510</td>\n",
       "      <td>0.13</td>\n",
       "      <td>2.3</td>\n",
       "      <td>0.076</td>\n",
       "      <td>29.0</td>\n",
       "      <td>40.0</td>\n",
       "      <td>0.99574</td>\n",
       "      <td>3.42</td>\n",
       "      <td>0.750000</td>\n",
       "      <td>11.0</td>\n",
       "      <td>0</td>\n",
       "    </tr>\n",
       "    <tr>\n",
       "      <th>6495</th>\n",
       "      <td>5.9</td>\n",
       "      <td>0.645</td>\n",
       "      <td>0.12</td>\n",
       "      <td>2.0</td>\n",
       "      <td>0.075</td>\n",
       "      <td>32.0</td>\n",
       "      <td>44.0</td>\n",
       "      <td>0.99547</td>\n",
       "      <td>3.57</td>\n",
       "      <td>0.710000</td>\n",
       "      <td>10.2</td>\n",
       "      <td>0</td>\n",
       "    </tr>\n",
       "    <tr>\n",
       "      <th>6496</th>\n",
       "      <td>6.0</td>\n",
       "      <td>0.310</td>\n",
       "      <td>0.47</td>\n",
       "      <td>3.6</td>\n",
       "      <td>0.067</td>\n",
       "      <td>18.0</td>\n",
       "      <td>42.0</td>\n",
       "      <td>0.99549</td>\n",
       "      <td>3.39</td>\n",
       "      <td>0.660000</td>\n",
       "      <td>11.0</td>\n",
       "      <td>0</td>\n",
       "    </tr>\n",
       "  </tbody>\n",
       "</table>\n",
       "<p>6497 rows × 12 columns</p>\n",
       "</div>"
      ],
      "text/plain": [
       "      fixed acidity  volatile acidity  citric acid  residual sugar  chlorides  \\\n",
       "0               7.0             0.270         0.36            20.7      0.045   \n",
       "1               6.3             0.300         0.34             1.6      0.049   \n",
       "2               8.1             0.280         0.40             6.9      0.050   \n",
       "3               7.2             0.230         0.32             8.5      0.058   \n",
       "4               7.2             0.230         0.32             8.5      0.058   \n",
       "...             ...               ...          ...             ...        ...   \n",
       "6492            6.2             0.600         0.08             2.0      0.090   \n",
       "6493            5.9             0.550         0.10             2.2      0.062   \n",
       "6494            6.3             0.510         0.13             2.3      0.076   \n",
       "6495            5.9             0.645         0.12             2.0      0.075   \n",
       "6496            6.0             0.310         0.47             3.6      0.067   \n",
       "\n",
       "      free sulfur dioxide  total sulfur dioxide  density    pH  sulphates  \\\n",
       "0                    45.0                 170.0  1.00100  3.00   0.450000   \n",
       "1                    14.0                 132.0  0.99400  3.30   0.490000   \n",
       "2                    30.0                  97.0  0.99510  3.26   0.440000   \n",
       "3                    47.0                 186.0  0.99560  3.19   0.400000   \n",
       "4                    47.0                 186.0  0.99560  3.19   0.400000   \n",
       "...                   ...                   ...      ...   ...        ...   \n",
       "6492                 32.0                  44.0  0.99490  3.45   0.580000   \n",
       "6493                 39.0                  51.0  0.99512  3.52   0.531215   \n",
       "6494                 29.0                  40.0  0.99574  3.42   0.750000   \n",
       "6495                 32.0                  44.0  0.99547  3.57   0.710000   \n",
       "6496                 18.0                  42.0  0.99549  3.39   0.660000   \n",
       "\n",
       "      alcohol  wine_type  \n",
       "0         8.8          1  \n",
       "1         9.5          1  \n",
       "2        10.1          1  \n",
       "3         9.9          1  \n",
       "4         9.9          1  \n",
       "...       ...        ...  \n",
       "6492     10.5          0  \n",
       "6493     11.2          0  \n",
       "6494     11.0          0  \n",
       "6495     10.2          0  \n",
       "6496     11.0          0  \n",
       "\n",
       "[6497 rows x 12 columns]"
      ]
     },
     "execution_count": 18,
     "metadata": {},
     "output_type": "execute_result"
    }
   ],
   "source": [
    "x"
   ]
  },
  {
   "cell_type": "markdown",
   "id": "deebb65b",
   "metadata": {
    "papermill": {
     "duration": 0.096059,
     "end_time": "2021-10-04T15:02:35.775226",
     "exception": false,
     "start_time": "2021-10-04T15:02:35.679167",
     "status": "completed"
    },
    "tags": []
   },
   "source": [
    "## **Model Training**"
   ]
  },
  {
   "cell_type": "code",
   "execution_count": 19,
   "id": "7b97f7f4",
   "metadata": {
    "papermill": {
     "duration": 0.364091,
     "end_time": "2021-10-04T15:02:36.235469",
     "exception": false,
     "start_time": "2021-10-04T15:02:35.871378",
     "status": "completed"
    },
    "tags": []
   },
   "outputs": [],
   "source": [
    "from sklearn.model_selection import train_test_split\n",
    "from sklearn.linear_model import LogisticRegression\n",
    "from sklearn.metrics import accuracy_score, confusion_matrix"
   ]
  },
  {
   "cell_type": "code",
   "execution_count": 20,
   "id": "d1898e5d",
   "metadata": {
    "papermill": {
     "duration": 0.107673,
     "end_time": "2021-10-04T15:02:36.440019",
     "exception": false,
     "start_time": "2021-10-04T15:02:36.332346",
     "status": "completed"
    },
    "tags": []
   },
   "outputs": [],
   "source": [
    "log = pd.DataFrame(columns=[\"model\", \"accuracy\", \"enhanced_data\"])\n",
    "log['enhanced_data'] = log['enhanced_data'].astype(bool)"
   ]
  },
  {
   "cell_type": "code",
   "execution_count": 21,
   "id": "7bf76172",
   "metadata": {
    "papermill": {
     "duration": 0.11087,
     "end_time": "2021-10-04T15:02:36.647036",
     "exception": false,
     "start_time": "2021-10-04T15:02:36.536166",
     "status": "completed"
    },
    "tags": []
   },
   "outputs": [],
   "source": [
    "X_train, X_test, y_train, y_test = train_test_split(x, y, test_size = 0.2, random_state = 42)"
   ]
  },
  {
   "cell_type": "code",
   "execution_count": 22,
   "id": "da3c869d",
   "metadata": {},
   "outputs": [],
   "source": [
    "from enhance_data import enhance_data\n",
    "from sklearn.compose import ColumnTransformer\n",
    "from sklearn.pipeline import Pipeline\n",
    "from sklearn.experimental import enable_iterative_imputer\n",
    "from sklearn.impute import IterativeImputer\n",
    "from sklearn.preprocessing import OneHotEncoder, StandardScaler, MinMaxScaler\n",
    "\n",
    "\n",
    "transformer = ColumnTransformer([\n",
    "    ('onehotencode categories', OneHotEncoder(), ['wine_type']),\n",
    "    ('nor normally distributed', MinMaxScaler(), ['fixed acidity',\n",
    "                                                  'volatile acidity',\n",
    "                                                  'citric acid',\n",
    "                                                  'residual sugar',\n",
    "                                                  'chlorides',\n",
    "                                                  'free sulfur dioxide',\n",
    "                                                  'total sulfur dioxide',\n",
    "                                                  'density',\n",
    "                                                  'pH',\n",
    "                                                  'sulphates',\n",
    "                                                  'alcohol'])], \n",
    "    remainder='drop')\n",
    "    \n",
    "# chain transformer and imputation\n",
    "pipeline = Pipeline([('transform', transformer)])\n",
    "X_train = pipeline.fit_transform(X_train)\n",
    "X_test = pipeline.fit_transform(X_test)\n",
    "\n",
    "#y_train = y_train.values"
   ]
  },
  {
   "cell_type": "code",
   "execution_count": 23,
   "id": "f3000563",
   "metadata": {},
   "outputs": [
    {
     "name": "stdout",
     "output_type": "stream",
     "text": [
      "\n",
      "fitting new wasserstein generator on smaller data\n",
      "Epoch   1 | ET 0.07 min | Avg Losses >> G/D   0.07/164.66 [D-Real:  -0.29 D-Fake:  -0.07]\n",
      "Epoch   2 | ET 0.14 min | Avg Losses >> G/D   0.03/ 16.07 [D-Real:   0.01 D-Fake:  -0.03]\n",
      "Epoch   3 | ET 0.23 min | Avg Losses >> G/D  -0.04/ 12.88 [D-Real:  -0.00 D-Fake:   0.04]\n",
      "Epoch   4 | ET 0.32 min | Avg Losses >> G/D  -0.08/ 10.37 [D-Real:  -0.04 D-Fake:   0.08]\n",
      "Epoch   5 | ET 0.41 min | Avg Losses >> G/D  -0.13/  8.17 [D-Real:  -0.08 D-Fake:   0.13]\n",
      "Epoch   6 | ET 0.48 min | Avg Losses >> G/D  -0.16/  6.19 [D-Real:  -0.09 D-Fake:   0.16]\n",
      "Epoch   7 | ET 0.55 min | Avg Losses >> G/D  -0.18/  4.73 [D-Real:  -0.09 D-Fake:   0.18]\n",
      "Epoch   8 | ET 0.62 min | Avg Losses >> G/D  -0.16/  3.54 [D-Real:  -0.10 D-Fake:   0.16]\n",
      "Epoch   9 | ET 0.68 min | Avg Losses >> G/D  -0.17/  2.61 [D-Real:  -0.11 D-Fake:   0.17]\n",
      "Epoch  10 | ET 0.74 min | Avg Losses >> G/D  -0.17/  1.86 [D-Real:  -0.08 D-Fake:   0.17]\n",
      "Epoch  11 | ET 0.80 min | Avg Losses >> G/D  -0.17/  1.37 [D-Real:  -0.09 D-Fake:   0.17]\n",
      "Epoch  12 | ET 0.86 min | Avg Losses >> G/D  -0.18/  0.99 [D-Real:  -0.08 D-Fake:   0.18]\n",
      "Epoch  13 | ET 0.92 min | Avg Losses >> G/D  -0.15/  0.68 [D-Real:  -0.09 D-Fake:   0.15]\n",
      "Epoch  14 | ET 0.97 min | Avg Losses >> G/D  -0.16/  0.50 [D-Real:  -0.09 D-Fake:   0.16]\n",
      "Epoch  15 | ET 1.03 min | Avg Losses >> G/D  -0.17/  0.37 [D-Real:  -0.09 D-Fake:   0.17]\n",
      "Epoch  16 | ET 1.09 min | Avg Losses >> G/D  -0.14/  0.24 [D-Real:  -0.11 D-Fake:   0.14]\n",
      "Epoch  17 | ET 1.15 min | Avg Losses >> G/D  -0.15/  0.17 [D-Real:  -0.12 D-Fake:   0.15]\n",
      "Epoch  18 | ET 1.22 min | Avg Losses >> G/D  -0.17/  0.13 [D-Real:  -0.14 D-Fake:   0.17]\n",
      "Epoch  19 | ET 1.31 min | Avg Losses >> G/D  -0.16/  0.10 [D-Real:  -0.14 D-Fake:   0.16]\n",
      "Epoch  20 | ET 1.37 min | Avg Losses >> G/D  -0.15/  0.05 [D-Real:  -0.18 D-Fake:   0.15]\n",
      "Epoch  21 | ET 1.43 min | Avg Losses >> G/D  -0.16/  0.02 [D-Real:  -0.20 D-Fake:   0.16]\n",
      "Epoch  22 | ET 1.49 min | Avg Losses >> G/D  -0.17/  0.03 [D-Real:  -0.20 D-Fake:   0.17]\n",
      "Epoch  23 | ET 1.55 min | Avg Losses >> G/D  -0.20/  0.02 [D-Real:  -0.23 D-Fake:   0.20]\n",
      "Epoch  24 | ET 1.61 min | Avg Losses >> G/D  -0.18/ -0.03 [D-Real:  -0.25 D-Fake:   0.18]\n",
      "Epoch  25 | ET 1.67 min | Avg Losses >> G/D  -0.18/ -0.05 [D-Real:  -0.27 D-Fake:   0.18]\n",
      "Epoch  26 | ET 1.74 min | Avg Losses >> G/D  -0.20/ -0.05 [D-Real:  -0.29 D-Fake:   0.20]\n",
      "Epoch  27 | ET 1.80 min | Avg Losses >> G/D  -0.20/ -0.06 [D-Real:  -0.31 D-Fake:   0.20]\n",
      "Epoch  28 | ET 1.86 min | Avg Losses >> G/D  -0.22/ -0.07 [D-Real:  -0.33 D-Fake:   0.22]\n",
      "Epoch  29 | ET 1.93 min | Avg Losses >> G/D  -0.23/ -0.08 [D-Real:  -0.35 D-Fake:   0.23]\n",
      "Epoch  30 | ET 1.99 min | Avg Losses >> G/D  -0.24/ -0.09 [D-Real:  -0.36 D-Fake:   0.24]\n",
      "Epoch  31 | ET 2.05 min | Avg Losses >> G/D  -0.26/ -0.10 [D-Real:  -0.39 D-Fake:   0.26]\n",
      "Epoch  32 | ET 2.11 min | Avg Losses >> G/D  -0.27/ -0.12 [D-Real:  -0.42 D-Fake:   0.27]\n",
      "Epoch  33 | ET 2.17 min | Avg Losses >> G/D  -0.29/ -0.11 [D-Real:  -0.43 D-Fake:   0.29]\n",
      "Epoch  34 | ET 2.24 min | Avg Losses >> G/D  -0.31/ -0.10 [D-Real:  -0.44 D-Fake:   0.31]\n",
      "Epoch  35 | ET 2.30 min | Avg Losses >> G/D  -0.33/ -0.13 [D-Real:  -0.48 D-Fake:   0.33]\n",
      "Epoch  36 | ET 2.37 min | Avg Losses >> G/D  -0.35/ -0.15 [D-Real:  -0.52 D-Fake:   0.35]\n",
      "Epoch  37 | ET 2.43 min | Avg Losses >> G/D  -0.37/ -0.13 [D-Real:  -0.52 D-Fake:   0.37]\n",
      "Epoch  38 | ET 2.52 min | Avg Losses >> G/D  -0.40/ -0.11 [D-Real:  -0.54 D-Fake:   0.40]\n",
      "Epoch  39 | ET 2.58 min | Avg Losses >> G/D  -0.42/ -0.12 [D-Real:  -0.55 D-Fake:   0.42]\n",
      "Epoch  40 | ET 2.66 min | Avg Losses >> G/D  -0.42/ -0.12 [D-Real:  -0.57 D-Fake:   0.42]\n",
      "\n",
      "generating training log image\n",
      "image saved to: ./img/e_40_layers_2_units_5.png\n"
     ]
    },
    {
     "data": {
      "image/png": "[encoded data removed]",
      "text/plain": [
       "<Figure size 1440x720 with 4 Axes>"
      ]
     },
     "metadata": {
      "needs_background": "light"
     },
     "output_type": "display_data"
    }
   ],
   "source": [
    "enh = enhance_data(X_train, y_train, \n",
    "                   force_generator=True, \n",
    "                   synthetic_share=1., \n",
    "                   wasserstein=True,\n",
    "                   replace_real_data=True)"
   ]
  },
  {
   "cell_type": "markdown",
   "id": "8d82e408",
   "metadata": {
    "papermill": {
     "duration": 0.096079,
     "end_time": "2021-10-04T15:02:36.839658",
     "exception": false,
     "start_time": "2021-10-04T15:02:36.743579",
     "status": "completed"
    },
    "tags": []
   },
   "source": [
    "<font size=\"4\">**Logistic Regeression**</font>"
   ]
  },
  {
   "cell_type": "code",
   "execution_count": 24,
   "id": "4658148f",
   "metadata": {
    "papermill": {
     "duration": 0.16727,
     "end_time": "2021-10-04T15:02:37.104606",
     "exception": false,
     "start_time": "2021-10-04T15:02:36.937336",
     "status": "completed"
    },
    "tags": []
   },
   "outputs": [
    {
     "data": {
      "text/plain": [
       "array([[983,  64],\n",
       "       [172,  81]])"
      ]
     },
     "execution_count": 24,
     "metadata": {},
     "output_type": "execute_result"
    }
   ],
   "source": [
    "clf = LogisticRegression(solver='liblinear')\n",
    "\n",
    "clf.fit(X_train, y_train)\n",
    "\n",
    "y_pred = clf.predict(X_test)\n",
    "\n",
    "clf.score(X_train, y_train)\n",
    "\n",
    "score = accuracy_score(y_test, y_pred)\n",
    "\n",
    "confusion_matrix(y_test, y_pred)"
   ]
  },
  {
   "cell_type": "markdown",
   "id": "9e0955b4",
   "metadata": {},
   "source": [
    "# logreg with enhanced data"
   ]
  },
  {
   "cell_type": "code",
   "execution_count": 25,
   "id": "18c53f63",
   "metadata": {
    "papermill": {
     "duration": 0.108268,
     "end_time": "2021-10-04T15:02:37.356482",
     "exception": false,
     "start_time": "2021-10-04T15:02:37.248214",
     "status": "completed"
    },
    "tags": []
   },
   "outputs": [],
   "source": [
    "log = log.append({\"model\": \"logistic regression\", \"accuracy\": score, \"enhanced_data\": False}, ignore_index=True)"
   ]
  },
  {
   "cell_type": "code",
   "execution_count": 26,
   "id": "c9f633fa",
   "metadata": {},
   "outputs": [
    {
     "data": {
      "text/plain": [
       "array([[269, 778],\n",
       "       [ 14, 239]])"
      ]
     },
     "execution_count": 26,
     "metadata": {},
     "output_type": "execute_result"
    }
   ],
   "source": [
    "clf = LogisticRegression(solver='liblinear')\n",
    "\n",
    "clf.fit(enh['x_train_processed'], enh['y_train'])\n",
    "\n",
    "y_pred = clf.predict(X_test)\n",
    "\n",
    "clf.score(X_train, y_train)\n",
    "\n",
    "score = accuracy_score(y_test, y_pred)\n",
    "\n",
    "confusion_matrix(y_test, y_pred)"
   ]
  },
  {
   "cell_type": "code",
   "execution_count": 27,
   "id": "a0eb41ee",
   "metadata": {},
   "outputs": [],
   "source": [
    "log = log.append({\"model\": \"logistic regression\", \"accuracy\": score, \"enhanced_data\": True}, ignore_index=True)"
   ]
  },
  {
   "cell_type": "markdown",
   "id": "1ea59b28",
   "metadata": {
    "papermill": {
     "duration": 0.096856,
     "end_time": "2021-10-04T15:02:37.552154",
     "exception": false,
     "start_time": "2021-10-04T15:02:37.455298",
     "status": "completed"
    },
    "tags": []
   },
   "source": [
    "<font size=\"4\">**C-support Vector Classification**</font>"
   ]
  },
  {
   "cell_type": "code",
   "execution_count": 28,
   "id": "a2d2fc0c",
   "metadata": {
    "papermill": {
     "duration": 0.103736,
     "end_time": "2021-10-04T15:02:37.753297",
     "exception": false,
     "start_time": "2021-10-04T15:02:37.649561",
     "status": "completed"
    },
    "tags": []
   },
   "outputs": [],
   "source": [
    "from sklearn.svm import SVC"
   ]
  },
  {
   "cell_type": "code",
   "execution_count": 29,
   "id": "913e947a",
   "metadata": {
    "papermill": {
     "duration": 0.906242,
     "end_time": "2021-10-04T15:02:38.756603",
     "exception": false,
     "start_time": "2021-10-04T15:02:37.850361",
     "status": "completed"
    },
    "tags": []
   },
   "outputs": [],
   "source": [
    "model = SVC(kernel=\"rbf\",C=1)\n",
    "\n",
    "model.fit(X_train, y_train)\n",
    "\n",
    "y_pred = model.predict(X_test)\n",
    "\n",
    "score = accuracy_score(y_test, y_pred)"
   ]
  },
  {
   "cell_type": "code",
   "execution_count": 30,
   "id": "da458bb5",
   "metadata": {},
   "outputs": [],
   "source": [
    "log = log.append({\"model\": \"SVC\", \"accuracy\": score, \"enhanced_data\": False}, ignore_index=True)"
   ]
  },
  {
   "cell_type": "markdown",
   "id": "5a50c4ef",
   "metadata": {},
   "source": [
    "# svc with enhanced data"
   ]
  },
  {
   "cell_type": "code",
   "execution_count": 31,
   "id": "c52130c4",
   "metadata": {},
   "outputs": [],
   "source": [
    "model = SVC(kernel=\"rbf\",C=1)\n",
    "\n",
    "model.fit(enh['x_train_processed'], enh['y_train'])\n",
    "\n",
    "y_pred = model.predict(X_test)\n",
    "\n",
    "score = accuracy_score(y_test, y_pred)"
   ]
  },
  {
   "cell_type": "code",
   "execution_count": 32,
   "id": "2f959843",
   "metadata": {
    "papermill": {
     "duration": 0.140872,
     "end_time": "2021-10-04T15:02:39.203309",
     "exception": false,
     "start_time": "2021-10-04T15:02:39.062437",
     "status": "completed"
    },
    "tags": []
   },
   "outputs": [],
   "source": [
    "log = log.append({\"model\": \"SVC\", \"accuracy\": score, \"enhanced_data\": True}, ignore_index=True)"
   ]
  },
  {
   "cell_type": "code",
   "execution_count": 33,
   "id": "2e58423f",
   "metadata": {
    "papermill": {
     "duration": 0.109647,
     "end_time": "2021-10-04T15:02:39.410510",
     "exception": false,
     "start_time": "2021-10-04T15:02:39.300863",
     "status": "completed"
    },
    "tags": []
   },
   "outputs": [
    {
     "data": {
      "text/html": [
       "<div>\n",
       "<style scoped>\n",
       "    .dataframe tbody tr th:only-of-type {\n",
       "        vertical-align: middle;\n",
       "    }\n",
       "\n",
       "    .dataframe tbody tr th {\n",
       "        vertical-align: top;\n",
       "    }\n",
       "\n",
       "    .dataframe thead th {\n",
       "        text-align: right;\n",
       "    }\n",
       "</style>\n",
       "<table border=\"1\" class=\"dataframe\">\n",
       "  <thead>\n",
       "    <tr style=\"text-align: right;\">\n",
       "      <th></th>\n",
       "      <th>model</th>\n",
       "      <th>accuracy</th>\n",
       "      <th>enhanced_data</th>\n",
       "    </tr>\n",
       "  </thead>\n",
       "  <tbody>\n",
       "    <tr>\n",
       "      <th>0</th>\n",
       "      <td>logistic regression</td>\n",
       "      <td>0.818462</td>\n",
       "      <td>False</td>\n",
       "    </tr>\n",
       "    <tr>\n",
       "      <th>1</th>\n",
       "      <td>logistic regression</td>\n",
       "      <td>0.390769</td>\n",
       "      <td>True</td>\n",
       "    </tr>\n",
       "    <tr>\n",
       "      <th>2</th>\n",
       "      <td>SVC</td>\n",
       "      <td>0.821538</td>\n",
       "      <td>False</td>\n",
       "    </tr>\n",
       "    <tr>\n",
       "      <th>3</th>\n",
       "      <td>SVC</td>\n",
       "      <td>0.395385</td>\n",
       "      <td>True</td>\n",
       "    </tr>\n",
       "  </tbody>\n",
       "</table>\n",
       "</div>"
      ],
      "text/plain": [
       "                 model  accuracy  enhanced_data\n",
       "0  logistic regression  0.818462          False\n",
       "1  logistic regression  0.390769           True\n",
       "2                  SVC  0.821538          False\n",
       "3                  SVC  0.395385           True"
      ]
     },
     "execution_count": 33,
     "metadata": {},
     "output_type": "execute_result"
    }
   ],
   "source": [
    "log"
   ]
  },
  {
   "cell_type": "markdown",
   "id": "2e7408ac",
   "metadata": {
    "papermill": {
     "duration": 0.097353,
     "end_time": "2021-10-04T15:02:39.605559",
     "exception": false,
     "start_time": "2021-10-04T15:02:39.508206",
     "status": "completed"
    },
    "tags": []
   },
   "source": [
    "<font size=\"4\">**Random Forest Classifier**</font>"
   ]
  },
  {
   "cell_type": "code",
   "execution_count": 34,
   "id": "fb7dbeee",
   "metadata": {
    "papermill": {
     "duration": 0.219222,
     "end_time": "2021-10-04T15:02:39.924166",
     "exception": false,
     "start_time": "2021-10-04T15:02:39.704944",
     "status": "completed"
    },
    "tags": []
   },
   "outputs": [],
   "source": [
    "from sklearn.ensemble import RandomForestClassifier"
   ]
  },
  {
   "cell_type": "code",
   "execution_count": 35,
   "id": "04c743c1",
   "metadata": {
    "papermill": {
     "duration": 1.060191,
     "end_time": "2021-10-04T15:02:41.084272",
     "exception": false,
     "start_time": "2021-10-04T15:02:40.024081",
     "status": "completed"
    },
    "tags": []
   },
   "outputs": [],
   "source": [
    "clf = RandomForestClassifier(random_state = 1)\n",
    "clf.fit(X_train, y_train)\n",
    "y_pred = clf.predict(X_test)\n",
    "score = accuracy_score(y_test, y_pred)\n",
    "log = log.append({\"model\": \"Random Forest\", \"accuracy\": score, \"enhanced_data\": False}, ignore_index=True)"
   ]
  },
  {
   "cell_type": "markdown",
   "id": "33e92e2b",
   "metadata": {},
   "source": [
    "# RF with enhanced data"
   ]
  },
  {
   "cell_type": "code",
   "execution_count": 36,
   "id": "1d2289da",
   "metadata": {},
   "outputs": [],
   "source": [
    "clf = RandomForestClassifier(random_state = 1)\n",
    "clf.fit(enh['x_train_processed'], enh['y_train'])\n",
    "y_pred = clf.predict(X_test)\n",
    "score = accuracy_score(y_test, y_pred)\n",
    "log = log.append({\"model\": \"Random Forest\", \"accuracy\": score, \"enhanced_data\": True}, ignore_index=True)"
   ]
  },
  {
   "cell_type": "code",
   "execution_count": 37,
   "id": "37e6492e",
   "metadata": {
    "papermill": {
     "duration": 0.110046,
     "end_time": "2021-10-04T15:02:41.293935",
     "exception": false,
     "start_time": "2021-10-04T15:02:41.183889",
     "status": "completed"
    },
    "tags": []
   },
   "outputs": [
    {
     "data": {
      "text/html": [
       "<div>\n",
       "<style scoped>\n",
       "    .dataframe tbody tr th:only-of-type {\n",
       "        vertical-align: middle;\n",
       "    }\n",
       "\n",
       "    .dataframe tbody tr th {\n",
       "        vertical-align: top;\n",
       "    }\n",
       "\n",
       "    .dataframe thead th {\n",
       "        text-align: right;\n",
       "    }\n",
       "</style>\n",
       "<table border=\"1\" class=\"dataframe\">\n",
       "  <thead>\n",
       "    <tr style=\"text-align: right;\">\n",
       "      <th></th>\n",
       "      <th>model</th>\n",
       "      <th>accuracy</th>\n",
       "      <th>enhanced_data</th>\n",
       "    </tr>\n",
       "  </thead>\n",
       "  <tbody>\n",
       "    <tr>\n",
       "      <th>0</th>\n",
       "      <td>logistic regression</td>\n",
       "      <td>0.818462</td>\n",
       "      <td>False</td>\n",
       "    </tr>\n",
       "    <tr>\n",
       "      <th>1</th>\n",
       "      <td>logistic regression</td>\n",
       "      <td>0.390769</td>\n",
       "      <td>True</td>\n",
       "    </tr>\n",
       "    <tr>\n",
       "      <th>2</th>\n",
       "      <td>SVC</td>\n",
       "      <td>0.821538</td>\n",
       "      <td>False</td>\n",
       "    </tr>\n",
       "    <tr>\n",
       "      <th>3</th>\n",
       "      <td>SVC</td>\n",
       "      <td>0.395385</td>\n",
       "      <td>True</td>\n",
       "    </tr>\n",
       "    <tr>\n",
       "      <th>4</th>\n",
       "      <td>Random Forest</td>\n",
       "      <td>0.817692</td>\n",
       "      <td>False</td>\n",
       "    </tr>\n",
       "    <tr>\n",
       "      <th>5</th>\n",
       "      <td>Random Forest</td>\n",
       "      <td>0.382308</td>\n",
       "      <td>True</td>\n",
       "    </tr>\n",
       "  </tbody>\n",
       "</table>\n",
       "</div>"
      ],
      "text/plain": [
       "                 model  accuracy  enhanced_data\n",
       "0  logistic regression  0.818462          False\n",
       "1  logistic regression  0.390769           True\n",
       "2                  SVC  0.821538          False\n",
       "3                  SVC  0.395385           True\n",
       "4        Random Forest  0.817692          False\n",
       "5        Random Forest  0.382308           True"
      ]
     },
     "execution_count": 37,
     "metadata": {},
     "output_type": "execute_result"
    }
   ],
   "source": [
    "log"
   ]
  },
  {
   "cell_type": "markdown",
   "id": "551d64df",
   "metadata": {
    "papermill": {
     "duration": 0.097813,
     "end_time": "2021-10-04T15:02:41.489986",
     "exception": false,
     "start_time": "2021-10-04T15:02:41.392173",
     "status": "completed"
    },
    "tags": []
   },
   "source": [
    "<font size=\"4\">**Decision Tree Classifier**</font>"
   ]
  },
  {
   "cell_type": "code",
   "execution_count": 38,
   "id": "6540e575",
   "metadata": {
    "papermill": {
     "duration": 0.162067,
     "end_time": "2021-10-04T15:02:41.750257",
     "exception": false,
     "start_time": "2021-10-04T15:02:41.588190",
     "status": "completed"
    },
    "tags": []
   },
   "outputs": [],
   "source": [
    "from sklearn.tree import DecisionTreeClassifier\n",
    "clf = DecisionTreeClassifier(criterion='entropy',random_state=7)\n",
    "clf.fit(X_train,y_train)\n",
    "y_pred = clf.predict(X_test)\n",
    "score = accuracy_score(y_test, y_pred)\n",
    "log = log.append({\"model\": \"Decision tree\", \"accuracy\": score, \"enhanced_data\": False}, ignore_index=True)"
   ]
  },
  {
   "cell_type": "markdown",
   "id": "427494ce",
   "metadata": {},
   "source": [
    "# decision tree with enhanced data"
   ]
  },
  {
   "cell_type": "code",
   "execution_count": 39,
   "id": "1aff5fcf",
   "metadata": {},
   "outputs": [],
   "source": [
    "from sklearn.tree import DecisionTreeClassifier\n",
    "clf = DecisionTreeClassifier(criterion='entropy',random_state=7)\n",
    "clf.fit(enh['x_train_processed'], enh['y_train'])\n",
    "y_pred = clf.predict(X_test)\n",
    "score = accuracy_score(y_test, y_pred)\n",
    "log = log.append({\"model\": \"Decision tree\", \"accuracy\": score, \"enhanced_data\": True}, ignore_index=True)"
   ]
  },
  {
   "cell_type": "code",
   "execution_count": 40,
   "id": "c35c47d7",
   "metadata": {
    "papermill": {
     "duration": 0.110644,
     "end_time": "2021-10-04T15:02:41.959598",
     "exception": false,
     "start_time": "2021-10-04T15:02:41.848954",
     "status": "completed"
    },
    "tags": []
   },
   "outputs": [
    {
     "data": {
      "text/html": [
       "<div>\n",
       "<style scoped>\n",
       "    .dataframe tbody tr th:only-of-type {\n",
       "        vertical-align: middle;\n",
       "    }\n",
       "\n",
       "    .dataframe tbody tr th {\n",
       "        vertical-align: top;\n",
       "    }\n",
       "\n",
       "    .dataframe thead th {\n",
       "        text-align: right;\n",
       "    }\n",
       "</style>\n",
       "<table border=\"1\" class=\"dataframe\">\n",
       "  <thead>\n",
       "    <tr style=\"text-align: right;\">\n",
       "      <th></th>\n",
       "      <th>model</th>\n",
       "      <th>accuracy</th>\n",
       "      <th>enhanced_data</th>\n",
       "    </tr>\n",
       "  </thead>\n",
       "  <tbody>\n",
       "    <tr>\n",
       "      <th>0</th>\n",
       "      <td>logistic regression</td>\n",
       "      <td>0.818462</td>\n",
       "      <td>False</td>\n",
       "    </tr>\n",
       "    <tr>\n",
       "      <th>1</th>\n",
       "      <td>logistic regression</td>\n",
       "      <td>0.390769</td>\n",
       "      <td>True</td>\n",
       "    </tr>\n",
       "    <tr>\n",
       "      <th>2</th>\n",
       "      <td>SVC</td>\n",
       "      <td>0.821538</td>\n",
       "      <td>False</td>\n",
       "    </tr>\n",
       "    <tr>\n",
       "      <th>3</th>\n",
       "      <td>SVC</td>\n",
       "      <td>0.395385</td>\n",
       "      <td>True</td>\n",
       "    </tr>\n",
       "    <tr>\n",
       "      <th>4</th>\n",
       "      <td>Random Forest</td>\n",
       "      <td>0.817692</td>\n",
       "      <td>False</td>\n",
       "    </tr>\n",
       "    <tr>\n",
       "      <th>5</th>\n",
       "      <td>Random Forest</td>\n",
       "      <td>0.382308</td>\n",
       "      <td>True</td>\n",
       "    </tr>\n",
       "    <tr>\n",
       "      <th>6</th>\n",
       "      <td>Decision tree</td>\n",
       "      <td>0.768462</td>\n",
       "      <td>False</td>\n",
       "    </tr>\n",
       "    <tr>\n",
       "      <th>7</th>\n",
       "      <td>Decision tree</td>\n",
       "      <td>0.296154</td>\n",
       "      <td>True</td>\n",
       "    </tr>\n",
       "  </tbody>\n",
       "</table>\n",
       "</div>"
      ],
      "text/plain": [
       "                 model  accuracy  enhanced_data\n",
       "0  logistic regression  0.818462          False\n",
       "1  logistic regression  0.390769           True\n",
       "2                  SVC  0.821538          False\n",
       "3                  SVC  0.395385           True\n",
       "4        Random Forest  0.817692          False\n",
       "5        Random Forest  0.382308           True\n",
       "6        Decision tree  0.768462          False\n",
       "7        Decision tree  0.296154           True"
      ]
     },
     "execution_count": 40,
     "metadata": {},
     "output_type": "execute_result"
    }
   ],
   "source": [
    "log"
   ]
  },
  {
   "cell_type": "markdown",
   "id": "396fa0cb",
   "metadata": {
    "papermill": {
     "duration": 0.099086,
     "end_time": "2021-10-04T15:02:42.157882",
     "exception": false,
     "start_time": "2021-10-04T15:02:42.058796",
     "status": "completed"
    },
    "tags": []
   },
   "source": [
    "<font size=\"4\">**K nearest neighbour**</font>"
   ]
  },
  {
   "cell_type": "code",
   "execution_count": 41,
   "id": "d21c3d2e",
   "metadata": {
    "papermill": {
     "duration": 0.105089,
     "end_time": "2021-10-04T15:02:42.362364",
     "exception": false,
     "start_time": "2021-10-04T15:02:42.257275",
     "status": "completed"
    },
    "tags": []
   },
   "outputs": [],
   "source": [
    "from sklearn.neighbors import KNeighborsClassifier"
   ]
  },
  {
   "cell_type": "code",
   "execution_count": 42,
   "id": "ef2f63a7",
   "metadata": {
    "papermill": {
     "duration": 0.230435,
     "end_time": "2021-10-04T15:02:42.691476",
     "exception": false,
     "start_time": "2021-10-04T15:02:42.461041",
     "status": "completed"
    },
    "tags": []
   },
   "outputs": [],
   "source": [
    "clf = KNeighborsClassifier(n_neighbors=3)\n",
    "clf.fit(X_train, y_train)\n",
    "clf.predict(X_test)\n",
    "y_pred = clf.predict(X_test)\n",
    "score = accuracy_score(y_test, y_pred)\n",
    "log = log.append({\"model\": \"K nearest neighbours\", \"accuracy\": score, \"enhanced_data\": False}, ignore_index=True)"
   ]
  },
  {
   "cell_type": "markdown",
   "id": "ac968de6",
   "metadata": {},
   "source": [
    "# knn with enhanced data"
   ]
  },
  {
   "cell_type": "code",
   "execution_count": 43,
   "id": "e7fe0eec",
   "metadata": {},
   "outputs": [],
   "source": [
    "clf = KNeighborsClassifier(n_neighbors=3)\n",
    "clf.fit(enh['x_train_processed'], enh['y_train'])\n",
    "clf.predict(X_test)\n",
    "y_pred = clf.predict(X_test)\n",
    "score = accuracy_score(y_test, y_pred)\n",
    "log = log.append({\"model\": \"K nearest neighbours\", \"accuracy\": score, \"enhanced_data\": True}, ignore_index=True)"
   ]
  },
  {
   "cell_type": "code",
   "execution_count": 44,
   "id": "5abe8c61",
   "metadata": {
    "papermill": {
     "duration": 0.110279,
     "end_time": "2021-10-04T15:02:42.900412",
     "exception": false,
     "start_time": "2021-10-04T15:02:42.790133",
     "status": "completed"
    },
    "tags": []
   },
   "outputs": [
    {
     "data": {
      "text/html": [
       "<div>\n",
       "<style scoped>\n",
       "    .dataframe tbody tr th:only-of-type {\n",
       "        vertical-align: middle;\n",
       "    }\n",
       "\n",
       "    .dataframe tbody tr th {\n",
       "        vertical-align: top;\n",
       "    }\n",
       "\n",
       "    .dataframe thead th {\n",
       "        text-align: right;\n",
       "    }\n",
       "</style>\n",
       "<table border=\"1\" class=\"dataframe\">\n",
       "  <thead>\n",
       "    <tr style=\"text-align: right;\">\n",
       "      <th></th>\n",
       "      <th>model</th>\n",
       "      <th>accuracy</th>\n",
       "      <th>enhanced_data</th>\n",
       "    </tr>\n",
       "  </thead>\n",
       "  <tbody>\n",
       "    <tr>\n",
       "      <th>0</th>\n",
       "      <td>logistic regression</td>\n",
       "      <td>0.818462</td>\n",
       "      <td>False</td>\n",
       "    </tr>\n",
       "    <tr>\n",
       "      <th>1</th>\n",
       "      <td>logistic regression</td>\n",
       "      <td>0.390769</td>\n",
       "      <td>True</td>\n",
       "    </tr>\n",
       "    <tr>\n",
       "      <th>2</th>\n",
       "      <td>SVC</td>\n",
       "      <td>0.821538</td>\n",
       "      <td>False</td>\n",
       "    </tr>\n",
       "    <tr>\n",
       "      <th>3</th>\n",
       "      <td>SVC</td>\n",
       "      <td>0.395385</td>\n",
       "      <td>True</td>\n",
       "    </tr>\n",
       "    <tr>\n",
       "      <th>4</th>\n",
       "      <td>Random Forest</td>\n",
       "      <td>0.817692</td>\n",
       "      <td>False</td>\n",
       "    </tr>\n",
       "    <tr>\n",
       "      <th>5</th>\n",
       "      <td>Random Forest</td>\n",
       "      <td>0.382308</td>\n",
       "      <td>True</td>\n",
       "    </tr>\n",
       "    <tr>\n",
       "      <th>6</th>\n",
       "      <td>Decision tree</td>\n",
       "      <td>0.768462</td>\n",
       "      <td>False</td>\n",
       "    </tr>\n",
       "    <tr>\n",
       "      <th>7</th>\n",
       "      <td>Decision tree</td>\n",
       "      <td>0.296154</td>\n",
       "      <td>True</td>\n",
       "    </tr>\n",
       "    <tr>\n",
       "      <th>8</th>\n",
       "      <td>K nearest neighbours</td>\n",
       "      <td>0.802308</td>\n",
       "      <td>False</td>\n",
       "    </tr>\n",
       "    <tr>\n",
       "      <th>9</th>\n",
       "      <td>K nearest neighbours</td>\n",
       "      <td>0.396923</td>\n",
       "      <td>True</td>\n",
       "    </tr>\n",
       "  </tbody>\n",
       "</table>\n",
       "</div>"
      ],
      "text/plain": [
       "                  model  accuracy  enhanced_data\n",
       "0   logistic regression  0.818462          False\n",
       "1   logistic regression  0.390769           True\n",
       "2                   SVC  0.821538          False\n",
       "3                   SVC  0.395385           True\n",
       "4         Random Forest  0.817692          False\n",
       "5         Random Forest  0.382308           True\n",
       "6         Decision tree  0.768462          False\n",
       "7         Decision tree  0.296154           True\n",
       "8  K nearest neighbours  0.802308          False\n",
       "9  K nearest neighbours  0.396923           True"
      ]
     },
     "execution_count": 44,
     "metadata": {},
     "output_type": "execute_result"
    }
   ],
   "source": [
    "log"
   ]
  },
  {
   "cell_type": "markdown",
   "id": "0d964364",
   "metadata": {
    "papermill": {
     "duration": 0.099947,
     "end_time": "2021-10-04T15:02:43.099389",
     "exception": false,
     "start_time": "2021-10-04T15:02:42.999442",
     "status": "completed"
    },
    "tags": []
   },
   "source": [
    "<font size=\"4\">**Gaussian Naive Bayes**</font>"
   ]
  },
  {
   "cell_type": "code",
   "execution_count": 45,
   "id": "53cca4d8",
   "metadata": {
    "papermill": {
     "duration": 0.123848,
     "end_time": "2021-10-04T15:02:43.323885",
     "exception": false,
     "start_time": "2021-10-04T15:02:43.200037",
     "status": "completed"
    },
    "tags": []
   },
   "outputs": [],
   "source": [
    "from sklearn.naive_bayes import GaussianNB\n",
    "clf = GaussianNB()\n",
    "clf.fit(X_train, y_train)\n",
    "clf.predict(X_test)\n",
    "y_pred = clf.predict(X_test)\n",
    "score = accuracy_score(y_test, y_pred)\n",
    "log = log.append({\"model\": \"GaussianNB\", \"accuracy\": score, \"enhanced_data\": False}, ignore_index=True)"
   ]
  },
  {
   "cell_type": "markdown",
   "id": "5498b777",
   "metadata": {},
   "source": [
    "# naive bayes with enhanced data"
   ]
  },
  {
   "cell_type": "code",
   "execution_count": 46,
   "id": "a8f9545c",
   "metadata": {},
   "outputs": [],
   "source": [
    "from sklearn.naive_bayes import GaussianNB\n",
    "clf = GaussianNB()\n",
    "clf.fit(enh['x_train_processed'], enh['y_train'])\n",
    "clf.predict(X_test)\n",
    "y_pred = clf.predict(X_test)\n",
    "score = accuracy_score(y_test, y_pred)\n",
    "log = log.append({\"model\": \"GaussianNB\", \"accuracy\": score, \"enhanced_data\": True}, ignore_index=True)"
   ]
  },
  {
   "cell_type": "code",
   "execution_count": 47,
   "id": "fe4ede80",
   "metadata": {},
   "outputs": [
    {
     "data": {
      "text/html": [
       "<div>\n",
       "<style scoped>\n",
       "    .dataframe tbody tr th:only-of-type {\n",
       "        vertical-align: middle;\n",
       "    }\n",
       "\n",
       "    .dataframe tbody tr th {\n",
       "        vertical-align: top;\n",
       "    }\n",
       "\n",
       "    .dataframe thead th {\n",
       "        text-align: right;\n",
       "    }\n",
       "</style>\n",
       "<table border=\"1\" class=\"dataframe\">\n",
       "  <thead>\n",
       "    <tr style=\"text-align: right;\">\n",
       "      <th></th>\n",
       "      <th>model</th>\n",
       "      <th>accuracy</th>\n",
       "      <th>enhanced_data</th>\n",
       "    </tr>\n",
       "  </thead>\n",
       "  <tbody>\n",
       "    <tr>\n",
       "      <th>0</th>\n",
       "      <td>logistic regression</td>\n",
       "      <td>0.818462</td>\n",
       "      <td>False</td>\n",
       "    </tr>\n",
       "    <tr>\n",
       "      <th>1</th>\n",
       "      <td>logistic regression</td>\n",
       "      <td>0.390769</td>\n",
       "      <td>True</td>\n",
       "    </tr>\n",
       "    <tr>\n",
       "      <th>2</th>\n",
       "      <td>SVC</td>\n",
       "      <td>0.821538</td>\n",
       "      <td>False</td>\n",
       "    </tr>\n",
       "    <tr>\n",
       "      <th>3</th>\n",
       "      <td>SVC</td>\n",
       "      <td>0.395385</td>\n",
       "      <td>True</td>\n",
       "    </tr>\n",
       "    <tr>\n",
       "      <th>4</th>\n",
       "      <td>Random Forest</td>\n",
       "      <td>0.817692</td>\n",
       "      <td>False</td>\n",
       "    </tr>\n",
       "    <tr>\n",
       "      <th>5</th>\n",
       "      <td>Random Forest</td>\n",
       "      <td>0.382308</td>\n",
       "      <td>True</td>\n",
       "    </tr>\n",
       "    <tr>\n",
       "      <th>6</th>\n",
       "      <td>Decision tree</td>\n",
       "      <td>0.768462</td>\n",
       "      <td>False</td>\n",
       "    </tr>\n",
       "    <tr>\n",
       "      <th>7</th>\n",
       "      <td>Decision tree</td>\n",
       "      <td>0.296154</td>\n",
       "      <td>True</td>\n",
       "    </tr>\n",
       "    <tr>\n",
       "      <th>8</th>\n",
       "      <td>K nearest neighbours</td>\n",
       "      <td>0.802308</td>\n",
       "      <td>False</td>\n",
       "    </tr>\n",
       "    <tr>\n",
       "      <th>9</th>\n",
       "      <td>K nearest neighbours</td>\n",
       "      <td>0.396923</td>\n",
       "      <td>True</td>\n",
       "    </tr>\n",
       "    <tr>\n",
       "      <th>10</th>\n",
       "      <td>GaussianNB</td>\n",
       "      <td>0.802308</td>\n",
       "      <td>False</td>\n",
       "    </tr>\n",
       "    <tr>\n",
       "      <th>11</th>\n",
       "      <td>GaussianNB</td>\n",
       "      <td>0.395385</td>\n",
       "      <td>True</td>\n",
       "    </tr>\n",
       "  </tbody>\n",
       "</table>\n",
       "</div>"
      ],
      "text/plain": [
       "                   model  accuracy  enhanced_data\n",
       "0    logistic regression  0.818462          False\n",
       "1    logistic regression  0.390769           True\n",
       "2                    SVC  0.821538          False\n",
       "3                    SVC  0.395385           True\n",
       "4          Random Forest  0.817692          False\n",
       "5          Random Forest  0.382308           True\n",
       "6          Decision tree  0.768462          False\n",
       "7          Decision tree  0.296154           True\n",
       "8   K nearest neighbours  0.802308          False\n",
       "9   K nearest neighbours  0.396923           True\n",
       "10            GaussianNB  0.802308          False\n",
       "11            GaussianNB  0.395385           True"
      ]
     },
     "execution_count": 47,
     "metadata": {},
     "output_type": "execute_result"
    }
   ],
   "source": [
    "log"
   ]
  },
  {
   "cell_type": "markdown",
   "id": "d4fd9174",
   "metadata": {},
   "source": [
    "# neuralnet"
   ]
  },
  {
   "cell_type": "code",
   "execution_count": 48,
   "id": "e38a31e4",
   "metadata": {},
   "outputs": [
    {
     "name": "stdout",
     "output_type": "stream",
     "text": [
      "Model: \"sequential_2\"\n",
      "_________________________________________________________________\n",
      "Layer (type)                 Output Shape              Param #   \n",
      "=================================================================\n",
      "hidden_layer_0 (Dense)       (None, 64)                896       \n",
      "_________________________________________________________________\n",
      "batch_normalization (BatchNo (None, 64)                256       \n",
      "_________________________________________________________________\n",
      "activation_5 (Activation)    (None, 64)                0         \n",
      "_________________________________________________________________\n",
      "dropout_0_30 (Dropout)       (None, 64)                0         \n",
      "_________________________________________________________________\n",
      "hidden_layer_1 (Dense)       (None, 64)                4160      \n",
      "_________________________________________________________________\n",
      "batch_normalization_1 (Batch (None, 64)                256       \n",
      "_________________________________________________________________\n",
      "activation_6 (Activation)    (None, 64)                0         \n",
      "_________________________________________________________________\n",
      "dropout_1_30 (Dropout)       (None, 64)                0         \n",
      "_________________________________________________________________\n",
      "hidden_layer_2 (Dense)       (None, 64)                4160      \n",
      "_________________________________________________________________\n",
      "batch_normalization_2 (Batch (None, 64)                256       \n",
      "_________________________________________________________________\n",
      "activation_7 (Activation)    (None, 64)                0         \n",
      "_________________________________________________________________\n",
      "dropout_2_30 (Dropout)       (None, 64)                0         \n",
      "_________________________________________________________________\n",
      "hidden_layer_3 (Dense)       (None, 64)                4160      \n",
      "_________________________________________________________________\n",
      "batch_normalization_3 (Batch (None, 64)                256       \n",
      "_________________________________________________________________\n",
      "activation_8 (Activation)    (None, 64)                0         \n",
      "_________________________________________________________________\n",
      "dropout_3_30 (Dropout)       (None, 64)                0         \n",
      "_________________________________________________________________\n",
      "hidden_layer_4 (Dense)       (None, 64)                4160      \n",
      "_________________________________________________________________\n",
      "batch_normalization_4 (Batch (None, 64)                256       \n",
      "_________________________________________________________________\n",
      "activation_9 (Activation)    (None, 64)                0         \n",
      "_________________________________________________________________\n",
      "dropout_4_30 (Dropout)       (None, 64)                0         \n",
      "_________________________________________________________________\n",
      "dense_6 (Dense)              (None, 1)                 65        \n",
      "=================================================================\n",
      "Total params: 18,881\n",
      "Trainable params: 18,241\n",
      "Non-trainable params: 640\n",
      "_________________________________________________________________\n"
     ]
    }
   ],
   "source": [
    "from tensorflow.keras import models, Model, layers\n",
    "from tensorflow.keras.callbacks import EarlyStopping\n",
    "\n",
    "\n",
    "model = models.Sequential()\n",
    "model.add(layers.InputLayer(input_shape=X_train.shape[1:]))\n",
    "\n",
    "for i in range(5):\n",
    "        model.add(layers.Dense(\n",
    "            64, \n",
    "            kernel_initializer='he_normal',\n",
    "            name=f'hidden_layer_{i}'))\n",
    "        model.add(layers.BatchNormalization())\n",
    "        model.add(layers.Activation('selu'))\n",
    "        model.add(layers.Dropout(0.3, name=f'dropout_{i}_30'))\n",
    "    \n",
    "model.add(layers.Dense(1, activation='sigmoid'))\n",
    "\n",
    "#model.compile(optimizer='rmsprop', loss='binary_crossentropy', metrics=['accuracy'])\n",
    "model.compile(loss='binary_crossentropy', optimizer='adam', metrics=['accuracy'])\n",
    "\n",
    "model.summary()"
   ]
  },
  {
   "cell_type": "code",
   "execution_count": 49,
   "id": "f6312736",
   "metadata": {},
   "outputs": [
    {
     "name": "stdout",
     "output_type": "stream",
     "text": [
      "Epoch 1/300\n",
      "130/130 [==============================] - 3s 11ms/step - loss: 0.6534 - accuracy: 0.6534 - val_loss: 0.4564 - val_accuracy: 0.7962\n",
      "Epoch 2/300\n",
      "130/130 [==============================] - 2s 14ms/step - loss: 0.5078 - accuracy: 0.7655 - val_loss: 0.4213 - val_accuracy: 0.7942\n",
      "Epoch 3/300\n",
      "130/130 [==============================] - 2s 13ms/step - loss: 0.4668 - accuracy: 0.7907 - val_loss: 0.4106 - val_accuracy: 0.8038\n",
      "Epoch 4/300\n",
      "130/130 [==============================] - 2s 12ms/step - loss: 0.4518 - accuracy: 0.7965 - val_loss: 0.4025 - val_accuracy: 0.8135\n",
      "Epoch 5/300\n",
      "130/130 [==============================] - 3s 21ms/step - loss: 0.4470 - accuracy: 0.7960 - val_loss: 0.4039 - val_accuracy: 0.8125\n",
      "Epoch 6/300\n",
      "130/130 [==============================] - 1s 8ms/step - loss: 0.4456 - accuracy: 0.7958 - val_loss: 0.3994 - val_accuracy: 0.8067\n",
      "Epoch 7/300\n",
      "130/130 [==============================] - 2s 12ms/step - loss: 0.4433 - accuracy: 0.7970 - val_loss: 0.4128 - val_accuracy: 0.7990\n",
      "Epoch 8/300\n",
      "130/130 [==============================] - 2s 16ms/step - loss: 0.4278 - accuracy: 0.8035 - val_loss: 0.3898 - val_accuracy: 0.8202\n",
      "Epoch 9/300\n",
      "130/130 [==============================] - 3s 19ms/step - loss: 0.4179 - accuracy: 0.8080 - val_loss: 0.4026 - val_accuracy: 0.8077\n",
      "Epoch 10/300\n",
      "130/130 [==============================] - 2s 17ms/step - loss: 0.4272 - accuracy: 0.8001 - val_loss: 0.3899 - val_accuracy: 0.8173\n",
      "Epoch 11/300\n",
      "130/130 [==============================] - 1s 9ms/step - loss: 0.4206 - accuracy: 0.8064 - val_loss: 0.3923 - val_accuracy: 0.8163\n",
      "Epoch 12/300\n",
      "130/130 [==============================] - 1s 9ms/step - loss: 0.4182 - accuracy: 0.8032 - val_loss: 0.3914 - val_accuracy: 0.8144\n",
      "Epoch 13/300\n",
      "130/130 [==============================] - 1s 8ms/step - loss: 0.4151 - accuracy: 0.8047 - val_loss: 0.3898 - val_accuracy: 0.8106\n",
      "Epoch 14/300\n",
      "130/130 [==============================] - 1s 9ms/step - loss: 0.4185 - accuracy: 0.8056 - val_loss: 0.3864 - val_accuracy: 0.8163\n",
      "Epoch 15/300\n",
      "130/130 [==============================] - 1s 8ms/step - loss: 0.4181 - accuracy: 0.8035 - val_loss: 0.3845 - val_accuracy: 0.8231\n",
      "Epoch 16/300\n",
      "130/130 [==============================] - 1s 8ms/step - loss: 0.4084 - accuracy: 0.8083 - val_loss: 0.3849 - val_accuracy: 0.8183\n",
      "Epoch 17/300\n",
      "130/130 [==============================] - 1s 9ms/step - loss: 0.4083 - accuracy: 0.8071 - val_loss: 0.3842 - val_accuracy: 0.8192\n",
      "Epoch 18/300\n",
      "130/130 [==============================] - 1s 9ms/step - loss: 0.4063 - accuracy: 0.8102 - val_loss: 0.3817 - val_accuracy: 0.8173\n",
      "Epoch 19/300\n",
      "130/130 [==============================] - 1s 9ms/step - loss: 0.4070 - accuracy: 0.8095 - val_loss: 0.3856 - val_accuracy: 0.8221\n",
      "Epoch 20/300\n",
      "130/130 [==============================] - 1s 8ms/step - loss: 0.4035 - accuracy: 0.8003 - val_loss: 0.3783 - val_accuracy: 0.8269\n",
      "Epoch 21/300\n",
      "130/130 [==============================] - 2s 19ms/step - loss: 0.4042 - accuracy: 0.8107 - val_loss: 0.3847 - val_accuracy: 0.8212\n",
      "Epoch 22/300\n",
      "130/130 [==============================] - 3s 20ms/step - loss: 0.4072 - accuracy: 0.8085 - val_loss: 0.3802 - val_accuracy: 0.8269\n",
      "Epoch 23/300\n",
      "130/130 [==============================] - 2s 12ms/step - loss: 0.3948 - accuracy: 0.8191 - val_loss: 0.3771 - val_accuracy: 0.8221\n",
      "Epoch 24/300\n",
      "130/130 [==============================] - 2s 19ms/step - loss: 0.4063 - accuracy: 0.8131 - val_loss: 0.3795 - val_accuracy: 0.8250\n",
      "Epoch 25/300\n",
      "130/130 [==============================] - 4s 27ms/step - loss: 0.3977 - accuracy: 0.8068 - val_loss: 0.3797 - val_accuracy: 0.8135\n",
      "Epoch 26/300\n",
      "130/130 [==============================] - 2s 18ms/step - loss: 0.3999 - accuracy: 0.8102 - val_loss: 0.3811 - val_accuracy: 0.8260\n",
      "Epoch 27/300\n",
      "130/130 [==============================] - 2s 18ms/step - loss: 0.4035 - accuracy: 0.8114 - val_loss: 0.3787 - val_accuracy: 0.8279\n",
      "Epoch 28/300\n",
      "130/130 [==============================] - 2s 16ms/step - loss: 0.4007 - accuracy: 0.8088 - val_loss: 0.3744 - val_accuracy: 0.8288\n",
      "Epoch 29/300\n",
      "130/130 [==============================] - 3s 23ms/step - loss: 0.4000 - accuracy: 0.8138 - val_loss: 0.3751 - val_accuracy: 0.8221\n",
      "Epoch 30/300\n",
      "130/130 [==============================] - 3s 25ms/step - loss: 0.3968 - accuracy: 0.8080 - val_loss: 0.3784 - val_accuracy: 0.8298\n",
      "Epoch 31/300\n",
      "130/130 [==============================] - 2s 18ms/step - loss: 0.3980 - accuracy: 0.8131 - val_loss: 0.3835 - val_accuracy: 0.8077\n",
      "Epoch 32/300\n",
      "130/130 [==============================] - 3s 21ms/step - loss: 0.3957 - accuracy: 0.8179 - val_loss: 0.3719 - val_accuracy: 0.8240\n",
      "Epoch 33/300\n",
      "130/130 [==============================] - 3s 22ms/step - loss: 0.3902 - accuracy: 0.8169 - val_loss: 0.3756 - val_accuracy: 0.8279\n",
      "Epoch 34/300\n",
      "130/130 [==============================] - 3s 21ms/step - loss: 0.3968 - accuracy: 0.8133 - val_loss: 0.3737 - val_accuracy: 0.8269\n",
      "Epoch 35/300\n",
      "130/130 [==============================] - 3s 24ms/step - loss: 0.3954 - accuracy: 0.8128 - val_loss: 0.3791 - val_accuracy: 0.8250\n",
      "Epoch 36/300\n",
      "130/130 [==============================] - 2s 19ms/step - loss: 0.3940 - accuracy: 0.8104 - val_loss: 0.3728 - val_accuracy: 0.8221\n",
      "Epoch 37/300\n",
      "130/130 [==============================] - 3s 24ms/step - loss: 0.3973 - accuracy: 0.8100 - val_loss: 0.3766 - val_accuracy: 0.8288\n",
      "Epoch 38/300\n",
      "130/130 [==============================] - 2s 16ms/step - loss: 0.3947 - accuracy: 0.8184 - val_loss: 0.3715 - val_accuracy: 0.8250\n",
      "Epoch 39/300\n",
      "130/130 [==============================] - 3s 19ms/step - loss: 0.3899 - accuracy: 0.8143 - val_loss: 0.3793 - val_accuracy: 0.8144\n",
      "Epoch 40/300\n",
      "130/130 [==============================] - 3s 23ms/step - loss: 0.3950 - accuracy: 0.8198 - val_loss: 0.3741 - val_accuracy: 0.8269\n",
      "Epoch 41/300\n",
      "130/130 [==============================] - 3s 20ms/step - loss: 0.3892 - accuracy: 0.8169 - val_loss: 0.3725 - val_accuracy: 0.8317\n",
      "Epoch 42/300\n",
      "130/130 [==============================] - 3s 21ms/step - loss: 0.3873 - accuracy: 0.8160 - val_loss: 0.3713 - val_accuracy: 0.8279\n",
      "Epoch 43/300\n",
      "130/130 [==============================] - 2s 19ms/step - loss: 0.3928 - accuracy: 0.8143 - val_loss: 0.3718 - val_accuracy: 0.8279\n",
      "Epoch 44/300\n",
      "130/130 [==============================] - 2s 18ms/step - loss: 0.3896 - accuracy: 0.8148 - val_loss: 0.3706 - val_accuracy: 0.8279\n",
      "Epoch 45/300\n",
      "130/130 [==============================] - 2s 16ms/step - loss: 0.3916 - accuracy: 0.8167 - val_loss: 0.3688 - val_accuracy: 0.8279\n",
      "Epoch 46/300\n",
      "130/130 [==============================] - 3s 20ms/step - loss: 0.3964 - accuracy: 0.8112 - val_loss: 0.3709 - val_accuracy: 0.8250\n",
      "Epoch 47/300\n",
      "130/130 [==============================] - 3s 25ms/step - loss: 0.3900 - accuracy: 0.8133 - val_loss: 0.3721 - val_accuracy: 0.8288\n",
      "Epoch 48/300\n",
      "130/130 [==============================] - 3s 19ms/step - loss: 0.3883 - accuracy: 0.8222 - val_loss: 0.3723 - val_accuracy: 0.8163\n",
      "Epoch 49/300\n",
      "130/130 [==============================] - 2s 19ms/step - loss: 0.3889 - accuracy: 0.8181 - val_loss: 0.3703 - val_accuracy: 0.8279\n",
      "Epoch 50/300\n",
      "130/130 [==============================] - 3s 22ms/step - loss: 0.3910 - accuracy: 0.8208 - val_loss: 0.3682 - val_accuracy: 0.8250\n",
      "Epoch 51/300\n",
      "130/130 [==============================] - 2s 15ms/step - loss: 0.3904 - accuracy: 0.8145 - val_loss: 0.3728 - val_accuracy: 0.8240\n",
      "Epoch 52/300\n",
      "130/130 [==============================] - 3s 24ms/step - loss: 0.3871 - accuracy: 0.8179 - val_loss: 0.3707 - val_accuracy: 0.8308\n",
      "Epoch 53/300\n",
      "130/130 [==============================] - 3s 22ms/step - loss: 0.3808 - accuracy: 0.8239 - val_loss: 0.3667 - val_accuracy: 0.8240\n",
      "Epoch 54/300\n",
      "130/130 [==============================] - 3s 26ms/step - loss: 0.3959 - accuracy: 0.8172 - val_loss: 0.3687 - val_accuracy: 0.8240\n",
      "Epoch 55/300\n",
      "130/130 [==============================] - 2s 18ms/step - loss: 0.3858 - accuracy: 0.8167 - val_loss: 0.3669 - val_accuracy: 0.8250\n",
      "Epoch 56/300\n",
      "130/130 [==============================] - 2s 17ms/step - loss: 0.3885 - accuracy: 0.8208 - val_loss: 0.3668 - val_accuracy: 0.8269\n",
      "Epoch 57/300\n",
      "130/130 [==============================] - 2s 18ms/step - loss: 0.3818 - accuracy: 0.8189 - val_loss: 0.3684 - val_accuracy: 0.8250\n",
      "Epoch 58/300\n",
      "130/130 [==============================] - 3s 22ms/step - loss: 0.3861 - accuracy: 0.8143 - val_loss: 0.3718 - val_accuracy: 0.8202\n",
      "Epoch 59/300\n",
      "130/130 [==============================] - 3s 25ms/step - loss: 0.3907 - accuracy: 0.8242 - val_loss: 0.3676 - val_accuracy: 0.8269\n",
      "Epoch 60/300\n",
      "130/130 [==============================] - 3s 22ms/step - loss: 0.3882 - accuracy: 0.8181 - val_loss: 0.3677 - val_accuracy: 0.8298\n",
      "Epoch 61/300\n",
      "130/130 [==============================] - 3s 26ms/step - loss: 0.3863 - accuracy: 0.8193 - val_loss: 0.3724 - val_accuracy: 0.8298\n"
     ]
    }
   ],
   "source": [
    "history = model.fit(\n",
    "    X_train, y_train, validation_split=.2, epochs=300,\n",
    "    callbacks=[\n",
    "        EarlyStopping(patience=20, monitor='val_accuracy', mode='max', restore_best_weights=True)])"
   ]
  },
  {
   "cell_type": "code",
   "execution_count": 50,
   "id": "9b7c83a8",
   "metadata": {},
   "outputs": [
    {
     "name": "stdout",
     "output_type": "stream",
     "text": [
      "41/41 [==============================] - 0s 3ms/step - loss: 0.3844 - accuracy: 0.8192\n"
     ]
    },
    {
     "data": {
      "text/plain": [
       "0.8192307949066162"
      ]
     },
     "execution_count": 50,
     "metadata": {},
     "output_type": "execute_result"
    }
   ],
   "source": [
    "result = model.evaluate(X_test, y_test)\n",
    "result[1]"
   ]
  },
  {
   "cell_type": "code",
   "execution_count": 51,
   "id": "42674cb2",
   "metadata": {},
   "outputs": [],
   "source": [
    "log = log.append({\"model\": \"DenseNeuralNet\", \"accuracy\": result[1], \"enhanced_data\": False}, ignore_index=True)"
   ]
  },
  {
   "cell_type": "markdown",
   "id": "2af67c55",
   "metadata": {},
   "source": [
    "# neuralnet with enhanced data"
   ]
  },
  {
   "cell_type": "code",
   "execution_count": 52,
   "id": "0f08eb3b",
   "metadata": {},
   "outputs": [],
   "source": [
    "model = models.Sequential()\n",
    "model.add(layers.InputLayer(input_shape=X_train.shape[1:]))\n",
    "\n",
    "for i in range(5):\n",
    "        model.add(layers.Dense(\n",
    "            64, \n",
    "            kernel_initializer='he_normal',\n",
    "            name=f'hidden_layer_{i}'))\n",
    "        model.add(layers.BatchNormalization())\n",
    "        model.add(layers.Activation('selu'))\n",
    "        model.add(layers.Dropout(0.3, name=f'dropout_{i}_30'))\n",
    "    \n",
    "model.add(layers.Dense(1, activation='sigmoid'))\n",
    "\n",
    "#model.compile(optimizer='rmsprop', loss='binary_crossentropy', metrics=['accuracy'])\n",
    "model.compile(loss='binary_crossentropy', optimizer='adam', metrics=['accuracy'])\n"
   ]
  },
  {
   "cell_type": "code",
   "execution_count": 53,
   "id": "832ba6fc",
   "metadata": {},
   "outputs": [
    {
     "name": "stdout",
     "output_type": "stream",
     "text": [
      "Epoch 1/300\n",
      "130/130 [==============================] - 5s 25ms/step - loss: 0.3459 - accuracy: 0.8516 - val_loss: 0.1635 - val_accuracy: 0.9279\n",
      "Epoch 2/300\n",
      "130/130 [==============================] - 2s 16ms/step - loss: 0.2513 - accuracy: 0.8930 - val_loss: 0.1253 - val_accuracy: 0.9519\n",
      "Epoch 3/300\n",
      "130/130 [==============================] - 3s 19ms/step - loss: 0.2187 - accuracy: 0.9086 - val_loss: 0.1041 - val_accuracy: 0.9606\n",
      "Epoch 4/300\n",
      "130/130 [==============================] - 4s 30ms/step - loss: 0.2022 - accuracy: 0.9148 - val_loss: 0.1063 - val_accuracy: 0.9615\n",
      "Epoch 5/300\n",
      "130/130 [==============================] - 3s 23ms/step - loss: 0.2048 - accuracy: 0.9156 - val_loss: 0.1037 - val_accuracy: 0.9587\n",
      "Epoch 6/300\n",
      "130/130 [==============================] - 3s 20ms/step - loss: 0.2065 - accuracy: 0.9124 - val_loss: 0.1031 - val_accuracy: 0.9654\n",
      "Epoch 7/300\n",
      "130/130 [==============================] - 3s 21ms/step - loss: 0.1947 - accuracy: 0.9175 - val_loss: 0.0996 - val_accuracy: 0.9615\n",
      "Epoch 8/300\n",
      "130/130 [==============================] - 3s 22ms/step - loss: 0.1746 - accuracy: 0.9283 - val_loss: 0.0984 - val_accuracy: 0.9625\n",
      "Epoch 9/300\n",
      "130/130 [==============================] - 2s 11ms/step - loss: 0.1718 - accuracy: 0.9314 - val_loss: 0.0959 - val_accuracy: 0.9663\n",
      "Epoch 10/300\n",
      "130/130 [==============================] - 2s 19ms/step - loss: 0.1767 - accuracy: 0.9293 - val_loss: 0.0932 - val_accuracy: 0.9644\n",
      "Epoch 11/300\n",
      "130/130 [==============================] - 2s 17ms/step - loss: 0.1780 - accuracy: 0.9221 - val_loss: 0.1023 - val_accuracy: 0.9663\n",
      "Epoch 12/300\n",
      "130/130 [==============================] - 2s 12ms/step - loss: 0.1668 - accuracy: 0.9302 - val_loss: 0.0928 - val_accuracy: 0.9702\n",
      "Epoch 13/300\n",
      "130/130 [==============================] - 2s 16ms/step - loss: 0.1730 - accuracy: 0.9341 - val_loss: 0.0933 - val_accuracy: 0.9683\n",
      "Epoch 14/300\n",
      "130/130 [==============================] - 3s 20ms/step - loss: 0.1707 - accuracy: 0.9319 - val_loss: 0.0948 - val_accuracy: 0.9644\n",
      "Epoch 15/300\n",
      "130/130 [==============================] - 2s 18ms/step - loss: 0.1611 - accuracy: 0.9338 - val_loss: 0.0906 - val_accuracy: 0.9692\n",
      "Epoch 16/300\n",
      "130/130 [==============================] - 3s 21ms/step - loss: 0.1793 - accuracy: 0.9293 - val_loss: 0.0944 - val_accuracy: 0.9702\n",
      "Epoch 17/300\n",
      "130/130 [==============================] - 2s 17ms/step - loss: 0.1753 - accuracy: 0.9221 - val_loss: 0.0961 - val_accuracy: 0.9644\n",
      "Epoch 18/300\n",
      "130/130 [==============================] - 2s 18ms/step - loss: 0.1703 - accuracy: 0.9298 - val_loss: 0.0946 - val_accuracy: 0.9644\n",
      "Epoch 19/300\n",
      "130/130 [==============================] - 2s 15ms/step - loss: 0.1862 - accuracy: 0.9249 - val_loss: 0.0958 - val_accuracy: 0.9683\n",
      "Epoch 20/300\n",
      "130/130 [==============================] - 2s 17ms/step - loss: 0.1675 - accuracy: 0.9300 - val_loss: 0.0949 - val_accuracy: 0.9692\n",
      "Epoch 21/300\n",
      "130/130 [==============================] - 2s 16ms/step - loss: 0.1822 - accuracy: 0.9242 - val_loss: 0.0979 - val_accuracy: 0.9692\n",
      "Epoch 22/300\n",
      "130/130 [==============================] - 3s 20ms/step - loss: 0.1777 - accuracy: 0.9290 - val_loss: 0.0929 - val_accuracy: 0.9673\n",
      "Epoch 23/300\n",
      "130/130 [==============================] - 2s 15ms/step - loss: 0.1841 - accuracy: 0.9206 - val_loss: 0.0909 - val_accuracy: 0.9683\n",
      "Epoch 24/300\n",
      "130/130 [==============================] - 4s 28ms/step - loss: 0.1598 - accuracy: 0.9334 - val_loss: 0.0914 - val_accuracy: 0.9644\n",
      "Epoch 25/300\n",
      "130/130 [==============================] - 3s 19ms/step - loss: 0.1764 - accuracy: 0.9278 - val_loss: 0.0924 - val_accuracy: 0.9673\n",
      "Epoch 26/300\n",
      "130/130 [==============================] - 3s 25ms/step - loss: 0.1646 - accuracy: 0.9317 - val_loss: 0.0940 - val_accuracy: 0.9702\n",
      "Epoch 27/300\n",
      "130/130 [==============================] - 3s 20ms/step - loss: 0.1748 - accuracy: 0.9286 - val_loss: 0.0993 - val_accuracy: 0.9673\n",
      "Epoch 28/300\n",
      "130/130 [==============================] - 3s 22ms/step - loss: 0.1639 - accuracy: 0.9329 - val_loss: 0.0905 - val_accuracy: 0.9654\n",
      "Epoch 29/300\n",
      "130/130 [==============================] - 2s 19ms/step - loss: 0.1735 - accuracy: 0.9271 - val_loss: 0.0893 - val_accuracy: 0.9673\n",
      "Epoch 30/300\n",
      "130/130 [==============================] - 3s 21ms/step - loss: 0.1763 - accuracy: 0.9269 - val_loss: 0.0910 - val_accuracy: 0.9683\n",
      "Epoch 31/300\n",
      "130/130 [==============================] - 2s 18ms/step - loss: 0.1683 - accuracy: 0.9281 - val_loss: 0.0913 - val_accuracy: 0.9692\n",
      "Epoch 32/300\n",
      "130/130 [==============================] - 3s 25ms/step - loss: 0.1607 - accuracy: 0.9312 - val_loss: 0.0945 - val_accuracy: 0.9683\n"
     ]
    }
   ],
   "source": [
    "history = model.fit(\n",
    "    enh['x_train_processed'], enh['y_train'], validation_split=.2, epochs=300,\n",
    "    callbacks=[\n",
    "        EarlyStopping(patience=20, monitor='val_accuracy', mode='max', restore_best_weights=True)])"
   ]
  },
  {
   "cell_type": "code",
   "execution_count": 54,
   "id": "95bc1c4e",
   "metadata": {},
   "outputs": [
    {
     "name": "stdout",
     "output_type": "stream",
     "text": [
      "41/41 [==============================] - 0s 6ms/step - loss: 2.3711 - accuracy: 0.4277\n"
     ]
    },
    {
     "data": {
      "text/plain": [
       "0.4276922941207886"
      ]
     },
     "execution_count": 54,
     "metadata": {},
     "output_type": "execute_result"
    }
   ],
   "source": [
    "result = model.evaluate(X_test, y_test)\n",
    "result[1]"
   ]
  },
  {
   "cell_type": "code",
   "execution_count": 55,
   "id": "9bc68f54",
   "metadata": {},
   "outputs": [],
   "source": [
    "log = log.append({\"model\": \"DenseNeuralNet\", \"accuracy\": result[1], \"enhanced_data\": True}, ignore_index=True)"
   ]
  },
  {
   "cell_type": "code",
   "execution_count": 56,
   "id": "c7ad99a0",
   "metadata": {
    "papermill": {
     "duration": 0.272369,
     "end_time": "2021-10-04T15:02:43.697068",
     "exception": false,
     "start_time": "2021-10-04T15:02:43.424699",
     "status": "completed"
    },
    "tags": []
   },
   "outputs": [
    {
     "data": {
      "image/png": "[encoded data removed]",
      "text/plain": [
       "<Figure size 1524.88x1440 with 1 Axes>"
      ]
     },
     "metadata": {
      "needs_background": "light"
     },
     "output_type": "display_data"
    }
   ],
   "source": [
    "import seaborn as sns\n",
    "from matplotlib import pyplot as plt\n",
    "\n",
    "\n",
    "c = sns.catplot(\n",
    "    data=log,\n",
    "    x='model',\n",
    "    y='accuracy',\n",
    "    hue='enhanced_data',\n",
    "    kind='bar',\n",
    "    height=20\n",
    ")\n",
    "\n",
    "naive_baseline = 1 - y_train.mean()\n",
    "\n",
    "axes = c.axes.flatten()\n",
    "for i, ax in enumerate(axes):\n",
    "    accuracy = naive_baseline\n",
    "    \n",
    "    ax.axhline(accuracy, ls='--', c='black')\n",
    "    ax.text(0.15, accuracy, \n",
    "            f'accuracy naive: {round(accuracy, 4)}', \n",
    "            fontsize=15, va='center', ha='center', backgroundcolor='w')\n",
    "\n",
    "\n",
    "plt.savefig('./winequality_replacing_experiments.jpg')"
   ]
  },
  {
   "cell_type": "code",
   "execution_count": null,
   "id": "cbacda59",
   "metadata": {},
   "outputs": [],
   "source": []
  }
 ],
 "metadata": {
  "kernelspec": {
   "display_name": "Python 3",
   "language": "python",
   "name": "python3"
  },
  "language_info": {
   "codemirror_mode": {
    "name": "ipython",
    "version": 3
   },
   "file_extension": ".py",
   "mimetype": "text/x-python",
   "name": "python",
   "nbconvert_exporter": "python",
   "pygments_lexer": "ipython3",
   "version": "3.9.7"
  },
  "papermill": {
   "default_parameters": {},
   "duration": 84.995847,
   "end_time": "2021-10-04T15:02:45.659014",
   "environment_variables": {},
   "exception": null,
   "input_path": "__notebook__.ipynb",
   "output_path": "__notebook__.ipynb",
   "parameters": {},
   "start_time": "2021-10-04T15:01:20.663167",
   "version": "2.3.3"
  }
 },
 "nbformat": 4,
 "nbformat_minor": 5
}
