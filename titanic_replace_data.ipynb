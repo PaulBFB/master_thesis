{
 "cells": [
  {
   "cell_type": "markdown",
   "id": "582b5750",
   "metadata": {},
   "source": [
    "# load the dataset\n",
    "\n",
    "using the titanic dataset, downloaded from [data.world](https://data.world/nrippner/titanic-disaster-dataset)\n",
    "\n",
    "description:\n",
    "\n",
    "- survival - Survival (0 = No; 1 = Yes)\n",
    "- class - Passenger Class (1 = 1st; 2 = 2nd; 3 = 3rd)\n",
    "- name - Name\n",
    "- sex - Sex\n",
    "- age - Age\n",
    "- sibsp - Number of Siblings/Spouses Aboard\n",
    "- parch - Number of Parents/Children Aboard\n",
    "- ticket - Ticket Number\n",
    "- fare - Passenger Fare\n",
    "- cabin - Cabin\n",
    "- embarked - Port of Embarkation (C = Cherbourg; Q = Queenstown; S = Southampton)\n",
    "- boat - Lifeboat (if survived)\n",
    "- body - Body number (if did not survive and body was recovered)"
   ]
  },
  {
   "cell_type": "code",
   "execution_count": 1,
   "id": "f066abf3",
   "metadata": {},
   "outputs": [],
   "source": [
    "import pandas as pd\n",
    "import numpy as np \n",
    "import seaborn as sns\n",
    "from matplotlib import pyplot as plt\n",
    "\n",
    "from sklearn.model_selection import train_test_split, KFold, cross_val_score, GridSearchCV\n",
    "from sklearn.compose import ColumnTransformer\n",
    "from sklearn.pipeline import Pipeline, FeatureUnion\n",
    "from sklearn.experimental import enable_iterative_imputer\n",
    "from sklearn.impute import IterativeImputer\n",
    "from sklearn.preprocessing import OneHotEncoder, StandardScaler, MinMaxScaler, MultiLabelBinarizer\n",
    "\n",
    "from sklearn.linear_model import LogisticRegression\n",
    "\n",
    "from sklearn.ensemble import GradientBoostingClassifier, RandomForestClassifier\n",
    "from sklearn.svm import SVC\n",
    "from sklearn.naive_bayes import GaussianNB\n",
    "from sklearn.tree import DecisionTreeClassifier\n",
    "from sklearn.ensemble import RandomForestClassifier\n",
    "from sklearn.neighbors import KNeighborsClassifier\n",
    "from sklearn.metrics import accuracy_score\n",
    "\n",
    "from tensorflow.keras import models, Model, layers\n",
    "from tensorflow.keras.callbacks import EarlyStopping\n",
    "\n",
    "from pprint import pprint\n",
    "from enhance_data import enhance_data\n",
    "#from impyute.imputation.cs import mice\n",
    "\n",
    "\n",
    "pd.set_option('display.width', 5000, 'display.max_columns', 100)"
   ]
  },
  {
   "cell_type": "code",
   "execution_count": 2,
   "id": "4a6bf024",
   "metadata": {},
   "outputs": [],
   "source": [
    "with open('./data/titanic.csv', mode='r') as file:\n",
    "    df = pd.read_csv(file)"
   ]
  },
  {
   "cell_type": "markdown",
   "id": "730746aa",
   "metadata": {},
   "source": [
    "> first look at the data"
   ]
  },
  {
   "cell_type": "code",
   "execution_count": 3,
   "id": "46763a69",
   "metadata": {},
   "outputs": [
    {
     "data": {
      "text/html": [
       "<div>\n",
       "<style scoped>\n",
       "    .dataframe tbody tr th:only-of-type {\n",
       "        vertical-align: middle;\n",
       "    }\n",
       "\n",
       "    .dataframe tbody tr th {\n",
       "        vertical-align: top;\n",
       "    }\n",
       "\n",
       "    .dataframe thead th {\n",
       "        text-align: right;\n",
       "    }\n",
       "</style>\n",
       "<table border=\"1\" class=\"dataframe\">\n",
       "  <thead>\n",
       "    <tr style=\"text-align: right;\">\n",
       "      <th></th>\n",
       "      <th>pclass</th>\n",
       "      <th>survived</th>\n",
       "      <th>name</th>\n",
       "      <th>sex</th>\n",
       "      <th>age</th>\n",
       "      <th>sibsp</th>\n",
       "      <th>parch</th>\n",
       "      <th>ticket</th>\n",
       "      <th>fare</th>\n",
       "      <th>cabin</th>\n",
       "      <th>embarked</th>\n",
       "      <th>boat</th>\n",
       "      <th>body</th>\n",
       "      <th>home.dest</th>\n",
       "    </tr>\n",
       "  </thead>\n",
       "  <tbody>\n",
       "    <tr>\n",
       "      <th>0</th>\n",
       "      <td>1.0</td>\n",
       "      <td>1.0</td>\n",
       "      <td>Allen, Miss. Elisabeth Walton</td>\n",
       "      <td>female</td>\n",
       "      <td>29.0000</td>\n",
       "      <td>0.0</td>\n",
       "      <td>0.0</td>\n",
       "      <td>24160</td>\n",
       "      <td>211.3375</td>\n",
       "      <td>B5</td>\n",
       "      <td>S</td>\n",
       "      <td>2</td>\n",
       "      <td>NaN</td>\n",
       "      <td>St Louis, MO</td>\n",
       "    </tr>\n",
       "    <tr>\n",
       "      <th>1</th>\n",
       "      <td>1.0</td>\n",
       "      <td>1.0</td>\n",
       "      <td>Allison, Master. Hudson Trevor</td>\n",
       "      <td>male</td>\n",
       "      <td>0.9167</td>\n",
       "      <td>1.0</td>\n",
       "      <td>2.0</td>\n",
       "      <td>113781</td>\n",
       "      <td>151.5500</td>\n",
       "      <td>C22 C26</td>\n",
       "      <td>S</td>\n",
       "      <td>11</td>\n",
       "      <td>NaN</td>\n",
       "      <td>Montreal, PQ / Chesterville, ON</td>\n",
       "    </tr>\n",
       "    <tr>\n",
       "      <th>2</th>\n",
       "      <td>1.0</td>\n",
       "      <td>0.0</td>\n",
       "      <td>Allison, Miss. Helen Loraine</td>\n",
       "      <td>female</td>\n",
       "      <td>2.0000</td>\n",
       "      <td>1.0</td>\n",
       "      <td>2.0</td>\n",
       "      <td>113781</td>\n",
       "      <td>151.5500</td>\n",
       "      <td>C22 C26</td>\n",
       "      <td>S</td>\n",
       "      <td>NaN</td>\n",
       "      <td>NaN</td>\n",
       "      <td>Montreal, PQ / Chesterville, ON</td>\n",
       "    </tr>\n",
       "    <tr>\n",
       "      <th>3</th>\n",
       "      <td>1.0</td>\n",
       "      <td>0.0</td>\n",
       "      <td>Allison, Mr. Hudson Joshua Creighton</td>\n",
       "      <td>male</td>\n",
       "      <td>30.0000</td>\n",
       "      <td>1.0</td>\n",
       "      <td>2.0</td>\n",
       "      <td>113781</td>\n",
       "      <td>151.5500</td>\n",
       "      <td>C22 C26</td>\n",
       "      <td>S</td>\n",
       "      <td>NaN</td>\n",
       "      <td>135.0</td>\n",
       "      <td>Montreal, PQ / Chesterville, ON</td>\n",
       "    </tr>\n",
       "    <tr>\n",
       "      <th>4</th>\n",
       "      <td>1.0</td>\n",
       "      <td>0.0</td>\n",
       "      <td>Allison, Mrs. Hudson J C (Bessie Waldo Daniels)</td>\n",
       "      <td>female</td>\n",
       "      <td>25.0000</td>\n",
       "      <td>1.0</td>\n",
       "      <td>2.0</td>\n",
       "      <td>113781</td>\n",
       "      <td>151.5500</td>\n",
       "      <td>C22 C26</td>\n",
       "      <td>S</td>\n",
       "      <td>NaN</td>\n",
       "      <td>NaN</td>\n",
       "      <td>Montreal, PQ / Chesterville, ON</td>\n",
       "    </tr>\n",
       "  </tbody>\n",
       "</table>\n",
       "</div>"
      ],
      "text/plain": [
       "   pclass  survived                                             name     sex      age  sibsp  parch  ticket      fare    cabin embarked boat   body                        home.dest\n",
       "0     1.0       1.0                    Allen, Miss. Elisabeth Walton  female  29.0000    0.0    0.0   24160  211.3375       B5        S    2    NaN                     St Louis, MO\n",
       "1     1.0       1.0                   Allison, Master. Hudson Trevor    male   0.9167    1.0    2.0  113781  151.5500  C22 C26        S   11    NaN  Montreal, PQ / Chesterville, ON\n",
       "2     1.0       0.0                     Allison, Miss. Helen Loraine  female   2.0000    1.0    2.0  113781  151.5500  C22 C26        S  NaN    NaN  Montreal, PQ / Chesterville, ON\n",
       "3     1.0       0.0             Allison, Mr. Hudson Joshua Creighton    male  30.0000    1.0    2.0  113781  151.5500  C22 C26        S  NaN  135.0  Montreal, PQ / Chesterville, ON\n",
       "4     1.0       0.0  Allison, Mrs. Hudson J C (Bessie Waldo Daniels)  female  25.0000    1.0    2.0  113781  151.5500  C22 C26        S  NaN    NaN  Montreal, PQ / Chesterville, ON"
      ]
     },
     "execution_count": 3,
     "metadata": {},
     "output_type": "execute_result"
    }
   ],
   "source": [
    "df.head()"
   ]
  },
  {
   "cell_type": "code",
   "execution_count": 4,
   "id": "e4cea099",
   "metadata": {},
   "outputs": [
    {
     "data": {
      "text/html": [
       "<div>\n",
       "<style scoped>\n",
       "    .dataframe tbody tr th:only-of-type {\n",
       "        vertical-align: middle;\n",
       "    }\n",
       "\n",
       "    .dataframe tbody tr th {\n",
       "        vertical-align: top;\n",
       "    }\n",
       "\n",
       "    .dataframe thead th {\n",
       "        text-align: right;\n",
       "    }\n",
       "</style>\n",
       "<table border=\"1\" class=\"dataframe\">\n",
       "  <thead>\n",
       "    <tr style=\"text-align: right;\">\n",
       "      <th></th>\n",
       "      <th>pclass</th>\n",
       "      <th>survived</th>\n",
       "      <th>age</th>\n",
       "      <th>sibsp</th>\n",
       "      <th>parch</th>\n",
       "      <th>fare</th>\n",
       "      <th>body</th>\n",
       "    </tr>\n",
       "  </thead>\n",
       "  <tbody>\n",
       "    <tr>\n",
       "      <th>count</th>\n",
       "      <td>1309.000000</td>\n",
       "      <td>1309.000000</td>\n",
       "      <td>1046.000000</td>\n",
       "      <td>1309.000000</td>\n",
       "      <td>1309.000000</td>\n",
       "      <td>1308.000000</td>\n",
       "      <td>121.000000</td>\n",
       "    </tr>\n",
       "    <tr>\n",
       "      <th>mean</th>\n",
       "      <td>2.294882</td>\n",
       "      <td>0.381971</td>\n",
       "      <td>29.881135</td>\n",
       "      <td>0.498854</td>\n",
       "      <td>0.385027</td>\n",
       "      <td>33.295479</td>\n",
       "      <td>160.809917</td>\n",
       "    </tr>\n",
       "    <tr>\n",
       "      <th>std</th>\n",
       "      <td>0.837836</td>\n",
       "      <td>0.486055</td>\n",
       "      <td>14.413500</td>\n",
       "      <td>1.041658</td>\n",
       "      <td>0.865560</td>\n",
       "      <td>51.758668</td>\n",
       "      <td>97.696922</td>\n",
       "    </tr>\n",
       "    <tr>\n",
       "      <th>min</th>\n",
       "      <td>1.000000</td>\n",
       "      <td>0.000000</td>\n",
       "      <td>0.166700</td>\n",
       "      <td>0.000000</td>\n",
       "      <td>0.000000</td>\n",
       "      <td>0.000000</td>\n",
       "      <td>1.000000</td>\n",
       "    </tr>\n",
       "    <tr>\n",
       "      <th>25%</th>\n",
       "      <td>2.000000</td>\n",
       "      <td>0.000000</td>\n",
       "      <td>21.000000</td>\n",
       "      <td>0.000000</td>\n",
       "      <td>0.000000</td>\n",
       "      <td>7.895800</td>\n",
       "      <td>72.000000</td>\n",
       "    </tr>\n",
       "    <tr>\n",
       "      <th>50%</th>\n",
       "      <td>3.000000</td>\n",
       "      <td>0.000000</td>\n",
       "      <td>28.000000</td>\n",
       "      <td>0.000000</td>\n",
       "      <td>0.000000</td>\n",
       "      <td>14.454200</td>\n",
       "      <td>155.000000</td>\n",
       "    </tr>\n",
       "    <tr>\n",
       "      <th>75%</th>\n",
       "      <td>3.000000</td>\n",
       "      <td>1.000000</td>\n",
       "      <td>39.000000</td>\n",
       "      <td>1.000000</td>\n",
       "      <td>0.000000</td>\n",
       "      <td>31.275000</td>\n",
       "      <td>256.000000</td>\n",
       "    </tr>\n",
       "    <tr>\n",
       "      <th>max</th>\n",
       "      <td>3.000000</td>\n",
       "      <td>1.000000</td>\n",
       "      <td>80.000000</td>\n",
       "      <td>8.000000</td>\n",
       "      <td>9.000000</td>\n",
       "      <td>512.329200</td>\n",
       "      <td>328.000000</td>\n",
       "    </tr>\n",
       "  </tbody>\n",
       "</table>\n",
       "</div>"
      ],
      "text/plain": [
       "            pclass     survived          age        sibsp        parch         fare        body\n",
       "count  1309.000000  1309.000000  1046.000000  1309.000000  1309.000000  1308.000000  121.000000\n",
       "mean      2.294882     0.381971    29.881135     0.498854     0.385027    33.295479  160.809917\n",
       "std       0.837836     0.486055    14.413500     1.041658     0.865560    51.758668   97.696922\n",
       "min       1.000000     0.000000     0.166700     0.000000     0.000000     0.000000    1.000000\n",
       "25%       2.000000     0.000000    21.000000     0.000000     0.000000     7.895800   72.000000\n",
       "50%       3.000000     0.000000    28.000000     0.000000     0.000000    14.454200  155.000000\n",
       "75%       3.000000     1.000000    39.000000     1.000000     0.000000    31.275000  256.000000\n",
       "max       3.000000     1.000000    80.000000     8.000000     9.000000   512.329200  328.000000"
      ]
     },
     "execution_count": 4,
     "metadata": {},
     "output_type": "execute_result"
    }
   ],
   "source": [
    "df.describe()"
   ]
  },
  {
   "cell_type": "code",
   "execution_count": 5,
   "id": "33e75fd2",
   "metadata": {},
   "outputs": [
    {
     "data": {
      "text/plain": [
       "(1310, 14)"
      ]
     },
     "execution_count": 5,
     "metadata": {},
     "output_type": "execute_result"
    }
   ],
   "source": [
    "df.shape"
   ]
  },
  {
   "cell_type": "markdown",
   "id": "26fcf1c9",
   "metadata": {},
   "source": [
    "1310 observations, 14 attributes"
   ]
  },
  {
   "cell_type": "markdown",
   "id": "77a94479",
   "metadata": {},
   "source": [
    "## data conversion"
   ]
  },
  {
   "cell_type": "code",
   "execution_count": 6,
   "id": "0874ab2a",
   "metadata": {},
   "outputs": [
    {
     "data": {
      "text/plain": [
       "pclass       float64\n",
       "survived     float64\n",
       "name          object\n",
       "sex           object\n",
       "age          float64\n",
       "sibsp        float64\n",
       "parch        float64\n",
       "ticket        object\n",
       "fare         float64\n",
       "cabin         object\n",
       "embarked      object\n",
       "boat          object\n",
       "body         float64\n",
       "home.dest     object\n",
       "dtype: object"
      ]
     },
     "execution_count": 6,
     "metadata": {},
     "output_type": "execute_result"
    }
   ],
   "source": [
    "df.dtypes"
   ]
  },
  {
   "cell_type": "code",
   "execution_count": 7,
   "id": "5736c047",
   "metadata": {},
   "outputs": [],
   "source": [
    "#for i in ['pclass', 'sex', 'embarked', 'boat']:\n",
    "#    df[i] = df[i].astype('category')"
   ]
  },
  {
   "cell_type": "markdown",
   "id": "21778f5d",
   "metadata": {},
   "source": [
    "> droppint the name, cabin and home port since they offer no value to the prediction (and may lead the model to overfit on the person level)\n"
   ]
  },
  {
   "cell_type": "code",
   "execution_count": 9,
   "id": "7f827d4a",
   "metadata": {},
   "outputs": [
    {
     "data": {
      "text/plain": [
       "(0, 14)"
      ]
     },
     "execution_count": 9,
     "metadata": {},
     "output_type": "execute_result"
    }
   ],
   "source": [
    "df.loc[(~df['body'].isna()) & (df['survived'])].shape"
   ]
  },
  {
   "cell_type": "code",
   "execution_count": 10,
   "id": "454a3d98",
   "metadata": {},
   "outputs": [
    {
     "data": {
      "text/plain": [
       "(23, 14)"
      ]
     },
     "execution_count": 10,
     "metadata": {},
     "output_type": "execute_result"
    }
   ],
   "source": [
    "df.loc[(df['boat'].isna()) & (df['survived'])].shape"
   ]
  },
  {
   "cell_type": "markdown",
   "id": "9bbdbfb3",
   "metadata": {},
   "source": [
    "\n",
    "> also dropping the boat, because it can only be known if a passenger survived so would be considered 'unfair' (even though apprently 24 passengers survived without one...)\n",
    "\n",
    "> body number is also only given to people who didn't survive"
   ]
  },
  {
   "cell_type": "code",
   "execution_count": 11,
   "id": "ef7326c2",
   "metadata": {},
   "outputs": [],
   "source": [
    "df.drop(columns=['cabin', 'home.dest', 'boat', 'body', 'ticket'], inplace=True)"
   ]
  },
  {
   "cell_type": "markdown",
   "id": "a9cae297",
   "metadata": {},
   "source": [
    "show value counts for factor columns"
   ]
  },
  {
   "cell_type": "code",
   "execution_count": 12,
   "id": "7b7a99b5",
   "metadata": {},
   "outputs": [],
   "source": [
    "#df['survived'] = df['survived'].astype(bool)"
   ]
  },
  {
   "cell_type": "markdown",
   "id": "57fab5ad",
   "metadata": {},
   "source": [
    "## title column & derivations"
   ]
  },
  {
   "cell_type": "code",
   "execution_count": 13,
   "id": "ead31d5a",
   "metadata": {},
   "outputs": [],
   "source": [
    "df['title'] = df['name'].str.extract('([A-Za-z]+)\\.', expand=True)"
   ]
  },
  {
   "cell_type": "code",
   "execution_count": 14,
   "id": "57aa83c6",
   "metadata": {},
   "outputs": [
    {
     "data": {
      "text/plain": [
       "Mr          757\n",
       "Miss        260\n",
       "Mrs         197\n",
       "Master       61\n",
       "Dr            8\n",
       "Rev           8\n",
       "Col           4\n",
       "Mlle          2\n",
       "Ms            2\n",
       "Major         2\n",
       "Sir           1\n",
       "Dona          1\n",
       "Don           1\n",
       "Mme           1\n",
       "Countess      1\n",
       "Jonkheer      1\n",
       "Lady          1\n",
       "Capt          1\n",
       "Name: title, dtype: int64"
      ]
     },
     "execution_count": 14,
     "metadata": {},
     "output_type": "execute_result"
    }
   ],
   "source": [
    "df['title'].value_counts()"
   ]
  },
  {
   "cell_type": "markdown",
   "id": "8171d585",
   "metadata": {},
   "source": [
    "> some titles are synonyms, some contain information about **marital status** or **social status**"
   ]
  },
  {
   "cell_type": "markdown",
   "id": "d6ee5b6f",
   "metadata": {},
   "source": [
    "### todo - extract military status, nationality, social status from titles\n",
    "\n",
    "\n",
    "- nobility: titles that denote social status (noble, professions like doctor, military); dr rev col major lady countess dona don capt sir jonkheer\n",
    "- marriagle status: titles that show if someone is married (mrs, lady, countess, dona, don, ) or unmarried (miss, mlle, mme)"
   ]
  },
  {
   "cell_type": "code",
   "execution_count": 15,
   "id": "672402f6",
   "metadata": {},
   "outputs": [],
   "source": [
    "df['high_status'] = np.where(df['title'].isin([\n",
    "    'Dr', \n",
    "    'Rev', \n",
    "    'Col', \n",
    "    'Major', \n",
    "    'Lady', \n",
    "    'Countess', \n",
    "    'Dona', \n",
    "    'Don', \n",
    "    'Capt', \n",
    "    'Sir' \n",
    "    'Jonkheer']),\n",
    "                             1 , 0)"
   ]
  },
  {
   "cell_type": "code",
   "execution_count": 16,
   "id": "55b6da75",
   "metadata": {},
   "outputs": [],
   "source": [
    "df['married'] = np.where(df['title'].isin([\n",
    "    'Mrs', \n",
    "    'Lady', \n",
    "    'Countess', \n",
    "    'Dona', \n",
    "    'Don',\n",
    "]), 1, 0)"
   ]
  },
  {
   "cell_type": "code",
   "execution_count": 17,
   "id": "c65757af",
   "metadata": {},
   "outputs": [
    {
     "data": {
      "text/plain": [
       "0    1283\n",
       "1      27\n",
       "Name: high_status, dtype: int64"
      ]
     },
     "execution_count": 17,
     "metadata": {},
     "output_type": "execute_result"
    }
   ],
   "source": [
    "df['high_status'].value_counts()"
   ]
  },
  {
   "cell_type": "code",
   "execution_count": 18,
   "id": "3eae68a6",
   "metadata": {},
   "outputs": [
    {
     "data": {
      "text/plain": [
       "0    1109\n",
       "1     201\n",
       "Name: married, dtype: int64"
      ]
     },
     "execution_count": 18,
     "metadata": {},
     "output_type": "execute_result"
    }
   ],
   "source": [
    "df['married'].value_counts()"
   ]
  },
  {
   "cell_type": "code",
   "execution_count": 19,
   "id": "94ca517f",
   "metadata": {},
   "outputs": [],
   "source": [
    "title_synonyms = {\n",
    "    'Mlle': 'Miss', \n",
    "    'Major': 'Mr', \n",
    "    'Col': 'Mr', \n",
    "    'Sir': 'Mr',\n",
    "    'Don': 'Mr', \n",
    "    'Mme': 'Mrs', \n",
    "    'Jonkheer': 'Mr', \n",
    "    'Lady': 'Mrs',\n",
    "    'Capt': 'Mr', \n",
    "    'Countess': 'Mrs', \n",
    "    'Ms': 'Miss', \n",
    "    'Dona': 'Mrs'}\n",
    "# df.replace({'title': title_synonyms}, inplace=True)\n",
    "df.drop(columns=['title', 'name'], inplace=True)"
   ]
  },
  {
   "cell_type": "code",
   "execution_count": 20,
   "id": "dcdb1b9f",
   "metadata": {},
   "outputs": [
    {
     "data": {
      "text/html": [
       "<div>\n",
       "<style scoped>\n",
       "    .dataframe tbody tr th:only-of-type {\n",
       "        vertical-align: middle;\n",
       "    }\n",
       "\n",
       "    .dataframe tbody tr th {\n",
       "        vertical-align: top;\n",
       "    }\n",
       "\n",
       "    .dataframe thead th {\n",
       "        text-align: right;\n",
       "    }\n",
       "</style>\n",
       "<table border=\"1\" class=\"dataframe\">\n",
       "  <thead>\n",
       "    <tr style=\"text-align: right;\">\n",
       "      <th></th>\n",
       "      <th>pclass</th>\n",
       "      <th>survived</th>\n",
       "      <th>sex</th>\n",
       "      <th>age</th>\n",
       "      <th>sibsp</th>\n",
       "      <th>parch</th>\n",
       "      <th>fare</th>\n",
       "      <th>embarked</th>\n",
       "      <th>high_status</th>\n",
       "      <th>married</th>\n",
       "    </tr>\n",
       "  </thead>\n",
       "  <tbody>\n",
       "    <tr>\n",
       "      <th>0</th>\n",
       "      <td>1.0</td>\n",
       "      <td>1.0</td>\n",
       "      <td>female</td>\n",
       "      <td>29.0000</td>\n",
       "      <td>0.0</td>\n",
       "      <td>0.0</td>\n",
       "      <td>211.3375</td>\n",
       "      <td>S</td>\n",
       "      <td>0</td>\n",
       "      <td>0</td>\n",
       "    </tr>\n",
       "    <tr>\n",
       "      <th>1</th>\n",
       "      <td>1.0</td>\n",
       "      <td>1.0</td>\n",
       "      <td>male</td>\n",
       "      <td>0.9167</td>\n",
       "      <td>1.0</td>\n",
       "      <td>2.0</td>\n",
       "      <td>151.5500</td>\n",
       "      <td>S</td>\n",
       "      <td>0</td>\n",
       "      <td>0</td>\n",
       "    </tr>\n",
       "    <tr>\n",
       "      <th>2</th>\n",
       "      <td>1.0</td>\n",
       "      <td>0.0</td>\n",
       "      <td>female</td>\n",
       "      <td>2.0000</td>\n",
       "      <td>1.0</td>\n",
       "      <td>2.0</td>\n",
       "      <td>151.5500</td>\n",
       "      <td>S</td>\n",
       "      <td>0</td>\n",
       "      <td>0</td>\n",
       "    </tr>\n",
       "    <tr>\n",
       "      <th>3</th>\n",
       "      <td>1.0</td>\n",
       "      <td>0.0</td>\n",
       "      <td>male</td>\n",
       "      <td>30.0000</td>\n",
       "      <td>1.0</td>\n",
       "      <td>2.0</td>\n",
       "      <td>151.5500</td>\n",
       "      <td>S</td>\n",
       "      <td>0</td>\n",
       "      <td>0</td>\n",
       "    </tr>\n",
       "    <tr>\n",
       "      <th>4</th>\n",
       "      <td>1.0</td>\n",
       "      <td>0.0</td>\n",
       "      <td>female</td>\n",
       "      <td>25.0000</td>\n",
       "      <td>1.0</td>\n",
       "      <td>2.0</td>\n",
       "      <td>151.5500</td>\n",
       "      <td>S</td>\n",
       "      <td>0</td>\n",
       "      <td>1</td>\n",
       "    </tr>\n",
       "  </tbody>\n",
       "</table>\n",
       "</div>"
      ],
      "text/plain": [
       "   pclass  survived     sex      age  sibsp  parch      fare embarked  high_status  married\n",
       "0     1.0       1.0  female  29.0000    0.0    0.0  211.3375        S            0        0\n",
       "1     1.0       1.0    male   0.9167    1.0    2.0  151.5500        S            0        0\n",
       "2     1.0       0.0  female   2.0000    1.0    2.0  151.5500        S            0        0\n",
       "3     1.0       0.0    male  30.0000    1.0    2.0  151.5500        S            0        0\n",
       "4     1.0       0.0  female  25.0000    1.0    2.0  151.5500        S            0        1"
      ]
     },
     "execution_count": 20,
     "metadata": {},
     "output_type": "execute_result"
    }
   ],
   "source": [
    "df.head()"
   ]
  },
  {
   "cell_type": "code",
   "execution_count": 21,
   "id": "81a3c6f7",
   "metadata": {},
   "outputs": [],
   "source": [
    "for i in filter(lambda x: df[x].dtype.name == 'category', df.columns):\n",
    "    print(i)\n",
    "    print(df[i].value_counts())"
   ]
  },
  {
   "cell_type": "code",
   "execution_count": 22,
   "id": "d0496d91",
   "metadata": {},
   "outputs": [
    {
     "data": {
      "text/html": [
       "<div>\n",
       "<style scoped>\n",
       "    .dataframe tbody tr th:only-of-type {\n",
       "        vertical-align: middle;\n",
       "    }\n",
       "\n",
       "    .dataframe tbody tr th {\n",
       "        vertical-align: top;\n",
       "    }\n",
       "\n",
       "    .dataframe thead th {\n",
       "        text-align: right;\n",
       "    }\n",
       "</style>\n",
       "<table border=\"1\" class=\"dataframe\">\n",
       "  <thead>\n",
       "    <tr style=\"text-align: right;\">\n",
       "      <th></th>\n",
       "      <th>pclass</th>\n",
       "      <th>survived</th>\n",
       "      <th>sex</th>\n",
       "      <th>age</th>\n",
       "      <th>sibsp</th>\n",
       "      <th>parch</th>\n",
       "      <th>fare</th>\n",
       "      <th>embarked</th>\n",
       "      <th>high_status</th>\n",
       "      <th>married</th>\n",
       "    </tr>\n",
       "  </thead>\n",
       "  <tbody>\n",
       "    <tr>\n",
       "      <th>0</th>\n",
       "      <td>1.0</td>\n",
       "      <td>1.0</td>\n",
       "      <td>female</td>\n",
       "      <td>29.0000</td>\n",
       "      <td>0.0</td>\n",
       "      <td>0.0</td>\n",
       "      <td>211.3375</td>\n",
       "      <td>S</td>\n",
       "      <td>0</td>\n",
       "      <td>0</td>\n",
       "    </tr>\n",
       "    <tr>\n",
       "      <th>1</th>\n",
       "      <td>1.0</td>\n",
       "      <td>1.0</td>\n",
       "      <td>male</td>\n",
       "      <td>0.9167</td>\n",
       "      <td>1.0</td>\n",
       "      <td>2.0</td>\n",
       "      <td>151.5500</td>\n",
       "      <td>S</td>\n",
       "      <td>0</td>\n",
       "      <td>0</td>\n",
       "    </tr>\n",
       "    <tr>\n",
       "      <th>2</th>\n",
       "      <td>1.0</td>\n",
       "      <td>0.0</td>\n",
       "      <td>female</td>\n",
       "      <td>2.0000</td>\n",
       "      <td>1.0</td>\n",
       "      <td>2.0</td>\n",
       "      <td>151.5500</td>\n",
       "      <td>S</td>\n",
       "      <td>0</td>\n",
       "      <td>0</td>\n",
       "    </tr>\n",
       "    <tr>\n",
       "      <th>3</th>\n",
       "      <td>1.0</td>\n",
       "      <td>0.0</td>\n",
       "      <td>male</td>\n",
       "      <td>30.0000</td>\n",
       "      <td>1.0</td>\n",
       "      <td>2.0</td>\n",
       "      <td>151.5500</td>\n",
       "      <td>S</td>\n",
       "      <td>0</td>\n",
       "      <td>0</td>\n",
       "    </tr>\n",
       "    <tr>\n",
       "      <th>4</th>\n",
       "      <td>1.0</td>\n",
       "      <td>0.0</td>\n",
       "      <td>female</td>\n",
       "      <td>25.0000</td>\n",
       "      <td>1.0</td>\n",
       "      <td>2.0</td>\n",
       "      <td>151.5500</td>\n",
       "      <td>S</td>\n",
       "      <td>0</td>\n",
       "      <td>1</td>\n",
       "    </tr>\n",
       "  </tbody>\n",
       "</table>\n",
       "</div>"
      ],
      "text/plain": [
       "   pclass  survived     sex      age  sibsp  parch      fare embarked  high_status  married\n",
       "0     1.0       1.0  female  29.0000    0.0    0.0  211.3375        S            0        0\n",
       "1     1.0       1.0    male   0.9167    1.0    2.0  151.5500        S            0        0\n",
       "2     1.0       0.0  female   2.0000    1.0    2.0  151.5500        S            0        0\n",
       "3     1.0       0.0    male  30.0000    1.0    2.0  151.5500        S            0        0\n",
       "4     1.0       0.0  female  25.0000    1.0    2.0  151.5500        S            0        1"
      ]
     },
     "execution_count": 22,
     "metadata": {},
     "output_type": "execute_result"
    }
   ],
   "source": [
    "df.head()"
   ]
  },
  {
   "cell_type": "code",
   "execution_count": 23,
   "id": "46e702c9",
   "metadata": {},
   "outputs": [
    {
     "data": {
      "text/plain": [
       "age            0.201527\n",
       "embarked       0.002290\n",
       "fare           0.001527\n",
       "pclass         0.000763\n",
       "survived       0.000763\n",
       "sex            0.000763\n",
       "sibsp          0.000763\n",
       "parch          0.000763\n",
       "high_status    0.000000\n",
       "married        0.000000\n",
       "dtype: float64"
      ]
     },
     "execution_count": 23,
     "metadata": {},
     "output_type": "execute_result"
    }
   ],
   "source": [
    "df.isna().mean().sort_values(ascending=False)"
   ]
  },
  {
   "cell_type": "code",
   "execution_count": 24,
   "id": "132ab739",
   "metadata": {},
   "outputs": [
    {
     "data": {
      "text/html": [
       "<div>\n",
       "<style scoped>\n",
       "    .dataframe tbody tr th:only-of-type {\n",
       "        vertical-align: middle;\n",
       "    }\n",
       "\n",
       "    .dataframe tbody tr th {\n",
       "        vertical-align: top;\n",
       "    }\n",
       "\n",
       "    .dataframe thead th {\n",
       "        text-align: right;\n",
       "    }\n",
       "</style>\n",
       "<table border=\"1\" class=\"dataframe\">\n",
       "  <thead>\n",
       "    <tr style=\"text-align: right;\">\n",
       "      <th></th>\n",
       "      <th>pclass</th>\n",
       "      <th>survived</th>\n",
       "      <th>sex</th>\n",
       "      <th>age</th>\n",
       "      <th>sibsp</th>\n",
       "      <th>parch</th>\n",
       "      <th>fare</th>\n",
       "      <th>embarked</th>\n",
       "      <th>high_status</th>\n",
       "      <th>married</th>\n",
       "    </tr>\n",
       "  </thead>\n",
       "  <tbody>\n",
       "    <tr>\n",
       "      <th>1309</th>\n",
       "      <td>NaN</td>\n",
       "      <td>NaN</td>\n",
       "      <td>NaN</td>\n",
       "      <td>NaN</td>\n",
       "      <td>NaN</td>\n",
       "      <td>NaN</td>\n",
       "      <td>NaN</td>\n",
       "      <td>NaN</td>\n",
       "      <td>0</td>\n",
       "      <td>0</td>\n",
       "    </tr>\n",
       "  </tbody>\n",
       "</table>\n",
       "</div>"
      ],
      "text/plain": [
       "      pclass  survived  sex  age  sibsp  parch  fare embarked  high_status  married\n",
       "1309     NaN       NaN  NaN  NaN    NaN    NaN   NaN      NaN            0        0"
      ]
     },
     "execution_count": 24,
     "metadata": {},
     "output_type": "execute_result"
    }
   ],
   "source": [
    "df.loc[df['sex'].isna()]"
   ]
  },
  {
   "cell_type": "markdown",
   "id": "ebba559a",
   "metadata": {},
   "source": [
    "> note - one passenger (number 1309) has no data available at all. --> drop"
   ]
  },
  {
   "cell_type": "code",
   "execution_count": 25,
   "id": "50ee0e8d",
   "metadata": {},
   "outputs": [],
   "source": [
    "df.drop(labels=1309, inplace=True)"
   ]
  },
  {
   "cell_type": "markdown",
   "id": "dbcad516",
   "metadata": {},
   "source": [
    "## dealing with missing values\n",
    "\n",
    "- are values missing at random - check by pairplot\n",
    "- values that are missing at random, impute with median\n",
    "- values not missing at random, impute using [MICE](https://www.researchgate.net/publication/44203418_MICE_Multivariate_Imputation_by_Chained_Equations_in_R#:~:text=Multivariate%20Imputation%20by%20Chained%20Equations%20(MICE)%20is%20the%20name%20of,Conditional%20Speci%20cation%20(FCS).&text=0%2C%20the%20analysis%20of%20imputed,pooling%20works%20is%20substantially%20extended.)"
   ]
  },
  {
   "cell_type": "markdown",
   "id": "e4f91f70",
   "metadata": {},
   "source": [
    "### age"
   ]
  },
  {
   "cell_type": "markdown",
   "id": "9e3fce1b",
   "metadata": {},
   "source": [
    "> missing age does not seem to be correlated with anything **except** sbsp (number of siblings and spouses) and parch (number of parents and children) - those may have been young children"
   ]
  },
  {
   "cell_type": "markdown",
   "id": "cbac6b12",
   "metadata": {},
   "source": [
    "## Data Split here!"
   ]
  },
  {
   "cell_type": "code",
   "execution_count": 36,
   "id": "2db11d37",
   "metadata": {},
   "outputs": [],
   "source": [
    "# split data off just in case\n",
    "data = df.copy()\n",
    "\n",
    "y = df.pop('survived')\n",
    "x = df\n",
    "\n",
    "x_train, x_test, y_train, y_test = train_test_split(x, y, random_state=42, test_size=.2)"
   ]
  },
  {
   "cell_type": "code",
   "execution_count": 37,
   "id": "8e9564db",
   "metadata": {},
   "outputs": [
    {
     "name": "stdout",
     "output_type": "stream",
     "text": [
      "(1047, 9)\n",
      "(262, 9)\n",
      "(1047,)\n",
      "(262,)\n"
     ]
    }
   ],
   "source": [
    "for i in x_train, x_test, y_train, y_test:\n",
    "    print(i.shape)"
   ]
  },
  {
   "cell_type": "code",
   "execution_count": 38,
   "id": "d1fc554e",
   "metadata": {},
   "outputs": [
    {
     "data": {
      "text/html": [
       "<div>\n",
       "<style scoped>\n",
       "    .dataframe tbody tr th:only-of-type {\n",
       "        vertical-align: middle;\n",
       "    }\n",
       "\n",
       "    .dataframe tbody tr th {\n",
       "        vertical-align: top;\n",
       "    }\n",
       "\n",
       "    .dataframe thead th {\n",
       "        text-align: right;\n",
       "    }\n",
       "</style>\n",
       "<table border=\"1\" class=\"dataframe\">\n",
       "  <thead>\n",
       "    <tr style=\"text-align: right;\">\n",
       "      <th></th>\n",
       "      <th>pclass</th>\n",
       "      <th>sex</th>\n",
       "      <th>age</th>\n",
       "      <th>sibsp</th>\n",
       "      <th>parch</th>\n",
       "      <th>fare</th>\n",
       "      <th>embarked</th>\n",
       "      <th>high_status</th>\n",
       "      <th>married</th>\n",
       "    </tr>\n",
       "  </thead>\n",
       "  <tbody>\n",
       "    <tr>\n",
       "      <th>0</th>\n",
       "      <td>1.0</td>\n",
       "      <td>female</td>\n",
       "      <td>29.0000</td>\n",
       "      <td>0.0</td>\n",
       "      <td>0.0</td>\n",
       "      <td>211.3375</td>\n",
       "      <td>S</td>\n",
       "      <td>0</td>\n",
       "      <td>0</td>\n",
       "    </tr>\n",
       "    <tr>\n",
       "      <th>1</th>\n",
       "      <td>1.0</td>\n",
       "      <td>male</td>\n",
       "      <td>0.9167</td>\n",
       "      <td>1.0</td>\n",
       "      <td>2.0</td>\n",
       "      <td>151.5500</td>\n",
       "      <td>S</td>\n",
       "      <td>0</td>\n",
       "      <td>0</td>\n",
       "    </tr>\n",
       "    <tr>\n",
       "      <th>2</th>\n",
       "      <td>1.0</td>\n",
       "      <td>female</td>\n",
       "      <td>2.0000</td>\n",
       "      <td>1.0</td>\n",
       "      <td>2.0</td>\n",
       "      <td>151.5500</td>\n",
       "      <td>S</td>\n",
       "      <td>0</td>\n",
       "      <td>0</td>\n",
       "    </tr>\n",
       "    <tr>\n",
       "      <th>3</th>\n",
       "      <td>1.0</td>\n",
       "      <td>male</td>\n",
       "      <td>30.0000</td>\n",
       "      <td>1.0</td>\n",
       "      <td>2.0</td>\n",
       "      <td>151.5500</td>\n",
       "      <td>S</td>\n",
       "      <td>0</td>\n",
       "      <td>0</td>\n",
       "    </tr>\n",
       "    <tr>\n",
       "      <th>4</th>\n",
       "      <td>1.0</td>\n",
       "      <td>female</td>\n",
       "      <td>25.0000</td>\n",
       "      <td>1.0</td>\n",
       "      <td>2.0</td>\n",
       "      <td>151.5500</td>\n",
       "      <td>S</td>\n",
       "      <td>0</td>\n",
       "      <td>1</td>\n",
       "    </tr>\n",
       "  </tbody>\n",
       "</table>\n",
       "</div>"
      ],
      "text/plain": [
       "   pclass     sex      age  sibsp  parch      fare embarked  high_status  married\n",
       "0     1.0  female  29.0000    0.0    0.0  211.3375        S            0        0\n",
       "1     1.0    male   0.9167    1.0    2.0  151.5500        S            0        0\n",
       "2     1.0  female   2.0000    1.0    2.0  151.5500        S            0        0\n",
       "3     1.0    male  30.0000    1.0    2.0  151.5500        S            0        0\n",
       "4     1.0  female  25.0000    1.0    2.0  151.5500        S            0        1"
      ]
     },
     "execution_count": 38,
     "metadata": {},
     "output_type": "execute_result"
    }
   ],
   "source": [
    "x.head()"
   ]
  },
  {
   "cell_type": "code",
   "execution_count": 39,
   "id": "0d851e8b",
   "metadata": {},
   "outputs": [],
   "source": [
    "# transformer to scale columns differently\n",
    "\n",
    "# store column names to be processed conveniently, in order to get feature names for feature importance later\n",
    "categorical_columns = ['sex', 'embarked', 'high_status']\n",
    "numerical_columns = {\n",
    "    'normally_distributed': ['age'],\n",
    "    'not_normally_distributed': ['pclass', 'sibsp', 'parch', 'fare']}\n",
    "\n",
    "transformer = ColumnTransformer([\n",
    "    ('onehotencode categories', OneHotEncoder(), categorical_columns),\n",
    "    ('normally distributed', StandardScaler(), numerical_columns['normally_distributed']),\n",
    "    ('nor normally distributed', MinMaxScaler(), numerical_columns['not_normally_distributed'])], \n",
    "    remainder='drop')\n",
    "\n",
    "# chain transformer and imputation\n",
    "pipeline = Pipeline([('transform', transformer), ('impute', IterativeImputer(min_value=0))])\n",
    "x_train_processed = pipeline.fit_transform(x_train)\n",
    "\n",
    "x_train_processed.shape\n",
    "\n",
    "x_test_processed = pipeline.fit_transform(x_test)"
   ]
  },
  {
   "cell_type": "markdown",
   "id": "21c0c502",
   "metadata": {},
   "source": [
    "## basic classifiers using sklearn"
   ]
  },
  {
   "cell_type": "markdown",
   "id": "600f333f",
   "metadata": {},
   "source": [
    "> note: check 'naive' baseline (classes are slightly unbalanced, so a naive classifier would just predict the more common class"
   ]
  },
  {
   "cell_type": "code",
   "execution_count": 40,
   "id": "daff47c8",
   "metadata": {},
   "outputs": [
    {
     "data": {
      "text/plain": [
       "0.6351480420248329"
      ]
     },
     "execution_count": 40,
     "metadata": {},
     "output_type": "execute_result"
    }
   ],
   "source": [
    "naive_baseline = 1 - y_train.mean()\n",
    "naive_baseline"
   ]
  },
  {
   "cell_type": "markdown",
   "id": "a6f8924c",
   "metadata": {},
   "source": [
    "> baseline to beat: .64 accuracy"
   ]
  },
  {
   "cell_type": "code",
   "execution_count": 41,
   "id": "1426bc0c",
   "metadata": {},
   "outputs": [
    {
     "data": {
      "text/plain": [
       "0.8015267175572519"
      ]
     },
     "execution_count": 41,
     "metadata": {},
     "output_type": "execute_result"
    }
   ],
   "source": [
    "rfc = RandomForestClassifier()\n",
    "rfc.fit(x_train_processed, y_train)\n",
    "rfc.score(x_test_processed, y_test)"
   ]
  },
  {
   "cell_type": "code",
   "execution_count": 42,
   "id": "b3c1ef92",
   "metadata": {},
   "outputs": [
    {
     "data": {
      "text/plain": [
       "array([0.81428571, 0.8047619 , 0.78947368, 0.77511962, 0.74162679])"
      ]
     },
     "execution_count": 42,
     "metadata": {},
     "output_type": "execute_result"
    }
   ],
   "source": [
    "rfc = RandomForestClassifier(n_jobs=-1, random_state=42)\n",
    "\n",
    "param_grid = { \n",
    "    \"criterion\" : [\"gini\", \"entropy\"], \n",
    "    \"min_samples_leaf\" : [1, 5, 10, 25, 50, 70], \n",
    "    \"min_samples_split\" : [2, 4, 10, 12, 16, 18, 25, 35], \n",
    "    \"n_estimators\": [100, 400, 700, 1000, 1500]}\n",
    "\n",
    "#param_grid = {\n",
    "#    'max_depth': [1, 5, 7],\n",
    "#    'n_estimators': [100, 200]}\n",
    "\n",
    "cross_val_score(rfc, x_train_processed, y_train)\n",
    "\n",
    "\n",
    "#clf = GridSearchCV(RandomForestClassifier(), param_grid)\n",
    "#clf.fit(x_train_processed, y_train)"
   ]
  },
  {
   "cell_type": "code",
   "execution_count": 43,
   "id": "36001c18",
   "metadata": {},
   "outputs": [],
   "source": [
    "#clf.best_params_"
   ]
  },
  {
   "cell_type": "markdown",
   "id": "a00ed968",
   "metadata": {},
   "source": [
    "best parameters after crossvalidation gridsearch: (running takes a long time, saving them as hard params)"
   ]
  },
  {
   "cell_type": "code",
   "execution_count": 44,
   "id": "bfa176a9",
   "metadata": {},
   "outputs": [],
   "source": [
    "params = {'criterion': 'gini',\n",
    " 'min_samples_leaf': 1,\n",
    " 'min_samples_split': 18,\n",
    " 'n_estimators': 700}"
   ]
  },
  {
   "cell_type": "code",
   "execution_count": 45,
   "id": "ce62d48e",
   "metadata": {},
   "outputs": [
    {
     "data": {
      "text/plain": [
       "0.7786259541984732"
      ]
     },
     "execution_count": 45,
     "metadata": {},
     "output_type": "execute_result"
    }
   ],
   "source": [
    "#best_rf_classifier = RandomForestClassifier(**clf.best_params_)\n",
    "\n",
    "best_rf_classifier = RandomForestClassifier(**params)\n",
    "best_rf_classifier.fit(x_train_processed, y_train)\n",
    "best_rf_classifier.score(x_test_processed, y_test)"
   ]
  },
  {
   "cell_type": "code",
   "execution_count": 46,
   "id": "8913e733",
   "metadata": {},
   "outputs": [
    {
     "data": {
      "text/plain": [
       "0.767175572519084"
      ]
     },
     "execution_count": 46,
     "metadata": {},
     "output_type": "execute_result"
    }
   ],
   "source": [
    "svc = SVC()\n",
    "svc.fit(x_train_processed, y_train)\n",
    "svc.score(x_test_processed, y_test)"
   ]
  },
  {
   "cell_type": "code",
   "execution_count": 47,
   "id": "197376e6",
   "metadata": {},
   "outputs": [],
   "source": [
    "#param_grid = {'C': [0.1, 1, 10, 100, 1000], \n",
    "#              'gamma': [1, 0.1, 0.01, 0.001, 0.0001],\n",
    "#              'kernel': ['rbf', 'sigmoid']} \n",
    "\n",
    "#clf = GridSearchCV(SVC(), param_grid, refit=True, verbose=3)\n",
    "#clf.fit(x_train_processed, y_train)"
   ]
  },
  {
   "cell_type": "code",
   "execution_count": 48,
   "id": "2e4dbaea",
   "metadata": {},
   "outputs": [],
   "source": [
    "#clf.best_params_"
   ]
  },
  {
   "cell_type": "code",
   "execution_count": 49,
   "id": "15b48d46",
   "metadata": {},
   "outputs": [],
   "source": [
    "best_params = {'C': 100, 'gamma': 1, 'kernel': 'rbf'}\n",
    "# saved, because the grid search takes a long time"
   ]
  },
  {
   "cell_type": "code",
   "execution_count": 50,
   "id": "a773c464",
   "metadata": {},
   "outputs": [
    {
     "data": {
      "text/plain": [
       "0.7633587786259542"
      ]
     },
     "execution_count": 50,
     "metadata": {},
     "output_type": "execute_result"
    }
   ],
   "source": [
    "best_svc = SVC(**best_params)\n",
    "best_svc.fit(x_train_processed, y_train)\n",
    "best_svc.score(x_test_processed, y_test)"
   ]
  },
  {
   "cell_type": "code",
   "execution_count": 51,
   "id": "490a233f",
   "metadata": {},
   "outputs": [],
   "source": [
    "cat = pipeline.named_steps['transform'].transformers_[0][1].get_feature_names_out(categorical_columns)"
   ]
  },
  {
   "cell_type": "code",
   "execution_count": 52,
   "id": "4041aa0c",
   "metadata": {},
   "outputs": [],
   "source": [
    "norm = pipeline.named_steps['transform'].transformers_[1][1].get_feature_names_out(numerical_columns['normally_distributed'])"
   ]
  },
  {
   "cell_type": "code",
   "execution_count": 53,
   "id": "c93d3792",
   "metadata": {},
   "outputs": [],
   "source": [
    "not_norm = pipeline.named_steps['transform'].transformers_[2][1].get_feature_names_out(numerical_columns['not_normally_distributed'])"
   ]
  },
  {
   "cell_type": "code",
   "execution_count": 54,
   "id": "bdcffa3b",
   "metadata": {},
   "outputs": [],
   "source": [
    "new_columns = np.concatenate([cat, norm, not_norm])"
   ]
  },
  {
   "cell_type": "code",
   "execution_count": 55,
   "id": "6d0c61df",
   "metadata": {},
   "outputs": [
    {
     "name": "stdout",
     "output_type": "stream",
     "text": [
      "sex_female 0.2271183272239903\n",
      "sex_male 0.2185268821879702\n",
      "embarked_C 0.020018527729046675\n",
      "embarked_Q 0.006284994076679059\n",
      "embarked_S 0.014511596760274054\n",
      "embarked_nan 8.549451681323539e-05\n",
      "high_status_0 0.002547064978344433\n",
      "high_status_1 0.0026895479491068335\n",
      "age 0.14860247675385974\n",
      "pclass 0.11030452390654195\n",
      "sibsp 0.04119234551561475\n",
      "parch 0.040167793391613894\n",
      "fare 0.16795042501014487\n"
     ]
    }
   ],
   "source": [
    "for k, v in zip(new_columns, best_rf_classifier.feature_importances_):\n",
    "    print(k, v)"
   ]
  },
  {
   "cell_type": "markdown",
   "id": "e09e2cd3",
   "metadata": {},
   "source": [
    "# enhanced data tests"
   ]
  },
  {
   "cell_type": "code",
   "execution_count": 56,
   "id": "47fc39bc",
   "metadata": {},
   "outputs": [
    {
     "name": "stdout",
     "output_type": "stream",
     "text": [
      "\n",
      "fitting new wasserstein generator on smaller data\n",
      "Epoch   1 | ET 0.01 min | Avg Losses >> G/D   0.09/466.50 [D-Real:  -0.31 D-Fake:  -0.09]\n",
      "Epoch   2 | ET 0.03 min | Avg Losses >> G/D   0.04/213.89 [D-Real:  -0.12 D-Fake:  -0.04]\n",
      "Epoch   3 | ET 0.04 min | Avg Losses >> G/D   0.02/ 94.30 [D-Real:  -0.03 D-Fake:  -0.02]\n",
      "Epoch   4 | ET 0.05 min | Avg Losses >> G/D   0.09/ 44.78 [D-Real:  -0.02 D-Fake:  -0.09]\n",
      "Epoch   5 | ET 0.07 min | Avg Losses >> G/D   0.05/ 26.19 [D-Real:   0.05 D-Fake:  -0.05]\n",
      "Epoch   6 | ET 0.08 min | Avg Losses >> G/D   0.01/ 19.05 [D-Real:   0.09 D-Fake:  -0.01]\n",
      "Epoch   7 | ET 0.09 min | Avg Losses >> G/D   0.01/ 16.22 [D-Real:   0.13 D-Fake:  -0.01]\n",
      "Epoch   8 | ET 0.11 min | Avg Losses >> G/D   0.05/ 14.84 [D-Real:   0.05 D-Fake:  -0.05]\n",
      "Epoch   9 | ET 0.12 min | Avg Losses >> G/D   0.02/ 13.97 [D-Real:   0.07 D-Fake:  -0.02]\n",
      "Epoch  10 | ET 0.14 min | Avg Losses >> G/D   0.03/ 13.05 [D-Real:   0.07 D-Fake:  -0.03]\n",
      "Epoch  11 | ET 0.15 min | Avg Losses >> G/D  -0.01/ 12.52 [D-Real:   0.07 D-Fake:   0.01]\n",
      "Epoch  12 | ET 0.16 min | Avg Losses >> G/D  -0.02/ 12.02 [D-Real:   0.11 D-Fake:   0.02]\n",
      "Epoch  13 | ET 0.17 min | Avg Losses >> G/D  -0.05/ 11.37 [D-Real:   0.05 D-Fake:   0.05]\n",
      "Epoch  14 | ET 0.19 min | Avg Losses >> G/D  -0.02/ 11.46 [D-Real:   0.06 D-Fake:   0.02]\n",
      "Epoch  15 | ET 0.20 min | Avg Losses >> G/D  -0.02/ 10.42 [D-Real:   0.06 D-Fake:   0.02]\n",
      "Epoch  16 | ET 0.21 min | Avg Losses >> G/D  -0.07/ 10.37 [D-Real:   0.01 D-Fake:   0.07]\n",
      "Epoch  17 | ET 0.23 min | Avg Losses >> G/D  -0.06/  9.90 [D-Real:   0.08 D-Fake:   0.06]\n",
      "Epoch  18 | ET 0.24 min | Avg Losses >> G/D  -0.10/  9.79 [D-Real:   0.01 D-Fake:   0.10]\n",
      "Epoch  19 | ET 0.25 min | Avg Losses >> G/D  -0.10/  9.02 [D-Real:   0.02 D-Fake:   0.10]\n",
      "Epoch  20 | ET 0.27 min | Avg Losses >> G/D  -0.12/  8.71 [D-Real:   0.02 D-Fake:   0.12]\n",
      "Epoch  21 | ET 0.28 min | Avg Losses >> G/D  -0.06/  8.59 [D-Real:   0.00 D-Fake:   0.06]\n",
      "Epoch  22 | ET 0.30 min | Avg Losses >> G/D  -0.10/  8.31 [D-Real:  -0.02 D-Fake:   0.10]\n",
      "Epoch  23 | ET 0.31 min | Avg Losses >> G/D  -0.17/  8.02 [D-Real:  -0.01 D-Fake:   0.17]\n",
      "Epoch  24 | ET 0.33 min | Avg Losses >> G/D  -0.12/  7.64 [D-Real:  -0.02 D-Fake:   0.12]\n",
      "Epoch  25 | ET 0.35 min | Avg Losses >> G/D  -0.11/  7.33 [D-Real:   0.03 D-Fake:   0.11]\n",
      "Epoch  26 | ET 0.36 min | Avg Losses >> G/D  -0.14/  6.99 [D-Real:  -0.03 D-Fake:   0.14]\n",
      "Epoch  27 | ET 0.38 min | Avg Losses >> G/D  -0.13/  6.64 [D-Real:  -0.07 D-Fake:   0.13]\n",
      "Epoch  28 | ET 0.40 min | Avg Losses >> G/D  -0.11/  6.30 [D-Real:  -0.03 D-Fake:   0.11]\n",
      "Epoch  29 | ET 0.42 min | Avg Losses >> G/D  -0.11/  6.09 [D-Real:  -0.05 D-Fake:   0.11]\n",
      "Epoch  30 | ET 0.43 min | Avg Losses >> G/D  -0.13/  6.00 [D-Real:  -0.03 D-Fake:   0.13]\n",
      "Epoch  31 | ET 0.45 min | Avg Losses >> G/D  -0.13/  5.55 [D-Real:  -0.09 D-Fake:   0.13]\n",
      "Epoch  32 | ET 0.46 min | Avg Losses >> G/D  -0.18/  5.39 [D-Real:   0.01 D-Fake:   0.18]\n",
      "Epoch  33 | ET 0.47 min | Avg Losses >> G/D  -0.15/  4.99 [D-Real:  -0.08 D-Fake:   0.15]\n",
      "Epoch  34 | ET 0.49 min | Avg Losses >> G/D  -0.17/  4.75 [D-Real:  -0.03 D-Fake:   0.17]\n",
      "Epoch  35 | ET 0.51 min | Avg Losses >> G/D  -0.18/  4.39 [D-Real:  -0.07 D-Fake:   0.18]\n",
      "Epoch  36 | ET 0.53 min | Avg Losses >> G/D  -0.13/  4.35 [D-Real:  -0.01 D-Fake:   0.13]\n",
      "Epoch  37 | ET 0.55 min | Avg Losses >> G/D  -0.15/  4.04 [D-Real:  -0.02 D-Fake:   0.15]\n",
      "Epoch  38 | ET 0.57 min | Avg Losses >> G/D  -0.17/  3.65 [D-Real:  -0.06 D-Fake:   0.17]\n",
      "Epoch  39 | ET 0.58 min | Avg Losses >> G/D  -0.15/  3.69 [D-Real:  -0.04 D-Fake:   0.15]\n",
      "Epoch  40 | ET 0.59 min | Avg Losses >> G/D  -0.15/  3.43 [D-Real:  -0.04 D-Fake:   0.15]\n",
      "\n",
      "generating training log image\n",
      "image saved to: ./img/e_40_layers_2_units_5.png\n"
     ]
    },
    {
     "data": {
      "image/png": "[encoded data removed]",
      "text/plain": [
       "<Figure size 1440x720 with 4 Axes>"
      ]
     },
     "metadata": {
      "needs_background": "light"
     },
     "output_type": "display_data"
    }
   ],
   "source": [
    "enh = enhance_data(\n",
    "    x_train=x_train_processed, y_train=y_train, \n",
    "    force_generator=True, \n",
    "    synthetic_share=1., \n",
    "    wasserstein=True,\n",
    "    replace_real_data=True\n",
    ")"
   ]
  },
  {
   "cell_type": "markdown",
   "id": "b690a789",
   "metadata": {},
   "source": [
    "## set up the data log"
   ]
  },
  {
   "cell_type": "code",
   "execution_count": 57,
   "id": "4b82f53d",
   "metadata": {},
   "outputs": [],
   "source": [
    "log = pd.DataFrame(columns=[\"model\", \"accuracy\", \"enhanced_data\"])\n",
    "log['enhanced_data'] = log['enhanced_data'].astype(bool)"
   ]
  },
  {
   "cell_type": "markdown",
   "id": "85596ab1",
   "metadata": {},
   "source": [
    "## logReg"
   ]
  },
  {
   "cell_type": "code",
   "execution_count": 58,
   "id": "60719804",
   "metadata": {},
   "outputs": [],
   "source": [
    "clf = LogisticRegression(solver='liblinear')\n",
    "\n",
    "clf.fit(x_train_processed, y_train)\n",
    "\n",
    "y_pred = clf.predict(x_test_processed)\n",
    "\n",
    "clf.score(x_train_processed, y_train)\n",
    "\n",
    "score = accuracy_score(y_test, y_pred)\n",
    "\n",
    "log = log.append({\"model\": \"logistic regression\", \"accuracy\": score, \"enhanced_data\": False}, ignore_index=True)"
   ]
  },
  {
   "cell_type": "code",
   "execution_count": 59,
   "id": "b7a855ec",
   "metadata": {},
   "outputs": [],
   "source": [
    "clf = LogisticRegression(solver='liblinear')\n",
    "\n",
    "clf.fit(enh['x_train_processed'], enh['y_train'])\n",
    "\n",
    "y_pred = clf.predict(x_test_processed)\n",
    "\n",
    "score = accuracy_score(y_test, y_pred)\n",
    "\n",
    "\n",
    "log = log.append({\"model\": \"logistic regression\", \"accuracy\": score, \"enhanced_data\": True}, ignore_index=True)"
   ]
  },
  {
   "cell_type": "markdown",
   "id": "830ecc84",
   "metadata": {},
   "source": [
    "\n",
    "## SVC"
   ]
  },
  {
   "cell_type": "code",
   "execution_count": 60,
   "id": "8e104c5d",
   "metadata": {},
   "outputs": [],
   "source": [
    "model = SVC(kernel=\"rbf\",C=1)\n",
    "\n",
    "model.fit(x_train_processed, y_train)\n",
    "\n",
    "y_pred = model.predict(x_test_processed)\n",
    "\n",
    "score = accuracy_score(y_test, y_pred)\n",
    "\n",
    "log = log.append({\"model\": \"SVC\", \"accuracy\": score, \"enhanced_data\": False}, ignore_index=True)"
   ]
  },
  {
   "cell_type": "code",
   "execution_count": 61,
   "id": "c72c2fa6",
   "metadata": {},
   "outputs": [],
   "source": [
    "model = SVC(kernel=\"rbf\",C=1)\n",
    "\n",
    "model.fit(enh['x_train_processed'], enh['y_train'])\n",
    "\n",
    "y_pred = model.predict(x_test_processed)\n",
    "\n",
    "score = accuracy_score(y_test, y_pred)\n",
    "\n",
    "log = log.append({\"model\": \"SVC\", \"accuracy\": score, \"enhanced_data\": True}, ignore_index=True)"
   ]
  },
  {
   "cell_type": "markdown",
   "id": "4ed46b8c",
   "metadata": {},
   "source": [
    "## Random Forest"
   ]
  },
  {
   "cell_type": "code",
   "execution_count": 62,
   "id": "8d215f81",
   "metadata": {},
   "outputs": [],
   "source": [
    "clf = RandomForestClassifier(random_state = 1)\n",
    "clf.fit(x_train_processed, y_train)\n",
    "y_pred = clf.predict(x_test_processed)\n",
    "score = accuracy_score(y_test, y_pred)\n",
    "log = log.append({\"model\": \"Random Forest\", \"accuracy\": score, \"enhanced_data\": False}, ignore_index=True)"
   ]
  },
  {
   "cell_type": "code",
   "execution_count": 63,
   "id": "09e93db8",
   "metadata": {},
   "outputs": [],
   "source": [
    "clf = RandomForestClassifier(random_state = 1)\n",
    "clf.fit(enh['x_train_processed'], enh['y_train'])\n",
    "y_pred = clf.predict(x_test_processed)\n",
    "score = accuracy_score(y_test, y_pred)\n",
    "log = log.append({\"model\": \"Random Forest\", \"accuracy\": score, \"enhanced_data\": True}, ignore_index=True)"
   ]
  },
  {
   "cell_type": "markdown",
   "id": "6064e9bc",
   "metadata": {},
   "source": [
    "## Decision Tree"
   ]
  },
  {
   "cell_type": "code",
   "execution_count": 64,
   "id": "277fbf11",
   "metadata": {},
   "outputs": [],
   "source": [
    "clf = DecisionTreeClassifier(criterion='entropy',random_state=7)\n",
    "clf.fit(x_train_processed, y_train)\n",
    "y_pred = clf.predict(x_test_processed)\n",
    "score = accuracy_score(y_test, y_pred)\n",
    "log = log.append({\"model\": \"Decision tree\", \"accuracy\": score, \"enhanced_data\": False}, ignore_index=True)"
   ]
  },
  {
   "cell_type": "code",
   "execution_count": 65,
   "id": "4a87a0e4",
   "metadata": {},
   "outputs": [],
   "source": [
    "clf = DecisionTreeClassifier(criterion='entropy',random_state=7)\n",
    "clf.fit(enh['x_train_processed'], enh['y_train'])\n",
    "y_pred = clf.predict(x_test_processed)\n",
    "score = accuracy_score(y_test, y_pred)\n",
    "log = log.append({\"model\": \"Decision tree\", \"accuracy\": score, \"enhanced_data\": True}, ignore_index=True)"
   ]
  },
  {
   "cell_type": "markdown",
   "id": "b4d25469",
   "metadata": {},
   "source": [
    "## KNN"
   ]
  },
  {
   "cell_type": "code",
   "execution_count": 66,
   "id": "eadb54cb",
   "metadata": {},
   "outputs": [],
   "source": [
    "clf = KNeighborsClassifier(n_neighbors=3)\n",
    "clf.fit(x_train_processed, y_train)\n",
    "clf.predict(x_test_processed)\n",
    "y_pred = clf.predict(x_test_processed)\n",
    "score = accuracy_score(y_test, y_pred)\n",
    "log = log.append({\"model\": \"K nearest neighbours\", \"accuracy\": score, \"enhanced_data\": False}, ignore_index=True)"
   ]
  },
  {
   "cell_type": "code",
   "execution_count": 67,
   "id": "6dd11d07",
   "metadata": {},
   "outputs": [],
   "source": [
    "clf = KNeighborsClassifier(n_neighbors=3)\n",
    "clf.fit(enh['x_train_processed'], enh['y_train'])\n",
    "clf.predict(x_test_processed)\n",
    "y_pred = clf.predict(x_test_processed)\n",
    "score = accuracy_score(y_test, y_pred)\n",
    "log = log.append({\"model\": \"K nearest neighbours\", \"accuracy\": score, \"enhanced_data\": True}, ignore_index=True)"
   ]
  },
  {
   "cell_type": "markdown",
   "id": "1bd460a8",
   "metadata": {},
   "source": [
    "## Naive Bayes"
   ]
  },
  {
   "cell_type": "code",
   "execution_count": 68,
   "id": "91207fe4",
   "metadata": {},
   "outputs": [],
   "source": [
    "clf = GaussianNB()\n",
    "clf.fit(x_train_processed, y_train)\n",
    "clf.predict(x_test_processed)\n",
    "y_pred = clf.predict(x_test_processed)\n",
    "score = accuracy_score(y_test, y_pred)\n",
    "log = log.append({\"model\": \"GaussianNB\", \"accuracy\": score, \"enhanced_data\": False}, ignore_index=True)"
   ]
  },
  {
   "cell_type": "code",
   "execution_count": 69,
   "id": "a26c0aa4",
   "metadata": {},
   "outputs": [],
   "source": [
    "clf = GaussianNB()\n",
    "clf.fit(enh['x_train_processed'], enh['y_train'])\n",
    "clf.predict(x_test_processed)\n",
    "y_pred = clf.predict(x_test_processed)\n",
    "score = accuracy_score(y_test, y_pred)\n",
    "log = log.append({\"model\": \"GaussianNB\", \"accuracy\": score, \"enhanced_data\": True}, ignore_index=True)"
   ]
  },
  {
   "cell_type": "markdown",
   "id": "7c4be500",
   "metadata": {},
   "source": [
    "## NeuralNet"
   ]
  },
  {
   "cell_type": "code",
   "execution_count": 70,
   "id": "07cbd5c8",
   "metadata": {},
   "outputs": [
    {
     "name": "stdout",
     "output_type": "stream",
     "text": [
      "Model: \"sequential_2\"\n",
      "_________________________________________________________________\n",
      "Layer (type)                 Output Shape              Param #   \n",
      "=================================================================\n",
      "hidden_layer_0 (Dense)       (None, 64)                896       \n",
      "_________________________________________________________________\n",
      "batch_normalization (BatchNo (None, 64)                256       \n",
      "_________________________________________________________________\n",
      "activation_5 (Activation)    (None, 64)                0         \n",
      "_________________________________________________________________\n",
      "dropout_0_30 (Dropout)       (None, 64)                0         \n",
      "_________________________________________________________________\n",
      "hidden_layer_1 (Dense)       (None, 64)                4160      \n",
      "_________________________________________________________________\n",
      "batch_normalization_1 (Batch (None, 64)                256       \n",
      "_________________________________________________________________\n",
      "activation_6 (Activation)    (None, 64)                0         \n",
      "_________________________________________________________________\n",
      "dropout_1_30 (Dropout)       (None, 64)                0         \n",
      "_________________________________________________________________\n",
      "hidden_layer_2 (Dense)       (None, 64)                4160      \n",
      "_________________________________________________________________\n",
      "batch_normalization_2 (Batch (None, 64)                256       \n",
      "_________________________________________________________________\n",
      "activation_7 (Activation)    (None, 64)                0         \n",
      "_________________________________________________________________\n",
      "dropout_2_30 (Dropout)       (None, 64)                0         \n",
      "_________________________________________________________________\n",
      "hidden_layer_3 (Dense)       (None, 64)                4160      \n",
      "_________________________________________________________________\n",
      "batch_normalization_3 (Batch (None, 64)                256       \n",
      "_________________________________________________________________\n",
      "activation_8 (Activation)    (None, 64)                0         \n",
      "_________________________________________________________________\n",
      "dropout_3_30 (Dropout)       (None, 64)                0         \n",
      "_________________________________________________________________\n",
      "hidden_layer_4 (Dense)       (None, 64)                4160      \n",
      "_________________________________________________________________\n",
      "batch_normalization_4 (Batch (None, 64)                256       \n",
      "_________________________________________________________________\n",
      "activation_9 (Activation)    (None, 64)                0         \n",
      "_________________________________________________________________\n",
      "dropout_4_30 (Dropout)       (None, 64)                0         \n",
      "_________________________________________________________________\n",
      "dense_6 (Dense)              (None, 1)                 65        \n",
      "=================================================================\n",
      "Total params: 18,881\n",
      "Trainable params: 18,241\n",
      "Non-trainable params: 640\n",
      "_________________________________________________________________\n"
     ]
    }
   ],
   "source": [
    "model = models.Sequential()\n",
    "model.add(layers.InputLayer(input_shape=x_train_processed.shape[1:]))\n",
    "\n",
    "for i in range(5):\n",
    "        model.add(layers.Dense(\n",
    "            64, \n",
    "            kernel_initializer='he_normal',\n",
    "            name=f'hidden_layer_{i}'))\n",
    "        model.add(layers.BatchNormalization())\n",
    "        model.add(layers.Activation('selu'))\n",
    "        model.add(layers.Dropout(0.3, name=f'dropout_{i}_30'))\n",
    "    \n",
    "model.add(layers.Dense(1, activation='sigmoid'))\n",
    "\n",
    "#model.compile(optimizer='rmsprop', loss='binary_crossentropy', metrics=['accuracy'])\n",
    "model.compile(loss='binary_crossentropy', optimizer='adam', metrics=['accuracy'])\n",
    "\n",
    "model.summary()"
   ]
  },
  {
   "cell_type": "code",
   "execution_count": 71,
   "id": "10b8d384",
   "metadata": {},
   "outputs": [
    {
     "name": "stdout",
     "output_type": "stream",
     "text": [
      "Epoch 1/300\n",
      "27/27 [==============================] - 3s 35ms/step - loss: 0.7465 - accuracy: 0.6559 - val_loss: 0.8255 - val_accuracy: 0.7476\n",
      "Epoch 2/300\n",
      "27/27 [==============================] - 1s 30ms/step - loss: 0.6150 - accuracy: 0.7384 - val_loss: 0.6548 - val_accuracy: 0.7429\n",
      "Epoch 3/300\n",
      "27/27 [==============================] - 1s 20ms/step - loss: 0.5968 - accuracy: 0.7133 - val_loss: 0.6265 - val_accuracy: 0.7333\n",
      "Epoch 4/300\n",
      "27/27 [==============================] - 0s 13ms/step - loss: 0.5504 - accuracy: 0.7515 - val_loss: 0.6293 - val_accuracy: 0.7476\n",
      "Epoch 5/300\n",
      "27/27 [==============================] - 0s 12ms/step - loss: 0.5739 - accuracy: 0.7312 - val_loss: 0.5844 - val_accuracy: 0.7429\n",
      "Epoch 6/300\n",
      "27/27 [==============================] - 1s 22ms/step - loss: 0.5544 - accuracy: 0.7634 - val_loss: 0.6168 - val_accuracy: 0.7429\n",
      "Epoch 7/300\n",
      "27/27 [==============================] - 0s 10ms/step - loss: 0.5264 - accuracy: 0.7670 - val_loss: 0.5975 - val_accuracy: 0.7429\n",
      "Epoch 8/300\n",
      "27/27 [==============================] - 0s 13ms/step - loss: 0.4903 - accuracy: 0.7814 - val_loss: 0.5989 - val_accuracy: 0.7381\n",
      "Epoch 9/300\n",
      "27/27 [==============================] - 0s 8ms/step - loss: 0.5194 - accuracy: 0.7730 - val_loss: 0.5896 - val_accuracy: 0.7429\n",
      "Epoch 10/300\n",
      "27/27 [==============================] - 0s 8ms/step - loss: 0.5223 - accuracy: 0.7718 - val_loss: 0.5902 - val_accuracy: 0.7429\n",
      "Epoch 11/300\n",
      "27/27 [==============================] - 1s 21ms/step - loss: 0.5164 - accuracy: 0.7718 - val_loss: 0.5780 - val_accuracy: 0.7476\n",
      "Epoch 12/300\n",
      "27/27 [==============================] - 1s 19ms/step - loss: 0.5325 - accuracy: 0.7730 - val_loss: 0.5665 - val_accuracy: 0.7571\n",
      "Epoch 13/300\n",
      "27/27 [==============================] - 0s 14ms/step - loss: 0.4837 - accuracy: 0.7921 - val_loss: 0.5767 - val_accuracy: 0.7524\n",
      "Epoch 14/300\n",
      "27/27 [==============================] - 0s 15ms/step - loss: 0.4939 - accuracy: 0.7849 - val_loss: 0.5782 - val_accuracy: 0.7429\n",
      "Epoch 15/300\n",
      "27/27 [==============================] - 0s 12ms/step - loss: 0.4811 - accuracy: 0.7957 - val_loss: 0.5674 - val_accuracy: 0.7429\n",
      "Epoch 16/300\n",
      "27/27 [==============================] - 1s 21ms/step - loss: 0.4985 - accuracy: 0.7909 - val_loss: 0.5529 - val_accuracy: 0.7524\n",
      "Epoch 17/300\n",
      "27/27 [==============================] - 0s 11ms/step - loss: 0.4999 - accuracy: 0.7885 - val_loss: 0.5553 - val_accuracy: 0.7619\n",
      "Epoch 18/300\n",
      "27/27 [==============================] - 0s 13ms/step - loss: 0.4903 - accuracy: 0.7766 - val_loss: 0.5666 - val_accuracy: 0.7429\n",
      "Epoch 19/300\n",
      "27/27 [==============================] - 0s 11ms/step - loss: 0.4972 - accuracy: 0.7885 - val_loss: 0.5569 - val_accuracy: 0.7524\n",
      "Epoch 20/300\n",
      "27/27 [==============================] - 0s 12ms/step - loss: 0.4728 - accuracy: 0.7993 - val_loss: 0.5704 - val_accuracy: 0.7429\n",
      "Epoch 21/300\n",
      "27/27 [==============================] - 0s 9ms/step - loss: 0.4940 - accuracy: 0.7790 - val_loss: 0.5579 - val_accuracy: 0.7476\n",
      "Epoch 22/300\n",
      "27/27 [==============================] - 0s 14ms/step - loss: 0.4927 - accuracy: 0.7838 - val_loss: 0.5535 - val_accuracy: 0.7667\n",
      "Epoch 23/300\n",
      "27/27 [==============================] - 1s 19ms/step - loss: 0.4571 - accuracy: 0.8100 - val_loss: 0.5787 - val_accuracy: 0.7429\n",
      "Epoch 24/300\n",
      "27/27 [==============================] - 0s 12ms/step - loss: 0.4857 - accuracy: 0.7849 - val_loss: 0.5525 - val_accuracy: 0.7619\n",
      "Epoch 25/300\n",
      "27/27 [==============================] - 0s 18ms/step - loss: 0.4862 - accuracy: 0.7706 - val_loss: 0.5422 - val_accuracy: 0.7571\n",
      "Epoch 26/300\n",
      "27/27 [==============================] - 1s 21ms/step - loss: 0.4786 - accuracy: 0.7969 - val_loss: 0.5406 - val_accuracy: 0.7667\n",
      "Epoch 27/300\n",
      "27/27 [==============================] - 1s 19ms/step - loss: 0.4846 - accuracy: 0.7933 - val_loss: 0.5494 - val_accuracy: 0.7571\n",
      "Epoch 28/300\n",
      "27/27 [==============================] - 1s 22ms/step - loss: 0.4723 - accuracy: 0.7933 - val_loss: 0.5511 - val_accuracy: 0.7667\n",
      "Epoch 29/300\n",
      "27/27 [==============================] - 1s 19ms/step - loss: 0.4644 - accuracy: 0.8017 - val_loss: 0.5430 - val_accuracy: 0.7571\n",
      "Epoch 30/300\n",
      "27/27 [==============================] - 0s 11ms/step - loss: 0.4675 - accuracy: 0.8029 - val_loss: 0.5489 - val_accuracy: 0.7571\n",
      "Epoch 31/300\n",
      "27/27 [==============================] - 0s 9ms/step - loss: 0.4621 - accuracy: 0.8076 - val_loss: 0.5491 - val_accuracy: 0.7571\n",
      "Epoch 32/300\n",
      "27/27 [==============================] - 1s 20ms/step - loss: 0.4829 - accuracy: 0.7909 - val_loss: 0.5516 - val_accuracy: 0.7571\n",
      "Epoch 33/300\n",
      "27/27 [==============================] - 1s 22ms/step - loss: 0.4918 - accuracy: 0.7933 - val_loss: 0.5329 - val_accuracy: 0.7619\n",
      "Epoch 34/300\n",
      "27/27 [==============================] - 0s 16ms/step - loss: 0.4822 - accuracy: 0.7945 - val_loss: 0.5389 - val_accuracy: 0.7619\n",
      "Epoch 35/300\n",
      "27/27 [==============================] - 0s 10ms/step - loss: 0.4578 - accuracy: 0.8053 - val_loss: 0.5485 - val_accuracy: 0.7619\n",
      "Epoch 36/300\n",
      "27/27 [==============================] - 0s 16ms/step - loss: 0.4544 - accuracy: 0.8148 - val_loss: 0.5577 - val_accuracy: 0.7524\n",
      "Epoch 37/300\n",
      "27/27 [==============================] - 0s 18ms/step - loss: 0.4586 - accuracy: 0.8076 - val_loss: 0.5474 - val_accuracy: 0.7476\n",
      "Epoch 38/300\n",
      "27/27 [==============================] - 0s 11ms/step - loss: 0.4626 - accuracy: 0.7993 - val_loss: 0.5440 - val_accuracy: 0.7619\n",
      "Epoch 39/300\n",
      "27/27 [==============================] - 1s 18ms/step - loss: 0.4656 - accuracy: 0.8124 - val_loss: 0.5389 - val_accuracy: 0.7810\n",
      "Epoch 40/300\n",
      "27/27 [==============================] - 0s 13ms/step - loss: 0.4647 - accuracy: 0.7897 - val_loss: 0.5290 - val_accuracy: 0.7714\n",
      "Epoch 41/300\n",
      "27/27 [==============================] - 0s 13ms/step - loss: 0.4769 - accuracy: 0.8029 - val_loss: 0.5506 - val_accuracy: 0.7524\n",
      "Epoch 42/300\n",
      "27/27 [==============================] - 0s 15ms/step - loss: 0.4661 - accuracy: 0.8005 - val_loss: 0.5305 - val_accuracy: 0.7619\n",
      "Epoch 43/300\n",
      "27/27 [==============================] - 0s 10ms/step - loss: 0.4809 - accuracy: 0.7885 - val_loss: 0.5277 - val_accuracy: 0.7619\n",
      "Epoch 44/300\n",
      "27/27 [==============================] - 0s 10ms/step - loss: 0.4540 - accuracy: 0.8136 - val_loss: 0.5335 - val_accuracy: 0.7667\n",
      "Epoch 45/300\n",
      "27/27 [==============================] - 0s 17ms/step - loss: 0.4478 - accuracy: 0.8172 - val_loss: 0.5380 - val_accuracy: 0.7667\n",
      "Epoch 46/300\n",
      "27/27 [==============================] - 0s 19ms/step - loss: 0.4520 - accuracy: 0.8005 - val_loss: 0.5314 - val_accuracy: 0.7810\n",
      "Epoch 47/300\n",
      "27/27 [==============================] - 0s 12ms/step - loss: 0.4581 - accuracy: 0.8100 - val_loss: 0.5379 - val_accuracy: 0.7619\n",
      "Epoch 48/300\n",
      "27/27 [==============================] - 0s 13ms/step - loss: 0.4441 - accuracy: 0.8136 - val_loss: 0.5269 - val_accuracy: 0.7667\n",
      "Epoch 49/300\n",
      "27/27 [==============================] - 0s 12ms/step - loss: 0.4640 - accuracy: 0.7969 - val_loss: 0.5312 - val_accuracy: 0.7619\n",
      "Epoch 50/300\n",
      "27/27 [==============================] - 0s 18ms/step - loss: 0.4583 - accuracy: 0.7969 - val_loss: 0.5317 - val_accuracy: 0.7619\n",
      "Epoch 51/300\n",
      "27/27 [==============================] - 0s 14ms/step - loss: 0.4615 - accuracy: 0.8053 - val_loss: 0.5175 - val_accuracy: 0.7905\n",
      "Epoch 52/300\n",
      "27/27 [==============================] - 0s 11ms/step - loss: 0.4579 - accuracy: 0.8017 - val_loss: 0.5319 - val_accuracy: 0.7714\n",
      "Epoch 53/300\n",
      "27/27 [==============================] - 0s 14ms/step - loss: 0.4654 - accuracy: 0.8029 - val_loss: 0.5433 - val_accuracy: 0.7571\n",
      "Epoch 54/300\n",
      "27/27 [==============================] - 0s 17ms/step - loss: 0.4443 - accuracy: 0.8076 - val_loss: 0.5236 - val_accuracy: 0.7619\n",
      "Epoch 55/300\n",
      "27/27 [==============================] - 0s 15ms/step - loss: 0.4507 - accuracy: 0.8076 - val_loss: 0.5300 - val_accuracy: 0.7667\n",
      "Epoch 56/300\n",
      "27/27 [==============================] - 1s 24ms/step - loss: 0.4618 - accuracy: 0.8065 - val_loss: 0.5255 - val_accuracy: 0.7619\n",
      "Epoch 57/300\n",
      "27/27 [==============================] - 0s 14ms/step - loss: 0.4667 - accuracy: 0.8041 - val_loss: 0.5197 - val_accuracy: 0.7619\n",
      "Epoch 58/300\n",
      "27/27 [==============================] - 0s 14ms/step - loss: 0.4641 - accuracy: 0.8112 - val_loss: 0.5215 - val_accuracy: 0.7619\n",
      "Epoch 59/300\n",
      "27/27 [==============================] - 0s 13ms/step - loss: 0.4595 - accuracy: 0.8076 - val_loss: 0.5282 - val_accuracy: 0.7571\n",
      "Epoch 60/300\n",
      "27/27 [==============================] - 0s 13ms/step - loss: 0.4789 - accuracy: 0.7838 - val_loss: 0.5271 - val_accuracy: 0.7571\n",
      "Epoch 61/300\n",
      "27/27 [==============================] - 1s 21ms/step - loss: 0.4732 - accuracy: 0.8029 - val_loss: 0.5264 - val_accuracy: 0.7571\n",
      "Epoch 62/300\n",
      "27/27 [==============================] - 0s 14ms/step - loss: 0.4588 - accuracy: 0.8160 - val_loss: 0.5263 - val_accuracy: 0.7667\n",
      "Epoch 63/300\n",
      "27/27 [==============================] - 1s 27ms/step - loss: 0.4566 - accuracy: 0.8065 - val_loss: 0.5255 - val_accuracy: 0.7619\n",
      "Epoch 64/300\n",
      "27/27 [==============================] - 0s 17ms/step - loss: 0.4532 - accuracy: 0.8041 - val_loss: 0.5207 - val_accuracy: 0.7619\n",
      "Epoch 65/300\n",
      "27/27 [==============================] - 1s 19ms/step - loss: 0.4400 - accuracy: 0.8112 - val_loss: 0.5190 - val_accuracy: 0.7667\n",
      "Epoch 66/300\n",
      "27/27 [==============================] - 0s 12ms/step - loss: 0.4732 - accuracy: 0.7909 - val_loss: 0.5175 - val_accuracy: 0.7667\n",
      "Epoch 67/300\n",
      "27/27 [==============================] - 0s 9ms/step - loss: 0.4488 - accuracy: 0.8172 - val_loss: 0.5119 - val_accuracy: 0.7905\n",
      "Epoch 68/300\n",
      "27/27 [==============================] - 0s 12ms/step - loss: 0.4455 - accuracy: 0.8029 - val_loss: 0.5226 - val_accuracy: 0.7762\n",
      "Epoch 69/300\n",
      "27/27 [==============================] - 0s 12ms/step - loss: 0.4596 - accuracy: 0.8053 - val_loss: 0.5125 - val_accuracy: 0.7905\n",
      "Epoch 70/300\n",
      "27/27 [==============================] - 1s 23ms/step - loss: 0.4509 - accuracy: 0.8112 - val_loss: 0.5164 - val_accuracy: 0.7762\n",
      "Epoch 71/300\n",
      "27/27 [==============================] - 0s 16ms/step - loss: 0.4547 - accuracy: 0.8076 - val_loss: 0.5138 - val_accuracy: 0.7905\n"
     ]
    }
   ],
   "source": [
    "history = model.fit(\n",
    "    x_train_processed, y_train, validation_split=.2, epochs=300,\n",
    "    callbacks=[\n",
    "        EarlyStopping(patience=20, monitor='val_accuracy', mode='max', restore_best_weights=True)])"
   ]
  },
  {
   "cell_type": "code",
   "execution_count": 72,
   "id": "b848196c",
   "metadata": {},
   "outputs": [
    {
     "name": "stdout",
     "output_type": "stream",
     "text": [
      "9/9 [==============================] - 0s 4ms/step - loss: 0.5031 - accuracy: 0.7710\n"
     ]
    }
   ],
   "source": [
    "result = model.evaluate(x_test_processed, y_test)\n",
    "result[1]\n",
    "log = log.append({\"model\": \"DenseNeuralNet\", \"accuracy\": result[1], \"enhanced_data\": False}, ignore_index=True)"
   ]
  },
  {
   "cell_type": "code",
   "execution_count": 73,
   "id": "151f09bf",
   "metadata": {},
   "outputs": [
    {
     "name": "stdout",
     "output_type": "stream",
     "text": [
      "Epoch 1/300\n",
      "27/27 [==============================] - 2s 35ms/step - loss: 0.5890 - accuracy: 0.7288 - val_loss: 0.6300 - val_accuracy: 0.8571\n",
      "Epoch 2/300\n",
      "27/27 [==============================] - 0s 8ms/step - loss: 0.4492 - accuracy: 0.8208 - val_loss: 0.4230 - val_accuracy: 0.8810\n",
      "Epoch 3/300\n",
      "27/27 [==============================] - 0s 6ms/step - loss: 0.4009 - accuracy: 0.8268 - val_loss: 0.3742 - val_accuracy: 0.8857\n",
      "Epoch 4/300\n",
      "27/27 [==============================] - 0s 11ms/step - loss: 0.3742 - accuracy: 0.8423 - val_loss: 0.2471 - val_accuracy: 0.8905\n",
      "Epoch 5/300\n",
      "27/27 [==============================] - 0s 15ms/step - loss: 0.3805 - accuracy: 0.8542 - val_loss: 0.2414 - val_accuracy: 0.8952\n",
      "Epoch 6/300\n",
      "27/27 [==============================] - 0s 9ms/step - loss: 0.3201 - accuracy: 0.8638 - val_loss: 0.2274 - val_accuracy: 0.9095\n",
      "Epoch 7/300\n",
      "27/27 [==============================] - 0s 6ms/step - loss: 0.3104 - accuracy: 0.8769 - val_loss: 0.2149 - val_accuracy: 0.9095\n",
      "Epoch 8/300\n",
      "27/27 [==============================] - 0s 12ms/step - loss: 0.3059 - accuracy: 0.8614 - val_loss: 0.2000 - val_accuracy: 0.9286\n",
      "Epoch 9/300\n",
      "27/27 [==============================] - 0s 7ms/step - loss: 0.3214 - accuracy: 0.8626 - val_loss: 0.1954 - val_accuracy: 0.9095\n",
      "Epoch 10/300\n",
      "27/27 [==============================] - 0s 12ms/step - loss: 0.2852 - accuracy: 0.8746 - val_loss: 0.1828 - val_accuracy: 0.9238\n",
      "Epoch 11/300\n",
      "27/27 [==============================] - 0s 13ms/step - loss: 0.2933 - accuracy: 0.8757 - val_loss: 0.1938 - val_accuracy: 0.9143\n",
      "Epoch 12/300\n",
      "27/27 [==============================] - 0s 17ms/step - loss: 0.2786 - accuracy: 0.8937 - val_loss: 0.1677 - val_accuracy: 0.9238\n",
      "Epoch 13/300\n",
      "27/27 [==============================] - 1s 18ms/step - loss: 0.2525 - accuracy: 0.9068 - val_loss: 0.1833 - val_accuracy: 0.9095\n",
      "Epoch 14/300\n",
      "27/27 [==============================] - 0s 18ms/step - loss: 0.2411 - accuracy: 0.9020 - val_loss: 0.1830 - val_accuracy: 0.9143\n",
      "Epoch 15/300\n",
      "27/27 [==============================] - 1s 35ms/step - loss: 0.2711 - accuracy: 0.8949 - val_loss: 0.1903 - val_accuracy: 0.9095\n",
      "Epoch 16/300\n",
      "27/27 [==============================] - 0s 12ms/step - loss: 0.2443 - accuracy: 0.9056 - val_loss: 0.1776 - val_accuracy: 0.9238\n",
      "Epoch 17/300\n",
      "27/27 [==============================] - 1s 18ms/step - loss: 0.2744 - accuracy: 0.8757 - val_loss: 0.1754 - val_accuracy: 0.9286\n",
      "Epoch 18/300\n",
      "27/27 [==============================] - 0s 10ms/step - loss: 0.2555 - accuracy: 0.8901 - val_loss: 0.1752 - val_accuracy: 0.9286\n",
      "Epoch 19/300\n",
      "27/27 [==============================] - 0s 14ms/step - loss: 0.2581 - accuracy: 0.8973 - val_loss: 0.1682 - val_accuracy: 0.9286\n",
      "Epoch 20/300\n",
      "27/27 [==============================] - 1s 32ms/step - loss: 0.2602 - accuracy: 0.8877 - val_loss: 0.1659 - val_accuracy: 0.9333\n",
      "Epoch 21/300\n",
      "27/27 [==============================] - 1s 20ms/step - loss: 0.2628 - accuracy: 0.9032 - val_loss: 0.1621 - val_accuracy: 0.9381\n",
      "Epoch 22/300\n",
      "27/27 [==============================] - 1s 25ms/step - loss: 0.2488 - accuracy: 0.9104 - val_loss: 0.1604 - val_accuracy: 0.9333\n",
      "Epoch 23/300\n",
      "27/27 [==============================] - 1s 20ms/step - loss: 0.2291 - accuracy: 0.9092 - val_loss: 0.1591 - val_accuracy: 0.9381\n",
      "Epoch 24/300\n",
      "27/27 [==============================] - 0s 18ms/step - loss: 0.2456 - accuracy: 0.8984 - val_loss: 0.1539 - val_accuracy: 0.9429\n",
      "Epoch 25/300\n",
      "27/27 [==============================] - 1s 28ms/step - loss: 0.2725 - accuracy: 0.8686 - val_loss: 0.1614 - val_accuracy: 0.9381\n",
      "Epoch 26/300\n",
      "27/27 [==============================] - 1s 48ms/step - loss: 0.2181 - accuracy: 0.9080 - val_loss: 0.1601 - val_accuracy: 0.9381\n",
      "Epoch 27/300\n",
      "27/27 [==============================] - 1s 39ms/step - loss: 0.1973 - accuracy: 0.9092 - val_loss: 0.1571 - val_accuracy: 0.9381\n",
      "Epoch 28/300\n",
      "27/27 [==============================] - 1s 28ms/step - loss: 0.2100 - accuracy: 0.9152 - val_loss: 0.1534 - val_accuracy: 0.9333\n",
      "Epoch 29/300\n",
      "27/27 [==============================] - 1s 30ms/step - loss: 0.2381 - accuracy: 0.9092 - val_loss: 0.1472 - val_accuracy: 0.9429\n",
      "Epoch 30/300\n",
      "27/27 [==============================] - 1s 24ms/step - loss: 0.2248 - accuracy: 0.9128 - val_loss: 0.1521 - val_accuracy: 0.9381\n",
      "Epoch 31/300\n",
      "27/27 [==============================] - 1s 31ms/step - loss: 0.2488 - accuracy: 0.9140 - val_loss: 0.1484 - val_accuracy: 0.9381\n",
      "Epoch 32/300\n",
      "27/27 [==============================] - 0s 17ms/step - loss: 0.2521 - accuracy: 0.8984 - val_loss: 0.1577 - val_accuracy: 0.9381\n",
      "Epoch 33/300\n",
      "27/27 [==============================] - 0s 16ms/step - loss: 0.2387 - accuracy: 0.9128 - val_loss: 0.1601 - val_accuracy: 0.9381\n",
      "Epoch 34/300\n",
      "27/27 [==============================] - 0s 17ms/step - loss: 0.2342 - accuracy: 0.9020 - val_loss: 0.1671 - val_accuracy: 0.9381\n",
      "Epoch 35/300\n",
      "27/27 [==============================] - 0s 14ms/step - loss: 0.2310 - accuracy: 0.8937 - val_loss: 0.1597 - val_accuracy: 0.9381\n",
      "Epoch 36/300\n",
      "27/27 [==============================] - 1s 29ms/step - loss: 0.2242 - accuracy: 0.8961 - val_loss: 0.1631 - val_accuracy: 0.9238\n",
      "Epoch 37/300\n",
      "27/27 [==============================] - 1s 21ms/step - loss: 0.1960 - accuracy: 0.9223 - val_loss: 0.1573 - val_accuracy: 0.9429\n",
      "Epoch 38/300\n",
      "27/27 [==============================] - 1s 18ms/step - loss: 0.2291 - accuracy: 0.9080 - val_loss: 0.1565 - val_accuracy: 0.9381\n",
      "Epoch 39/300\n",
      "27/27 [==============================] - 1s 22ms/step - loss: 0.2041 - accuracy: 0.9176 - val_loss: 0.1560 - val_accuracy: 0.9381\n",
      "Epoch 40/300\n",
      "27/27 [==============================] - 1s 19ms/step - loss: 0.1953 - accuracy: 0.9188 - val_loss: 0.1544 - val_accuracy: 0.9381\n",
      "Epoch 41/300\n",
      "27/27 [==============================] - 1s 25ms/step - loss: 0.1986 - accuracy: 0.9247 - val_loss: 0.1538 - val_accuracy: 0.9381\n",
      "Epoch 42/300\n",
      "27/27 [==============================] - 1s 27ms/step - loss: 0.2231 - accuracy: 0.8996 - val_loss: 0.1494 - val_accuracy: 0.9381\n",
      "Epoch 43/300\n",
      "27/27 [==============================] - 1s 41ms/step - loss: 0.2074 - accuracy: 0.9140 - val_loss: 0.1469 - val_accuracy: 0.9429\n",
      "Epoch 44/300\n",
      "27/27 [==============================] - 1s 33ms/step - loss: 0.2307 - accuracy: 0.9032 - val_loss: 0.1565 - val_accuracy: 0.9381\n"
     ]
    }
   ],
   "source": [
    "model = models.Sequential()\n",
    "model.add(layers.InputLayer(input_shape=x_train_processed.shape[1:]))\n",
    "\n",
    "for i in range(5):\n",
    "        model.add(layers.Dense(\n",
    "            64, \n",
    "            kernel_initializer='he_normal',\n",
    "            name=f'hidden_layer_{i}'))\n",
    "        model.add(layers.BatchNormalization())\n",
    "        model.add(layers.Activation('selu'))\n",
    "        model.add(layers.Dropout(0.3, name=f'dropout_{i}_30'))\n",
    "    \n",
    "model.add(layers.Dense(1, activation='sigmoid'))\n",
    "\n",
    "#model.compile(optimizer='rmsprop', loss='binary_crossentropy', metrics=['accuracy'])\n",
    "model.compile(loss='binary_crossentropy', optimizer='adam', metrics=['accuracy'])\n",
    "\n",
    "history = model.fit(\n",
    "    enh['x_train_processed'], enh['y_train'], validation_split=.2, epochs=300,\n",
    "    callbacks=[\n",
    "        EarlyStopping(patience=20, monitor='val_accuracy', mode='max', restore_best_weights=True)])"
   ]
  },
  {
   "cell_type": "code",
   "execution_count": 74,
   "id": "4767cc68",
   "metadata": {},
   "outputs": [
    {
     "name": "stdout",
     "output_type": "stream",
     "text": [
      "9/9 [==============================] - 1s 16ms/step - loss: 1.9973 - accuracy: 0.5153\n"
     ]
    }
   ],
   "source": [
    "result = model.evaluate(x_test_processed, y_test)\n",
    "result[1]\n",
    "log = log.append({\"model\": \"DenseNeuralNet\", \"accuracy\": result[1], \"enhanced_data\": True}, ignore_index=True)"
   ]
  },
  {
   "cell_type": "code",
   "execution_count": 75,
   "id": "10f2c708",
   "metadata": {},
   "outputs": [
    {
     "data": {
      "image/png": "[encoded data removed]",
      "text/plain": [
       "<Figure size 1524.88x1440 with 1 Axes>"
      ]
     },
     "metadata": {
      "needs_background": "light"
     },
     "output_type": "display_data"
    }
   ],
   "source": [
    "import seaborn as sns\n",
    "from matplotlib import pyplot as plt\n",
    "\n",
    "\n",
    "c = sns.catplot(\n",
    "    data=log,\n",
    "    x='model',\n",
    "    y='accuracy',\n",
    "    hue='enhanced_data',\n",
    "    kind='bar',\n",
    "    height=20\n",
    ")\n",
    "\n",
    "naive_baseline = 1 - y_train.mean()\n",
    "\n",
    "axes = c.axes.flatten()\n",
    "for i, ax in enumerate(axes):\n",
    "    accuracy = naive_baseline\n",
    "    \n",
    "    ax.axhline(accuracy, ls='--', c='black')\n",
    "    ax.text(0.15, accuracy, \n",
    "            f'accuracy naive: {round(accuracy, 4)}', \n",
    "            fontsize=15, va='center', ha='center', backgroundcolor='w')\n",
    "\n",
    "\n",
    "plt.savefig('./titanic_all_models_replacing_experiments.jpg')"
   ]
  }
 ],
 "metadata": {
  "kernelspec": {
   "display_name": "Python 3",
   "language": "python",
   "name": "python3"
  },
  "language_info": {
   "codemirror_mode": {
    "name": "ipython",
    "version": 3
   },
   "file_extension": ".py",
   "mimetype": "text/x-python",
   "name": "python",
   "nbconvert_exporter": "python",
   "pygments_lexer": "ipython3",
   "version": "3.9.7"
  }
 },
 "nbformat": 4,
 "nbformat_minor": 5
}
