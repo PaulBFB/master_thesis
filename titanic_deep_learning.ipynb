{
 "cells": [
  {
   "cell_type": "code",
   "execution_count": 1,
   "id": "cf00eb26",
   "metadata": {},
   "outputs": [],
   "source": [
    "import os\n",
    "import time\n",
    "import tensorflow as tf\n",
    "from tensorflow.keras import models, layers, Model, callbacks\n",
    "from tensorflow.keras.metrics import AUC, Precision, Recall\n",
    "from tensorflow.keras.callbacks import TensorBoard, EarlyStopping\n",
    "import numpy as np\n",
    "import pandas as pd\n",
    "from matplotlib import pyplot as plt\n",
    "from process_data import process_data\n",
    "from nn_gridsearch import logdir"
   ]
  },
  {
   "cell_type": "code",
   "execution_count": 2,
   "id": "f37a5ce4",
   "metadata": {},
   "outputs": [],
   "source": [
    "data = process_data()"
   ]
  },
  {
   "cell_type": "code",
   "execution_count": 3,
   "id": "c4e0f487",
   "metadata": {},
   "outputs": [
    {
     "name": "stdout",
     "output_type": "stream",
     "text": [
      "x_train\n",
      "<class 'numpy.ndarray'>\n",
      "x_train_processed\n",
      "<class 'numpy.ndarray'>\n",
      "x_test\n",
      "<class 'numpy.ndarray'>\n",
      "x_test_processed\n",
      "<class 'numpy.ndarray'>\n",
      "y_train\n",
      "<class 'numpy.ndarray'>\n",
      "y_test\n",
      "<class 'numpy.ndarray'>\n",
      "pipeline\n",
      "<class 'sklearn.pipeline.Pipeline'>\n"
     ]
    }
   ],
   "source": [
    "for k, v in data.items():\n",
    "    print(k)\n",
    "    print(type(v))"
   ]
  },
  {
   "cell_type": "code",
   "execution_count": 4,
   "id": "b9647bf0",
   "metadata": {},
   "outputs": [],
   "source": [
    "x_train_processed = data['x_train_processed']\n",
    "y_train = data['y_train']"
   ]
  },
  {
   "cell_type": "code",
   "execution_count": 5,
   "id": "fa66f1fe",
   "metadata": {},
   "outputs": [
    {
     "data": {
      "text/plain": [
       "(1047, 11)"
      ]
     },
     "execution_count": 5,
     "metadata": {},
     "output_type": "execute_result"
    }
   ],
   "source": [
    "x_train_processed.shape"
   ]
  },
  {
   "cell_type": "markdown",
   "id": "ad20c258",
   "metadata": {},
   "source": [
    "> note: old model constrution, using Sequential API"
   ]
  },
  {
   "cell_type": "code",
   "execution_count": 6,
   "id": "b06fa5ea",
   "metadata": {},
   "outputs": [],
   "source": [
    "#model = models.Sequential()\n",
    "#model.add(layers.Dense(32, activation='relu', input_shape=(x_train_processed.shape[1],)))\n",
    "#model.add(layers.Dense(32, activation='relu'))\n",
    "#model.add(layers.Dense(1, activation='sigmoid'))\n"
   ]
  },
  {
   "cell_type": "markdown",
   "id": "46668d94",
   "metadata": {},
   "source": [
    "> changed to functional API --> more flexibility, for future expansion"
   ]
  },
  {
   "cell_type": "code",
   "execution_count": 7,
   "id": "c1eb8cc1",
   "metadata": {},
   "outputs": [],
   "source": [
    "input_ = layers.Input(shape=x_train_processed.shape[1:])\n",
    "hidden_0 = layers.Dense(80, activation='relu')(input_)\n",
    "hidden_1 = layers.Dense(80, activation='relu')(hidden_0)\n",
    "hidden_2 = layers.Dense(80, activation='relu')(hidden_1)\n",
    "hidden_3 = layers.Dense(80, activation='relu')(hidden_2)\n",
    "hidden_4 = layers.Dense(80, activation='relu')(hidden_3)\n",
    "hidden_5 = layers.Dense(80, activation='relu')(hidden_4)\n",
    "output = layers.Dense(1, activation='sigmoid')(hidden_5)\n",
    "model_custom = Model(inputs=[input_], outputs=[output])"
   ]
  },
  {
   "cell_type": "code",
   "execution_count": 8,
   "id": "422eaf4f",
   "metadata": {},
   "outputs": [],
   "source": [
    "#model.compile(optimizer='rmsprop', loss='binary_crossentropy', metrics=['accuracy'])\n",
    "model_custom.compile(loss='binary_crossentropy', optimizer='adam', metrics=['accuracy', Precision(), Recall(), AUC()])"
   ]
  },
  {
   "cell_type": "code",
   "execution_count": 9,
   "id": "d6a8ecfc",
   "metadata": {},
   "outputs": [
    {
     "name": "stdout",
     "output_type": "stream",
     "text": [
      "Model: \"model\"\n",
      "_________________________________________________________________\n",
      "Layer (type)                 Output Shape              Param #   \n",
      "=================================================================\n",
      "input_1 (InputLayer)         [(None, 11)]              0         \n",
      "_________________________________________________________________\n",
      "dense (Dense)                (None, 80)                960       \n",
      "_________________________________________________________________\n",
      "dense_1 (Dense)              (None, 80)                6480      \n",
      "_________________________________________________________________\n",
      "dense_2 (Dense)              (None, 80)                6480      \n",
      "_________________________________________________________________\n",
      "dense_3 (Dense)              (None, 80)                6480      \n",
      "_________________________________________________________________\n",
      "dense_4 (Dense)              (None, 80)                6480      \n",
      "_________________________________________________________________\n",
      "dense_5 (Dense)              (None, 80)                6480      \n",
      "_________________________________________________________________\n",
      "dense_6 (Dense)              (None, 1)                 81        \n",
      "=================================================================\n",
      "Total params: 33,441\n",
      "Trainable params: 33,441\n",
      "Non-trainable params: 0\n",
      "_________________________________________________________________\n"
     ]
    }
   ],
   "source": [
    "model_custom.summary()"
   ]
  },
  {
   "cell_type": "code",
   "execution_count": 10,
   "id": "761c311c",
   "metadata": {},
   "outputs": [
    {
     "name": "stdout",
     "output_type": "stream",
     "text": [
      "Epoch 1/300\n",
      "27/27 [==============================] - 2s 42ms/step - loss: 0.5990 - accuracy: 0.6595 - precision: 0.5753 - recall: 0.1419 - auc: 0.7003 - val_loss: 0.6181 - val_accuracy: 0.7190 - val_precision: 0.6753 - val_recall: 0.6047 - val_auc: 0.7659\n",
      "Epoch 2/300\n",
      "27/27 [==============================] - 1s 20ms/step - loss: 0.4746 - accuracy: 0.8017 - precision: 0.7241 - recall: 0.7095 - auc: 0.8275 - val_loss: 0.5483 - val_accuracy: 0.7429 - val_precision: 0.7162 - val_recall: 0.6163 - val_auc: 0.7987\n",
      "Epoch 3/300\n",
      "27/27 [==============================] - 1s 21ms/step - loss: 0.4286 - accuracy: 0.8136 - precision: 0.7917 - recall: 0.6419 - auc: 0.8568 - val_loss: 0.4865 - val_accuracy: 0.7429 - val_precision: 0.7000 - val_recall: 0.6512 - val_auc: 0.8161\n",
      "Epoch 4/300\n",
      "27/27 [==============================] - 1s 21ms/step - loss: 0.4189 - accuracy: 0.8256 - precision: 0.8261 - recall: 0.6419 - auc: 0.8601 - val_loss: 0.4951 - val_accuracy: 0.7333 - val_precision: 0.6786 - val_recall: 0.6628 - val_auc: 0.8153\n",
      "Epoch 5/300\n",
      "27/27 [==============================] - 0s 15ms/step - loss: 0.4148 - accuracy: 0.8256 - precision: 0.8178 - recall: 0.6520 - auc: 0.8625 - val_loss: 0.5040 - val_accuracy: 0.7429 - val_precision: 0.6818 - val_recall: 0.6977 - val_auc: 0.8175\n",
      "Epoch 6/300\n",
      "27/27 [==============================] - 0s 13ms/step - loss: 0.4321 - accuracy: 0.8208 - precision: 0.7704 - recall: 0.7027 - auc: 0.8507 - val_loss: 0.5003 - val_accuracy: 0.7810 - val_precision: 0.7941 - val_recall: 0.6279 - val_auc: 0.8141\n",
      "Epoch 7/300\n",
      "27/27 [==============================] - 0s 13ms/step - loss: 0.4050 - accuracy: 0.8268 - precision: 0.7938 - recall: 0.6892 - auc: 0.8664 - val_loss: 0.4960 - val_accuracy: 0.7810 - val_precision: 0.8448 - val_recall: 0.5698 - val_auc: 0.8165\n",
      "Epoch 8/300\n",
      "27/27 [==============================] - 0s 14ms/step - loss: 0.4007 - accuracy: 0.8387 - precision: 0.8157 - recall: 0.7027 - auc: 0.8638 - val_loss: 0.4894 - val_accuracy: 0.7857 - val_precision: 0.8727 - val_recall: 0.5581 - val_auc: 0.8129\n",
      "Epoch 9/300\n",
      "27/27 [==============================] - 0s 11ms/step - loss: 0.4018 - accuracy: 0.8399 - precision: 0.8140 - recall: 0.7095 - auc: 0.8669 - val_loss: 0.4831 - val_accuracy: 0.7905 - val_precision: 0.8621 - val_recall: 0.5814 - val_auc: 0.8179\n",
      "Epoch 10/300\n",
      "27/27 [==============================] - 0s 12ms/step - loss: 0.4026 - accuracy: 0.8256 - precision: 0.8233 - recall: 0.6453 - auc: 0.8693 - val_loss: 0.5240 - val_accuracy: 0.7762 - val_precision: 0.8679 - val_recall: 0.5349 - val_auc: 0.8133\n",
      "Epoch 11/300\n",
      "27/27 [==============================] - 0s 15ms/step - loss: 0.4062 - accuracy: 0.8327 - precision: 0.8047 - recall: 0.6959 - auc: 0.8664 - val_loss: 0.5170 - val_accuracy: 0.7857 - val_precision: 0.8868 - val_recall: 0.5465 - val_auc: 0.8074\n",
      "Epoch 12/300\n",
      "27/27 [==============================] - 1s 21ms/step - loss: 0.4053 - accuracy: 0.8423 - precision: 0.8060 - recall: 0.7297 - auc: 0.8660 - val_loss: 0.4833 - val_accuracy: 0.7952 - val_precision: 0.8772 - val_recall: 0.5814 - val_auc: 0.8245\n",
      "Epoch 13/300\n",
      "27/27 [==============================] - 0s 14ms/step - loss: 0.4001 - accuracy: 0.8387 - precision: 0.8397 - recall: 0.6723 - auc: 0.8670 - val_loss: 0.4943 - val_accuracy: 0.7762 - val_precision: 0.8545 - val_recall: 0.5465 - val_auc: 0.8138\n",
      "Epoch 14/300\n",
      "27/27 [==============================] - 0s 15ms/step - loss: 0.3971 - accuracy: 0.8363 - precision: 0.8299 - recall: 0.6757 - auc: 0.8723 - val_loss: 0.5059 - val_accuracy: 0.7667 - val_precision: 0.7403 - val_recall: 0.6628 - val_auc: 0.8218\n",
      "Epoch 15/300\n",
      "27/27 [==============================] - 1s 18ms/step - loss: 0.3899 - accuracy: 0.8423 - precision: 0.8060 - recall: 0.7297 - auc: 0.8754 - val_loss: 0.5183 - val_accuracy: 0.7619 - val_precision: 0.8000 - val_recall: 0.5581 - val_auc: 0.8106\n",
      "Epoch 16/300\n",
      "27/27 [==============================] - 1s 20ms/step - loss: 0.3883 - accuracy: 0.8363 - precision: 0.7891 - recall: 0.7331 - auc: 0.8790 - val_loss: 0.5245 - val_accuracy: 0.7714 - val_precision: 0.8654 - val_recall: 0.5233 - val_auc: 0.8025\n",
      "Epoch 17/300\n",
      "27/27 [==============================] - 0s 12ms/step - loss: 0.3874 - accuracy: 0.8447 - precision: 0.8487 - recall: 0.6824 - auc: 0.8805 - val_loss: 0.5123 - val_accuracy: 0.7762 - val_precision: 0.7671 - val_recall: 0.6512 - val_auc: 0.8165\n",
      "Epoch 18/300\n",
      "27/27 [==============================] - 0s 18ms/step - loss: 0.3871 - accuracy: 0.8411 - precision: 0.8123 - recall: 0.7162 - auc: 0.8758 - val_loss: 0.5087 - val_accuracy: 0.7810 - val_precision: 0.8226 - val_recall: 0.5930 - val_auc: 0.8171\n",
      "Epoch 19/300\n",
      "27/27 [==============================] - 1s 37ms/step - loss: 0.3846 - accuracy: 0.8375 - precision: 0.8306 - recall: 0.6791 - auc: 0.8835 - val_loss: 0.5113 - val_accuracy: 0.7524 - val_precision: 0.7179 - val_recall: 0.6512 - val_auc: 0.8081\n"
     ]
    }
   ],
   "source": [
    "history = model_custom.fit(\n",
    "    data['x_train_processed'], data['y_train'], validation_split=.2, epochs=300,\n",
    "    callbacks=[\n",
    "        EarlyStopping(patience=10, monitor='val_loss', mode='min'),\n",
    "        TensorBoard(logdir('custom_model'))])"
   ]
  },
  {
   "cell_type": "code",
   "execution_count": 11,
   "id": "93361fba",
   "metadata": {},
   "outputs": [
    {
     "data": {
      "text/html": [
       "\n",
       "      <iframe id=\"tensorboard-frame-533ca6881302b838\" width=\"100%\" height=\"800\" frameborder=\"0\">\n",
       "      </iframe>\n",
       "      <script>\n",
       "        (function() {\n",
       "          const frame = document.getElementById(\"tensorboard-frame-533ca6881302b838\");\n",
       "          const url = new URL(\"/\", window.location);\n",
       "          const port = 6006;\n",
       "          if (port) {\n",
       "            url.port = port;\n",
       "          }\n",
       "          frame.src = url;\n",
       "        })();\n",
       "      </script>\n",
       "    "
      ],
      "text/plain": [
       "<IPython.core.display.HTML object>"
      ]
     },
     "metadata": {},
     "output_type": "display_data"
    }
   ],
   "source": [
    "%load_ext tensorboard\n",
    "%tensorboard --logdir ./custom_logs"
   ]
  },
  {
   "cell_type": "code",
   "execution_count": 12,
   "id": "5f089bef",
   "metadata": {},
   "outputs": [],
   "source": [
    "model_gridsearch = models.load_model('./models/titanic_gridsearch_best.h5')"
   ]
  },
  {
   "cell_type": "code",
   "execution_count": 13,
   "id": "3bb9217e",
   "metadata": {},
   "outputs": [
    {
     "name": "stdout",
     "output_type": "stream",
     "text": [
      "Model: \"sequential_1\"\n",
      "_________________________________________________________________\n",
      "Layer (type)                 Output Shape              Param #   \n",
      "=================================================================\n",
      "hidden_layer_0_relu_alpha_0. (None, 31)                372       \n",
      "_________________________________________________________________\n",
      "batch_normalization_8 (Batch (None, 31)                124       \n",
      "_________________________________________________________________\n",
      "activation_8 (Activation)    (None, 31)                0         \n",
      "_________________________________________________________________\n",
      "dropout_0_30 (Dropout)       (None, 31)                0         \n",
      "_________________________________________________________________\n",
      "hidden_layer_1_relu_alpha_0. (None, 31)                992       \n",
      "_________________________________________________________________\n",
      "batch_normalization_9 (Batch (None, 31)                124       \n",
      "_________________________________________________________________\n",
      "activation_9 (Activation)    (None, 31)                0         \n",
      "_________________________________________________________________\n",
      "dropout_1_30 (Dropout)       (None, 31)                0         \n",
      "_________________________________________________________________\n",
      "hidden_layer_2_relu_alpha_0. (None, 31)                992       \n",
      "_________________________________________________________________\n",
      "batch_normalization_10 (Batc (None, 31)                124       \n",
      "_________________________________________________________________\n",
      "activation_10 (Activation)   (None, 31)                0         \n",
      "_________________________________________________________________\n",
      "dropout_2_30 (Dropout)       (None, 31)                0         \n",
      "_________________________________________________________________\n",
      "hidden_layer_3_relu_alpha_0. (None, 31)                992       \n",
      "_________________________________________________________________\n",
      "batch_normalization_11 (Batc (None, 31)                124       \n",
      "_________________________________________________________________\n",
      "activation_11 (Activation)   (None, 31)                0         \n",
      "_________________________________________________________________\n",
      "dropout_3_30 (Dropout)       (None, 31)                0         \n",
      "_________________________________________________________________\n",
      "dense_1 (Dense)              (None, 1)                 32        \n",
      "=================================================================\n",
      "Total params: 3,876\n",
      "Trainable params: 3,628\n",
      "Non-trainable params: 248\n",
      "_________________________________________________________________\n"
     ]
    }
   ],
   "source": [
    "model_gridsearch.summary()"
   ]
  },
  {
   "cell_type": "code",
   "execution_count": 14,
   "id": "99ad4185",
   "metadata": {},
   "outputs": [
    {
     "name": "stdout",
     "output_type": "stream",
     "text": [
      "9/9 [==============================] - 0s 17ms/step - loss: 0.4881 - accuracy: 0.7748 - precision: 0.8242 - recall: 0.6356 - auc: 0.8577\n"
     ]
    },
    {
     "data": {
      "text/plain": [
       "[0.4881334900856018,\n",
       " 0.7748091816902161,\n",
       " 0.8241758346557617,\n",
       " 0.6355932354927063,\n",
       " 0.8576683402061462]"
      ]
     },
     "execution_count": 14,
     "metadata": {},
     "output_type": "execute_result"
    }
   ],
   "source": [
    "model_custom.evaluate(data['x_test_processed'], data['y_test'])"
   ]
  },
  {
   "cell_type": "code",
   "execution_count": 15,
   "id": "1dad1d07",
   "metadata": {},
   "outputs": [
    {
     "name": "stdout",
     "output_type": "stream",
     "text": [
      "9/9 [==============================] - 1s 4ms/step - loss: 0.5056 - accuracy: 0.7710 - precision_1: 0.8816 - recall_1: 0.5678 - auc_1: 0.8524\n"
     ]
    },
    {
     "data": {
      "text/plain": [
       "[0.5055856704711914,\n",
       " 0.7709923386573792,\n",
       " 0.8815789222717285,\n",
       " 0.5677965879440308,\n",
       " 0.8524011373519897]"
      ]
     },
     "execution_count": 15,
     "metadata": {},
     "output_type": "execute_result"
    }
   ],
   "source": [
    "model_gridsearch.evaluate(data['x_test_processed'], data['y_test'])"
   ]
  },
  {
   "cell_type": "code",
   "execution_count": 16,
   "id": "3af1d8b6",
   "metadata": {},
   "outputs": [
    {
     "name": "stdout",
     "output_type": "stream",
     "text": [
      "9/9 [==============================] - 2s 9ms/step - loss: 0.5042 - accuracy: 0.7634 - precision_1: 0.8684 - recall_1: 0.5593 - auc_1: 0.8453\n"
     ]
    },
    {
     "data": {
      "text/plain": [
       "[0.5042383670806885,\n",
       " 0.7633587718009949,\n",
       " 0.8684210777282715,\n",
       " 0.5593220591545105,\n",
       " 0.845280110836029]"
      ]
     },
     "execution_count": 16,
     "metadata": {},
     "output_type": "execute_result"
    }
   ],
   "source": [
    "model_synthetic = models.load_model('./models/titanic_gridsearch_synthetic_2021_10_15_10_44.h5')\n",
    "model_synthetic.evaluate(data['x_test_processed'], data['y_test'])"
   ]
  },
  {
   "cell_type": "markdown",
   "id": "5476604d",
   "metadata": {},
   "source": [
    "> todo next - function to build model, sklearn wrapper from keras, pipelines, random grid search for model!"
   ]
  }
 ],
 "metadata": {
  "kernelspec": {
   "display_name": "Python 3",
   "language": "python",
   "name": "python3"
  },
  "language_info": {
   "codemirror_mode": {
    "name": "ipython",
    "version": 3
   },
   "file_extension": ".py",
   "mimetype": "text/x-python",
   "name": "python",
   "nbconvert_exporter": "python",
   "pygments_lexer": "ipython3",
   "version": "3.9.7"
  }
 },
 "nbformat": 4,
 "nbformat_minor": 5
}
