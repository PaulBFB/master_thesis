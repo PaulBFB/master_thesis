{
 "cells": [
  {
   "cell_type": "code",
   "execution_count": 1,
   "id": "9885fb85",
   "metadata": {},
   "outputs": [],
   "source": [
    "import os\n",
    "import time\n",
    "import tensorflow as tf\n",
    "from tensorflow.keras import models, layers, Model, callbacks\n",
    "from tensorflow.keras.metrics import AUC, Precision, Recall\n",
    "from tensorflow.keras.callbacks import TensorBoard, EarlyStopping\n",
    "import numpy as np\n",
    "import pandas as pd\n",
    "from matplotlib import pyplot as plt\n",
    "from process_data import process_data\n",
    "from nn_gridsearch import logdir"
   ]
  },
  {
   "cell_type": "code",
   "execution_count": 2,
   "id": "842e96d7",
   "metadata": {},
   "outputs": [],
   "source": [
    "data = process_data()"
   ]
  },
  {
   "cell_type": "code",
   "execution_count": 3,
   "id": "1bda1a53",
   "metadata": {},
   "outputs": [
    {
     "name": "stdout",
     "output_type": "stream",
     "text": [
      "x_train\n",
      "<class 'numpy.ndarray'>\n",
      "x_train_processed\n",
      "<class 'numpy.ndarray'>\n",
      "x_test\n",
      "<class 'numpy.ndarray'>\n",
      "x_test_processed\n",
      "<class 'numpy.ndarray'>\n",
      "y_train\n",
      "<class 'numpy.ndarray'>\n",
      "y_test\n",
      "<class 'numpy.ndarray'>\n",
      "pipeline\n",
      "<class 'sklearn.pipeline.Pipeline'>\n"
     ]
    }
   ],
   "source": [
    "for k, v in data.items():\n",
    "    print(k)\n",
    "    print(type(v))"
   ]
  },
  {
   "cell_type": "code",
   "execution_count": 4,
   "id": "f57da2c5",
   "metadata": {},
   "outputs": [],
   "source": [
    "x_train_processed = data['x_train_processed']\n",
    "y_train = data['y_train']"
   ]
  },
  {
   "cell_type": "code",
   "execution_count": 5,
   "id": "17f4653f",
   "metadata": {},
   "outputs": [
    {
     "data": {
      "text/plain": [
       "(1047, 11)"
      ]
     },
     "execution_count": 5,
     "metadata": {},
     "output_type": "execute_result"
    }
   ],
   "source": [
    "x_train_processed.shape"
   ]
  },
  {
   "cell_type": "markdown",
   "id": "ca3d5aec",
   "metadata": {},
   "source": [
    "> note: old model constrution, using Sequential API"
   ]
  },
  {
   "cell_type": "code",
   "execution_count": 6,
   "id": "7a503fe2",
   "metadata": {},
   "outputs": [],
   "source": [
    "#model = models.Sequential()\n",
    "#model.add(layers.Dense(32, activation='relu', input_shape=(x_train_processed.shape[1],)))\n",
    "#model.add(layers.Dense(32, activation='relu'))\n",
    "#model.add(layers.Dense(1, activation='sigmoid'))\n"
   ]
  },
  {
   "cell_type": "markdown",
   "id": "ea5873df",
   "metadata": {},
   "source": [
    "> changed to functional API --> more flexibility, for future expansion"
   ]
  },
  {
   "cell_type": "code",
   "execution_count": 7,
   "id": "f3de355d",
   "metadata": {},
   "outputs": [],
   "source": [
    "input_ = layers.Input(shape=x_train_processed.shape[1:])\n",
    "hidden_0 = layers.Dense(80, activation='relu')(input_)\n",
    "hidden_1 = layers.Dense(80, activation='relu')(hidden_0)\n",
    "hidden_2 = layers.Dense(80, activation='relu')(hidden_1)\n",
    "hidden_3 = layers.Dense(80, activation='relu')(hidden_2)\n",
    "hidden_4 = layers.Dense(80, activation='relu')(hidden_3)\n",
    "hidden_5 = layers.Dense(80, activation='relu')(hidden_4)\n",
    "output = layers.Dense(1, activation='sigmoid')(hidden_5)\n",
    "model_custom = Model(inputs=[input_], outputs=[output])"
   ]
  },
  {
   "cell_type": "code",
   "execution_count": 8,
   "id": "3c7d507e",
   "metadata": {},
   "outputs": [],
   "source": [
    "#model.compile(optimizer='rmsprop', loss='binary_crossentropy', metrics=['accuracy'])\n",
    "model_custom.compile(loss='binary_crossentropy', optimizer='adam', metrics=['accuracy', Precision(), Recall(), AUC()])"
   ]
  },
  {
   "cell_type": "code",
   "execution_count": 9,
   "id": "b1970bc1",
   "metadata": {},
   "outputs": [
    {
     "name": "stdout",
     "output_type": "stream",
     "text": [
      "Model: \"model\"\n",
      "_________________________________________________________________\n",
      "Layer (type)                 Output Shape              Param #   \n",
      "=================================================================\n",
      "input_1 (InputLayer)         [(None, 11)]              0         \n",
      "_________________________________________________________________\n",
      "dense (Dense)                (None, 80)                960       \n",
      "_________________________________________________________________\n",
      "dense_1 (Dense)              (None, 80)                6480      \n",
      "_________________________________________________________________\n",
      "dense_2 (Dense)              (None, 80)                6480      \n",
      "_________________________________________________________________\n",
      "dense_3 (Dense)              (None, 80)                6480      \n",
      "_________________________________________________________________\n",
      "dense_4 (Dense)              (None, 80)                6480      \n",
      "_________________________________________________________________\n",
      "dense_5 (Dense)              (None, 80)                6480      \n",
      "_________________________________________________________________\n",
      "dense_6 (Dense)              (None, 1)                 81        \n",
      "=================================================================\n",
      "Total params: 33,441\n",
      "Trainable params: 33,441\n",
      "Non-trainable params: 0\n",
      "_________________________________________________________________\n"
     ]
    }
   ],
   "source": [
    "model_custom.summary()"
   ]
  },
  {
   "cell_type": "code",
   "execution_count": 10,
   "id": "3592b17c",
   "metadata": {},
   "outputs": [
    {
     "name": "stdout",
     "output_type": "stream",
     "text": [
      "Epoch 1/300\n",
      "27/27 [==============================] - 2s 39ms/step - loss: 0.4905 - accuracy: 0.7885 - precision: 0.7793 - recall: 0.5608 - auc: 0.8266 - val_loss: 0.6320 - val_accuracy: 0.7714 - val_precision: 0.8800 - val_recall: 0.5116 - val_auc: 0.8167\n",
      "Epoch 2/300\n",
      "27/27 [==============================] - 1s 21ms/step - loss: 0.4313 - accuracy: 0.8172 - precision: 0.7678 - recall: 0.6926 - auc: 0.8508 - val_loss: 0.7047 - val_accuracy: 0.6952 - val_precision: 1.0000 - val_recall: 0.2558 - val_auc: 0.8084\n",
      "Epoch 3/300\n",
      "27/27 [==============================] - 0s 18ms/step - loss: 0.4270 - accuracy: 0.8292 - precision: 0.8341 - recall: 0.6453 - auc: 0.8525 - val_loss: 0.5290 - val_accuracy: 0.7762 - val_precision: 0.8980 - val_recall: 0.5116 - val_auc: 0.8087\n",
      "Epoch 4/300\n",
      "27/27 [==============================] - 0s 13ms/step - loss: 0.4193 - accuracy: 0.8256 - precision: 0.8205 - recall: 0.6486 - auc: 0.8598 - val_loss: 0.4964 - val_accuracy: 0.7905 - val_precision: 0.7917 - val_recall: 0.6628 - val_auc: 0.8256\n",
      "Epoch 5/300\n",
      "27/27 [==============================] - 1s 18ms/step - loss: 0.4205 - accuracy: 0.8256 - precision: 0.8049 - recall: 0.6689 - auc: 0.8559 - val_loss: 0.4849 - val_accuracy: 0.7667 - val_precision: 0.7342 - val_recall: 0.6744 - val_auc: 0.8240\n",
      "Epoch 6/300\n",
      "27/27 [==============================] - 0s 16ms/step - loss: 0.4070 - accuracy: 0.8327 - precision: 0.8145 - recall: 0.6824 - auc: 0.8633 - val_loss: 0.5384 - val_accuracy: 0.7714 - val_precision: 0.7969 - val_recall: 0.5930 - val_auc: 0.8135\n",
      "Epoch 7/300\n",
      "27/27 [==============================] - 0s 13ms/step - loss: 0.4073 - accuracy: 0.8387 - precision: 0.8157 - recall: 0.7027 - auc: 0.8636 - val_loss: 0.4726 - val_accuracy: 0.7905 - val_precision: 0.8889 - val_recall: 0.5581 - val_auc: 0.8176\n",
      "Epoch 8/300\n",
      "27/27 [==============================] - 0s 14ms/step - loss: 0.4060 - accuracy: 0.8327 - precision: 0.8421 - recall: 0.6486 - auc: 0.8641 - val_loss: 0.5134 - val_accuracy: 0.7762 - val_precision: 0.8679 - val_recall: 0.5349 - val_auc: 0.8122\n",
      "Epoch 9/300\n",
      "27/27 [==============================] - 1s 23ms/step - loss: 0.4016 - accuracy: 0.8387 - precision: 0.8313 - recall: 0.6824 - auc: 0.8654 - val_loss: 0.4906 - val_accuracy: 0.7476 - val_precision: 0.6988 - val_recall: 0.6744 - val_auc: 0.8128\n",
      "Epoch 10/300\n",
      "27/27 [==============================] - 1s 19ms/step - loss: 0.3998 - accuracy: 0.8351 - precision: 0.8319 - recall: 0.6689 - auc: 0.8733 - val_loss: 0.5545 - val_accuracy: 0.7000 - val_precision: 0.6117 - val_recall: 0.7326 - val_auc: 0.8065\n",
      "Epoch 11/300\n",
      "27/27 [==============================] - 0s 11ms/step - loss: 0.4026 - accuracy: 0.8303 - precision: 0.8031 - recall: 0.6892 - auc: 0.8685 - val_loss: 0.5687 - val_accuracy: 0.7714 - val_precision: 0.9318 - val_recall: 0.4767 - val_auc: 0.8092\n",
      "Epoch 12/300\n",
      "27/27 [==============================] - 0s 12ms/step - loss: 0.3914 - accuracy: 0.8315 - precision: 0.8243 - recall: 0.6655 - auc: 0.8800 - val_loss: 0.5299 - val_accuracy: 0.7238 - val_precision: 0.6400 - val_recall: 0.7442 - val_auc: 0.8123\n",
      "Epoch 13/300\n",
      "27/27 [==============================] - 1s 26ms/step - loss: 0.4010 - accuracy: 0.8351 - precision: 0.8135 - recall: 0.6926 - auc: 0.8657 - val_loss: 0.5425 - val_accuracy: 0.7571 - val_precision: 0.7778 - val_recall: 0.5698 - val_auc: 0.8018\n",
      "Epoch 14/300\n",
      "27/27 [==============================] - 1s 22ms/step - loss: 0.3975 - accuracy: 0.8327 - precision: 0.8223 - recall: 0.6723 - auc: 0.8680 - val_loss: 0.5639 - val_accuracy: 0.7524 - val_precision: 0.7931 - val_recall: 0.5349 - val_auc: 0.7928\n",
      "Epoch 15/300\n",
      "27/27 [==============================] - 0s 10ms/step - loss: 0.3930 - accuracy: 0.8339 - precision: 0.8054 - recall: 0.6993 - auc: 0.8745 - val_loss: 0.5663 - val_accuracy: 0.7714 - val_precision: 0.9524 - val_recall: 0.4651 - val_auc: 0.8100\n",
      "Epoch 16/300\n",
      "27/27 [==============================] - 0s 10ms/step - loss: 0.3926 - accuracy: 0.8339 - precision: 0.8312 - recall: 0.6655 - auc: 0.8724 - val_loss: 0.5467 - val_accuracy: 0.7238 - val_precision: 0.6707 - val_recall: 0.6395 - val_auc: 0.7998\n",
      "Epoch 17/300\n",
      "27/27 [==============================] - 0s 14ms/step - loss: 0.3892 - accuracy: 0.8351 - precision: 0.8135 - recall: 0.6926 - auc: 0.8789 - val_loss: 0.5635 - val_accuracy: 0.7476 - val_precision: 0.8000 - val_recall: 0.5116 - val_auc: 0.7979\n"
     ]
    }
   ],
   "source": [
    "history = model_custom.fit(\n",
    "    data['x_train_processed'], data['y_train'], validation_split=.2, epochs=300,\n",
    "    callbacks=[\n",
    "        EarlyStopping(patience=10, monitor='val_loss', mode='min'),\n",
    "        TensorBoard(logdir('custom_model'))])"
   ]
  },
  {
   "cell_type": "code",
   "execution_count": 11,
   "id": "0ce09a04",
   "metadata": {},
   "outputs": [
    {
     "data": {
      "text/html": [
       "\n",
       "      <iframe id=\"tensorboard-frame-a936b8d0750c29af\" width=\"100%\" height=\"800\" frameborder=\"0\">\n",
       "      </iframe>\n",
       "      <script>\n",
       "        (function() {\n",
       "          const frame = document.getElementById(\"tensorboard-frame-a936b8d0750c29af\");\n",
       "          const url = new URL(\"/\", window.location);\n",
       "          const port = 6006;\n",
       "          if (port) {\n",
       "            url.port = port;\n",
       "          }\n",
       "          frame.src = url;\n",
       "        })();\n",
       "      </script>\n",
       "    "
      ],
      "text/plain": [
       "<IPython.core.display.HTML object>"
      ]
     },
     "metadata": {},
     "output_type": "display_data"
    }
   ],
   "source": [
    "%load_ext tensorboard\n",
    "%tensorboard --logdir ./custom_logs"
   ]
  },
  {
   "cell_type": "code",
   "execution_count": 44,
   "id": "6d76ee5b",
   "metadata": {},
   "outputs": [],
   "source": [
    "model_gridsearch = models.load_model('./models/titanic_gridsearch_2021_10_10_02_28.h5')"
   ]
  },
  {
   "cell_type": "code",
   "execution_count": 42,
   "id": "60b61bee",
   "metadata": {},
   "outputs": [
    {
     "name": "stdout",
     "output_type": "stream",
     "text": [
      "Model: \"sequential_1\"\n",
      "_________________________________________________________________\n",
      "Layer (type)                 Output Shape              Param #   \n",
      "=================================================================\n",
      "hidden_layer_0_relu_alpha_0. (None, 39)                468       \n",
      "_________________________________________________________________\n",
      "batch_normalization_8 (Batch (None, 39)                156       \n",
      "_________________________________________________________________\n",
      "activation_8 (Activation)    (None, 39)                0         \n",
      "_________________________________________________________________\n",
      "dropout_0_20 (Dropout)       (None, 39)                0         \n",
      "_________________________________________________________________\n",
      "hidden_layer_1_relu_alpha_0. (None, 39)                1560      \n",
      "_________________________________________________________________\n",
      "batch_normalization_9 (Batch (None, 39)                156       \n",
      "_________________________________________________________________\n",
      "activation_9 (Activation)    (None, 39)                0         \n",
      "_________________________________________________________________\n",
      "dropout_1_20 (Dropout)       (None, 39)                0         \n",
      "_________________________________________________________________\n",
      "hidden_layer_2_relu_alpha_0. (None, 39)                1560      \n",
      "_________________________________________________________________\n",
      "batch_normalization_10 (Batc (None, 39)                156       \n",
      "_________________________________________________________________\n",
      "activation_10 (Activation)   (None, 39)                0         \n",
      "_________________________________________________________________\n",
      "dropout_2_20 (Dropout)       (None, 39)                0         \n",
      "_________________________________________________________________\n",
      "hidden_layer_3_relu_alpha_0. (None, 39)                1560      \n",
      "_________________________________________________________________\n",
      "batch_normalization_11 (Batc (None, 39)                156       \n",
      "_________________________________________________________________\n",
      "activation_11 (Activation)   (None, 39)                0         \n",
      "_________________________________________________________________\n",
      "dropout_3_20 (Dropout)       (None, 39)                0         \n",
      "_________________________________________________________________\n",
      "hidden_layer_4_relu_alpha_0. (None, 39)                1560      \n",
      "_________________________________________________________________\n",
      "batch_normalization_12 (Batc (None, 39)                156       \n",
      "_________________________________________________________________\n",
      "activation_12 (Activation)   (None, 39)                0         \n",
      "_________________________________________________________________\n",
      "dropout_4_20 (Dropout)       (None, 39)                0         \n",
      "_________________________________________________________________\n",
      "dense_1 (Dense)              (None, 1)                 40        \n",
      "=================================================================\n",
      "Total params: 7,528\n",
      "Trainable params: 7,138\n",
      "Non-trainable params: 390\n",
      "_________________________________________________________________\n"
     ]
    }
   ],
   "source": [
    "model_gridsearch.summary()"
   ]
  },
  {
   "cell_type": "code",
   "execution_count": 39,
   "id": "3464f89d",
   "metadata": {},
   "outputs": [
    {
     "name": "stdout",
     "output_type": "stream",
     "text": [
      "9/9 [==============================] - 0s 13ms/step - loss: 0.5507 - accuracy: 0.7595 - precision: 0.8395 - recall: 0.5763 - auc: 0.8535\n"
     ]
    },
    {
     "data": {
      "text/plain": [
       "[0.550728440284729,\n",
       " 0.7595419883728027,\n",
       " 0.8395061492919922,\n",
       " 0.5762711763381958,\n",
       " 0.853489875793457]"
      ]
     },
     "execution_count": 39,
     "metadata": {},
     "output_type": "execute_result"
    }
   ],
   "source": [
    "model_custom.evaluate(data['x_test_processed'], data['y_test'])"
   ]
  },
  {
   "cell_type": "code",
   "execution_count": 45,
   "id": "389af017",
   "metadata": {},
   "outputs": [
    {
     "name": "stdout",
     "output_type": "stream",
     "text": [
      "9/9 [==============================] - 1s 12ms/step - loss: 0.5056 - accuracy: 0.7710 - precision_1: 0.8816 - recall_1: 0.5678 - auc_1: 0.8524\n"
     ]
    },
    {
     "data": {
      "text/plain": [
       "[0.5055856704711914,\n",
       " 0.7709923386573792,\n",
       " 0.8815789222717285,\n",
       " 0.5677965879440308,\n",
       " 0.8524011373519897]"
      ]
     },
     "execution_count": 45,
     "metadata": {},
     "output_type": "execute_result"
    }
   ],
   "source": [
    "model_gridsearch.evaluate(data['x_test_processed'], data['y_test'])"
   ]
  },
  {
   "cell_type": "markdown",
   "id": "a7f55fa9",
   "metadata": {},
   "source": [
    "> todo next - function to build model, sklearn wrapper from keras, pipelines, random grid search for model!"
   ]
  }
 ],
 "metadata": {
  "kernelspec": {
   "display_name": "Python 3",
   "language": "python",
   "name": "python3"
  },
  "language_info": {
   "codemirror_mode": {
    "name": "ipython",
    "version": 3
   },
   "file_extension": ".py",
   "mimetype": "text/x-python",
   "name": "python",
   "nbconvert_exporter": "python",
   "pygments_lexer": "ipython3",
   "version": "3.9.7"
  }
 },
 "nbformat": 4,
 "nbformat_minor": 5
}
