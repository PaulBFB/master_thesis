{
 "cells": [
  {
   "cell_type": "code",
   "execution_count": 1,
   "id": "a71232e3",
   "metadata": {},
   "outputs": [],
   "source": [
    "import os\n",
    "import time\n",
    "import tensorflow as tf\n",
    "from tensorflow.keras import models, layers, Model, callbacks\n",
    "import numpy as np\n",
    "import pandas as pd\n",
    "from matplotlib import pyplot as plt\n",
    "from process_data import process_data"
   ]
  },
  {
   "cell_type": "code",
   "execution_count": 2,
   "id": "3f0a568c",
   "metadata": {},
   "outputs": [],
   "source": [
    "data = process_data()"
   ]
  },
  {
   "cell_type": "code",
   "execution_count": 3,
   "id": "619d7a67",
   "metadata": {},
   "outputs": [
    {
     "name": "stdout",
     "output_type": "stream",
     "text": [
      "x_train\n",
      "<class 'numpy.ndarray'>\n",
      "x_train_processed\n",
      "<class 'numpy.ndarray'>\n",
      "x_test\n",
      "<class 'numpy.ndarray'>\n",
      "x_test_processed\n",
      "<class 'numpy.ndarray'>\n",
      "y_train\n",
      "<class 'numpy.ndarray'>\n",
      "y_test\n",
      "<class 'numpy.ndarray'>\n",
      "pipeline\n",
      "<class 'sklearn.pipeline.Pipeline'>\n"
     ]
    }
   ],
   "source": [
    "for k, v in data.items():\n",
    "    print(k)\n",
    "    print(type(v))"
   ]
  },
  {
   "cell_type": "code",
   "execution_count": 4,
   "id": "b1e38c91",
   "metadata": {},
   "outputs": [],
   "source": [
    "x_train_processed = data['x_train_processed']\n",
    "y_train = data['y_train']"
   ]
  },
  {
   "cell_type": "code",
   "execution_count": 5,
   "id": "e48939f1",
   "metadata": {},
   "outputs": [
    {
     "data": {
      "text/plain": [
       "(1047, 11)"
      ]
     },
     "execution_count": 5,
     "metadata": {},
     "output_type": "execute_result"
    }
   ],
   "source": [
    "x_train_processed.shape"
   ]
  },
  {
   "cell_type": "markdown",
   "id": "428e82db",
   "metadata": {},
   "source": [
    "> note: old model constrution, using Sequential API"
   ]
  },
  {
   "cell_type": "code",
   "execution_count": 6,
   "id": "429f0e93",
   "metadata": {},
   "outputs": [],
   "source": [
    "#model = models.Sequential()\n",
    "#model.add(layers.Dense(32, activation='relu', input_shape=(x_train_processed.shape[1],)))\n",
    "#model.add(layers.Dense(32, activation='relu'))\n",
    "#model.add(layers.Dense(1, activation='sigmoid'))\n"
   ]
  },
  {
   "cell_type": "markdown",
   "id": "5dbc3885",
   "metadata": {},
   "source": [
    "> changed to functional API --> more flexibility, for future expansion"
   ]
  },
  {
   "cell_type": "code",
   "execution_count": 7,
   "id": "fb5e7893",
   "metadata": {},
   "outputs": [],
   "source": [
    "input_ = layers.Input(shape=x_train_processed.shape[1:])\n",
    "hidden_0 = layers.Dense(64, activation='relu')(input_)\n",
    "hidden_1 = layers.Dense(64, activation='relu')(hidden_0)\n",
    "hidden_2 = layers.Dense(32, activation='relu')(hidden_1)\n",
    "hidden_3 = layers.Dense(16, activation='relu')(hidden_2)\n",
    "output = layers.Dense(1, activation='sigmoid')(hidden_3)\n",
    "model = Model(inputs=[input_], outputs=[output])"
   ]
  },
  {
   "cell_type": "code",
   "execution_count": 8,
   "id": "1f8dc347",
   "metadata": {},
   "outputs": [],
   "source": [
    "model.compile(optimizer='rmsprop', loss='binary_crossentropy', metrics=['accuracy'])"
   ]
  },
  {
   "cell_type": "code",
   "execution_count": 9,
   "id": "7bd9c692",
   "metadata": {},
   "outputs": [
    {
     "name": "stdout",
     "output_type": "stream",
     "text": [
      "Model: \"model\"\n",
      "_________________________________________________________________\n",
      "Layer (type)                 Output Shape              Param #   \n",
      "=================================================================\n",
      "input_1 (InputLayer)         [(None, 11)]              0         \n",
      "_________________________________________________________________\n",
      "dense (Dense)                (None, 64)                768       \n",
      "_________________________________________________________________\n",
      "dense_1 (Dense)              (None, 64)                4160      \n",
      "_________________________________________________________________\n",
      "dense_2 (Dense)              (None, 32)                2080      \n",
      "_________________________________________________________________\n",
      "dense_3 (Dense)              (None, 16)                528       \n",
      "_________________________________________________________________\n",
      "dense_4 (Dense)              (None, 1)                 17        \n",
      "=================================================================\n",
      "Total params: 7,553\n",
      "Trainable params: 7,553\n",
      "Non-trainable params: 0\n",
      "_________________________________________________________________\n"
     ]
    }
   ],
   "source": [
    "model.summary()"
   ]
  },
  {
   "cell_type": "code",
   "execution_count": 10,
   "id": "1ac96d1d",
   "metadata": {},
   "outputs": [
    {
     "data": {
      "text/html": [
       "\n",
       "      <iframe id=\"tensorboard-frame-a919eef5455a2907\" width=\"100%\" height=\"800\" frameborder=\"0\">\n",
       "      </iframe>\n",
       "      <script>\n",
       "        (function() {\n",
       "          const frame = document.getElementById(\"tensorboard-frame-a919eef5455a2907\");\n",
       "          const url = new URL(\"/\", window.location);\n",
       "          const port = 6006;\n",
       "          if (port) {\n",
       "            url.port = port;\n",
       "          }\n",
       "          frame.src = url;\n",
       "        })();\n",
       "      </script>\n",
       "    "
      ],
      "text/plain": [
       "<IPython.core.display.HTML object>"
      ]
     },
     "metadata": {},
     "output_type": "display_data"
    }
   ],
   "source": [
    "%load_ext tensorboard\n",
    "%tensorboard --logdir ./custom_logs"
   ]
  },
  {
   "cell_type": "code",
   "execution_count": 14,
   "id": "077209d9",
   "metadata": {},
   "outputs": [],
   "source": [
    "model = models.load_model('./models/titanic_gridsearch.h5')"
   ]
  },
  {
   "cell_type": "code",
   "execution_count": 19,
   "id": "309ffcb4",
   "metadata": {},
   "outputs": [],
   "source": [
    "model2 = models.load_model('./models/titanic_nn.h5')"
   ]
  },
  {
   "cell_type": "code",
   "execution_count": 17,
   "id": "98f0830a",
   "metadata": {},
   "outputs": [
    {
     "name": "stdout",
     "output_type": "stream",
     "text": [
      "9/9 [==============================] - 0s 13ms/step - loss: 0.5255\n"
     ]
    }
   ],
   "source": [
    "results = model.evaluate(data['x_test_processed'], data['y_test'])"
   ]
  },
  {
   "cell_type": "code",
   "execution_count": 18,
   "id": "95f15aa4",
   "metadata": {},
   "outputs": [
    {
     "data": {
      "text/plain": [
       "0.5255069136619568"
      ]
     },
     "execution_count": 18,
     "metadata": {},
     "output_type": "execute_result"
    }
   ],
   "source": [
    "results"
   ]
  },
  {
   "cell_type": "code",
   "execution_count": 21,
   "id": "2aa2aa71",
   "metadata": {},
   "outputs": [
    {
     "name": "stdout",
     "output_type": "stream",
     "text": [
      "9/9 [==============================] - 0s 5ms/step - loss: 0.5051 - accuracy: 0.7672\n"
     ]
    },
    {
     "data": {
      "text/plain": [
       "[0.5050886273384094, 0.767175555229187]"
      ]
     },
     "execution_count": 21,
     "metadata": {},
     "output_type": "execute_result"
    }
   ],
   "source": [
    "model2.evaluate(data['x_test_processed'], data['y_test'])"
   ]
  },
  {
   "cell_type": "markdown",
   "id": "016048fa",
   "metadata": {},
   "source": [
    "> todo next - function to build model, sklearn wrapper from keras, pipelines, random grid search for model!"
   ]
  }
 ],
 "metadata": {
  "kernelspec": {
   "display_name": "Python 3",
   "language": "python",
   "name": "python3"
  },
  "language_info": {
   "codemirror_mode": {
    "name": "ipython",
    "version": 3
   },
   "file_extension": ".py",
   "mimetype": "text/x-python",
   "name": "python",
   "nbconvert_exporter": "python",
   "pygments_lexer": "ipython3",
   "version": "3.9.7"
  }
 },
 "nbformat": 4,
 "nbformat_minor": 5
}
