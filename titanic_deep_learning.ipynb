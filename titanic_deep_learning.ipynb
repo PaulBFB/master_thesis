{
 "cells": [
  {
   "cell_type": "code",
   "execution_count": 39,
   "id": "27e9f4a1",
   "metadata": {},
   "outputs": [],
   "source": [
    "import os\n",
    "import time\n",
    "import tensorflow as tf\n",
    "from tensorflow.keras import models, layers, Model, callbacks\n",
    "from tensorflow.keras.metrics import AUC, Precision, Recall\n",
    "from tensorflow.keras.callbacks import TensorBoard, EarlyStopping\n",
    "import numpy as np\n",
    "import pandas as pd\n",
    "from matplotlib import pyplot as plt\n",
    "from process_data import process_data\n",
    "from nn_gridsearch import logdir"
   ]
  },
  {
   "cell_type": "code",
   "execution_count": 2,
   "id": "dd2a151c",
   "metadata": {},
   "outputs": [],
   "source": [
    "data = process_data()"
   ]
  },
  {
   "cell_type": "code",
   "execution_count": 3,
   "id": "8485efc3",
   "metadata": {},
   "outputs": [
    {
     "name": "stdout",
     "output_type": "stream",
     "text": [
      "x_train\n",
      "<class 'numpy.ndarray'>\n",
      "x_train_processed\n",
      "<class 'numpy.ndarray'>\n",
      "x_test\n",
      "<class 'numpy.ndarray'>\n",
      "x_test_processed\n",
      "<class 'numpy.ndarray'>\n",
      "y_train\n",
      "<class 'numpy.ndarray'>\n",
      "y_test\n",
      "<class 'numpy.ndarray'>\n",
      "pipeline\n",
      "<class 'sklearn.pipeline.Pipeline'>\n"
     ]
    }
   ],
   "source": [
    "for k, v in data.items():\n",
    "    print(k)\n",
    "    print(type(v))"
   ]
  },
  {
   "cell_type": "code",
   "execution_count": 4,
   "id": "b9530cca",
   "metadata": {},
   "outputs": [],
   "source": [
    "x_train_processed = data['x_train_processed']\n",
    "y_train = data['y_train']"
   ]
  },
  {
   "cell_type": "code",
   "execution_count": 5,
   "id": "0305c941",
   "metadata": {},
   "outputs": [
    {
     "data": {
      "text/plain": [
       "(1047, 11)"
      ]
     },
     "execution_count": 5,
     "metadata": {},
     "output_type": "execute_result"
    }
   ],
   "source": [
    "x_train_processed.shape"
   ]
  },
  {
   "cell_type": "markdown",
   "id": "6327cc9c",
   "metadata": {},
   "source": [
    "> note: old model constrution, using Sequential API"
   ]
  },
  {
   "cell_type": "code",
   "execution_count": 6,
   "id": "401d6447",
   "metadata": {},
   "outputs": [],
   "source": [
    "#model = models.Sequential()\n",
    "#model.add(layers.Dense(32, activation='relu', input_shape=(x_train_processed.shape[1],)))\n",
    "#model.add(layers.Dense(32, activation='relu'))\n",
    "#model.add(layers.Dense(1, activation='sigmoid'))\n"
   ]
  },
  {
   "cell_type": "markdown",
   "id": "cb351009",
   "metadata": {},
   "source": [
    "> changed to functional API --> more flexibility, for future expansion"
   ]
  },
  {
   "cell_type": "code",
   "execution_count": 35,
   "id": "dc61a7a0",
   "metadata": {},
   "outputs": [],
   "source": [
    "input_ = layers.Input(shape=x_train_processed.shape[1:])\n",
    "hidden_0 = layers.Dense(80, activation='relu')(input_)\n",
    "hidden_1 = layers.Dense(80, activation='relu')(hidden_0)\n",
    "hidden_2 = layers.Dense(80, activation='relu')(hidden_1)\n",
    "hidden_3 = layers.Dense(80, activation='relu')(hidden_2)\n",
    "output = layers.Dense(1, activation='sigmoid')(hidden_3)\n",
    "model = Model(inputs=[input_], outputs=[output])"
   ]
  },
  {
   "cell_type": "code",
   "execution_count": 36,
   "id": "bbd06222",
   "metadata": {},
   "outputs": [],
   "source": [
    "#model.compile(optimizer='rmsprop', loss='binary_crossentropy', metrics=['accuracy'])\n",
    "model.compile(loss='binary_crossentropy', optimizer='rmsprop', metrics=['accuracy', Precision(), Recall(), AUC()])"
   ]
  },
  {
   "cell_type": "code",
   "execution_count": 37,
   "id": "3b72de52",
   "metadata": {},
   "outputs": [
    {
     "name": "stdout",
     "output_type": "stream",
     "text": [
      "Model: \"model_1\"\n",
      "_________________________________________________________________\n",
      "Layer (type)                 Output Shape              Param #   \n",
      "=================================================================\n",
      "input_2 (InputLayer)         [(None, 11)]              0         \n",
      "_________________________________________________________________\n",
      "dense_5 (Dense)              (None, 80)                960       \n",
      "_________________________________________________________________\n",
      "dense_6 (Dense)              (None, 80)                6480      \n",
      "_________________________________________________________________\n",
      "dense_7 (Dense)              (None, 80)                6480      \n",
      "_________________________________________________________________\n",
      "dense_8 (Dense)              (None, 80)                6480      \n",
      "_________________________________________________________________\n",
      "dense_9 (Dense)              (None, 1)                 81        \n",
      "=================================================================\n",
      "Total params: 20,481\n",
      "Trainable params: 20,481\n",
      "Non-trainable params: 0\n",
      "_________________________________________________________________\n"
     ]
    }
   ],
   "source": [
    "model.summary()"
   ]
  },
  {
   "cell_type": "code",
   "execution_count": 41,
   "id": "b4f53c66",
   "metadata": {},
   "outputs": [
    {
     "name": "stdout",
     "output_type": "stream",
     "text": [
      "Epoch 1/300\n",
      "27/27 [==============================] - 1s 22ms/step - loss: 0.3776 - accuracy: 0.8459 - precision: 0.8275 - recall: 0.7128 - auc: 0.8892 - val_loss: 0.5311 - val_accuracy: 0.7190 - val_precision: 0.6667 - val_recall: 0.6279 - val_auc: 0.7934\n",
      "Epoch 2/300\n",
      "27/27 [==============================] - 0s 14ms/step - loss: 0.3802 - accuracy: 0.8530 - precision: 0.8314 - recall: 0.7331 - auc: 0.8813 - val_loss: 0.5848 - val_accuracy: 0.7714 - val_precision: 0.8958 - val_recall: 0.5000 - val_auc: 0.8038\n",
      "Epoch 3/300\n",
      "27/27 [==============================] - 0s 10ms/step - loss: 0.3744 - accuracy: 0.8447 - precision: 0.8458 - recall: 0.6858 - auc: 0.8940 - val_loss: 0.5428 - val_accuracy: 0.7905 - val_precision: 0.8000 - val_recall: 0.6512 - val_auc: 0.8236\n",
      "Epoch 4/300\n",
      "27/27 [==============================] - 1s 21ms/step - loss: 0.3741 - accuracy: 0.8483 - precision: 0.8477 - recall: 0.6959 - auc: 0.8916 - val_loss: 0.5618 - val_accuracy: 0.7810 - val_precision: 0.8333 - val_recall: 0.5814 - val_auc: 0.8158\n",
      "Epoch 5/300\n",
      "27/27 [==============================] - 0s 10ms/step - loss: 0.3776 - accuracy: 0.8447 - precision: 0.8320 - recall: 0.7027 - auc: 0.8854 - val_loss: 0.5900 - val_accuracy: 0.7762 - val_precision: 0.9535 - val_recall: 0.4767 - val_auc: 0.8041\n",
      "Epoch 6/300\n",
      "27/27 [==============================] - 0s 13ms/step - loss: 0.3754 - accuracy: 0.8447 - precision: 0.8374 - recall: 0.6959 - auc: 0.8927 - val_loss: 0.5265 - val_accuracy: 0.7524 - val_precision: 0.7125 - val_recall: 0.6628 - val_auc: 0.8125\n",
      "Epoch 7/300\n",
      "27/27 [==============================] - 0s 16ms/step - loss: 0.3735 - accuracy: 0.8507 - precision: 0.8226 - recall: 0.7365 - auc: 0.8896 - val_loss: 0.5237 - val_accuracy: 0.7429 - val_precision: 0.7162 - val_recall: 0.6163 - val_auc: 0.7996\n",
      "Epoch 8/300\n",
      "27/27 [==============================] - 0s 14ms/step - loss: 0.3725 - accuracy: 0.8530 - precision: 0.8240 - recall: 0.7432 - auc: 0.8895 - val_loss: 0.5153 - val_accuracy: 0.7524 - val_precision: 0.7073 - val_recall: 0.6744 - val_auc: 0.8120\n",
      "Epoch 9/300\n",
      "27/27 [==============================] - 0s 13ms/step - loss: 0.3683 - accuracy: 0.8519 - precision: 0.8308 - recall: 0.7297 - auc: 0.8957 - val_loss: 0.5368 - val_accuracy: 0.7095 - val_precision: 0.6471 - val_recall: 0.6395 - val_auc: 0.7929\n",
      "Epoch 10/300\n",
      "27/27 [==============================] - 0s 13ms/step - loss: 0.3657 - accuracy: 0.8554 - precision: 0.8253 - recall: 0.7500 - auc: 0.8946 - val_loss: 0.5637 - val_accuracy: 0.7714 - val_precision: 0.8065 - val_recall: 0.5814 - val_auc: 0.8042\n",
      "Epoch 11/300\n",
      "27/27 [==============================] - 0s 11ms/step - loss: 0.3705 - accuracy: 0.8411 - precision: 0.8171 - recall: 0.7095 - auc: 0.8942 - val_loss: 0.6218 - val_accuracy: 0.7714 - val_precision: 0.8800 - val_recall: 0.5116 - val_auc: 0.7914\n",
      "Epoch 12/300\n",
      "27/27 [==============================] - 0s 15ms/step - loss: 0.3672 - accuracy: 0.8507 - precision: 0.8519 - recall: 0.6993 - auc: 0.8937 - val_loss: 0.5525 - val_accuracy: 0.7571 - val_precision: 0.7966 - val_recall: 0.5465 - val_auc: 0.7856\n",
      "Epoch 13/300\n",
      "27/27 [==============================] - 0s 10ms/step - loss: 0.3685 - accuracy: 0.8483 - precision: 0.8394 - recall: 0.7061 - auc: 0.8934 - val_loss: 0.5797 - val_accuracy: 0.7810 - val_precision: 0.8846 - val_recall: 0.5349 - val_auc: 0.7878\n",
      "Epoch 14/300\n",
      "27/27 [==============================] - 0s 11ms/step - loss: 0.3689 - accuracy: 0.8530 - precision: 0.8419 - recall: 0.7196 - auc: 0.8915 - val_loss: 0.5780 - val_accuracy: 0.7714 - val_precision: 0.8519 - val_recall: 0.5349 - val_auc: 0.7972\n",
      "Epoch 15/300\n",
      "27/27 [==============================] - 0s 11ms/step - loss: 0.3749 - accuracy: 0.8423 - precision: 0.8306 - recall: 0.6959 - auc: 0.8905 - val_loss: 0.5440 - val_accuracy: 0.7619 - val_precision: 0.7647 - val_recall: 0.6047 - val_auc: 0.7821\n",
      "Epoch 16/300\n",
      "27/27 [==============================] - 0s 10ms/step - loss: 0.3685 - accuracy: 0.8542 - precision: 0.8398 - recall: 0.7264 - auc: 0.8884 - val_loss: 0.5688 - val_accuracy: 0.7571 - val_precision: 0.7536 - val_recall: 0.6047 - val_auc: 0.7882\n",
      "Epoch 17/300\n",
      "27/27 [==============================] - 0s 16ms/step - loss: 0.3636 - accuracy: 0.8542 - precision: 0.8372 - recall: 0.7297 - auc: 0.8975 - val_loss: 0.5659 - val_accuracy: 0.7619 - val_precision: 0.8214 - val_recall: 0.5349 - val_auc: 0.7889\n",
      "Epoch 18/300\n",
      "27/27 [==============================] - 1s 18ms/step - loss: 0.3609 - accuracy: 0.8578 - precision: 0.8340 - recall: 0.7466 - auc: 0.8969 - val_loss: 0.6286 - val_accuracy: 0.7714 - val_precision: 0.8519 - val_recall: 0.5349 - val_auc: 0.7833\n"
     ]
    }
   ],
   "source": [
    "history = model.fit(data['x_train_processed'], data['y_train'], validation_split=.2, epochs=300,\n",
    "                   callbacks=[\n",
    "                       EarlyStopping(patience=10, monitor='val_loss', mode='min'),\n",
    "                       TensorBoard(logdir('custom_model'))])"
   ]
  },
  {
   "cell_type": "code",
   "execution_count": 42,
   "id": "922aed91",
   "metadata": {},
   "outputs": [
    {
     "name": "stdout",
     "output_type": "stream",
     "text": [
      "The tensorboard extension is already loaded. To reload it, use:\n",
      "  %reload_ext tensorboard\n"
     ]
    },
    {
     "data": {
      "text/plain": [
       "Reusing TensorBoard on port 6006 (pid 4181), started 1:51:55 ago. (Use '!kill 4181' to kill it.)"
      ]
     },
     "metadata": {},
     "output_type": "display_data"
    },
    {
     "data": {
      "text/html": [
       "\n",
       "      <iframe id=\"tensorboard-frame-bf7c00bf0e88a100\" width=\"100%\" height=\"800\" frameborder=\"0\">\n",
       "      </iframe>\n",
       "      <script>\n",
       "        (function() {\n",
       "          const frame = document.getElementById(\"tensorboard-frame-bf7c00bf0e88a100\");\n",
       "          const url = new URL(\"/\", window.location);\n",
       "          const port = 6006;\n",
       "          if (port) {\n",
       "            url.port = port;\n",
       "          }\n",
       "          frame.src = url;\n",
       "        })();\n",
       "      </script>\n",
       "    "
      ],
      "text/plain": [
       "<IPython.core.display.HTML object>"
      ]
     },
     "metadata": {},
     "output_type": "display_data"
    }
   ],
   "source": [
    "%load_ext tensorboard\n",
    "%tensorboard --logdir ./custom_logs"
   ]
  },
  {
   "cell_type": "code",
   "execution_count": 25,
   "id": "73f4f903",
   "metadata": {},
   "outputs": [],
   "source": [
    "model = models.load_model('./models/titanic_gridsearch.h5')"
   ]
  },
  {
   "cell_type": "code",
   "execution_count": 19,
   "id": "ab88d15d",
   "metadata": {},
   "outputs": [],
   "source": [
    "model2 = models.load_model('./models/titanic_nn.h5')"
   ]
  },
  {
   "cell_type": "code",
   "execution_count": 28,
   "id": "3be953fc",
   "metadata": {},
   "outputs": [
    {
     "name": "stdout",
     "output_type": "stream",
     "text": [
      "9/9 [==============================] - 0s 18ms/step - loss: 0.5207 - accuracy: 0.7595 - precision_1: 0.8767 - recall_1: 0.5424 - auc_1: 0.8424\n"
     ]
    }
   ],
   "source": [
    "results = model.evaluate(data['x_test_processed'], data['y_test'])"
   ]
  },
  {
   "cell_type": "code",
   "execution_count": 29,
   "id": "c32ee7bd",
   "metadata": {},
   "outputs": [
    {
     "data": {
      "text/plain": [
       "[0.5206703543663025,\n",
       " 0.7595419883728027,\n",
       " 0.8767123222351074,\n",
       " 0.5423728823661804,\n",
       " 0.8423963785171509]"
      ]
     },
     "execution_count": 29,
     "metadata": {},
     "output_type": "execute_result"
    }
   ],
   "source": [
    "results"
   ]
  },
  {
   "cell_type": "code",
   "execution_count": 30,
   "id": "cec03c2e",
   "metadata": {},
   "outputs": [
    {
     "name": "stdout",
     "output_type": "stream",
     "text": [
      "9/9 [==============================] - 0s 15ms/step - loss: 0.5051 - accuracy: 0.7672\n"
     ]
    },
    {
     "data": {
      "text/plain": [
       "[0.5050886273384094, 0.767175555229187]"
      ]
     },
     "execution_count": 30,
     "metadata": {},
     "output_type": "execute_result"
    }
   ],
   "source": [
    "model2.evaluate(data['x_test_processed'], data['y_test'])"
   ]
  },
  {
   "cell_type": "markdown",
   "id": "d86f37ae",
   "metadata": {},
   "source": [
    "> todo next - function to build model, sklearn wrapper from keras, pipelines, random grid search for model!"
   ]
  }
 ],
 "metadata": {
  "kernelspec": {
   "display_name": "Python 3",
   "language": "python",
   "name": "python3"
  },
  "language_info": {
   "codemirror_mode": {
    "name": "ipython",
    "version": 3
   },
   "file_extension": ".py",
   "mimetype": "text/x-python",
   "name": "python",
   "nbconvert_exporter": "python",
   "pygments_lexer": "ipython3",
   "version": "3.9.7"
  }
 },
 "nbformat": 4,
 "nbformat_minor": 5
}
