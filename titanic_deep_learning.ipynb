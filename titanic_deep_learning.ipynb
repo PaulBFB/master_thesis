{
 "cells": [
  {
   "cell_type": "code",
   "execution_count": 1,
   "id": "af7a02c4",
   "metadata": {},
   "outputs": [],
   "source": [
    "import os\n",
    "import time\n",
    "import tensorflow as tf\n",
    "from tensorflow.keras import models, layers, Model, callbacks\n",
    "from tensorflow.keras.metrics import AUC, Precision, Recall\n",
    "from tensorflow.keras.callbacks import TensorBoard, EarlyStopping\n",
    "import numpy as np\n",
    "import pandas as pd\n",
    "from matplotlib import pyplot as plt\n",
    "from process_data import process_data\n",
    "from nn_gridsearch import logdir"
   ]
  },
  {
   "cell_type": "code",
   "execution_count": 2,
   "id": "353385df",
   "metadata": {},
   "outputs": [],
   "source": [
    "data = process_data()"
   ]
  },
  {
   "cell_type": "code",
   "execution_count": 3,
   "id": "ab363d6a",
   "metadata": {},
   "outputs": [
    {
     "name": "stdout",
     "output_type": "stream",
     "text": [
      "x_train\n",
      "<class 'numpy.ndarray'>\n",
      "x_train_processed\n",
      "<class 'numpy.ndarray'>\n",
      "x_test\n",
      "<class 'numpy.ndarray'>\n",
      "x_test_processed\n",
      "<class 'numpy.ndarray'>\n",
      "y_train\n",
      "<class 'numpy.ndarray'>\n",
      "y_test\n",
      "<class 'numpy.ndarray'>\n",
      "pipeline\n",
      "<class 'sklearn.pipeline.Pipeline'>\n"
     ]
    }
   ],
   "source": [
    "for k, v in data.items():\n",
    "    print(k)\n",
    "    print(type(v))"
   ]
  },
  {
   "cell_type": "code",
   "execution_count": 4,
   "id": "0e4cc8c4",
   "metadata": {},
   "outputs": [],
   "source": [
    "x_train_processed = data['x_train_processed']\n",
    "y_train = data['y_train']"
   ]
  },
  {
   "cell_type": "code",
   "execution_count": 5,
   "id": "2e4af5c0",
   "metadata": {},
   "outputs": [
    {
     "data": {
      "text/plain": [
       "(1047, 11)"
      ]
     },
     "execution_count": 5,
     "metadata": {},
     "output_type": "execute_result"
    }
   ],
   "source": [
    "x_train_processed.shape"
   ]
  },
  {
   "cell_type": "markdown",
   "id": "5a1129a9",
   "metadata": {},
   "source": [
    "> note: old model constrution, using Sequential API"
   ]
  },
  {
   "cell_type": "code",
   "execution_count": 6,
   "id": "04c28610",
   "metadata": {},
   "outputs": [],
   "source": [
    "#model = models.Sequential()\n",
    "#model.add(layers.Dense(32, activation='relu', input_shape=(x_train_processed.shape[1],)))\n",
    "#model.add(layers.Dense(32, activation='relu'))\n",
    "#model.add(layers.Dense(1, activation='sigmoid'))\n"
   ]
  },
  {
   "cell_type": "markdown",
   "id": "bba4f78e",
   "metadata": {},
   "source": [
    "> changed to functional API --> more flexibility, for future expansion"
   ]
  },
  {
   "cell_type": "code",
   "execution_count": 7,
   "id": "c6a34c6b",
   "metadata": {},
   "outputs": [],
   "source": [
    "input_ = layers.Input(shape=x_train_processed.shape[1:])\n",
    "hidden_0 = layers.Dense(80, activation='relu')(input_)\n",
    "hidden_1 = layers.Dense(80, activation='relu')(hidden_0)\n",
    "hidden_2 = layers.Dense(80, activation='relu')(hidden_1)\n",
    "hidden_3 = layers.Dense(80, activation='relu')(hidden_2)\n",
    "hidden_4 = layers.Dense(80, activation='relu')(hidden_3)\n",
    "hidden_5 = layers.Dense(80, activation='relu')(hidden_4)\n",
    "output = layers.Dense(1, activation='sigmoid')(hidden_5)\n",
    "model_custom = Model(inputs=[input_], outputs=[output])"
   ]
  },
  {
   "cell_type": "code",
   "execution_count": 8,
   "id": "9d9a6a18",
   "metadata": {},
   "outputs": [],
   "source": [
    "#model.compile(optimizer='rmsprop', loss='binary_crossentropy', metrics=['accuracy'])\n",
    "model_custom.compile(loss='binary_crossentropy', optimizer='adam', metrics=['accuracy', Precision(), Recall(), AUC()])"
   ]
  },
  {
   "cell_type": "code",
   "execution_count": 9,
   "id": "b0fd4f30",
   "metadata": {},
   "outputs": [
    {
     "name": "stdout",
     "output_type": "stream",
     "text": [
      "Model: \"model\"\n",
      "_________________________________________________________________\n",
      "Layer (type)                 Output Shape              Param #   \n",
      "=================================================================\n",
      "input_1 (InputLayer)         [(None, 11)]              0         \n",
      "_________________________________________________________________\n",
      "dense (Dense)                (None, 80)                960       \n",
      "_________________________________________________________________\n",
      "dense_1 (Dense)              (None, 80)                6480      \n",
      "_________________________________________________________________\n",
      "dense_2 (Dense)              (None, 80)                6480      \n",
      "_________________________________________________________________\n",
      "dense_3 (Dense)              (None, 80)                6480      \n",
      "_________________________________________________________________\n",
      "dense_4 (Dense)              (None, 80)                6480      \n",
      "_________________________________________________________________\n",
      "dense_5 (Dense)              (None, 80)                6480      \n",
      "_________________________________________________________________\n",
      "dense_6 (Dense)              (None, 1)                 81        \n",
      "=================================================================\n",
      "Total params: 33,441\n",
      "Trainable params: 33,441\n",
      "Non-trainable params: 0\n",
      "_________________________________________________________________\n"
     ]
    }
   ],
   "source": [
    "model_custom.summary()"
   ]
  },
  {
   "cell_type": "code",
   "execution_count": 10,
   "id": "87f28066",
   "metadata": {},
   "outputs": [
    {
     "name": "stdout",
     "output_type": "stream",
     "text": [
      "Epoch 1/300\n",
      "27/27 [==============================] - 2s 42ms/step - loss: 0.5990 - accuracy: 0.6595 - precision: 0.5753 - recall: 0.1419 - auc: 0.7003 - val_loss: 0.6181 - val_accuracy: 0.7190 - val_precision: 0.6753 - val_recall: 0.6047 - val_auc: 0.7659\n",
      "Epoch 2/300\n",
      "27/27 [==============================] - 1s 20ms/step - loss: 0.4746 - accuracy: 0.8017 - precision: 0.7241 - recall: 0.7095 - auc: 0.8275 - val_loss: 0.5483 - val_accuracy: 0.7429 - val_precision: 0.7162 - val_recall: 0.6163 - val_auc: 0.7987\n",
      "Epoch 3/300\n",
      "27/27 [==============================] - 1s 21ms/step - loss: 0.4286 - accuracy: 0.8136 - precision: 0.7917 - recall: 0.6419 - auc: 0.8568 - val_loss: 0.4865 - val_accuracy: 0.7429 - val_precision: 0.7000 - val_recall: 0.6512 - val_auc: 0.8161\n",
      "Epoch 4/300\n",
      "27/27 [==============================] - 1s 21ms/step - loss: 0.4189 - accuracy: 0.8256 - precision: 0.8261 - recall: 0.6419 - auc: 0.8601 - val_loss: 0.4951 - val_accuracy: 0.7333 - val_precision: 0.6786 - val_recall: 0.6628 - val_auc: 0.8153\n",
      "Epoch 5/300\n",
      "27/27 [==============================] - 0s 15ms/step - loss: 0.4148 - accuracy: 0.8256 - precision: 0.8178 - recall: 0.6520 - auc: 0.8625 - val_loss: 0.5040 - val_accuracy: 0.7429 - val_precision: 0.6818 - val_recall: 0.6977 - val_auc: 0.8175\n",
      "Epoch 6/300\n",
      "27/27 [==============================] - 0s 13ms/step - loss: 0.4321 - accuracy: 0.8208 - precision: 0.7704 - recall: 0.7027 - auc: 0.8507 - val_loss: 0.5003 - val_accuracy: 0.7810 - val_precision: 0.7941 - val_recall: 0.6279 - val_auc: 0.8141\n",
      "Epoch 7/300\n",
      "27/27 [==============================] - 0s 13ms/step - loss: 0.4050 - accuracy: 0.8268 - precision: 0.7938 - recall: 0.6892 - auc: 0.8664 - val_loss: 0.4960 - val_accuracy: 0.7810 - val_precision: 0.8448 - val_recall: 0.5698 - val_auc: 0.8165\n",
      "Epoch 8/300\n",
      "27/27 [==============================] - 0s 14ms/step - loss: 0.4007 - accuracy: 0.8387 - precision: 0.8157 - recall: 0.7027 - auc: 0.8638 - val_loss: 0.4894 - val_accuracy: 0.7857 - val_precision: 0.8727 - val_recall: 0.5581 - val_auc: 0.8129\n",
      "Epoch 9/300\n",
      "27/27 [==============================] - 0s 11ms/step - loss: 0.4018 - accuracy: 0.8399 - precision: 0.8140 - recall: 0.7095 - auc: 0.8669 - val_loss: 0.4831 - val_accuracy: 0.7905 - val_precision: 0.8621 - val_recall: 0.5814 - val_auc: 0.8179\n",
      "Epoch 10/300\n",
      "27/27 [==============================] - 0s 12ms/step - loss: 0.4026 - accuracy: 0.8256 - precision: 0.8233 - recall: 0.6453 - auc: 0.8693 - val_loss: 0.5240 - val_accuracy: 0.7762 - val_precision: 0.8679 - val_recall: 0.5349 - val_auc: 0.8133\n",
      "Epoch 11/300\n",
      "27/27 [==============================] - 0s 15ms/step - loss: 0.4062 - accuracy: 0.8327 - precision: 0.8047 - recall: 0.6959 - auc: 0.8664 - val_loss: 0.5170 - val_accuracy: 0.7857 - val_precision: 0.8868 - val_recall: 0.5465 - val_auc: 0.8074\n",
      "Epoch 12/300\n",
      "27/27 [==============================] - 1s 21ms/step - loss: 0.4053 - accuracy: 0.8423 - precision: 0.8060 - recall: 0.7297 - auc: 0.8660 - val_loss: 0.4833 - val_accuracy: 0.7952 - val_precision: 0.8772 - val_recall: 0.5814 - val_auc: 0.8245\n",
      "Epoch 13/300\n",
      "27/27 [==============================] - 0s 14ms/step - loss: 0.4001 - accuracy: 0.8387 - precision: 0.8397 - recall: 0.6723 - auc: 0.8670 - val_loss: 0.4943 - val_accuracy: 0.7762 - val_precision: 0.8545 - val_recall: 0.5465 - val_auc: 0.8138\n",
      "Epoch 14/300\n",
      "27/27 [==============================] - 0s 15ms/step - loss: 0.3971 - accuracy: 0.8363 - precision: 0.8299 - recall: 0.6757 - auc: 0.8723 - val_loss: 0.5059 - val_accuracy: 0.7667 - val_precision: 0.7403 - val_recall: 0.6628 - val_auc: 0.8218\n",
      "Epoch 15/300\n",
      "27/27 [==============================] - 1s 18ms/step - loss: 0.3899 - accuracy: 0.8423 - precision: 0.8060 - recall: 0.7297 - auc: 0.8754 - val_loss: 0.5183 - val_accuracy: 0.7619 - val_precision: 0.8000 - val_recall: 0.5581 - val_auc: 0.8106\n",
      "Epoch 16/300\n",
      "27/27 [==============================] - 1s 20ms/step - loss: 0.3883 - accuracy: 0.8363 - precision: 0.7891 - recall: 0.7331 - auc: 0.8790 - val_loss: 0.5245 - val_accuracy: 0.7714 - val_precision: 0.8654 - val_recall: 0.5233 - val_auc: 0.8025\n",
      "Epoch 17/300\n",
      "27/27 [==============================] - 0s 12ms/step - loss: 0.3874 - accuracy: 0.8447 - precision: 0.8487 - recall: 0.6824 - auc: 0.8805 - val_loss: 0.5123 - val_accuracy: 0.7762 - val_precision: 0.7671 - val_recall: 0.6512 - val_auc: 0.8165\n",
      "Epoch 18/300\n",
      "27/27 [==============================] - 0s 18ms/step - loss: 0.3871 - accuracy: 0.8411 - precision: 0.8123 - recall: 0.7162 - auc: 0.8758 - val_loss: 0.5087 - val_accuracy: 0.7810 - val_precision: 0.8226 - val_recall: 0.5930 - val_auc: 0.8171\n",
      "Epoch 19/300\n",
      "27/27 [==============================] - 1s 37ms/step - loss: 0.3846 - accuracy: 0.8375 - precision: 0.8306 - recall: 0.6791 - auc: 0.8835 - val_loss: 0.5113 - val_accuracy: 0.7524 - val_precision: 0.7179 - val_recall: 0.6512 - val_auc: 0.8081\n"
     ]
    }
   ],
   "source": [
    "history = model_custom.fit(\n",
    "    data['x_train_processed'], data['y_train'], validation_split=.2, epochs=300,\n",
    "    callbacks=[\n",
    "        EarlyStopping(patience=10, monitor='val_loss', mode='min'),\n",
    "        TensorBoard(logdir('custom_model'))])"
   ]
  },
  {
   "cell_type": "code",
   "execution_count": 11,
   "id": "62efe18e",
   "metadata": {},
   "outputs": [
    {
     "data": {
      "text/html": [
       "\n",
       "      <iframe id=\"tensorboard-frame-533ca6881302b838\" width=\"100%\" height=\"800\" frameborder=\"0\">\n",
       "      </iframe>\n",
       "      <script>\n",
       "        (function() {\n",
       "          const frame = document.getElementById(\"tensorboard-frame-533ca6881302b838\");\n",
       "          const url = new URL(\"/\", window.location);\n",
       "          const port = 6006;\n",
       "          if (port) {\n",
       "            url.port = port;\n",
       "          }\n",
       "          frame.src = url;\n",
       "        })();\n",
       "      </script>\n",
       "    "
      ],
      "text/plain": [
       "<IPython.core.display.HTML object>"
      ]
     },
     "metadata": {},
     "output_type": "display_data"
    }
   ],
   "source": [
    "%load_ext tensorboard\n",
    "%tensorboard --logdir ./custom_logs"
   ]
  },
  {
   "cell_type": "code",
   "execution_count": 12,
   "id": "0b8b9dbb",
   "metadata": {},
   "outputs": [],
   "source": [
    "model_gridsearch = models.load_model('./models/titanic_gridsearch_best.h5')"
   ]
  },
  {
   "cell_type": "code",
   "execution_count": 13,
   "id": "17ee4953",
   "metadata": {},
   "outputs": [
    {
     "name": "stdout",
     "output_type": "stream",
     "text": [
      "Model: \"sequential_1\"\n",
      "_________________________________________________________________\n",
      "Layer (type)                 Output Shape              Param #   \n",
      "=================================================================\n",
      "hidden_layer_0_relu_alpha_0. (None, 31)                372       \n",
      "_________________________________________________________________\n",
      "batch_normalization_8 (Batch (None, 31)                124       \n",
      "_________________________________________________________________\n",
      "activation_8 (Activation)    (None, 31)                0         \n",
      "_________________________________________________________________\n",
      "dropout_0_30 (Dropout)       (None, 31)                0         \n",
      "_________________________________________________________________\n",
      "hidden_layer_1_relu_alpha_0. (None, 31)                992       \n",
      "_________________________________________________________________\n",
      "batch_normalization_9 (Batch (None, 31)                124       \n",
      "_________________________________________________________________\n",
      "activation_9 (Activation)    (None, 31)                0         \n",
      "_________________________________________________________________\n",
      "dropout_1_30 (Dropout)       (None, 31)                0         \n",
      "_________________________________________________________________\n",
      "hidden_layer_2_relu_alpha_0. (None, 31)                992       \n",
      "_________________________________________________________________\n",
      "batch_normalization_10 (Batc (None, 31)                124       \n",
      "_________________________________________________________________\n",
      "activation_10 (Activation)   (None, 31)                0         \n",
      "_________________________________________________________________\n",
      "dropout_2_30 (Dropout)       (None, 31)                0         \n",
      "_________________________________________________________________\n",
      "hidden_layer_3_relu_alpha_0. (None, 31)                992       \n",
      "_________________________________________________________________\n",
      "batch_normalization_11 (Batc (None, 31)                124       \n",
      "_________________________________________________________________\n",
      "activation_11 (Activation)   (None, 31)                0         \n",
      "_________________________________________________________________\n",
      "dropout_3_30 (Dropout)       (None, 31)                0         \n",
      "_________________________________________________________________\n",
      "dense_1 (Dense)              (None, 1)                 32        \n",
      "=================================================================\n",
      "Total params: 3,876\n",
      "Trainable params: 3,628\n",
      "Non-trainable params: 248\n",
      "_________________________________________________________________\n"
     ]
    }
   ],
   "source": [
    "model_gridsearch.summary()"
   ]
  },
  {
   "cell_type": "code",
   "execution_count": 14,
   "id": "ac5ae687",
   "metadata": {},
   "outputs": [
    {
     "name": "stdout",
     "output_type": "stream",
     "text": [
      "9/9 [==============================] - 0s 17ms/step - loss: 0.4881 - accuracy: 0.7748 - precision: 0.8242 - recall: 0.6356 - auc: 0.8577\n"
     ]
    },
    {
     "data": {
      "text/plain": [
       "[0.4881334900856018,\n",
       " 0.7748091816902161,\n",
       " 0.8241758346557617,\n",
       " 0.6355932354927063,\n",
       " 0.8576683402061462]"
      ]
     },
     "execution_count": 14,
     "metadata": {},
     "output_type": "execute_result"
    }
   ],
   "source": [
    "model_custom.evaluate(data['x_test_processed'], data['y_test'])"
   ]
  },
  {
   "cell_type": "code",
   "execution_count": 19,
   "id": "eff18c49",
   "metadata": {},
   "outputs": [
    {
     "name": "stdout",
     "output_type": "stream",
     "text": [
      "9/9 [==============================] - 0s 19ms/step - loss: 0.5056 - accuracy: 0.7710 - precision_1: 0.8816 - recall_1: 0.5678 - auc_1: 0.8524\n"
     ]
    },
    {
     "data": {
      "text/plain": [
       "[0.5055856704711914,\n",
       " 0.7709923386573792,\n",
       " 0.8815789222717285,\n",
       " 0.5677965879440308,\n",
       " 0.8524011373519897]"
      ]
     },
     "execution_count": 19,
     "metadata": {},
     "output_type": "execute_result"
    }
   ],
   "source": [
    "model_gridsearch.evaluate(data['x_test_processed'], data['y_test'])"
   ]
  },
  {
   "cell_type": "code",
   "execution_count": 20,
   "id": "2f27a652",
   "metadata": {},
   "outputs": [
    {
     "name": "stdout",
     "output_type": "stream",
     "text": [
      "9/9 [==============================] - 1s 13ms/step - loss: 0.5070 - accuracy: 0.7786 - precision_1: 0.8846 - recall_1: 0.5847 - auc_1: 0.8276\n"
     ]
    },
    {
     "data": {
      "text/plain": [
       "[0.5069646239280701,\n",
       " 0.7786259651184082,\n",
       " 0.8846153616905212,\n",
       " 0.5847457647323608,\n",
       " 0.8275953531265259]"
      ]
     },
     "execution_count": 20,
     "metadata": {},
     "output_type": "execute_result"
    }
   ],
   "source": [
    "model_synthetic = models.load_model('./models/titanic_gridsearch_synthetic_2021_10_15_23_42.h5')\n",
    "model_synthetic.evaluate(data['x_test_processed'], data['y_test'])"
   ]
  },
  {
   "cell_type": "code",
   "execution_count": 25,
   "id": "2c87b431",
   "metadata": {},
   "outputs": [
    {
     "name": "stdout",
     "output_type": "stream",
     "text": [
      "9/9 [==============================] - 1s 9ms/step - loss: 0.5190 - accuracy: 0.7672 - precision_1: 0.8701 - recall_1: 0.5678 - auc_1: 0.8065\n"
     ]
    },
    {
     "data": {
      "text/plain": [
       "[0.5189646482467651,\n",
       " 0.767175555229187,\n",
       " 0.8701298832893372,\n",
       " 0.5677965879440308,\n",
       " 0.8064677715301514]"
      ]
     },
     "execution_count": 25,
     "metadata": {},
     "output_type": "execute_result"
    }
   ],
   "source": [
    "model_synthetic_bigger = models.load_model('./models/titanic_gridsearch_synthetic_2021_10_16_05_59.h5')\n",
    "model_synthetic_bigger.evaluate(data['x_test_processed'], data['y_test'])"
   ]
  },
  {
   "cell_type": "markdown",
   "id": "5f181084",
   "metadata": {},
   "source": [
    "> todo next - function to build model, sklearn wrapper from keras, pipelines, random grid search for model!"
   ]
  },
  {
   "cell_type": "code",
   "execution_count": 24,
   "id": "46ee5fc6",
   "metadata": {},
   "outputs": [
    {
     "name": "stdout",
     "output_type": "stream",
     "text": [
      "Model: \"sequential_1\"\n",
      "_________________________________________________________________\n",
      "Layer (type)                 Output Shape              Param #   \n",
      "=================================================================\n",
      "hidden_layer_0_relu_alpha_0. (None, 79)                948       \n",
      "_________________________________________________________________\n",
      "activation_8 (Activation)    (None, 79)                0         \n",
      "_________________________________________________________________\n",
      "dropout_0_50 (Dropout)       (None, 79)                0         \n",
      "_________________________________________________________________\n",
      "hidden_layer_1_relu_alpha_0. (None, 79)                6320      \n",
      "_________________________________________________________________\n",
      "activation_9 (Activation)    (None, 79)                0         \n",
      "_________________________________________________________________\n",
      "dropout_1_50 (Dropout)       (None, 79)                0         \n",
      "_________________________________________________________________\n",
      "dense_1 (Dense)              (None, 1)                 80        \n",
      "=================================================================\n",
      "Total params: 7,348\n",
      "Trainable params: 7,348\n",
      "Non-trainable params: 0\n",
      "_________________________________________________________________\n"
     ]
    }
   ],
   "source": [
    "model_synthetic.summary()"
   ]
  },
  {
   "cell_type": "code",
   "execution_count": 26,
   "id": "b71a14d8",
   "metadata": {},
   "outputs": [
    {
     "name": "stdout",
     "output_type": "stream",
     "text": [
      "9/9 [==============================] - 1s 14ms/step - loss: 0.5203 - accuracy: 0.7672 - precision_1: 0.8065 - recall_1: 0.6356 - auc_1: 0.8000\n"
     ]
    },
    {
     "data": {
      "text/plain": [
       "[0.5202765464782715,\n",
       " 0.767175555229187,\n",
       " 0.8064516186714172,\n",
       " 0.6355932354927063,\n",
       " 0.8000234961509705]"
      ]
     },
     "execution_count": 26,
     "metadata": {},
     "output_type": "execute_result"
    }
   ],
   "source": [
    "model_synthetic_shrink = models.load_model('./models/titanic_gridsearch_synthetic_2021_10_16_11_17.h5')\n",
    "model_synthetic_shrink.evaluate(data['x_test_processed'], data['y_test'])"
   ]
  },
  {
   "cell_type": "code",
   "execution_count": 29,
   "id": "70a1eb8b",
   "metadata": {},
   "outputs": [
    {
     "name": "stdout",
     "output_type": "stream",
     "text": [
      "9/9 [==============================] - 0s 9ms/step - loss: 0.5312 - accuracy: 0.7519 - precision_1: 0.8193 - recall_1: 0.5763 - auc_1: 0.7880\n"
     ]
    },
    {
     "data": {
      "text/plain": [
       "[0.5311660766601562,\n",
       " 0.7519084215164185,\n",
       " 0.8192771077156067,\n",
       " 0.5762711763381958,\n",
       " 0.7879884243011475]"
      ]
     },
     "execution_count": 29,
     "metadata": {},
     "output_type": "execute_result"
    }
   ],
   "source": [
    "model_pure_shrink = models.load_model('models/titanic_gridsearch_2021_10_16_12_26.h5')\n",
    "model_pure_shrink.evaluate(data['x_test_processed'], data['y_test'])"
   ]
  },
  {
   "cell_type": "markdown",
   "id": "ffddad2f",
   "metadata": {},
   "source": [
    "## experiments - progressively shrink data, compare model performance!"
   ]
  },
  {
   "cell_type": "code",
   "execution_count": 34,
   "id": "56ae611b",
   "metadata": {},
   "outputs": [
    {
     "name": "stdout",
     "output_type": "stream",
     "text": [
      "\n",
      "================\n",
      "creating data: 0.1 of data boosted: True\n",
      "Epoch 001 | ET 0.00 min | Avg Losses >> G/D 0.8120/1.2118 [D-Real: 0.5588 D-Fake: 0.6530]\n",
      "Epoch 002 | ET 0.00 min | Avg Losses >> G/D 0.7807/1.1313 [D-Real: 0.4383 D-Fake: 0.6930]\n",
      "Epoch 003 | ET 0.01 min | Avg Losses >> G/D 0.8461/1.0301 [D-Real: 0.3768 D-Fake: 0.6533]\n",
      "Epoch 004 | ET 0.01 min | Avg Losses >> G/D 0.8882/1.0262 [D-Real: 0.3534 D-Fake: 0.6728]\n",
      "Epoch 005 | ET 0.01 min | Avg Losses >> G/D 0.8737/1.0192 [D-Real: 0.3843 D-Fake: 0.6349]\n",
      "Epoch 006 | ET 0.01 min | Avg Losses >> G/D 0.8589/0.9506 [D-Real: 0.3046 D-Fake: 0.6460]\n",
      "Epoch 007 | ET 0.01 min | Avg Losses >> G/D 0.8967/0.9089 [D-Real: 0.3071 D-Fake: 0.6018]\n",
      "Epoch 008 | ET 0.02 min | Avg Losses >> G/D 0.8223/0.9150 [D-Real: 0.2759 D-Fake: 0.6391]\n",
      "Epoch 009 | ET 0.02 min | Avg Losses >> G/D 0.8595/0.9463 [D-Real: 0.2810 D-Fake: 0.6653]\n",
      "Epoch 010 | ET 0.02 min | Avg Losses >> G/D 0.8976/0.8939 [D-Real: 0.2674 D-Fake: 0.6265]\n",
      "Epoch 011 | ET 0.02 min | Avg Losses >> G/D 0.9680/0.8316 [D-Real: 0.2572 D-Fake: 0.5743]\n",
      "Epoch 012 | ET 0.02 min | Avg Losses >> G/D 0.9340/0.8663 [D-Real: 0.2592 D-Fake: 0.6071]\n",
      "Epoch 013 | ET 0.02 min | Avg Losses >> G/D 0.8371/0.8300 [D-Real: 0.2317 D-Fake: 0.5983]\n",
      "Epoch 014 | ET 0.03 min | Avg Losses >> G/D 1.0205/0.8413 [D-Real: 0.2301 D-Fake: 0.6111]\n",
      "Epoch 015 | ET 0.03 min | Avg Losses >> G/D 0.9534/0.8319 [D-Real: 0.2151 D-Fake: 0.6168]\n",
      "Epoch 016 | ET 0.03 min | Avg Losses >> G/D 0.9660/0.7950 [D-Real: 0.2339 D-Fake: 0.5611]\n",
      "Epoch 017 | ET 0.03 min | Avg Losses >> G/D 0.8831/0.8959 [D-Real: 0.2229 D-Fake: 0.6730]\n",
      "Epoch 018 | ET 0.03 min | Avg Losses >> G/D 0.9626/0.7991 [D-Real: 0.1993 D-Fake: 0.5998]\n",
      "Epoch 019 | ET 0.04 min | Avg Losses >> G/D 0.9527/0.7406 [D-Real: 0.1767 D-Fake: 0.5638]\n",
      "Epoch 020 | ET 0.04 min | Avg Losses >> G/D 0.8566/0.8286 [D-Real: 0.2313 D-Fake: 0.5973]\n",
      "Epoch 021 | ET 0.04 min | Avg Losses >> G/D 0.9829/0.8717 [D-Real: 0.2397 D-Fake: 0.6320]\n",
      "Epoch 022 | ET 0.04 min | Avg Losses >> G/D 0.9330/0.8101 [D-Real: 0.2059 D-Fake: 0.6041]\n",
      "Epoch 023 | ET 0.04 min | Avg Losses >> G/D 0.8935/0.8303 [D-Real: 0.2080 D-Fake: 0.6222]\n",
      "Epoch 024 | ET 0.04 min | Avg Losses >> G/D 0.8703/0.8342 [D-Real: 0.2223 D-Fake: 0.6118]\n",
      "Epoch 025 | ET 0.05 min | Avg Losses >> G/D 0.9527/0.7918 [D-Real: 0.2148 D-Fake: 0.5770]\n",
      "Epoch 026 | ET 0.05 min | Avg Losses >> G/D 1.0663/0.7680 [D-Real: 0.2272 D-Fake: 0.5407]\n",
      "Epoch 027 | ET 0.05 min | Avg Losses >> G/D 0.9725/0.8361 [D-Real: 0.2288 D-Fake: 0.6073]\n",
      "Epoch 028 | ET 0.05 min | Avg Losses >> G/D 0.9374/0.8591 [D-Real: 0.2081 D-Fake: 0.6509]\n",
      "Epoch 029 | ET 0.05 min | Avg Losses >> G/D 0.9338/0.8749 [D-Real: 0.2521 D-Fake: 0.6228]\n",
      "Epoch 030 | ET 0.05 min | Avg Losses >> G/D 1.0101/0.7873 [D-Real: 0.2397 D-Fake: 0.5476]\n",
      "Epoch 031 | ET 0.06 min | Avg Losses >> G/D 0.9347/0.8634 [D-Real: 0.2311 D-Fake: 0.6323]\n",
      "Epoch 032 | ET 0.06 min | Avg Losses >> G/D 1.0168/0.8203 [D-Real: 0.2484 D-Fake: 0.5719]\n",
      "Epoch 033 | ET 0.06 min | Avg Losses >> G/D 1.0031/0.7952 [D-Real: 0.2160 D-Fake: 0.5792]\n",
      "Epoch 034 | ET 0.06 min | Avg Losses >> G/D 0.9825/0.7780 [D-Real: 0.2293 D-Fake: 0.5487]\n",
      "Epoch 035 | ET 0.06 min | Avg Losses >> G/D 0.9817/0.8414 [D-Real: 0.2633 D-Fake: 0.5780]\n",
      "Epoch 036 | ET 0.07 min | Avg Losses >> G/D 0.9530/0.8825 [D-Real: 0.2590 D-Fake: 0.6235]\n",
      "Epoch 037 | ET 0.07 min | Avg Losses >> G/D 1.0560/0.8287 [D-Real: 0.2465 D-Fake: 0.5822]\n",
      "Epoch 038 | ET 0.07 min | Avg Losses >> G/D 0.9721/0.8780 [D-Real: 0.2636 D-Fake: 0.6145]\n",
      "Epoch 039 | ET 0.08 min | Avg Losses >> G/D 0.9519/0.8939 [D-Real: 0.3175 D-Fake: 0.5764]\n",
      "Epoch 040 | ET 0.08 min | Avg Losses >> G/D 0.9771/0.8152 [D-Real: 0.2723 D-Fake: 0.5429]\n",
      "created training data: 312 samples total\n",
      "Fitting 3 folds for each of 33 candidates, totalling 99 fits\n"
     ]
    },
    {
     "ename": "KeyboardInterrupt",
     "evalue": "",
     "output_type": "error",
     "traceback": [
      "\u001b[0;31m---------------------------------------------------------------------------\u001b[0m",
      "\u001b[0;31mKeyboardInterrupt\u001b[0m                         Traceback (most recent call last)",
      "\u001b[0;32m<ipython-input-34-61eaf02773a7>\u001b[0m in \u001b[0;36m<module>\u001b[0;34m\u001b[0m\n\u001b[1;32m     40\u001b[0m \u001b[0;34m\u001b[0m\u001b[0m\n\u001b[1;32m     41\u001b[0m         \u001b[0mprint\u001b[0m\u001b[0;34m(\u001b[0m\u001b[0;34mf'created training data: {data[\"x_train_processed\"].shape[0]} samples total'\u001b[0m\u001b[0;34m)\u001b[0m\u001b[0;34m\u001b[0m\u001b[0;34m\u001b[0m\u001b[0m\n\u001b[0;32m---> 42\u001b[0;31m         grid = nn_gridsearch(\n\u001b[0m\u001b[1;32m     43\u001b[0m             \u001b[0mmake_model\u001b[0m\u001b[0;34m,\u001b[0m\u001b[0;34m\u001b[0m\u001b[0;34m\u001b[0m\u001b[0m\n\u001b[1;32m     44\u001b[0m             \u001b[0mdata\u001b[0m\u001b[0;34m[\u001b[0m\u001b[0;34m'x_train_processed'\u001b[0m\u001b[0;34m]\u001b[0m\u001b[0;34m,\u001b[0m \u001b[0mdata\u001b[0m\u001b[0;34m[\u001b[0m\u001b[0;34m'y_train'\u001b[0m\u001b[0;34m]\u001b[0m\u001b[0;34m,\u001b[0m\u001b[0;34m\u001b[0m\u001b[0;34m\u001b[0m\u001b[0m\n",
      "\u001b[0;32m~/master_thesis/thesis_latex/nn_gridsearch.py\u001b[0m in \u001b[0;36mnn_gridsearch\u001b[0;34m(make_model_function, x_train, y_train, params, epochs, validation_split, patience, batch_size, n_iterations, verbose)\u001b[0m\n\u001b[1;32m     88\u001b[0m         n_jobs=-1)\n\u001b[1;32m     89\u001b[0m \u001b[0;34m\u001b[0m\u001b[0m\n\u001b[0;32m---> 90\u001b[0;31m     rnd_search_cv.fit(\n\u001b[0m\u001b[1;32m     91\u001b[0m         \u001b[0mx_train\u001b[0m\u001b[0;34m,\u001b[0m \u001b[0my_train\u001b[0m\u001b[0;34m,\u001b[0m\u001b[0;34m\u001b[0m\u001b[0;34m\u001b[0m\u001b[0m\n\u001b[1;32m     92\u001b[0m         \u001b[0mepochs\u001b[0m\u001b[0;34m=\u001b[0m\u001b[0mepochs\u001b[0m\u001b[0;34m,\u001b[0m\u001b[0;34m\u001b[0m\u001b[0;34m\u001b[0m\u001b[0m\n",
      "\u001b[0;32m~/.local/lib/python3.9/site-packages/sklearn/model_selection/_search.py\u001b[0m in \u001b[0;36mfit\u001b[0;34m(self, X, y, groups, **fit_params)\u001b[0m\n\u001b[1;32m    889\u001b[0m                 \u001b[0;32mreturn\u001b[0m \u001b[0mresults\u001b[0m\u001b[0;34m\u001b[0m\u001b[0;34m\u001b[0m\u001b[0m\n\u001b[1;32m    890\u001b[0m \u001b[0;34m\u001b[0m\u001b[0m\n\u001b[0;32m--> 891\u001b[0;31m             \u001b[0mself\u001b[0m\u001b[0;34m.\u001b[0m\u001b[0m_run_search\u001b[0m\u001b[0;34m(\u001b[0m\u001b[0mevaluate_candidates\u001b[0m\u001b[0;34m)\u001b[0m\u001b[0;34m\u001b[0m\u001b[0;34m\u001b[0m\u001b[0m\n\u001b[0m\u001b[1;32m    892\u001b[0m \u001b[0;34m\u001b[0m\u001b[0m\n\u001b[1;32m    893\u001b[0m             \u001b[0;31m# multimetric is determined here because in the case of a callable\u001b[0m\u001b[0;34m\u001b[0m\u001b[0;34m\u001b[0m\u001b[0m\n",
      "\u001b[0;32m~/.local/lib/python3.9/site-packages/sklearn/model_selection/_search.py\u001b[0m in \u001b[0;36m_run_search\u001b[0;34m(self, evaluate_candidates)\u001b[0m\n\u001b[1;32m   1764\u001b[0m     \u001b[0;32mdef\u001b[0m \u001b[0m_run_search\u001b[0m\u001b[0;34m(\u001b[0m\u001b[0mself\u001b[0m\u001b[0;34m,\u001b[0m \u001b[0mevaluate_candidates\u001b[0m\u001b[0;34m)\u001b[0m\u001b[0;34m:\u001b[0m\u001b[0;34m\u001b[0m\u001b[0;34m\u001b[0m\u001b[0m\n\u001b[1;32m   1765\u001b[0m         \u001b[0;34m\"\"\"Search n_iter candidates from param_distributions\"\"\"\u001b[0m\u001b[0;34m\u001b[0m\u001b[0;34m\u001b[0m\u001b[0m\n\u001b[0;32m-> 1766\u001b[0;31m         evaluate_candidates(\n\u001b[0m\u001b[1;32m   1767\u001b[0m             ParameterSampler(\n\u001b[1;32m   1768\u001b[0m                 \u001b[0mself\u001b[0m\u001b[0;34m.\u001b[0m\u001b[0mparam_distributions\u001b[0m\u001b[0;34m,\u001b[0m \u001b[0mself\u001b[0m\u001b[0;34m.\u001b[0m\u001b[0mn_iter\u001b[0m\u001b[0;34m,\u001b[0m \u001b[0mrandom_state\u001b[0m\u001b[0;34m=\u001b[0m\u001b[0mself\u001b[0m\u001b[0;34m.\u001b[0m\u001b[0mrandom_state\u001b[0m\u001b[0;34m\u001b[0m\u001b[0;34m\u001b[0m\u001b[0m\n",
      "\u001b[0;32m~/.local/lib/python3.9/site-packages/sklearn/model_selection/_search.py\u001b[0m in \u001b[0;36mevaluate_candidates\u001b[0;34m(candidate_params, cv, more_results)\u001b[0m\n\u001b[1;32m    836\u001b[0m                     )\n\u001b[1;32m    837\u001b[0m \u001b[0;34m\u001b[0m\u001b[0m\n\u001b[0;32m--> 838\u001b[0;31m                 out = parallel(\n\u001b[0m\u001b[1;32m    839\u001b[0m                     delayed(_fit_and_score)(\n\u001b[1;32m    840\u001b[0m                         \u001b[0mclone\u001b[0m\u001b[0;34m(\u001b[0m\u001b[0mbase_estimator\u001b[0m\u001b[0;34m)\u001b[0m\u001b[0;34m,\u001b[0m\u001b[0;34m\u001b[0m\u001b[0;34m\u001b[0m\u001b[0m\n",
      "\u001b[0;32m~/.local/lib/python3.9/site-packages/joblib/parallel.py\u001b[0m in \u001b[0;36m__call__\u001b[0;34m(self, iterable)\u001b[0m\n\u001b[1;32m   1052\u001b[0m \u001b[0;34m\u001b[0m\u001b[0m\n\u001b[1;32m   1053\u001b[0m             \u001b[0;32mwith\u001b[0m \u001b[0mself\u001b[0m\u001b[0;34m.\u001b[0m\u001b[0m_backend\u001b[0m\u001b[0;34m.\u001b[0m\u001b[0mretrieval_context\u001b[0m\u001b[0;34m(\u001b[0m\u001b[0;34m)\u001b[0m\u001b[0;34m:\u001b[0m\u001b[0;34m\u001b[0m\u001b[0;34m\u001b[0m\u001b[0m\n\u001b[0;32m-> 1054\u001b[0;31m                 \u001b[0mself\u001b[0m\u001b[0;34m.\u001b[0m\u001b[0mretrieve\u001b[0m\u001b[0;34m(\u001b[0m\u001b[0;34m)\u001b[0m\u001b[0;34m\u001b[0m\u001b[0;34m\u001b[0m\u001b[0m\n\u001b[0m\u001b[1;32m   1055\u001b[0m             \u001b[0;31m# Make sure that we get a last message telling us we are done\u001b[0m\u001b[0;34m\u001b[0m\u001b[0;34m\u001b[0m\u001b[0m\n\u001b[1;32m   1056\u001b[0m             \u001b[0melapsed_time\u001b[0m \u001b[0;34m=\u001b[0m \u001b[0mtime\u001b[0m\u001b[0;34m.\u001b[0m\u001b[0mtime\u001b[0m\u001b[0;34m(\u001b[0m\u001b[0;34m)\u001b[0m \u001b[0;34m-\u001b[0m \u001b[0mself\u001b[0m\u001b[0;34m.\u001b[0m\u001b[0m_start_time\u001b[0m\u001b[0;34m\u001b[0m\u001b[0;34m\u001b[0m\u001b[0m\n",
      "\u001b[0;32m~/.local/lib/python3.9/site-packages/joblib/parallel.py\u001b[0m in \u001b[0;36mretrieve\u001b[0;34m(self)\u001b[0m\n\u001b[1;32m    931\u001b[0m             \u001b[0;32mtry\u001b[0m\u001b[0;34m:\u001b[0m\u001b[0;34m\u001b[0m\u001b[0;34m\u001b[0m\u001b[0m\n\u001b[1;32m    932\u001b[0m                 \u001b[0;32mif\u001b[0m \u001b[0mgetattr\u001b[0m\u001b[0;34m(\u001b[0m\u001b[0mself\u001b[0m\u001b[0;34m.\u001b[0m\u001b[0m_backend\u001b[0m\u001b[0;34m,\u001b[0m \u001b[0;34m'supports_timeout'\u001b[0m\u001b[0;34m,\u001b[0m \u001b[0;32mFalse\u001b[0m\u001b[0;34m)\u001b[0m\u001b[0;34m:\u001b[0m\u001b[0;34m\u001b[0m\u001b[0;34m\u001b[0m\u001b[0m\n\u001b[0;32m--> 933\u001b[0;31m                     \u001b[0mself\u001b[0m\u001b[0;34m.\u001b[0m\u001b[0m_output\u001b[0m\u001b[0;34m.\u001b[0m\u001b[0mextend\u001b[0m\u001b[0;34m(\u001b[0m\u001b[0mjob\u001b[0m\u001b[0;34m.\u001b[0m\u001b[0mget\u001b[0m\u001b[0;34m(\u001b[0m\u001b[0mtimeout\u001b[0m\u001b[0;34m=\u001b[0m\u001b[0mself\u001b[0m\u001b[0;34m.\u001b[0m\u001b[0mtimeout\u001b[0m\u001b[0;34m)\u001b[0m\u001b[0;34m)\u001b[0m\u001b[0;34m\u001b[0m\u001b[0;34m\u001b[0m\u001b[0m\n\u001b[0m\u001b[1;32m    934\u001b[0m                 \u001b[0;32melse\u001b[0m\u001b[0;34m:\u001b[0m\u001b[0;34m\u001b[0m\u001b[0;34m\u001b[0m\u001b[0m\n\u001b[1;32m    935\u001b[0m                     \u001b[0mself\u001b[0m\u001b[0;34m.\u001b[0m\u001b[0m_output\u001b[0m\u001b[0;34m.\u001b[0m\u001b[0mextend\u001b[0m\u001b[0;34m(\u001b[0m\u001b[0mjob\u001b[0m\u001b[0;34m.\u001b[0m\u001b[0mget\u001b[0m\u001b[0;34m(\u001b[0m\u001b[0;34m)\u001b[0m\u001b[0;34m)\u001b[0m\u001b[0;34m\u001b[0m\u001b[0;34m\u001b[0m\u001b[0m\n",
      "\u001b[0;32m~/.local/lib/python3.9/site-packages/joblib/_parallel_backends.py\u001b[0m in \u001b[0;36mwrap_future_result\u001b[0;34m(future, timeout)\u001b[0m\n\u001b[1;32m    540\u001b[0m         AsyncResults.get from multiprocessing.\"\"\"\n\u001b[1;32m    541\u001b[0m         \u001b[0;32mtry\u001b[0m\u001b[0;34m:\u001b[0m\u001b[0;34m\u001b[0m\u001b[0;34m\u001b[0m\u001b[0m\n\u001b[0;32m--> 542\u001b[0;31m             \u001b[0;32mreturn\u001b[0m \u001b[0mfuture\u001b[0m\u001b[0;34m.\u001b[0m\u001b[0mresult\u001b[0m\u001b[0;34m(\u001b[0m\u001b[0mtimeout\u001b[0m\u001b[0;34m=\u001b[0m\u001b[0mtimeout\u001b[0m\u001b[0;34m)\u001b[0m\u001b[0;34m\u001b[0m\u001b[0;34m\u001b[0m\u001b[0m\n\u001b[0m\u001b[1;32m    543\u001b[0m         \u001b[0;32mexcept\u001b[0m \u001b[0mCfTimeoutError\u001b[0m \u001b[0;32mas\u001b[0m \u001b[0me\u001b[0m\u001b[0;34m:\u001b[0m\u001b[0;34m\u001b[0m\u001b[0;34m\u001b[0m\u001b[0m\n\u001b[1;32m    544\u001b[0m             \u001b[0;32mraise\u001b[0m \u001b[0mTimeoutError\u001b[0m \u001b[0;32mfrom\u001b[0m \u001b[0me\u001b[0m\u001b[0;34m\u001b[0m\u001b[0;34m\u001b[0m\u001b[0m\n",
      "\u001b[0;32m/usr/lib/python3.9/concurrent/futures/_base.py\u001b[0m in \u001b[0;36mresult\u001b[0;34m(self, timeout)\u001b[0m\n\u001b[1;32m    438\u001b[0m                     \u001b[0;32mreturn\u001b[0m \u001b[0mself\u001b[0m\u001b[0;34m.\u001b[0m\u001b[0m__get_result\u001b[0m\u001b[0;34m(\u001b[0m\u001b[0;34m)\u001b[0m\u001b[0;34m\u001b[0m\u001b[0;34m\u001b[0m\u001b[0m\n\u001b[1;32m    439\u001b[0m \u001b[0;34m\u001b[0m\u001b[0m\n\u001b[0;32m--> 440\u001b[0;31m                 \u001b[0mself\u001b[0m\u001b[0;34m.\u001b[0m\u001b[0m_condition\u001b[0m\u001b[0;34m.\u001b[0m\u001b[0mwait\u001b[0m\u001b[0;34m(\u001b[0m\u001b[0mtimeout\u001b[0m\u001b[0;34m)\u001b[0m\u001b[0;34m\u001b[0m\u001b[0;34m\u001b[0m\u001b[0m\n\u001b[0m\u001b[1;32m    441\u001b[0m \u001b[0;34m\u001b[0m\u001b[0m\n\u001b[1;32m    442\u001b[0m                 \u001b[0;32mif\u001b[0m \u001b[0mself\u001b[0m\u001b[0;34m.\u001b[0m\u001b[0m_state\u001b[0m \u001b[0;32min\u001b[0m \u001b[0;34m[\u001b[0m\u001b[0mCANCELLED\u001b[0m\u001b[0;34m,\u001b[0m \u001b[0mCANCELLED_AND_NOTIFIED\u001b[0m\u001b[0;34m]\u001b[0m\u001b[0;34m:\u001b[0m\u001b[0;34m\u001b[0m\u001b[0;34m\u001b[0m\u001b[0m\n",
      "\u001b[0;32m/usr/lib/python3.9/threading.py\u001b[0m in \u001b[0;36mwait\u001b[0;34m(self, timeout)\u001b[0m\n\u001b[1;32m    310\u001b[0m         \u001b[0;32mtry\u001b[0m\u001b[0;34m:\u001b[0m    \u001b[0;31m# restore state no matter what (e.g., KeyboardInterrupt)\u001b[0m\u001b[0;34m\u001b[0m\u001b[0;34m\u001b[0m\u001b[0m\n\u001b[1;32m    311\u001b[0m             \u001b[0;32mif\u001b[0m \u001b[0mtimeout\u001b[0m \u001b[0;32mis\u001b[0m \u001b[0;32mNone\u001b[0m\u001b[0;34m:\u001b[0m\u001b[0;34m\u001b[0m\u001b[0;34m\u001b[0m\u001b[0m\n\u001b[0;32m--> 312\u001b[0;31m                 \u001b[0mwaiter\u001b[0m\u001b[0;34m.\u001b[0m\u001b[0macquire\u001b[0m\u001b[0;34m(\u001b[0m\u001b[0;34m)\u001b[0m\u001b[0;34m\u001b[0m\u001b[0;34m\u001b[0m\u001b[0m\n\u001b[0m\u001b[1;32m    313\u001b[0m                 \u001b[0mgotit\u001b[0m \u001b[0;34m=\u001b[0m \u001b[0;32mTrue\u001b[0m\u001b[0;34m\u001b[0m\u001b[0;34m\u001b[0m\u001b[0m\n\u001b[1;32m    314\u001b[0m             \u001b[0;32melse\u001b[0m\u001b[0;34m:\u001b[0m\u001b[0;34m\u001b[0m\u001b[0;34m\u001b[0m\u001b[0m\n",
      "\u001b[0;31mKeyboardInterrupt\u001b[0m: "
     ]
    }
   ],
   "source": [
    "from process_data import process_data\n",
    "from enhance_data import enhance_data\n",
    "from nn_gridsearch import nn_gridsearch, make_model\n",
    "from scipy.stats import reciprocal\n",
    "from pprint import pprint\n",
    "\n",
    "\n",
    "#include_synthetic = False\n",
    "#synthetic_share = 3.0\n",
    "#real_share = 0.2\n",
    "    \n",
    "#data = enhance_data(\n",
    "#    include_synthetic=include_synthetic,\n",
    "#    synthetic_share=synthetic_share,\n",
    "#    real_share=real_share)\n",
    "    \n",
    "testing = process_data()\n",
    "x_test = testing['x_test_processed']\n",
    "y_test = testing['y_test']\n",
    "    \n",
    "grid_parameters = {\n",
    "    'number_hidden_layers': list(range(1, 8)),\n",
    "    'neurons': np.arange(1, 100).tolist(),\n",
    "    'learning_rate': reciprocal(3e-4, 3e-2).rvs(1000).tolist(),\n",
    "    'dropout_rate': np.arange(.2, .6, .1).tolist(),\n",
    "    'alpha': np.arange(.2, .35, .05).tolist(),\n",
    "    'activation': ['elu', 'selu', 'relu']}\n",
    "\n",
    "models_tested = []\n",
    "\n",
    "# progressive rate of the full training set\n",
    "for data_rate in np.linspace(.1, .5, 5):\n",
    "    \n",
    "    # test each rate with boosted and non-boosted data\n",
    "    for boost in (True, False):\n",
    "        print()\n",
    "        print('================')\n",
    "        print(f'creating data: {data_rate} of data boosted: {boost}')\n",
    "        print(f'real')\n",
    "\n",
    "        data = enhance_data(real_share=data_rate, synthetic_share=2, include_synthetic=boost)\n",
    "        \n",
    "        print(f'real')\n",
    "        print(f'created training data: {data[\"x_train_processed\"].shape[0]} samples total')\n",
    "        grid = nn_gridsearch(\n",
    "            make_model, \n",
    "            data['x_train_processed'], data['y_train'],\n",
    "            grid_parameters,\n",
    "            n_iterations=33,\n",
    "            verbose=0)\n",
    "        \n",
    "        best_model = grid.best_estimator_.model\n",
    "        stats = best_model.evaluate(x_test, y_test)\n",
    "        \n",
    "        results = {\n",
    "            'model': best_model,\n",
    "            'accuracy': stats[1],\n",
    "            'share_real_data': data_rate,\n",
    "            'boosted_data': boost,\n",
    "            'number_training_samples': data['train_y'].shape[0]}\n",
    "        \n",
    "        print('finished grid - results:')\n",
    "        pprint(results)\n",
    "        models_tested.append(results)\n",
    "    \n",
    "    \n",
    "# note = the wrapper takes a FUNCTION as input!\n",
    "#grid = nn_gridsearch(\n",
    "#    make_model, \n",
    "#    data['x_train_processed'], data['y_train'],\n",
    "#    grid_parameters,\n",
    "#    n_iterations=33,\n",
    "#    verbose=0)\n",
    "    \n",
    "#best_model = grid.best_estimator_.model\n",
    "#best_model.evaluate(data['x_test_processed'], data['y_test'])"
   ]
  },
  {
   "cell_type": "code",
   "execution_count": null,
   "id": "feb19309",
   "metadata": {},
   "outputs": [],
   "source": []
  }
 ],
 "metadata": {
  "kernelspec": {
   "display_name": "Python 3",
   "language": "python",
   "name": "python3"
  },
  "language_info": {
   "codemirror_mode": {
    "name": "ipython",
    "version": 3
   },
   "file_extension": ".py",
   "mimetype": "text/x-python",
   "name": "python",
   "nbconvert_exporter": "python",
   "pygments_lexer": "ipython3",
   "version": "3.9.7"
  }
 },
 "nbformat": 4,
 "nbformat_minor": 5
}
