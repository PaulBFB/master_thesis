{
 "cells": [
  {
   "cell_type": "code",
   "execution_count": 1,
   "id": "aedbaade",
   "metadata": {},
   "outputs": [],
   "source": [
    "import os\n",
    "import time\n",
    "import tensorflow as tf\n",
    "from tensorflow.keras import models, layers, Model, callbacks\n",
    "import numpy as np\n",
    "import pandas as pd\n",
    "from matplotlib import pyplot as plt\n",
    "from process_data import process_data"
   ]
  },
  {
   "cell_type": "code",
   "execution_count": 2,
   "id": "4bd57070",
   "metadata": {},
   "outputs": [],
   "source": [
    "data = process_data()"
   ]
  },
  {
   "cell_type": "code",
   "execution_count": 3,
   "id": "a5bc71f1",
   "metadata": {},
   "outputs": [
    {
     "name": "stdout",
     "output_type": "stream",
     "text": [
      "x_train\n",
      "<class 'numpy.ndarray'>\n",
      "x_train_processed\n",
      "<class 'numpy.ndarray'>\n",
      "x_test\n",
      "<class 'numpy.ndarray'>\n",
      "x_test_processed\n",
      "<class 'numpy.ndarray'>\n",
      "y_train\n",
      "<class 'numpy.ndarray'>\n",
      "y_test\n",
      "<class 'numpy.ndarray'>\n",
      "pipeline\n",
      "<class 'sklearn.pipeline.Pipeline'>\n"
     ]
    }
   ],
   "source": [
    "for k, v in data.items():\n",
    "    print(k)\n",
    "    print(type(v))"
   ]
  },
  {
   "cell_type": "code",
   "execution_count": 4,
   "id": "d89ee989",
   "metadata": {},
   "outputs": [],
   "source": [
    "x_train_processed = data['x_train_processed']\n",
    "y_train = data['y_train']"
   ]
  },
  {
   "cell_type": "code",
   "execution_count": 5,
   "id": "44913926",
   "metadata": {},
   "outputs": [
    {
     "data": {
      "text/plain": [
       "(1047, 11)"
      ]
     },
     "execution_count": 5,
     "metadata": {},
     "output_type": "execute_result"
    }
   ],
   "source": [
    "x_train_processed.shape"
   ]
  },
  {
   "cell_type": "markdown",
   "id": "90c59e19",
   "metadata": {},
   "source": [
    "> note: old model constrution, using Sequential API"
   ]
  },
  {
   "cell_type": "code",
   "execution_count": 6,
   "id": "7a04f2df",
   "metadata": {},
   "outputs": [],
   "source": [
    "#model = models.Sequential()\n",
    "#model.add(layers.Dense(32, activation='relu', input_shape=(x_train_processed.shape[1],)))\n",
    "#model.add(layers.Dense(32, activation='relu'))\n",
    "#model.add(layers.Dense(1, activation='sigmoid'))\n"
   ]
  },
  {
   "cell_type": "markdown",
   "id": "cf7e9276",
   "metadata": {},
   "source": [
    "> changed to functional API --> more flexibility, for future expansion"
   ]
  },
  {
   "cell_type": "code",
   "execution_count": 7,
   "id": "e42b8ed5",
   "metadata": {},
   "outputs": [],
   "source": [
    "input_ = layers.Input(shape=x_train_processed.shape[1:])\n",
    "hidden_0 = layers.Dense(64, activation='relu')(input_)\n",
    "hidden_1 = layers.Dense(64, activation='relu')(hidden_0)\n",
    "hidden_2 = layers.Dense(32, activation='relu')(hidden_1)\n",
    "hidden_3 = layers.Dense(16, activation='relu')(hidden_2)\n",
    "output = layers.Dense(1, activation='sigmoid')(hidden_3)\n",
    "model = Model(inputs=[input_], outputs=[output])"
   ]
  },
  {
   "cell_type": "code",
   "execution_count": 8,
   "id": "6539e8a7",
   "metadata": {},
   "outputs": [],
   "source": [
    "model.compile(optimizer='rmsprop', loss='binary_crossentropy', metrics=['accuracy'])"
   ]
  },
  {
   "cell_type": "code",
   "execution_count": 9,
   "id": "f07f7fe4",
   "metadata": {},
   "outputs": [
    {
     "name": "stdout",
     "output_type": "stream",
     "text": [
      "Model: \"model\"\n",
      "_________________________________________________________________\n",
      "Layer (type)                 Output Shape              Param #   \n",
      "=================================================================\n",
      "input_1 (InputLayer)         [(None, 11)]              0         \n",
      "_________________________________________________________________\n",
      "dense (Dense)                (None, 64)                768       \n",
      "_________________________________________________________________\n",
      "dense_1 (Dense)              (None, 64)                4160      \n",
      "_________________________________________________________________\n",
      "dense_2 (Dense)              (None, 32)                2080      \n",
      "_________________________________________________________________\n",
      "dense_3 (Dense)              (None, 16)                528       \n",
      "_________________________________________________________________\n",
      "dense_4 (Dense)              (None, 1)                 17        \n",
      "=================================================================\n",
      "Total params: 7,553\n",
      "Trainable params: 7,553\n",
      "Non-trainable params: 0\n",
      "_________________________________________________________________\n"
     ]
    }
   ],
   "source": [
    "model.summary()"
   ]
  },
  {
   "cell_type": "code",
   "execution_count": 10,
   "id": "bae097f8",
   "metadata": {},
   "outputs": [
    {
     "data": {
      "text/plain": [
       "'./custom_logs/run_2021_10_06-19_01_48_changed_batch_size_32'"
      ]
     },
     "execution_count": 10,
     "metadata": {},
     "output_type": "execute_result"
    }
   ],
   "source": [
    "# tensorboard logs callback\n",
    "\n",
    "root_logdir = os.path.join(os.curdir, 'custom_logs')\n",
    "\n",
    "\n",
    "def logdir(hyperparam_note=None) -> str:\n",
    "    \n",
    "    \n",
    "    run_d = time.strftime(f'run_%Y_%m_%d-%H_%M_%S{\"_\" + hyperparam_note if hyperparam_note is not None else \"\"}')\n",
    "    \n",
    "    directory = os.path.join(root_logdir, run_d)\n",
    "    \n",
    "    return directory\n",
    "    \n",
    "    \n",
    "logdir('changed_batch_size_32')"
   ]
  },
  {
   "cell_type": "code",
   "execution_count": 14,
   "id": "46334c1f",
   "metadata": {},
   "outputs": [
    {
     "name": "stdout",
     "output_type": "stream",
     "text": [
      "The tensorboard extension is already loaded. To reload it, use:\n",
      "  %reload_ext tensorboard\n"
     ]
    },
    {
     "data": {
      "text/html": [
       "\n",
       "      <iframe id=\"tensorboard-frame-4bcd59a13d3622b6\" width=\"100%\" height=\"800\" frameborder=\"0\">\n",
       "      </iframe>\n",
       "      <script>\n",
       "        (function() {\n",
       "          const frame = document.getElementById(\"tensorboard-frame-4bcd59a13d3622b6\");\n",
       "          const url = new URL(\"/\", window.location);\n",
       "          const port = 6008;\n",
       "          if (port) {\n",
       "            url.port = port;\n",
       "          }\n",
       "          frame.src = url;\n",
       "        })();\n",
       "      </script>\n",
       "    "
      ],
      "text/plain": [
       "<IPython.core.display.HTML object>"
      ]
     },
     "metadata": {},
     "output_type": "display_data"
    }
   ],
   "source": [
    "%load_ext tensorboard\n",
    "%tensorboard --logdir ./custom_logs"
   ]
  },
  {
   "cell_type": "code",
   "execution_count": 12,
   "id": "03fb757a",
   "metadata": {},
   "outputs": [
    {
     "name": "stdout",
     "output_type": "stream",
     "text": [
      "Epoch 1/100\n",
      "27/27 [==============================] - 1s 24ms/step - loss: 0.5806 - accuracy: 0.7479 - val_loss: 0.6059 - val_accuracy: 0.7190\n",
      "Epoch 2/100\n",
      "27/27 [==============================] - 0s 7ms/step - loss: 0.4790 - accuracy: 0.7981 - val_loss: 0.5748 - val_accuracy: 0.7238\n",
      "Epoch 3/100\n",
      "27/27 [==============================] - 0s 12ms/step - loss: 0.4514 - accuracy: 0.8005 - val_loss: 0.6104 - val_accuracy: 0.7619\n",
      "Epoch 4/100\n",
      "27/27 [==============================] - 0s 6ms/step - loss: 0.4393 - accuracy: 0.8053 - val_loss: 0.5583 - val_accuracy: 0.7238\n",
      "Epoch 5/100\n",
      "27/27 [==============================] - 0s 8ms/step - loss: 0.4285 - accuracy: 0.8124 - val_loss: 0.5270 - val_accuracy: 0.7381\n",
      "Epoch 6/100\n",
      "27/27 [==============================] - 0s 8ms/step - loss: 0.4172 - accuracy: 0.8256 - val_loss: 0.5264 - val_accuracy: 0.7857\n",
      "Epoch 7/100\n",
      "27/27 [==============================] - 0s 7ms/step - loss: 0.4184 - accuracy: 0.8268 - val_loss: 0.5131 - val_accuracy: 0.7905\n",
      "Epoch 8/100\n",
      "27/27 [==============================] - 1s 19ms/step - loss: 0.4120 - accuracy: 0.8292 - val_loss: 0.5266 - val_accuracy: 0.7762\n",
      "Epoch 9/100\n",
      "27/27 [==============================] - 0s 10ms/step - loss: 0.4069 - accuracy: 0.8339 - val_loss: 0.4839 - val_accuracy: 0.8000\n",
      "Epoch 10/100\n",
      "27/27 [==============================] - 0s 7ms/step - loss: 0.4064 - accuracy: 0.8315 - val_loss: 0.5152 - val_accuracy: 0.7667\n",
      "Epoch 11/100\n",
      "27/27 [==============================] - 0s 6ms/step - loss: 0.4035 - accuracy: 0.8387 - val_loss: 0.5033 - val_accuracy: 0.7476\n",
      "Epoch 12/100\n",
      "27/27 [==============================] - 0s 7ms/step - loss: 0.4018 - accuracy: 0.8339 - val_loss: 0.4813 - val_accuracy: 0.7762\n",
      "Epoch 13/100\n",
      "27/27 [==============================] - 0s 7ms/step - loss: 0.3976 - accuracy: 0.8363 - val_loss: 0.4931 - val_accuracy: 0.7762\n",
      "Epoch 14/100\n",
      "27/27 [==============================] - 0s 8ms/step - loss: 0.3981 - accuracy: 0.8256 - val_loss: 0.5198 - val_accuracy: 0.7571\n",
      "Epoch 15/100\n",
      "27/27 [==============================] - 0s 8ms/step - loss: 0.3964 - accuracy: 0.8363 - val_loss: 0.4925 - val_accuracy: 0.7429\n",
      "Epoch 16/100\n",
      "27/27 [==============================] - 0s 13ms/step - loss: 0.3992 - accuracy: 0.8375 - val_loss: 0.4871 - val_accuracy: 0.7714\n",
      "Epoch 17/100\n",
      "27/27 [==============================] - 0s 12ms/step - loss: 0.3964 - accuracy: 0.8387 - val_loss: 0.4951 - val_accuracy: 0.7619\n",
      "Epoch 18/100\n",
      "27/27 [==============================] - 0s 12ms/step - loss: 0.3952 - accuracy: 0.8363 - val_loss: 0.4770 - val_accuracy: 0.7857\n",
      "Epoch 19/100\n",
      "27/27 [==============================] - 0s 9ms/step - loss: 0.3915 - accuracy: 0.8327 - val_loss: 0.5110 - val_accuracy: 0.7714\n",
      "Epoch 20/100\n",
      "27/27 [==============================] - 0s 9ms/step - loss: 0.3923 - accuracy: 0.8339 - val_loss: 0.4798 - val_accuracy: 0.7619\n",
      "Epoch 21/100\n",
      "27/27 [==============================] - 0s 11ms/step - loss: 0.3880 - accuracy: 0.8375 - val_loss: 0.5322 - val_accuracy: 0.7476\n",
      "Epoch 22/100\n",
      "27/27 [==============================] - 0s 9ms/step - loss: 0.3920 - accuracy: 0.8387 - val_loss: 0.5525 - val_accuracy: 0.7762\n",
      "Epoch 23/100\n",
      "27/27 [==============================] - 0s 14ms/step - loss: 0.3943 - accuracy: 0.8375 - val_loss: 0.4895 - val_accuracy: 0.7524\n",
      "Epoch 24/100\n",
      "27/27 [==============================] - 0s 7ms/step - loss: 0.3860 - accuracy: 0.8447 - val_loss: 0.5175 - val_accuracy: 0.7667\n",
      "Epoch 25/100\n",
      "27/27 [==============================] - 0s 11ms/step - loss: 0.3898 - accuracy: 0.8363 - val_loss: 0.5255 - val_accuracy: 0.7667\n",
      "Epoch 26/100\n",
      "27/27 [==============================] - 0s 12ms/step - loss: 0.3876 - accuracy: 0.8399 - val_loss: 0.5925 - val_accuracy: 0.7667\n",
      "Epoch 27/100\n",
      "27/27 [==============================] - 0s 10ms/step - loss: 0.3917 - accuracy: 0.8387 - val_loss: 0.4970 - val_accuracy: 0.7762\n",
      "Epoch 28/100\n",
      "27/27 [==============================] - 0s 7ms/step - loss: 0.3879 - accuracy: 0.8387 - val_loss: 0.5172 - val_accuracy: 0.7571\n"
     ]
    }
   ],
   "source": [
    "use_callbacks = [\n",
    "    callbacks.ModelCheckpoint(\n",
    "        './models/titanic_nn.h5',\n",
    "        monitor='val_accuracy',\n",
    "        save_best_only=True),\n",
    "    callbacks.EarlyStopping(\n",
    "        monitor='val_loss',\n",
    "        mode='min',\n",
    "        patience=10,\n",
    "        restore_best_weights=True),\n",
    "    callbacks.TensorBoard(logdir())\n",
    "]\n",
    "\n",
    "history = model.fit(\n",
    "    x_train_processed, \n",
    "    y_train, \n",
    "    epochs=100, \n",
    "    batch_size=32, \n",
    "    verbose=1,\n",
    "    validation_split=.2,\n",
    "    callbacks=use_callbacks\n",
    ")"
   ]
  },
  {
   "cell_type": "code",
   "execution_count": null,
   "id": "ab493b83",
   "metadata": {},
   "outputs": [],
   "source": [
    "#epochs = range(len(history.history['loss']))\n",
    "#loss = history.history['loss']\n",
    "\n",
    "df = pd.DataFrame(data=history.history)\n",
    "\n",
    "df.plot(figsize=(30, 11))"
   ]
  },
  {
   "cell_type": "code",
   "execution_count": null,
   "id": "01c099d9",
   "metadata": {},
   "outputs": [],
   "source": [
    "model.evaluate(data['x_test_processed'], data['y_test'])"
   ]
  }
 ],
 "metadata": {
  "kernelspec": {
   "display_name": "Python 3",
   "language": "python",
   "name": "python3"
  },
  "language_info": {
   "codemirror_mode": {
    "name": "ipython",
    "version": 3
   },
   "file_extension": ".py",
   "mimetype": "text/x-python",
   "name": "python",
   "nbconvert_exporter": "python",
   "pygments_lexer": "ipython3",
   "version": "3.9.7"
  }
 },
 "nbformat": 4,
 "nbformat_minor": 5
}
